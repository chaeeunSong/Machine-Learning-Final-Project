{
 "cells": [
  {
   "cell_type": "code",
   "execution_count": 1,
   "id": "f4c69d64",
   "metadata": {},
   "outputs": [],
   "source": [
    "import copy\n",
    "import datetime\n",
    "import warnings\n",
    "warnings.filterwarnings(action='ignore') \n",
    "\n",
    "import pandas as pd\n",
    "import numpy as np\n",
    "import matplotlib.pyplot as plt\n",
    "\n",
    "from matplotlib import font_manager, rc\n",
    "font_path = \"C:/Windows/Fonts/NGULIM.TTF\"\n",
    "font = font_manager.FontProperties(fname=font_path).get_name()\n",
    "rc('font', family=font)\n",
    "\n",
    "# 시각화\n",
    "import seaborn as sns\n",
    "# 결측치\n",
    "import missingno as msno\n",
    "\n",
    "import sklearn\n",
    "from sklearn.preprocessing import StandardScaler, OneHotEncoder\n",
    "from sklearn import model_selection, linear_model\n",
    "from sklearn.metrics import auc\n",
    "\n",
    "# 파이프라인\n",
    "from sklearn.compose import ColumnTransformer\n",
    "from sklearn.pipeline import Pipeline\n",
    "\n",
    "from sklearn import cluster\n"
   ]
  },
  {
   "cell_type": "markdown",
   "id": "6bae4b80",
   "metadata": {},
   "source": [
    "# 데이터 불러오기"
   ]
  },
  {
   "cell_type": "code",
   "execution_count": 2,
   "id": "f701288b",
   "metadata": {},
   "outputs": [
    {
     "data": {
      "text/html": [
       "<div>\n",
       "<style scoped>\n",
       "    .dataframe tbody tr th:only-of-type {\n",
       "        vertical-align: middle;\n",
       "    }\n",
       "\n",
       "    .dataframe tbody tr th {\n",
       "        vertical-align: top;\n",
       "    }\n",
       "\n",
       "    .dataframe thead th {\n",
       "        text-align: right;\n",
       "    }\n",
       "</style>\n",
       "<table border=\"1\" class=\"dataframe\">\n",
       "  <thead>\n",
       "    <tr style=\"text-align: right;\">\n",
       "      <th></th>\n",
       "      <th>Unnamed: 0</th>\n",
       "      <th>index</th>\n",
       "      <th>거주지</th>\n",
       "      <th>가입경로</th>\n",
       "      <th>담당사원</th>\n",
       "      <th>상품코드</th>\n",
       "      <th>상담횟수_y</th>\n",
       "      <th>총구매횟수_y</th>\n",
       "      <th>총구매수량_y</th>\n",
       "      <th>총구매금액_y</th>\n",
       "      <th>총할인금액_y</th>\n",
       "      <th>최종결제금액_y</th>\n",
       "      <th>할인율_y</th>\n",
       "      <th>잔여포인트_y</th>\n",
       "      <th>재구매여부</th>\n",
       "      <th>부모연령</th>\n",
       "      <th>포인트사용여부</th>\n",
       "    </tr>\n",
       "  </thead>\n",
       "  <tbody>\n",
       "    <tr>\n",
       "      <th>0</th>\n",
       "      <td>0</td>\n",
       "      <td>3</td>\n",
       "      <td>인천광역시</td>\n",
       "      <td>E</td>\n",
       "      <td>전우영</td>\n",
       "      <td>89003</td>\n",
       "      <td>15</td>\n",
       "      <td>5.5</td>\n",
       "      <td>12</td>\n",
       "      <td>332100</td>\n",
       "      <td>152100</td>\n",
       "      <td>180000</td>\n",
       "      <td>46</td>\n",
       "      <td>130</td>\n",
       "      <td>0</td>\n",
       "      <td>2</td>\n",
       "      <td>0</td>\n",
       "    </tr>\n",
       "    <tr>\n",
       "      <th>1</th>\n",
       "      <td>1</td>\n",
       "      <td>4</td>\n",
       "      <td>경기도</td>\n",
       "      <td>H</td>\n",
       "      <td>박애신</td>\n",
       "      <td>89002</td>\n",
       "      <td>10</td>\n",
       "      <td>5.5</td>\n",
       "      <td>8</td>\n",
       "      <td>221400</td>\n",
       "      <td>101400</td>\n",
       "      <td>120000</td>\n",
       "      <td>46</td>\n",
       "      <td>96</td>\n",
       "      <td>0</td>\n",
       "      <td>1</td>\n",
       "      <td>0</td>\n",
       "    </tr>\n",
       "    <tr>\n",
       "      <th>2</th>\n",
       "      <td>2</td>\n",
       "      <td>6</td>\n",
       "      <td>경기도</td>\n",
       "      <td>H</td>\n",
       "      <td>박애신</td>\n",
       "      <td>35086</td>\n",
       "      <td>4</td>\n",
       "      <td>2.0</td>\n",
       "      <td>12</td>\n",
       "      <td>42000</td>\n",
       "      <td>42000</td>\n",
       "      <td>0</td>\n",
       "      <td>100</td>\n",
       "      <td>96</td>\n",
       "      <td>0</td>\n",
       "      <td>2</td>\n",
       "      <td>0</td>\n",
       "    </tr>\n",
       "    <tr>\n",
       "      <th>3</th>\n",
       "      <td>3</td>\n",
       "      <td>16</td>\n",
       "      <td>경기도</td>\n",
       "      <td>E</td>\n",
       "      <td>정유경</td>\n",
       "      <td>89003</td>\n",
       "      <td>6</td>\n",
       "      <td>5.5</td>\n",
       "      <td>14</td>\n",
       "      <td>442800</td>\n",
       "      <td>202800</td>\n",
       "      <td>240000</td>\n",
       "      <td>46</td>\n",
       "      <td>160</td>\n",
       "      <td>0</td>\n",
       "      <td>1</td>\n",
       "      <td>0</td>\n",
       "    </tr>\n",
       "    <tr>\n",
       "      <th>4</th>\n",
       "      <td>4</td>\n",
       "      <td>21</td>\n",
       "      <td>세종특별자치시</td>\n",
       "      <td>H</td>\n",
       "      <td>박애신</td>\n",
       "      <td>89002</td>\n",
       "      <td>16</td>\n",
       "      <td>10.0</td>\n",
       "      <td>8</td>\n",
       "      <td>221400</td>\n",
       "      <td>101400</td>\n",
       "      <td>120000</td>\n",
       "      <td>46</td>\n",
       "      <td>96</td>\n",
       "      <td>0</td>\n",
       "      <td>1</td>\n",
       "      <td>0</td>\n",
       "    </tr>\n",
       "    <tr>\n",
       "      <th>...</th>\n",
       "      <td>...</td>\n",
       "      <td>...</td>\n",
       "      <td>...</td>\n",
       "      <td>...</td>\n",
       "      <td>...</td>\n",
       "      <td>...</td>\n",
       "      <td>...</td>\n",
       "      <td>...</td>\n",
       "      <td>...</td>\n",
       "      <td>...</td>\n",
       "      <td>...</td>\n",
       "      <td>...</td>\n",
       "      <td>...</td>\n",
       "      <td>...</td>\n",
       "      <td>...</td>\n",
       "      <td>...</td>\n",
       "      <td>...</td>\n",
       "    </tr>\n",
       "    <tr>\n",
       "      <th>19530</th>\n",
       "      <td>19530</td>\n",
       "      <td>24796</td>\n",
       "      <td>경상남도</td>\n",
       "      <td>H</td>\n",
       "      <td>이선영</td>\n",
       "      <td>35009</td>\n",
       "      <td>1</td>\n",
       "      <td>1.0</td>\n",
       "      <td>1</td>\n",
       "      <td>36900</td>\n",
       "      <td>27000</td>\n",
       "      <td>9900</td>\n",
       "      <td>73</td>\n",
       "      <td>161</td>\n",
       "      <td>0</td>\n",
       "      <td>1</td>\n",
       "      <td>0</td>\n",
       "    </tr>\n",
       "    <tr>\n",
       "      <th>19531</th>\n",
       "      <td>19531</td>\n",
       "      <td>24797</td>\n",
       "      <td>부산광역시</td>\n",
       "      <td>H</td>\n",
       "      <td>박애신</td>\n",
       "      <td>35008</td>\n",
       "      <td>4</td>\n",
       "      <td>2.0</td>\n",
       "      <td>7</td>\n",
       "      <td>240300</td>\n",
       "      <td>103300</td>\n",
       "      <td>137000</td>\n",
       "      <td>43</td>\n",
       "      <td>96</td>\n",
       "      <td>0</td>\n",
       "      <td>1</td>\n",
       "      <td>0</td>\n",
       "    </tr>\n",
       "    <tr>\n",
       "      <th>19532</th>\n",
       "      <td>19532</td>\n",
       "      <td>24798</td>\n",
       "      <td>경상북도</td>\n",
       "      <td>H</td>\n",
       "      <td>전우영</td>\n",
       "      <td>35023</td>\n",
       "      <td>1</td>\n",
       "      <td>1.0</td>\n",
       "      <td>1</td>\n",
       "      <td>14000</td>\n",
       "      <td>11000</td>\n",
       "      <td>3000</td>\n",
       "      <td>79</td>\n",
       "      <td>130</td>\n",
       "      <td>0</td>\n",
       "      <td>1</td>\n",
       "      <td>0</td>\n",
       "    </tr>\n",
       "    <tr>\n",
       "      <th>19533</th>\n",
       "      <td>19533</td>\n",
       "      <td>24799</td>\n",
       "      <td>경기도</td>\n",
       "      <td>E</td>\n",
       "      <td>전우영</td>\n",
       "      <td>35009</td>\n",
       "      <td>1</td>\n",
       "      <td>1.0</td>\n",
       "      <td>1</td>\n",
       "      <td>36900</td>\n",
       "      <td>27000</td>\n",
       "      <td>9900</td>\n",
       "      <td>73</td>\n",
       "      <td>130</td>\n",
       "      <td>0</td>\n",
       "      <td>1</td>\n",
       "      <td>0</td>\n",
       "    </tr>\n",
       "    <tr>\n",
       "      <th>19534</th>\n",
       "      <td>19534</td>\n",
       "      <td>24800</td>\n",
       "      <td>광주광역시</td>\n",
       "      <td>E</td>\n",
       "      <td>김필남</td>\n",
       "      <td>35031</td>\n",
       "      <td>1</td>\n",
       "      <td>1.0</td>\n",
       "      <td>1</td>\n",
       "      <td>14000</td>\n",
       "      <td>14000</td>\n",
       "      <td>0</td>\n",
       "      <td>100</td>\n",
       "      <td>71</td>\n",
       "      <td>0</td>\n",
       "      <td>1</td>\n",
       "      <td>0</td>\n",
       "    </tr>\n",
       "  </tbody>\n",
       "</table>\n",
       "<p>19535 rows × 17 columns</p>\n",
       "</div>"
      ],
      "text/plain": [
       "       Unnamed: 0  index      거주지 가입경로 담당사원   상품코드  상담횟수_y  총구매횟수_y  총구매수량_y  \\\n",
       "0               0      3    인천광역시    E  전우영  89003      15      5.5       12   \n",
       "1               1      4      경기도    H  박애신  89002      10      5.5        8   \n",
       "2               2      6      경기도    H  박애신  35086       4      2.0       12   \n",
       "3               3     16      경기도    E  정유경  89003       6      5.5       14   \n",
       "4               4     21  세종특별자치시    H  박애신  89002      16     10.0        8   \n",
       "...           ...    ...      ...  ...  ...    ...     ...      ...      ...   \n",
       "19530       19530  24796     경상남도    H  이선영  35009       1      1.0        1   \n",
       "19531       19531  24797    부산광역시    H  박애신  35008       4      2.0        7   \n",
       "19532       19532  24798     경상북도    H  전우영  35023       1      1.0        1   \n",
       "19533       19533  24799      경기도    E  전우영  35009       1      1.0        1   \n",
       "19534       19534  24800    광주광역시    E  김필남  35031       1      1.0        1   \n",
       "\n",
       "       총구매금액_y  총할인금액_y  최종결제금액_y  할인율_y  잔여포인트_y  재구매여부  부모연령  포인트사용여부  \n",
       "0       332100   152100    180000     46      130      0     2        0  \n",
       "1       221400   101400    120000     46       96      0     1        0  \n",
       "2        42000    42000         0    100       96      0     2        0  \n",
       "3       442800   202800    240000     46      160      0     1        0  \n",
       "4       221400   101400    120000     46       96      0     1        0  \n",
       "...        ...      ...       ...    ...      ...    ...   ...      ...  \n",
       "19530    36900    27000      9900     73      161      0     1        0  \n",
       "19531   240300   103300    137000     43       96      0     1        0  \n",
       "19532    14000    11000      3000     79      130      0     1        0  \n",
       "19533    36900    27000      9900     73      130      0     1        0  \n",
       "19534    14000    14000         0    100       71      0     1        0  \n",
       "\n",
       "[19535 rows x 17 columns]"
      ]
     },
     "execution_count": 2,
     "metadata": {},
     "output_type": "execute_result"
    }
   ],
   "source": [
    "data_df = pd.read_excel('milk_preprocessing_outlier.xlsx')\n",
    "data_df"
   ]
  },
  {
   "cell_type": "code",
   "execution_count": 3,
   "id": "f02c5344",
   "metadata": {},
   "outputs": [],
   "source": [
    "del data_df['Unnamed: 0']\n",
    "del data_df['index']"
   ]
  },
  {
   "cell_type": "code",
   "execution_count": 4,
   "id": "2039276d",
   "metadata": {},
   "outputs": [],
   "source": [
    "data_df.rename(columns={'상담횟수_y':'총상담횟수', '총구매횟수_y':'총구매횟수',\\\n",
    "                        '총구매수량_y':'총구매수량','총구매금액_y':'총구매금액',\\\n",
    "                        '총할인금액_y':'총할인금액','최종결제금액_y':'최종결제금액',\\\n",
    "                        '할인율_y':'할인율','잔여포인트_y':'잔여포인트'}, inplace=True)"
   ]
  },
  {
   "cell_type": "code",
   "execution_count": 5,
   "id": "907083f3",
   "metadata": {},
   "outputs": [],
   "source": [
    "#일단 한글범주형빼기\n",
    "del data_df['거주지']\n",
    "del data_df['담당사원']\n",
    "del data_df['가입경로']"
   ]
  },
  {
   "cell_type": "code",
   "execution_count": 6,
   "id": "a3889e3c",
   "metadata": {},
   "outputs": [
    {
     "data": {
      "text/html": [
       "<div>\n",
       "<style scoped>\n",
       "    .dataframe tbody tr th:only-of-type {\n",
       "        vertical-align: middle;\n",
       "    }\n",
       "\n",
       "    .dataframe tbody tr th {\n",
       "        vertical-align: top;\n",
       "    }\n",
       "\n",
       "    .dataframe thead th {\n",
       "        text-align: right;\n",
       "    }\n",
       "</style>\n",
       "<table border=\"1\" class=\"dataframe\">\n",
       "  <thead>\n",
       "    <tr style=\"text-align: right;\">\n",
       "      <th></th>\n",
       "      <th>상품코드</th>\n",
       "      <th>총상담횟수</th>\n",
       "      <th>총구매횟수</th>\n",
       "      <th>총구매수량</th>\n",
       "      <th>총구매금액</th>\n",
       "      <th>총할인금액</th>\n",
       "      <th>최종결제금액</th>\n",
       "      <th>할인율</th>\n",
       "      <th>잔여포인트</th>\n",
       "      <th>재구매여부</th>\n",
       "      <th>부모연령</th>\n",
       "      <th>포인트사용여부</th>\n",
       "    </tr>\n",
       "  </thead>\n",
       "  <tbody>\n",
       "    <tr>\n",
       "      <th>0</th>\n",
       "      <td>89003</td>\n",
       "      <td>15</td>\n",
       "      <td>5.5</td>\n",
       "      <td>12</td>\n",
       "      <td>332100</td>\n",
       "      <td>152100</td>\n",
       "      <td>180000</td>\n",
       "      <td>46</td>\n",
       "      <td>130</td>\n",
       "      <td>0</td>\n",
       "      <td>2</td>\n",
       "      <td>0</td>\n",
       "    </tr>\n",
       "    <tr>\n",
       "      <th>1</th>\n",
       "      <td>89002</td>\n",
       "      <td>10</td>\n",
       "      <td>5.5</td>\n",
       "      <td>8</td>\n",
       "      <td>221400</td>\n",
       "      <td>101400</td>\n",
       "      <td>120000</td>\n",
       "      <td>46</td>\n",
       "      <td>96</td>\n",
       "      <td>0</td>\n",
       "      <td>1</td>\n",
       "      <td>0</td>\n",
       "    </tr>\n",
       "    <tr>\n",
       "      <th>2</th>\n",
       "      <td>35086</td>\n",
       "      <td>4</td>\n",
       "      <td>2.0</td>\n",
       "      <td>12</td>\n",
       "      <td>42000</td>\n",
       "      <td>42000</td>\n",
       "      <td>0</td>\n",
       "      <td>100</td>\n",
       "      <td>96</td>\n",
       "      <td>0</td>\n",
       "      <td>2</td>\n",
       "      <td>0</td>\n",
       "    </tr>\n",
       "    <tr>\n",
       "      <th>3</th>\n",
       "      <td>89003</td>\n",
       "      <td>6</td>\n",
       "      <td>5.5</td>\n",
       "      <td>14</td>\n",
       "      <td>442800</td>\n",
       "      <td>202800</td>\n",
       "      <td>240000</td>\n",
       "      <td>46</td>\n",
       "      <td>160</td>\n",
       "      <td>0</td>\n",
       "      <td>1</td>\n",
       "      <td>0</td>\n",
       "    </tr>\n",
       "    <tr>\n",
       "      <th>4</th>\n",
       "      <td>89002</td>\n",
       "      <td>16</td>\n",
       "      <td>10.0</td>\n",
       "      <td>8</td>\n",
       "      <td>221400</td>\n",
       "      <td>101400</td>\n",
       "      <td>120000</td>\n",
       "      <td>46</td>\n",
       "      <td>96</td>\n",
       "      <td>0</td>\n",
       "      <td>1</td>\n",
       "      <td>0</td>\n",
       "    </tr>\n",
       "  </tbody>\n",
       "</table>\n",
       "</div>"
      ],
      "text/plain": [
       "    상품코드  총상담횟수  총구매횟수  총구매수량   총구매금액   총할인금액  최종결제금액  할인율  잔여포인트  재구매여부  \\\n",
       "0  89003     15    5.5     12  332100  152100  180000   46    130      0   \n",
       "1  89002     10    5.5      8  221400  101400  120000   46     96      0   \n",
       "2  35086      4    2.0     12   42000   42000       0  100     96      0   \n",
       "3  89003      6    5.5     14  442800  202800  240000   46    160      0   \n",
       "4  89002     16   10.0      8  221400  101400  120000   46     96      0   \n",
       "\n",
       "   부모연령  포인트사용여부  \n",
       "0     2        0  \n",
       "1     1        0  \n",
       "2     2        0  \n",
       "3     1        0  \n",
       "4     1        0  "
      ]
     },
     "execution_count": 6,
     "metadata": {},
     "output_type": "execute_result"
    }
   ],
   "source": [
    "data_df.head()"
   ]
  },
  {
   "cell_type": "code",
   "execution_count": 7,
   "id": "90831059",
   "metadata": {},
   "outputs": [
    {
     "data": {
      "text/plain": [
       "<AxesSubplot:>"
      ]
     },
     "execution_count": 7,
     "metadata": {},
     "output_type": "execute_result"
    },
    {
     "data": {
      "image/png": "[encoded data removed]",
      "text/plain": [
       "<Figure size 432x288 with 1 Axes>"
      ]
     },
     "metadata": {
      "needs_background": "light"
     },
     "output_type": "display_data"
    }
   ],
   "source": [
    "a = data_df[data_df['재구매여부'] == 1]\n",
    "a['상품코드'].value_counts().plot(kind='bar')"
   ]
  },
  {
   "cell_type": "code",
   "execution_count": 8,
   "id": "5b36fe77",
   "metadata": {},
   "outputs": [
    {
     "data": {
      "text/plain": [
       "상품코드       1772\n",
       "총상담횟수      1772\n",
       "총구매횟수      1772\n",
       "총구매수량      1772\n",
       "총구매금액      1772\n",
       "총할인금액      1772\n",
       "최종결제금액     1772\n",
       "할인율        1772\n",
       "잔여포인트      1772\n",
       "재구매여부      1772\n",
       "부모연령       1772\n",
       "포인트사용여부    1772\n",
       "dtype: int64"
      ]
     },
     "execution_count": 8,
     "metadata": {},
     "output_type": "execute_result"
    }
   ],
   "source": [
    "a.count()"
   ]
  },
  {
   "cell_type": "code",
   "execution_count": 9,
   "id": "f8b5f924",
   "metadata": {},
   "outputs": [
    {
     "data": {
      "text/plain": [
       "1    1659\n",
       "2      63\n",
       "0      50\n",
       "Name: 부모연령, dtype: int64"
      ]
     },
     "execution_count": 9,
     "metadata": {},
     "output_type": "execute_result"
    }
   ],
   "source": [
    "a['부모연령'].value_counts()"
   ]
  },
  {
   "cell_type": "code",
   "execution_count": 10,
   "id": "5220eb56",
   "metadata": {},
   "outputs": [
    {
     "data": {
      "text/plain": [
       "0    17763\n",
       "1     1772\n",
       "Name: 재구매여부, dtype: int64"
      ]
     },
     "execution_count": 10,
     "metadata": {},
     "output_type": "execute_result"
    }
   ],
   "source": [
    "data_df['재구매여부'].value_counts()"
   ]
  },
  {
   "cell_type": "code",
   "execution_count": 11,
   "id": "aba76eee",
   "metadata": {},
   "outputs": [
    {
     "data": {
      "image/png": "[encoded data removed]",
      "text/plain": [
       "<Figure size 1296x576 with 2 Axes>"
      ]
     },
     "metadata": {
      "needs_background": "light"
     },
     "output_type": "display_data"
    }
   ],
   "source": [
    "# 전처리와 이상치 제거 후 데이터가 줄어듬에 따라 클래스 비율이 더 극대화되었다.\n",
    "f, ax = plt.subplots(1,2,figsize=(18,8))\n",
    "data_df['재구매여부'].value_counts()\\\n",
    ".plot.pie(explode = [0,0.1], autopct = '%1.1f%%', ax=ax[0])\n",
    "\n",
    "ax[0].set_title('재구매여부')\n",
    "ax[0].set_ylabel('')\n",
    "\n",
    "sns.countplot('재구매여부', data = data_df, ax = ax[1])\n",
    "ax[1].set_title('재구매여부')\n",
    "plt.show()"
   ]
  },
  {
   "cell_type": "markdown",
   "id": "2434a4c8",
   "metadata": {},
   "source": [
    "# 학습데이터와 타겟데이터 분리"
   ]
  },
  {
   "cell_type": "code",
   "execution_count": 12,
   "id": "9eb58689",
   "metadata": {},
   "outputs": [],
   "source": [
    "data_df_temp = data_df.copy()"
   ]
  },
  {
   "cell_type": "code",
   "execution_count": 13,
   "id": "a48f8b28",
   "metadata": {},
   "outputs": [],
   "source": [
    "y_data=data_df_temp[[\"재구매여부\"]].copy()\n",
    "x_data=data_df_temp.copy()\n",
    "del x_data[\"재구매여부\"]"
   ]
  },
  {
   "cell_type": "code",
   "execution_count": 14,
   "id": "be6c9d7b",
   "metadata": {},
   "outputs": [
    {
     "data": {
      "text/html": [
       "<div>\n",
       "<style scoped>\n",
       "    .dataframe tbody tr th:only-of-type {\n",
       "        vertical-align: middle;\n",
       "    }\n",
       "\n",
       "    .dataframe tbody tr th {\n",
       "        vertical-align: top;\n",
       "    }\n",
       "\n",
       "    .dataframe thead th {\n",
       "        text-align: right;\n",
       "    }\n",
       "</style>\n",
       "<table border=\"1\" class=\"dataframe\">\n",
       "  <thead>\n",
       "    <tr style=\"text-align: right;\">\n",
       "      <th></th>\n",
       "      <th>상품코드</th>\n",
       "      <th>총상담횟수</th>\n",
       "      <th>총구매횟수</th>\n",
       "      <th>총구매수량</th>\n",
       "      <th>총구매금액</th>\n",
       "      <th>총할인금액</th>\n",
       "      <th>최종결제금액</th>\n",
       "      <th>할인율</th>\n",
       "      <th>잔여포인트</th>\n",
       "      <th>부모연령</th>\n",
       "      <th>포인트사용여부</th>\n",
       "    </tr>\n",
       "  </thead>\n",
       "  <tbody>\n",
       "    <tr>\n",
       "      <th>0</th>\n",
       "      <td>89003</td>\n",
       "      <td>15</td>\n",
       "      <td>5.5</td>\n",
       "      <td>12</td>\n",
       "      <td>332100</td>\n",
       "      <td>152100</td>\n",
       "      <td>180000</td>\n",
       "      <td>46</td>\n",
       "      <td>130</td>\n",
       "      <td>2</td>\n",
       "      <td>0</td>\n",
       "    </tr>\n",
       "    <tr>\n",
       "      <th>1</th>\n",
       "      <td>89002</td>\n",
       "      <td>10</td>\n",
       "      <td>5.5</td>\n",
       "      <td>8</td>\n",
       "      <td>221400</td>\n",
       "      <td>101400</td>\n",
       "      <td>120000</td>\n",
       "      <td>46</td>\n",
       "      <td>96</td>\n",
       "      <td>1</td>\n",
       "      <td>0</td>\n",
       "    </tr>\n",
       "    <tr>\n",
       "      <th>2</th>\n",
       "      <td>35086</td>\n",
       "      <td>4</td>\n",
       "      <td>2.0</td>\n",
       "      <td>12</td>\n",
       "      <td>42000</td>\n",
       "      <td>42000</td>\n",
       "      <td>0</td>\n",
       "      <td>100</td>\n",
       "      <td>96</td>\n",
       "      <td>2</td>\n",
       "      <td>0</td>\n",
       "    </tr>\n",
       "    <tr>\n",
       "      <th>3</th>\n",
       "      <td>89003</td>\n",
       "      <td>6</td>\n",
       "      <td>5.5</td>\n",
       "      <td>14</td>\n",
       "      <td>442800</td>\n",
       "      <td>202800</td>\n",
       "      <td>240000</td>\n",
       "      <td>46</td>\n",
       "      <td>160</td>\n",
       "      <td>1</td>\n",
       "      <td>0</td>\n",
       "    </tr>\n",
       "    <tr>\n",
       "      <th>4</th>\n",
       "      <td>89002</td>\n",
       "      <td>16</td>\n",
       "      <td>10.0</td>\n",
       "      <td>8</td>\n",
       "      <td>221400</td>\n",
       "      <td>101400</td>\n",
       "      <td>120000</td>\n",
       "      <td>46</td>\n",
       "      <td>96</td>\n",
       "      <td>1</td>\n",
       "      <td>0</td>\n",
       "    </tr>\n",
       "    <tr>\n",
       "      <th>...</th>\n",
       "      <td>...</td>\n",
       "      <td>...</td>\n",
       "      <td>...</td>\n",
       "      <td>...</td>\n",
       "      <td>...</td>\n",
       "      <td>...</td>\n",
       "      <td>...</td>\n",
       "      <td>...</td>\n",
       "      <td>...</td>\n",
       "      <td>...</td>\n",
       "      <td>...</td>\n",
       "    </tr>\n",
       "    <tr>\n",
       "      <th>19530</th>\n",
       "      <td>35009</td>\n",
       "      <td>1</td>\n",
       "      <td>1.0</td>\n",
       "      <td>1</td>\n",
       "      <td>36900</td>\n",
       "      <td>27000</td>\n",
       "      <td>9900</td>\n",
       "      <td>73</td>\n",
       "      <td>161</td>\n",
       "      <td>1</td>\n",
       "      <td>0</td>\n",
       "    </tr>\n",
       "    <tr>\n",
       "      <th>19531</th>\n",
       "      <td>35008</td>\n",
       "      <td>4</td>\n",
       "      <td>2.0</td>\n",
       "      <td>7</td>\n",
       "      <td>240300</td>\n",
       "      <td>103300</td>\n",
       "      <td>137000</td>\n",
       "      <td>43</td>\n",
       "      <td>96</td>\n",
       "      <td>1</td>\n",
       "      <td>0</td>\n",
       "    </tr>\n",
       "    <tr>\n",
       "      <th>19532</th>\n",
       "      <td>35023</td>\n",
       "      <td>1</td>\n",
       "      <td>1.0</td>\n",
       "      <td>1</td>\n",
       "      <td>14000</td>\n",
       "      <td>11000</td>\n",
       "      <td>3000</td>\n",
       "      <td>79</td>\n",
       "      <td>130</td>\n",
       "      <td>1</td>\n",
       "      <td>0</td>\n",
       "    </tr>\n",
       "    <tr>\n",
       "      <th>19533</th>\n",
       "      <td>35009</td>\n",
       "      <td>1</td>\n",
       "      <td>1.0</td>\n",
       "      <td>1</td>\n",
       "      <td>36900</td>\n",
       "      <td>27000</td>\n",
       "      <td>9900</td>\n",
       "      <td>73</td>\n",
       "      <td>130</td>\n",
       "      <td>1</td>\n",
       "      <td>0</td>\n",
       "    </tr>\n",
       "    <tr>\n",
       "      <th>19534</th>\n",
       "      <td>35031</td>\n",
       "      <td>1</td>\n",
       "      <td>1.0</td>\n",
       "      <td>1</td>\n",
       "      <td>14000</td>\n",
       "      <td>14000</td>\n",
       "      <td>0</td>\n",
       "      <td>100</td>\n",
       "      <td>71</td>\n",
       "      <td>1</td>\n",
       "      <td>0</td>\n",
       "    </tr>\n",
       "  </tbody>\n",
       "</table>\n",
       "<p>19535 rows × 11 columns</p>\n",
       "</div>"
      ],
      "text/plain": [
       "        상품코드  총상담횟수  총구매횟수  총구매수량   총구매금액   총할인금액  최종결제금액  할인율  잔여포인트  부모연령  \\\n",
       "0      89003     15    5.5     12  332100  152100  180000   46    130     2   \n",
       "1      89002     10    5.5      8  221400  101400  120000   46     96     1   \n",
       "2      35086      4    2.0     12   42000   42000       0  100     96     2   \n",
       "3      89003      6    5.5     14  442800  202800  240000   46    160     1   \n",
       "4      89002     16   10.0      8  221400  101400  120000   46     96     1   \n",
       "...      ...    ...    ...    ...     ...     ...     ...  ...    ...   ...   \n",
       "19530  35009      1    1.0      1   36900   27000    9900   73    161     1   \n",
       "19531  35008      4    2.0      7  240300  103300  137000   43     96     1   \n",
       "19532  35023      1    1.0      1   14000   11000    3000   79    130     1   \n",
       "19533  35009      1    1.0      1   36900   27000    9900   73    130     1   \n",
       "19534  35031      1    1.0      1   14000   14000       0  100     71     1   \n",
       "\n",
       "       포인트사용여부  \n",
       "0            0  \n",
       "1            0  \n",
       "2            0  \n",
       "3            0  \n",
       "4            0  \n",
       "...        ...  \n",
       "19530        0  \n",
       "19531        0  \n",
       "19532        0  \n",
       "19533        0  \n",
       "19534        0  \n",
       "\n",
       "[19535 rows x 11 columns]"
      ]
     },
     "execution_count": 14,
     "metadata": {},
     "output_type": "execute_result"
    }
   ],
   "source": [
    "x_data"
   ]
  },
  {
   "cell_type": "markdown",
   "id": "f9ef00ee",
   "metadata": {},
   "source": [
    "# Train - Test split (비율 7:3 , seed는 0을 적용)"
   ]
  },
  {
   "cell_type": "code",
   "execution_count": 15,
   "id": "ad8ceaf1",
   "metadata": {},
   "outputs": [],
   "source": [
    "x_train, x_test, y_train, y_test =\\\n",
    "model_selection.train_test_split(x_data, y_data, test_size=0.3, random_state=0)"
   ]
  },
  {
   "cell_type": "code",
   "execution_count": 16,
   "id": "d9d10e20",
   "metadata": {},
   "outputs": [
    {
     "name": "stdout",
     "output_type": "stream",
     "text": [
      "(13674, 11)\n",
      "(5861, 11)\n",
      "(13674, 1)\n",
      "(5861, 1)\n"
     ]
    }
   ],
   "source": [
    "print(x_train.shape)\n",
    "print(x_test.shape)\n",
    "print(y_train.shape)\n",
    "print(y_test.shape)"
   ]
  },
  {
   "cell_type": "markdown",
   "id": "e97eda54",
   "metadata": {},
   "source": [
    "# Train the model"
   ]
  },
  {
   "cell_type": "code",
   "execution_count": 17,
   "id": "64a2891f",
   "metadata": {},
   "outputs": [],
   "source": [
    "from sklearn import ensemble\n",
    "from sklearn.metrics import accuracy_score"
   ]
  },
  {
   "cell_type": "markdown",
   "id": "35dd601b",
   "metadata": {},
   "source": [
    "# 앙상블 기본 모델 학습 및 정확도 측정"
   ]
  },
  {
   "cell_type": "code",
   "execution_count": 18,
   "id": "898a5f68",
   "metadata": {},
   "outputs": [
    {
     "name": "stdout",
     "output_type": "stream",
     "text": [
      "The accuracy score on test set: 0.9335\n"
     ]
    }
   ],
   "source": [
    "clf_RFC = ensemble.RandomForestClassifier()\n",
    "clf_RFC.fit(x_train, y_train)\n",
    "acc = accuracy_score(y_test, clf_RFC.predict(x_test))\n",
    "print(\"The accuracy score on test set: {:.4f}\".format(acc))"
   ]
  },
  {
   "cell_type": "code",
   "execution_count": 19,
   "id": "4bbca55a",
   "metadata": {},
   "outputs": [
    {
     "name": "stdout",
     "output_type": "stream",
     "text": [
      "The accuracy score on test set: 0.9285\n"
     ]
    }
   ],
   "source": [
    "clf_DTC = sklearn.tree.DecisionTreeClassifier(random_state=0)\n",
    "clf_DTC.fit(x_train, y_train)\n",
    "acc = accuracy_score(y_test, clf_DTC.predict(x_test))\n",
    "print(\"The accuracy score on test set: {:.4f}\".format(acc))"
   ]
  },
  {
   "cell_type": "markdown",
   "id": "e9228adb",
   "metadata": {},
   "source": [
    "# 부스팅 알고리즘 학습 및 정확도 측정"
   ]
  },
  {
   "cell_type": "code",
   "execution_count": 20,
   "id": "40028439",
   "metadata": {},
   "outputs": [],
   "source": [
    "from xgboost import XGBClassifier"
   ]
  },
  {
   "cell_type": "code",
   "execution_count": 21,
   "id": "d90477ea",
   "metadata": {},
   "outputs": [
    {
     "name": "stdout",
     "output_type": "stream",
     "text": [
      "The accuracy score on test set: 0.9374\n"
     ]
    }
   ],
   "source": [
    "clf_XGB = XGBClassifier(random_state=0)\n",
    "clf_XGB.fit(x_train, y_train)\n",
    "acc = accuracy_score(y_test, clf_XGB.predict(x_test))\n",
    "print(\"The accuracy score on test set: {:.4f}\".format(acc))"
   ]
  },
  {
   "cell_type": "code",
   "execution_count": 22,
   "id": "3be6f8a8",
   "metadata": {},
   "outputs": [
    {
     "name": "stdout",
     "output_type": "stream",
     "text": [
      "The accuracy score on test set: 0.9307\n"
     ]
    }
   ],
   "source": [
    "clf_GB = ensemble.GradientBoostingClassifier()\n",
    "clf_GB.fit(x_train, y_train)\n",
    "acc = accuracy_score(y_test, clf_GB.predict(x_test))\n",
    "print(\"The accuracy score on test set: {:.4f}\".format(acc))"
   ]
  },
  {
   "cell_type": "code",
   "execution_count": 23,
   "id": "13f65247",
   "metadata": {},
   "outputs": [],
   "source": [
    "# x_data.to_excel(\"./x_data.xlsx\")\n",
    "# y_data.to_excel(\"./y_data.xlsx\")"
   ]
  },
  {
   "cell_type": "code",
   "execution_count": 24,
   "id": "b80ee612",
   "metadata": {},
   "outputs": [
    {
     "name": "stdout",
     "output_type": "stream",
     "text": [
      "              precision    recall  f1-score   support\n",
      "\n",
      "           0       0.96      0.97      0.97      5359\n",
      "           1       0.64      0.62      0.63       502\n",
      "\n",
      "    accuracy                           0.94      5861\n",
      "   macro avg       0.80      0.79      0.80      5861\n",
      "weighted avg       0.94      0.94      0.94      5861\n",
      "\n",
      "Accuracy on Training set: 0.968\n",
      "Accuracy on Test set: 0.937\n"
     ]
    }
   ],
   "source": [
    "from sklearn.metrics import classification_report\n",
    "\n",
    "predictions = clf_XGB.predict(x_test)\n",
    "print(classification_report(y_test, predictions)) # Precision, Recall, F1-score 등을 확인할 수 있습니다.\n",
    "\n",
    "print(\"Accuracy on Training set: {:.3f}\".format(clf_XGB.score(x_train, y_train)))\n",
    "print(\"Accuracy on Test set: {:.3f}\".format(clf_XGB.score(x_test, y_test)))"
   ]
  },
  {
   "cell_type": "code",
   "execution_count": 25,
   "id": "33cc181c",
   "metadata": {},
   "outputs": [
    {
     "data": {
      "image/png": "[encoded data removed]",
      "text/plain": [
       "<Figure size 1440x360 with 6 Axes>"
      ]
     },
     "metadata": {
      "needs_background": "light"
     },
     "output_type": "display_data"
    }
   ],
   "source": [
    "# confusion matrix\n",
    "from sklearn.metrics import confusion_matrix\n",
    "fig, ax = plt.subplots(nrows = 1, ncols = 3, figsize=(20, 5))\n",
    "\n",
    "confu = confusion_matrix(y_true = y_test, y_pred = clf_RFC.predict(x_test))\n",
    "confu2 = confusion_matrix(y_true = y_test, y_pred = clf_DTC.predict(x_test))\n",
    "confu3 = confusion_matrix(y_true = y_test, y_pred = clf_XGB.predict(x_test))\n",
    "\n",
    "\n",
    "sns.heatmap(confu, annot=True, annot_kws={'size':15}, cmap='OrRd', fmt='.10g', ax=ax[0])\n",
    "sns.heatmap(confu2, annot=True, annot_kws={'size':15}, cmap='GnBu', fmt='.10g', ax=ax[1])\n",
    "sns.heatmap(confu3, annot=True, annot_kws={'size':15}, cmap='Greys', fmt='.10g', ax=ax[2])\n",
    "ax[0].set_title('랜덤포레스트',pad = 12, fontsize = 20)\n",
    "ax[1].set_title('디시전트리',pad = 12, fontsize = 20)\n",
    "ax[2].set_title('XGB',pad = 12, fontsize = 20)\n",
    "plt.show()"
   ]
  },
  {
   "cell_type": "markdown",
   "id": "f6427891",
   "metadata": {},
   "source": [
    "# 클래스 불균형 문제 해결(오버샘플링 SMOTE)"
   ]
  },
  {
   "cell_type": "code",
   "execution_count": 26,
   "id": "f8a70fdc",
   "metadata": {},
   "outputs": [],
   "source": [
    "from imblearn.over_sampling import SMOTE"
   ]
  },
  {
   "cell_type": "code",
   "execution_count": 27,
   "id": "3630839c",
   "metadata": {},
   "outputs": [
    {
     "name": "stdout",
     "output_type": "stream",
     "text": [
      "SMOTE 적용 전 학습용 피처/레이블 데이터 세트 :  (13674, 11) (13674, 1)\n",
      "SMOTE 적용 후 학습용 피처/레이블 데이터 세트 : (24808, 11) (24808, 1)\n",
      "SMOTE 적용 후 값의 분포 :\n",
      " 재구매여부\n",
      "0        12404\n",
      "1        12404\n",
      "dtype: int64\n"
     ]
    }
   ],
   "source": [
    "smote = SMOTE(random_state=42)\n",
    "x_train_over, y_train_over = smote.fit_resample(x_train, y_train)\n",
    "print(\"SMOTE 적용 전 학습용 피처/레이블 데이터 세트 : \", x_train.shape, y_train.shape)\n",
    "print('SMOTE 적용 후 학습용 피처/레이블 데이터 세트 :', x_train_over.shape, y_train_over.shape)\n",
    "# print(\"SMOTE 적용 전 학습용 피처/레이블 데이터 세트 : \", x_test.shape, y_test.shape)\n",
    "print('SMOTE 적용 후 값의 분포 :\\n', y_train_over.value_counts() )\n",
    "#print('SMOTE 적용 후 값의 분포 :\\n', y_train.value_counts() )"
   ]
  },
  {
   "cell_type": "code",
   "execution_count": 28,
   "id": "8f2e438b",
   "metadata": {},
   "outputs": [
    {
     "data": {
      "image/png": "[encoded data removed]",
      "text/plain": [
       "<Figure size 1296x576 with 2 Axes>"
      ]
     },
     "metadata": {
      "needs_background": "light"
     },
     "output_type": "display_data"
    }
   ],
   "source": [
    "f, ax = plt.subplots(1,2,figsize=(18,8))\n",
    "y_train_over['재구매여부'].value_counts()\\\n",
    ".plot.pie(explode = [0,0.1], autopct = '%1.1f%%', ax=ax[0])\n",
    "\n",
    "ax[0].set_title('재구매여부')\n",
    "ax[0].set_ylabel('')\n",
    "\n",
    "sns.countplot('재구매여부', data = y_train_over, ax = ax[1])\n",
    "ax[1].set_title('재구매여부')\n",
    "plt.show()"
   ]
  },
  {
   "cell_type": "code",
   "execution_count": 29,
   "id": "98b8ca63",
   "metadata": {},
   "outputs": [
    {
     "data": {
      "text/plain": [
       "0    12404\n",
       "1    12404\n",
       "Name: 재구매여부, dtype: int64"
      ]
     },
     "execution_count": 29,
     "metadata": {},
     "output_type": "execute_result"
    }
   ],
   "source": [
    "y_train_over['재구매여부'].value_counts()"
   ]
  },
  {
   "cell_type": "markdown",
   "id": "f22a0ebd",
   "metadata": {},
   "source": [
    "# 재학습"
   ]
  },
  {
   "cell_type": "code",
   "execution_count": 30,
   "id": "6bea967a",
   "metadata": {},
   "outputs": [],
   "source": [
    "x_train_resample, x_test, y_train_resample, y_test =\\\n",
    "model_selection.train_test_split(x_train_over, y_train_over, test_size=0.3, random_state=0)"
   ]
  },
  {
   "cell_type": "code",
   "execution_count": 56,
   "id": "71177718",
   "metadata": {},
   "outputs": [
    {
     "data": {
      "text/html": [
       "<div>\n",
       "<style scoped>\n",
       "    .dataframe tbody tr th:only-of-type {\n",
       "        vertical-align: middle;\n",
       "    }\n",
       "\n",
       "    .dataframe tbody tr th {\n",
       "        vertical-align: top;\n",
       "    }\n",
       "\n",
       "    .dataframe thead th {\n",
       "        text-align: right;\n",
       "    }\n",
       "</style>\n",
       "<table border=\"1\" class=\"dataframe\">\n",
       "  <thead>\n",
       "    <tr style=\"text-align: right;\">\n",
       "      <th></th>\n",
       "      <th>상품코드</th>\n",
       "      <th>총상담횟수</th>\n",
       "      <th>총구매횟수</th>\n",
       "      <th>총구매수량</th>\n",
       "      <th>총구매금액</th>\n",
       "      <th>총할인금액</th>\n",
       "      <th>최종결제금액</th>\n",
       "      <th>할인율</th>\n",
       "      <th>잔여포인트</th>\n",
       "      <th>부모연령</th>\n",
       "      <th>포인트사용여부</th>\n",
       "    </tr>\n",
       "  </thead>\n",
       "  <tbody>\n",
       "    <tr>\n",
       "      <th>23379</th>\n",
       "      <td>35009</td>\n",
       "      <td>11</td>\n",
       "      <td>4.0</td>\n",
       "      <td>7</td>\n",
       "      <td>258300</td>\n",
       "      <td>133300</td>\n",
       "      <td>125000</td>\n",
       "      <td>52</td>\n",
       "      <td>96</td>\n",
       "      <td>1</td>\n",
       "      <td>0</td>\n",
       "    </tr>\n",
       "    <tr>\n",
       "      <th>8308</th>\n",
       "      <td>35009</td>\n",
       "      <td>12</td>\n",
       "      <td>4.0</td>\n",
       "      <td>4</td>\n",
       "      <td>147600</td>\n",
       "      <td>82600</td>\n",
       "      <td>65000</td>\n",
       "      <td>56</td>\n",
       "      <td>96</td>\n",
       "      <td>1</td>\n",
       "      <td>0</td>\n",
       "    </tr>\n",
       "    <tr>\n",
       "      <th>1919</th>\n",
       "      <td>35023</td>\n",
       "      <td>3</td>\n",
       "      <td>1.0</td>\n",
       "      <td>1</td>\n",
       "      <td>14000</td>\n",
       "      <td>11000</td>\n",
       "      <td>3000</td>\n",
       "      <td>79</td>\n",
       "      <td>96</td>\n",
       "      <td>1</td>\n",
       "      <td>0</td>\n",
       "    </tr>\n",
       "    <tr>\n",
       "      <th>1243</th>\n",
       "      <td>35007</td>\n",
       "      <td>3</td>\n",
       "      <td>5.5</td>\n",
       "      <td>1</td>\n",
       "      <td>18900</td>\n",
       "      <td>13900</td>\n",
       "      <td>5000</td>\n",
       "      <td>74</td>\n",
       "      <td>130</td>\n",
       "      <td>1</td>\n",
       "      <td>0</td>\n",
       "    </tr>\n",
       "    <tr>\n",
       "      <th>15889</th>\n",
       "      <td>35025</td>\n",
       "      <td>9</td>\n",
       "      <td>9.0</td>\n",
       "      <td>19</td>\n",
       "      <td>351900</td>\n",
       "      <td>81900</td>\n",
       "      <td>270000</td>\n",
       "      <td>23</td>\n",
       "      <td>96</td>\n",
       "      <td>1</td>\n",
       "      <td>0</td>\n",
       "    </tr>\n",
       "    <tr>\n",
       "      <th>...</th>\n",
       "      <td>...</td>\n",
       "      <td>...</td>\n",
       "      <td>...</td>\n",
       "      <td>...</td>\n",
       "      <td>...</td>\n",
       "      <td>...</td>\n",
       "      <td>...</td>\n",
       "      <td>...</td>\n",
       "      <td>...</td>\n",
       "      <td>...</td>\n",
       "      <td>...</td>\n",
       "    </tr>\n",
       "    <tr>\n",
       "      <th>13123</th>\n",
       "      <td>35023</td>\n",
       "      <td>2</td>\n",
       "      <td>1.0</td>\n",
       "      <td>1</td>\n",
       "      <td>14000</td>\n",
       "      <td>11000</td>\n",
       "      <td>3000</td>\n",
       "      <td>79</td>\n",
       "      <td>160</td>\n",
       "      <td>1</td>\n",
       "      <td>0</td>\n",
       "    </tr>\n",
       "    <tr>\n",
       "      <th>19648</th>\n",
       "      <td>35007</td>\n",
       "      <td>4</td>\n",
       "      <td>4.0</td>\n",
       "      <td>7</td>\n",
       "      <td>240300</td>\n",
       "      <td>115300</td>\n",
       "      <td>125000</td>\n",
       "      <td>48</td>\n",
       "      <td>152</td>\n",
       "      <td>1</td>\n",
       "      <td>0</td>\n",
       "    </tr>\n",
       "    <tr>\n",
       "      <th>9845</th>\n",
       "      <td>35007</td>\n",
       "      <td>2</td>\n",
       "      <td>5.5</td>\n",
       "      <td>2</td>\n",
       "      <td>37800</td>\n",
       "      <td>27800</td>\n",
       "      <td>10000</td>\n",
       "      <td>74</td>\n",
       "      <td>0</td>\n",
       "      <td>2</td>\n",
       "      <td>0</td>\n",
       "    </tr>\n",
       "    <tr>\n",
       "      <th>10799</th>\n",
       "      <td>35007</td>\n",
       "      <td>3</td>\n",
       "      <td>5.5</td>\n",
       "      <td>1</td>\n",
       "      <td>18900</td>\n",
       "      <td>15900</td>\n",
       "      <td>3000</td>\n",
       "      <td>84</td>\n",
       "      <td>71</td>\n",
       "      <td>1</td>\n",
       "      <td>0</td>\n",
       "    </tr>\n",
       "    <tr>\n",
       "      <th>2732</th>\n",
       "      <td>35008</td>\n",
       "      <td>3</td>\n",
       "      <td>5.5</td>\n",
       "      <td>1</td>\n",
       "      <td>18900</td>\n",
       "      <td>15900</td>\n",
       "      <td>3000</td>\n",
       "      <td>84</td>\n",
       "      <td>130</td>\n",
       "      <td>1</td>\n",
       "      <td>0</td>\n",
       "    </tr>\n",
       "  </tbody>\n",
       "</table>\n",
       "<p>17365 rows × 11 columns</p>\n",
       "</div>"
      ],
      "text/plain": [
       "        상품코드  총상담횟수  총구매횟수  총구매수량   총구매금액   총할인금액  최종결제금액  할인율  잔여포인트  부모연령  \\\n",
       "23379  35009     11    4.0      7  258300  133300  125000   52     96     1   \n",
       "8308   35009     12    4.0      4  147600   82600   65000   56     96     1   \n",
       "1919   35023      3    1.0      1   14000   11000    3000   79     96     1   \n",
       "1243   35007      3    5.5      1   18900   13900    5000   74    130     1   \n",
       "15889  35025      9    9.0     19  351900   81900  270000   23     96     1   \n",
       "...      ...    ...    ...    ...     ...     ...     ...  ...    ...   ...   \n",
       "13123  35023      2    1.0      1   14000   11000    3000   79    160     1   \n",
       "19648  35007      4    4.0      7  240300  115300  125000   48    152     1   \n",
       "9845   35007      2    5.5      2   37800   27800   10000   74      0     2   \n",
       "10799  35007      3    5.5      1   18900   15900    3000   84     71     1   \n",
       "2732   35008      3    5.5      1   18900   15900    3000   84    130     1   \n",
       "\n",
       "       포인트사용여부  \n",
       "23379        0  \n",
       "8308         0  \n",
       "1919         0  \n",
       "1243         0  \n",
       "15889        0  \n",
       "...        ...  \n",
       "13123        0  \n",
       "19648        0  \n",
       "9845         0  \n",
       "10799        0  \n",
       "2732         0  \n",
       "\n",
       "[17365 rows x 11 columns]"
      ]
     },
     "execution_count": 56,
     "metadata": {},
     "output_type": "execute_result"
    }
   ],
   "source": [
    "x_train_resample"
   ]
  },
  {
   "cell_type": "code",
   "execution_count": 61,
   "id": "9da0a622",
   "metadata": {},
   "outputs": [],
   "source": [
    "독립 = x_train_resample[['총상담횟수','총구매횟수','총구매수량','총구매금액','총할인금액','최종결제금액']]\n",
    "종속 = y_train_resample[['재구매여부']]"
   ]
  },
  {
   "cell_type": "code",
   "execution_count": 62,
   "id": "d836d832",
   "metadata": {},
   "outputs": [],
   "source": [
    "clf_RFC_re = ensemble.RandomForestClassifier()\n",
    "model = clf_RFC_re.fit(독립,종속)"
   ]
  },
  {
   "cell_type": "code",
   "execution_count": 73,
   "id": "eaa07b00",
   "metadata": {},
   "outputs": [
    {
     "data": {
      "text/plain": [
       "array([0], dtype=int64)"
      ]
     },
     "execution_count": 73,
     "metadata": {},
     "output_type": "execute_result"
    }
   ],
   "source": [
    "model.predict([[3,1.0,1,14000,11000,3000]])"
   ]
  },
  {
   "cell_type": "code",
   "execution_count": 72,
   "id": "630437d0",
   "metadata": {},
   "outputs": [
    {
     "data": {
      "text/html": [
       "<div>\n",
       "<style scoped>\n",
       "    .dataframe tbody tr th:only-of-type {\n",
       "        vertical-align: middle;\n",
       "    }\n",
       "\n",
       "    .dataframe tbody tr th {\n",
       "        vertical-align: top;\n",
       "    }\n",
       "\n",
       "    .dataframe thead th {\n",
       "        text-align: right;\n",
       "    }\n",
       "</style>\n",
       "<table border=\"1\" class=\"dataframe\">\n",
       "  <thead>\n",
       "    <tr style=\"text-align: right;\">\n",
       "      <th></th>\n",
       "      <th>재구매여부</th>\n",
       "    </tr>\n",
       "  </thead>\n",
       "  <tbody>\n",
       "    <tr>\n",
       "      <th>23379</th>\n",
       "      <td>1</td>\n",
       "    </tr>\n",
       "    <tr>\n",
       "      <th>8308</th>\n",
       "      <td>1</td>\n",
       "    </tr>\n",
       "    <tr>\n",
       "      <th>1919</th>\n",
       "      <td>0</td>\n",
       "    </tr>\n",
       "    <tr>\n",
       "      <th>1243</th>\n",
       "      <td>0</td>\n",
       "    </tr>\n",
       "    <tr>\n",
       "      <th>15889</th>\n",
       "      <td>1</td>\n",
       "    </tr>\n",
       "    <tr>\n",
       "      <th>...</th>\n",
       "      <td>...</td>\n",
       "    </tr>\n",
       "    <tr>\n",
       "      <th>13123</th>\n",
       "      <td>0</td>\n",
       "    </tr>\n",
       "    <tr>\n",
       "      <th>19648</th>\n",
       "      <td>1</td>\n",
       "    </tr>\n",
       "    <tr>\n",
       "      <th>9845</th>\n",
       "      <td>0</td>\n",
       "    </tr>\n",
       "    <tr>\n",
       "      <th>10799</th>\n",
       "      <td>0</td>\n",
       "    </tr>\n",
       "    <tr>\n",
       "      <th>2732</th>\n",
       "      <td>0</td>\n",
       "    </tr>\n",
       "  </tbody>\n",
       "</table>\n",
       "<p>17365 rows × 1 columns</p>\n",
       "</div>"
      ],
      "text/plain": [
       "       재구매여부\n",
       "23379      1\n",
       "8308       1\n",
       "1919       0\n",
       "1243       0\n",
       "15889      1\n",
       "...      ...\n",
       "13123      0\n",
       "19648      1\n",
       "9845       0\n",
       "10799      0\n",
       "2732       0\n",
       "\n",
       "[17365 rows x 1 columns]"
      ]
     },
     "execution_count": 72,
     "metadata": {},
     "output_type": "execute_result"
    }
   ],
   "source": [
    "종속"
   ]
  },
  {
   "cell_type": "code",
   "execution_count": 31,
   "id": "3563f164",
   "metadata": {},
   "outputs": [],
   "source": [
    "# params = {'n_estimators': 1000,\n",
    "#           'max_depth': 5,\n",
    "#           'min_samples_split': 7,\n",
    "# #           'learning_rate': 0.01,\n",
    "#          'random_state':0}"
   ]
  },
  {
   "cell_type": "code",
   "execution_count": 32,
   "id": "2afd5238",
   "metadata": {},
   "outputs": [
    {
     "name": "stdout",
     "output_type": "stream",
     "text": [
      "The accuracy score on test set: 0.9524\n"
     ]
    }
   ],
   "source": [
    "clf_Bagging_re = ensemble.BaggingClassifier()\n",
    "clf_Bagging_re.fit(x_train_resample, y_train_resample)\n",
    "acc = accuracy_score(y_test, clf_Bagging_re.predict(x_test))\n",
    "print(\"The accuracy score on test set: {:.4f}\".format(acc))"
   ]
  },
  {
   "cell_type": "code",
   "execution_count": 33,
   "id": "932b5c8f",
   "metadata": {},
   "outputs": [
    {
     "name": "stdout",
     "output_type": "stream",
     "text": [
      "The accuracy score on test set: 0.9578\n"
     ]
    }
   ],
   "source": [
    "clf_RFC_re = ensemble.RandomForestClassifier()\n",
    "clf_RFC_re.fit(x_train_resample, y_train_resample)\n",
    "acc = accuracy_score(y_test, clf_RFC_re.predict(x_test))\n",
    "print(\"The accuracy score on test set: {:.4f}\".format(acc))"
   ]
  },
  {
   "cell_type": "code",
   "execution_count": 34,
   "id": "1ad62f3f",
   "metadata": {},
   "outputs": [
    {
     "name": "stdout",
     "output_type": "stream",
     "text": [
      "The accuracy score on test set: 0.9459\n"
     ]
    }
   ],
   "source": [
    "clf_DTC_re = sklearn.tree.DecisionTreeClassifier(random_state=0)\n",
    "clf_DTC_re.fit(x_train_resample, y_train_resample)\n",
    "acc = accuracy_score(y_test, clf_DTC_re.predict(x_test))\n",
    "print(\"The accuracy score on test set: {:.4f}\".format(acc))"
   ]
  },
  {
   "cell_type": "code",
   "execution_count": 35,
   "id": "2c1234a1",
   "metadata": {},
   "outputs": [
    {
     "name": "stdout",
     "output_type": "stream",
     "text": [
      "The accuracy score on test set: 0.9629\n"
     ]
    }
   ],
   "source": [
    "clf_XGB_re = XGBClassifier(random_state=0)\n",
    "clf_XGB_re.fit(x_train_resample, y_train_resample)\n",
    "acc = accuracy_score(y_test, clf_XGB_re.predict(x_test))\n",
    "print(\"The accuracy score on test set: {:.4f}\".format(acc))"
   ]
  },
  {
   "cell_type": "code",
   "execution_count": 36,
   "id": "b2ea2564",
   "metadata": {},
   "outputs": [
    {
     "name": "stdout",
     "output_type": "stream",
     "text": [
      "The accuracy score on test set: 0.9453\n"
     ]
    }
   ],
   "source": [
    "clf_GB_re = ensemble.GradientBoostingClassifier()\n",
    "clf_GB_re.fit(x_train_resample, y_train_resample)\n",
    "acc = accuracy_score(y_test, clf_GB_re.predict(x_test))\n",
    "print(\"The accuracy score on test set: {:.4f}\".format(acc))"
   ]
  },
  {
   "cell_type": "code",
   "execution_count": 37,
   "id": "9663506a",
   "metadata": {},
   "outputs": [
    {
     "data": {
      "text/html": [
       "<div>\n",
       "<style scoped>\n",
       "    .dataframe tbody tr th:only-of-type {\n",
       "        vertical-align: middle;\n",
       "    }\n",
       "\n",
       "    .dataframe tbody tr th {\n",
       "        vertical-align: top;\n",
       "    }\n",
       "\n",
       "    .dataframe thead th {\n",
       "        text-align: right;\n",
       "    }\n",
       "</style>\n",
       "<table border=\"1\" class=\"dataframe\">\n",
       "  <thead>\n",
       "    <tr style=\"text-align: right;\">\n",
       "      <th></th>\n",
       "      <th>상품코드</th>\n",
       "      <th>총상담횟수</th>\n",
       "      <th>총구매횟수</th>\n",
       "      <th>총구매수량</th>\n",
       "      <th>총구매금액</th>\n",
       "      <th>총할인금액</th>\n",
       "      <th>최종결제금액</th>\n",
       "      <th>할인율</th>\n",
       "      <th>잔여포인트</th>\n",
       "      <th>부모연령</th>\n",
       "      <th>포인트사용여부</th>\n",
       "    </tr>\n",
       "  </thead>\n",
       "  <tbody>\n",
       "    <tr>\n",
       "      <th>23379</th>\n",
       "      <td>35009</td>\n",
       "      <td>11</td>\n",
       "      <td>4.0</td>\n",
       "      <td>7</td>\n",
       "      <td>258300</td>\n",
       "      <td>133300</td>\n",
       "      <td>125000</td>\n",
       "      <td>52</td>\n",
       "      <td>96</td>\n",
       "      <td>1</td>\n",
       "      <td>0</td>\n",
       "    </tr>\n",
       "    <tr>\n",
       "      <th>8308</th>\n",
       "      <td>35009</td>\n",
       "      <td>12</td>\n",
       "      <td>4.0</td>\n",
       "      <td>4</td>\n",
       "      <td>147600</td>\n",
       "      <td>82600</td>\n",
       "      <td>65000</td>\n",
       "      <td>56</td>\n",
       "      <td>96</td>\n",
       "      <td>1</td>\n",
       "      <td>0</td>\n",
       "    </tr>\n",
       "    <tr>\n",
       "      <th>1919</th>\n",
       "      <td>35023</td>\n",
       "      <td>3</td>\n",
       "      <td>1.0</td>\n",
       "      <td>1</td>\n",
       "      <td>14000</td>\n",
       "      <td>11000</td>\n",
       "      <td>3000</td>\n",
       "      <td>79</td>\n",
       "      <td>96</td>\n",
       "      <td>1</td>\n",
       "      <td>0</td>\n",
       "    </tr>\n",
       "    <tr>\n",
       "      <th>1243</th>\n",
       "      <td>35007</td>\n",
       "      <td>3</td>\n",
       "      <td>5.5</td>\n",
       "      <td>1</td>\n",
       "      <td>18900</td>\n",
       "      <td>13900</td>\n",
       "      <td>5000</td>\n",
       "      <td>74</td>\n",
       "      <td>130</td>\n",
       "      <td>1</td>\n",
       "      <td>0</td>\n",
       "    </tr>\n",
       "    <tr>\n",
       "      <th>15889</th>\n",
       "      <td>35025</td>\n",
       "      <td>9</td>\n",
       "      <td>9.0</td>\n",
       "      <td>19</td>\n",
       "      <td>351900</td>\n",
       "      <td>81900</td>\n",
       "      <td>270000</td>\n",
       "      <td>23</td>\n",
       "      <td>96</td>\n",
       "      <td>1</td>\n",
       "      <td>0</td>\n",
       "    </tr>\n",
       "    <tr>\n",
       "      <th>...</th>\n",
       "      <td>...</td>\n",
       "      <td>...</td>\n",
       "      <td>...</td>\n",
       "      <td>...</td>\n",
       "      <td>...</td>\n",
       "      <td>...</td>\n",
       "      <td>...</td>\n",
       "      <td>...</td>\n",
       "      <td>...</td>\n",
       "      <td>...</td>\n",
       "      <td>...</td>\n",
       "    </tr>\n",
       "    <tr>\n",
       "      <th>13123</th>\n",
       "      <td>35023</td>\n",
       "      <td>2</td>\n",
       "      <td>1.0</td>\n",
       "      <td>1</td>\n",
       "      <td>14000</td>\n",
       "      <td>11000</td>\n",
       "      <td>3000</td>\n",
       "      <td>79</td>\n",
       "      <td>160</td>\n",
       "      <td>1</td>\n",
       "      <td>0</td>\n",
       "    </tr>\n",
       "    <tr>\n",
       "      <th>19648</th>\n",
       "      <td>35007</td>\n",
       "      <td>4</td>\n",
       "      <td>4.0</td>\n",
       "      <td>7</td>\n",
       "      <td>240300</td>\n",
       "      <td>115300</td>\n",
       "      <td>125000</td>\n",
       "      <td>48</td>\n",
       "      <td>152</td>\n",
       "      <td>1</td>\n",
       "      <td>0</td>\n",
       "    </tr>\n",
       "    <tr>\n",
       "      <th>9845</th>\n",
       "      <td>35007</td>\n",
       "      <td>2</td>\n",
       "      <td>5.5</td>\n",
       "      <td>2</td>\n",
       "      <td>37800</td>\n",
       "      <td>27800</td>\n",
       "      <td>10000</td>\n",
       "      <td>74</td>\n",
       "      <td>0</td>\n",
       "      <td>2</td>\n",
       "      <td>0</td>\n",
       "    </tr>\n",
       "    <tr>\n",
       "      <th>10799</th>\n",
       "      <td>35007</td>\n",
       "      <td>3</td>\n",
       "      <td>5.5</td>\n",
       "      <td>1</td>\n",
       "      <td>18900</td>\n",
       "      <td>15900</td>\n",
       "      <td>3000</td>\n",
       "      <td>84</td>\n",
       "      <td>71</td>\n",
       "      <td>1</td>\n",
       "      <td>0</td>\n",
       "    </tr>\n",
       "    <tr>\n",
       "      <th>2732</th>\n",
       "      <td>35008</td>\n",
       "      <td>3</td>\n",
       "      <td>5.5</td>\n",
       "      <td>1</td>\n",
       "      <td>18900</td>\n",
       "      <td>15900</td>\n",
       "      <td>3000</td>\n",
       "      <td>84</td>\n",
       "      <td>130</td>\n",
       "      <td>1</td>\n",
       "      <td>0</td>\n",
       "    </tr>\n",
       "  </tbody>\n",
       "</table>\n",
       "<p>17365 rows × 11 columns</p>\n",
       "</div>"
      ],
      "text/plain": [
       "        상품코드  총상담횟수  총구매횟수  총구매수량   총구매금액   총할인금액  최종결제금액  할인율  잔여포인트  부모연령  \\\n",
       "23379  35009     11    4.0      7  258300  133300  125000   52     96     1   \n",
       "8308   35009     12    4.0      4  147600   82600   65000   56     96     1   \n",
       "1919   35023      3    1.0      1   14000   11000    3000   79     96     1   \n",
       "1243   35007      3    5.5      1   18900   13900    5000   74    130     1   \n",
       "15889  35025      9    9.0     19  351900   81900  270000   23     96     1   \n",
       "...      ...    ...    ...    ...     ...     ...     ...  ...    ...   ...   \n",
       "13123  35023      2    1.0      1   14000   11000    3000   79    160     1   \n",
       "19648  35007      4    4.0      7  240300  115300  125000   48    152     1   \n",
       "9845   35007      2    5.5      2   37800   27800   10000   74      0     2   \n",
       "10799  35007      3    5.5      1   18900   15900    3000   84     71     1   \n",
       "2732   35008      3    5.5      1   18900   15900    3000   84    130     1   \n",
       "\n",
       "       포인트사용여부  \n",
       "23379        0  \n",
       "8308         0  \n",
       "1919         0  \n",
       "1243         0  \n",
       "15889        0  \n",
       "...        ...  \n",
       "13123        0  \n",
       "19648        0  \n",
       "9845         0  \n",
       "10799        0  \n",
       "2732         0  \n",
       "\n",
       "[17365 rows x 11 columns]"
      ]
     },
     "execution_count": 37,
     "metadata": {},
     "output_type": "execute_result"
    }
   ],
   "source": [
    "x_train_resample"
   ]
  },
  {
   "cell_type": "code",
   "execution_count": 38,
   "id": "620273e9",
   "metadata": {},
   "outputs": [
    {
     "data": {
      "text/plain": [
       "array([1, 1, 0, ..., 0, 0, 0])"
      ]
     },
     "execution_count": 38,
     "metadata": {},
     "output_type": "execute_result"
    }
   ],
   "source": [
    "clf_XGB_re.predict(x_train_resample)"
   ]
  },
  {
   "cell_type": "code",
   "execution_count": 54,
   "id": "9c7319d5",
   "metadata": {},
   "outputs": [
    {
     "name": "stdout",
     "output_type": "stream",
     "text": [
      "(17365, 11)\n",
      "(17365, 1)\n"
     ]
    }
   ],
   "source": [
    "print(x_train_resample.shape)\n",
    "print(y_train_resample.shape)"
   ]
  },
  {
   "cell_type": "code",
   "execution_count": 39,
   "id": "3ffab073",
   "metadata": {},
   "outputs": [
    {
     "name": "stdout",
     "output_type": "stream",
     "text": [
      "<class 'pandas.core.frame.DataFrame'>\n",
      "Int64Index: 17365 entries, 23379 to 2732\n",
      "Data columns (total 11 columns):\n",
      " #   Column   Non-Null Count  Dtype  \n",
      "---  ------   --------------  -----  \n",
      " 0   상품코드     17365 non-null  int64  \n",
      " 1   총상담횟수    17365 non-null  int64  \n",
      " 2   총구매횟수    17365 non-null  float64\n",
      " 3   총구매수량    17365 non-null  int64  \n",
      " 4   총구매금액    17365 non-null  int64  \n",
      " 5   총할인금액    17365 non-null  int64  \n",
      " 6   최종결제금액   17365 non-null  int64  \n",
      " 7   할인율      17365 non-null  int64  \n",
      " 8   잔여포인트    17365 non-null  int64  \n",
      " 9   부모연령     17365 non-null  int64  \n",
      " 10  포인트사용여부  17365 non-null  int64  \n",
      "dtypes: float64(1), int64(10)\n",
      "memory usage: 1.6 MB\n"
     ]
    }
   ],
   "source": [
    "x_train_resample.info()"
   ]
  },
  {
   "cell_type": "code",
   "execution_count": 41,
   "id": "f4d5aa10",
   "metadata": {},
   "outputs": [],
   "source": [
    "# clf_XGB_re = XGBClassifier(\n",
    "#                 colsample_bytree = 0.8,\\\n",
    "#                 gamma = 0.8,\\\n",
    "#                 learning_rate = 0.05,\\\n",
    "#                 max_depth = 25,\\\n",
    "#                 min_child_weight = 0.5,\\\n",
    "#                 n_estimators = 200,\\\n",
    "#                 nthread = -1,\\\n",
    "#                 objective = 'binary:logistic',\\\n",
    "#                 scale_pos_weight = 1,\\\n",
    "#                 seed = 2019,\\\n",
    "#                 subsample = 0.8)\n",
    "# clf_XGB_re.fit(x_train_resample, y_train_resample)\n",
    "# acc = accuracy_score(y_test, clf_XGB_re.predict(x_test))\n",
    "# print(\"The accuracy score on test set: {:.4f}\".format(acc))"
   ]
  },
  {
   "cell_type": "code",
   "execution_count": 42,
   "id": "b9fb0676",
   "metadata": {},
   "outputs": [],
   "source": [
    "# clf_XGB_re = XGBClassifier(\n",
    "#                 colsample_bytree = 0.8,\\\n",
    "#                 gamma = 0,\\\n",
    "#                 learning_rate = 0.05,\\\n",
    "#                 max_depth = 25,\\\n",
    "#                 min_child_weight = 0.5,\\\n",
    "#                 n_estimators = 200,\\\n",
    "#                 nthread = -1,\\\n",
    "#                 objective = 'binary:logistic',\\\n",
    "#                 scale_pos_weight = 1,\\\n",
    "#                 seed = 2019,\\\n",
    "#                 subsample = 0.8)\n",
    "# clf_XGB_re.fit(x_train_resample, y_train_resample)\n",
    "# acc = accuracy_score(y_test, clf_XGB_re.predict(x_test))\n",
    "# print(\"The accuracy score on test set: {:.4f}\".format(acc))"
   ]
  },
  {
   "cell_type": "code",
   "execution_count": 43,
   "id": "e7ab494f",
   "metadata": {},
   "outputs": [
    {
     "name": "stdout",
     "output_type": "stream",
     "text": [
      "              precision    recall  f1-score   support\n",
      "\n",
      "           0       0.97      0.94      0.96      3732\n",
      "           1       0.94      0.98      0.96      3711\n",
      "\n",
      "    accuracy                           0.96      7443\n",
      "   macro avg       0.96      0.96      0.96      7443\n",
      "weighted avg       0.96      0.96      0.96      7443\n",
      "\n",
      "Accuracy on Training set: 0.965\n",
      "Accuracy on Test set: 0.958\n"
     ]
    }
   ],
   "source": [
    "predictions = clf_RFC_re.predict(x_test)\n",
    "print(classification_report(y_test, predictions)) # Precision, Recall, F1-score 등을 확인할 수 있습니다.\n",
    "\n",
    "print(\"Accuracy on Training set: {:.3f}\".format(clf_RFC_re.score(x_train, y_train)))\n",
    "print(\"Accuracy on Test set: {:.3f}\".format(clf_RFC_re.score(x_test, y_test)))"
   ]
  },
  {
   "cell_type": "code",
   "execution_count": 44,
   "id": "b1fc2889",
   "metadata": {},
   "outputs": [
    {
     "data": {
      "image/png": "[encoded data removed]",
      "text/plain": [
       "<Figure size 1440x360 with 6 Axes>"
      ]
     },
     "metadata": {
      "needs_background": "light"
     },
     "output_type": "display_data"
    }
   ],
   "source": [
    "# confusion matrix\n",
    "from sklearn.metrics import confusion_matrix\n",
    "fig, ax = plt.subplots(nrows = 1, ncols = 3, figsize=(20, 5))\n",
    "\n",
    "confu = confusion_matrix(y_true = y_test, y_pred = clf_RFC_re.predict(x_test))\n",
    "confu2 = confusion_matrix(y_true = y_test, y_pred = clf_DTC_re.predict(x_test))\n",
    "confu3 = confusion_matrix(y_true = y_test, y_pred = clf_XGB_re.predict(x_test))\n",
    "\n",
    "\n",
    "sns.heatmap(confu, annot=True, annot_kws={'size':15}, cmap='OrRd', fmt='.10g', ax=ax[0])\n",
    "sns.heatmap(confu2, annot=True, annot_kws={'size':15}, cmap='GnBu', fmt='.10g', ax=ax[1])\n",
    "sns.heatmap(confu3, annot=True, annot_kws={'size':15}, cmap='Greys', fmt='.10g', ax=ax[2])\n",
    "ax[0].set_title('랜덤포레스트',pad = 12, fontsize = 20)\n",
    "ax[1].set_title('디시전트리',pad = 12, fontsize = 20)\n",
    "ax[2].set_title('XGB',pad = 12, fontsize = 20)\n",
    "plt.show()"
   ]
  },
  {
   "cell_type": "code",
   "execution_count": 45,
   "id": "0cf607c0",
   "metadata": {},
   "outputs": [],
   "source": [
    "# import seaborn as sns\n",
    "\n",
    "# feature_importance_values = clf_DTC_re.feature_importances_\n",
    "# # Top 중요도로 정렬하고, 쉽게 시각화하기 위해 Series 변환\n",
    "# feature_importances = pd.Series(feature_importance_values, index=x_train.columns)\n",
    "# # 중요도값 순으로 Series를 정렬\n",
    "# feature_top5 = feature_importances.sort_values(ascending=False)[:30]\n",
    "\n",
    "# plt.figure(figsize=[8, 6])\n",
    "# plt.title('DTC Feature Importances')\n",
    "# sns.barplot(x=feature_top5, y=feature_top5.index)\n",
    "# plt.show()"
   ]
  },
  {
   "cell_type": "code",
   "execution_count": 46,
   "id": "c6cc6055",
   "metadata": {},
   "outputs": [],
   "source": [
    "# import seaborn as sns\n",
    "\n",
    "# feature_importance_values = clf_RFC_re.feature_importances_\n",
    "# # Top 중요도로 정렬하고, 쉽게 시각화하기 위해 Series 변환\n",
    "# feature_importances = pd.Series(feature_importance_values, index=x_train.columns)\n",
    "# # 중요도값 순으로 Series를 정렬\n",
    "# feature_top5 = feature_importances.sort_values(ascending=False)[:30]\n",
    "\n",
    "# plt.figure(figsize=[8, 6])\n",
    "# plt.title('RF Feature Importances')\n",
    "# sns.barplot(x=feature_top5, y=feature_top5.index)\n",
    "# plt.show()"
   ]
  },
  {
   "cell_type": "code",
   "execution_count": 47,
   "id": "f09bf048",
   "metadata": {},
   "outputs": [
    {
     "data": {
      "image/png": "[encoded data removed]",
      "text/plain": [
       "<Figure size 576x432 with 1 Axes>"
      ]
     },
     "metadata": {
      "needs_background": "light"
     },
     "output_type": "display_data"
    }
   ],
   "source": [
    "import seaborn as sns\n",
    "\n",
    "feature_importance_values = clf_XGB_re.feature_importances_\n",
    "# Top 중요도로 정렬하고, 쉽게 시각화하기 위해 Series 변환\n",
    "feature_importances = pd.Series(feature_importance_values, index=x_train.columns)\n",
    "# 중요도값 순으로 Series를 정렬\n",
    "feature_top5 = feature_importances.sort_values(ascending=False)[:30]\n",
    "\n",
    "plt.figure(figsize=[8, 6])\n",
    "plt.title('XGB Feature Importances')\n",
    "sns.barplot(x=feature_top5, y=feature_top5.index)\n",
    "plt.show()"
   ]
  },
  {
   "cell_type": "code",
   "execution_count": 48,
   "id": "51c38feb",
   "metadata": {},
   "outputs": [
    {
     "data": {
      "text/plain": [
       "포인트사용여부    0.351675\n",
       "총할인금액      0.288715\n",
       "총구매횟수      0.128131\n",
       "총구매금액      0.048401\n",
       "잔여포인트      0.042856\n",
       "부모연령       0.033370\n",
       "총구매수량      0.026875\n",
       "상품코드       0.022637\n",
       "최종결제금액     0.021495\n",
       "총상담횟수      0.018313\n",
       "할인율        0.017532\n",
       "dtype: float32"
      ]
     },
     "execution_count": 48,
     "metadata": {},
     "output_type": "execute_result"
    }
   ],
   "source": [
    "feature_top5"
   ]
  },
  {
   "cell_type": "code",
   "execution_count": 49,
   "id": "c9231c5f",
   "metadata": {},
   "outputs": [
    {
     "data": {
      "image/png": "[encoded data removed]",
      "text/plain": [
       "<Figure size 720x720 with 1 Axes>"
      ]
     },
     "metadata": {
      "needs_background": "light"
     },
     "output_type": "display_data"
    }
   ],
   "source": [
    "from sklearn.metrics import roc_curve, auc\n",
    "\n",
    "models=['Bagging', 'RFC', 'DTC', 'XGB', 'GB']\n",
    "\n",
    "\n",
    "plt.figure(figsize=(10, 10))\n",
    "plt.xlim([0.0, 1.0])\n",
    "plt.ylim([0.0, 1.05])\n",
    "plt.xlabel('False Positive Rate')\n",
    "plt.ylabel('True Positive Rate')\n",
    "\n",
    "plt.title(\"ROC curve\")\n",
    "plt.plot([0, 1], [0, 1], color='navy', lw=2, linestyle='--')\n",
    "\n",
    "\n",
    "for i in models:\n",
    "\n",
    "    globals()['clf_{}_re_pred'.format(i)] = \\\n",
    "    globals()['clf_{}_re'.format(i)].predict_proba(x_test)\n",
    "    \n",
    "    globals()['clf_{}_re_roc'.format(i)]=\\\n",
    "    globals()['clf_{}_re_pred'.format(i)][:,1]\n",
    "   \n",
    "    globals()['fpr_{}_re'.format(i)],\\\n",
    "    globals()['tpr_{}_re'.format(i)], \\\n",
    "    globals()['_{}'.format(i)] \\\n",
    "    =roc_curve(y_true=y_test, y_score=globals()['clf_{}_re_roc'.format(i)]) \n",
    "    \n",
    "    globals()['roc_auc_{}_re'.format(i)] = \\\n",
    "    auc(globals()['fpr_{}_re'.format(i)], globals()['tpr_{}_re'.format(i)])\n",
    "\n",
    "    \n",
    "    plt.plot(globals()['fpr_{}_re'.format(i)], globals()['tpr_{}_re'.format(i)]\n",
    "             , lw=2, label=i+'__ROC curve (area = %0.3f)' %globals()['roc_auc_{}_re'.format(i)])\n",
    "\n",
    "plt.legend()\n",
    "plt.show()"
   ]
  },
  {
   "cell_type": "code",
   "execution_count": 50,
   "id": "45fed4b4",
   "metadata": {},
   "outputs": [],
   "source": [
    "# from sklearn.metrics import roc_curve, auc\n",
    "\n",
    "# models=['RFC', 'DTC', 'XGB']\n",
    "\n",
    "\n",
    "# plt.figure(figsize=(10, 10))\n",
    "# plt.xlim([0.0, 1.0])\n",
    "# plt.ylim([0.0, 1.05])\n",
    "# plt.xlabel('False Positive Rate')\n",
    "# plt.ylabel('True Positive Rate')\n",
    "\n",
    "# plt.title(\"ROC curve\")\n",
    "# plt.plot([0, 1], [0, 1], color='navy', lw=2, linestyle='--')\n",
    "\n",
    "\n",
    "# for i in models:\n",
    "\n",
    "#     globals()['clf_{}_re_pred'.format(i)] = \\\n",
    "#     globals()['clf_{}_re'.format(i)].predict_proba(x_test)\n",
    "    \n",
    "#     globals()['clf_{}_re_roc'.format(i)]=\\\n",
    "#     globals()['clf_{}_re_pred'.format(i)][:,1]\n",
    "   \n",
    "#     globals()['fpr_{}_re'.format(i)],\\\n",
    "#     globals()['tpr_{}_re'.format(i)], \\\n",
    "#     globals()['_{}'.format(i)] \\\n",
    "#     =roc_curve(y_true=y_test, y_score=globals()['clf_{}_re_roc'.format(i)]) \n",
    "    \n",
    "#     globals()['roc_auc_{}_re'.format(i)] = \\\n",
    "#     auc(globals()['fpr_{}_re'.format(i)], globals()['tpr_{}_re'.format(i)])\n",
    "\n",
    "    \n",
    "#     plt.plot(globals()['fpr_{}_re'.format(i)], globals()['tpr_{}_re'.format(i)]\n",
    "#              , lw=2, label=i+'__ROC curve (area = %0.3f)' %globals()['roc_auc_{}_re'.format(i)])\n",
    "\n",
    "# plt.legend()\n",
    "# plt.show()"
   ]
  },
  {
   "cell_type": "code",
   "execution_count": 51,
   "id": "785740cf",
   "metadata": {},
   "outputs": [
    {
     "data": {
      "image/png": "[encoded data removed]",
      "text/plain": [
       "<Figure size 864x432 with 1 Axes>"
      ]
     },
     "metadata": {
      "needs_background": "light"
     },
     "output_type": "display_data"
    }
   ],
   "source": [
    "train_score = np.zeros((clf_GB_re.n_estimators,), dtype=np.float64)\n",
    "for i, y_pred in enumerate(clf_GB_re.staged_predict(x_train_resample)):\n",
    "    train_score[i] = accuracy_score(y_train_resample, y_pred)\n",
    "\n",
    "test_score = np.zeros((clf_GB_re.n_estimators,), dtype=np.float64)\n",
    "for i, y_pred in enumerate(clf_GB_re.staged_predict(x_test)):\n",
    "    test_score[i] = accuracy_score(y_test, y_pred)\n",
    "    \n",
    "fig = plt.figure(figsize=(12, 6))\n",
    "plt.subplot(1, 1, 1)\n",
    "plt.title('Accuracy') \n",
    "plt.plot(np.arange(clf_GB_re.n_estimators) + 1, train_score, 'b-', label='Training Set Accuracy')\n",
    "plt.plot(np.arange(clf_GB_re.n_estimators) + 1, test_score, 'r-', label='Test Set Accuracy')\n",
    "plt.legend(loc='upper right')\n",
    "plt.xlabel('Boosting Iterations')\n",
    "plt.ylabel('Accuracy')\n",
    "fig.tight_layout()\n",
    "plt.show()"
   ]
  }
 ],
 "metadata": {
  "kernelspec": {
   "display_name": "Python 3 (ipykernel)",
   "language": "python",
   "name": "python3"
  },
  "language_info": {
   "codemirror_mode": {
    "name": "ipython",
    "version": 3
   },
   "file_extension": ".py",
   "mimetype": "text/x-python",
   "name": "python",
   "nbconvert_exporter": "python",
   "pygments_lexer": "ipython3",
   "version": "3.9.12"
  }
 },
 "nbformat": 4,
 "nbformat_minor": 5
}
