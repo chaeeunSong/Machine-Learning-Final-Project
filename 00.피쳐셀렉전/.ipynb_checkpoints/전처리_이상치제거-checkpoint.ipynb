{
 "cells": [
  {
   "cell_type": "code",
   "execution_count": 1,
   "id": "63906115",
   "metadata": {},
   "outputs": [],
   "source": [
    "import copy\n",
    "import datetime\n",
    "import warnings\n",
    "warnings.filterwarnings(action='ignore') \n",
    "\n",
    "import pandas as pd\n",
    "import numpy as np\n",
    "import matplotlib.pyplot as plt\n",
    "\n",
    "from matplotlib import font_manager, rc\n",
    "font_path = \"C:/Windows/Fonts/NGULIM.TTF\"\n",
    "font = font_manager.FontProperties(fname=font_path).get_name()\n",
    "rc('font', family=font)\n",
    "\n",
    "# 시각화\n",
    "import seaborn as sns\n",
    "# 결측치\n",
    "import missingno as msno\n",
    "\n",
    "import sklearn\n",
    "from sklearn.preprocessing import StandardScaler, OneHotEncoder\n",
    "from sklearn import model_selection, linear_model\n",
    "from sklearn.metrics import auc\n",
    "\n",
    "# 파이프라인\n",
    "from sklearn.compose import ColumnTransformer\n",
    "from sklearn.pipeline import Pipeline\n",
    "\n",
    "from sklearn import cluster"
   ]
  },
  {
   "cell_type": "markdown",
   "id": "a6ba32bb",
   "metadata": {},
   "source": [
    "# 데이터 불러오기"
   ]
  },
  {
   "cell_type": "code",
   "execution_count": 2,
   "id": "665f103b",
   "metadata": {},
   "outputs": [
    {
     "data": {
      "text/html": [
       "<div>\n",
       "<style scoped>\n",
       "    .dataframe tbody tr th:only-of-type {\n",
       "        vertical-align: middle;\n",
       "    }\n",
       "\n",
       "    .dataframe tbody tr th {\n",
       "        vertical-align: top;\n",
       "    }\n",
       "\n",
       "    .dataframe thead th {\n",
       "        text-align: right;\n",
       "    }\n",
       "</style>\n",
       "<table border=\"1\" class=\"dataframe\">\n",
       "  <thead>\n",
       "    <tr style=\"text-align: right;\">\n",
       "      <th></th>\n",
       "      <th>고객번호</th>\n",
       "      <th>거주지</th>\n",
       "      <th>연령</th>\n",
       "      <th>가입경로</th>\n",
       "      <th>담당사원</th>\n",
       "      <th>상담횟수</th>\n",
       "      <th>상품코드</th>\n",
       "      <th>총구매횟수</th>\n",
       "      <th>총구매수량</th>\n",
       "      <th>총구매금액</th>\n",
       "      <th>재구매여부</th>\n",
       "    </tr>\n",
       "  </thead>\n",
       "  <tbody>\n",
       "    <tr>\n",
       "      <th>0</th>\n",
       "      <td>960</td>\n",
       "      <td>경상남도</td>\n",
       "      <td>1985-12-20</td>\n",
       "      <td>H</td>\n",
       "      <td>전우영</td>\n",
       "      <td>30</td>\n",
       "      <td>35007</td>\n",
       "      <td>12.0</td>\n",
       "      <td>6</td>\n",
       "      <td>113400</td>\n",
       "      <td>0</td>\n",
       "    </tr>\n",
       "    <tr>\n",
       "      <th>1</th>\n",
       "      <td>1663</td>\n",
       "      <td>광주광역시</td>\n",
       "      <td>1980-02-09</td>\n",
       "      <td>D</td>\n",
       "      <td>정유경</td>\n",
       "      <td>16</td>\n",
       "      <td>35025</td>\n",
       "      <td>8.0</td>\n",
       "      <td>14</td>\n",
       "      <td>367800</td>\n",
       "      <td>1</td>\n",
       "    </tr>\n",
       "    <tr>\n",
       "      <th>2</th>\n",
       "      <td>9371</td>\n",
       "      <td>경상남도</td>\n",
       "      <td>1977-11-05</td>\n",
       "      <td>M</td>\n",
       "      <td>정유경</td>\n",
       "      <td>20</td>\n",
       "      <td>35007</td>\n",
       "      <td>8.0</td>\n",
       "      <td>14</td>\n",
       "      <td>480600</td>\n",
       "      <td>0</td>\n",
       "    </tr>\n",
       "  </tbody>\n",
       "</table>\n",
       "</div>"
      ],
      "text/plain": [
       "   고객번호    거주지         연령 가입경로 담당사원  상담횟수   상품코드  총구매횟수  총구매수량   총구매금액  재구매여부\n",
       "0   960   경상남도 1985-12-20    H  전우영    30  35007   12.0      6  113400      0\n",
       "1  1663  광주광역시 1980-02-09    D  정유경    16  35025    8.0     14  367800      1\n",
       "2  9371   경상남도 1977-11-05    M  정유경    20  35007    8.0     14  480600      0"
      ]
     },
     "execution_count": 2,
     "metadata": {},
     "output_type": "execute_result"
    }
   ],
   "source": [
    "data_df = pd.read_excel('1.all_data(origin).xlsx')\n",
    "data_df.head(3)"
   ]
  },
  {
   "cell_type": "markdown",
   "id": "00ac9bc3",
   "metadata": {},
   "source": [
    "# 데이터 탐색"
   ]
  },
  {
   "cell_type": "code",
   "execution_count": 3,
   "id": "9fa64640",
   "metadata": {},
   "outputs": [
    {
     "name": "stdout",
     "output_type": "stream",
     "text": [
      "<class 'pandas.core.frame.DataFrame'>\n",
      "RangeIndex: 24760 entries, 0 to 24759\n",
      "Data columns (total 11 columns):\n",
      " #   Column  Non-Null Count  Dtype         \n",
      "---  ------  --------------  -----         \n",
      " 0   고객번호    24760 non-null  int64         \n",
      " 1   거주지     24760 non-null  object        \n",
      " 2   연령      24760 non-null  datetime64[ns]\n",
      " 3   가입경로    24760 non-null  object        \n",
      " 4   담당사원    24760 non-null  object        \n",
      " 5   상담횟수    24760 non-null  int64         \n",
      " 6   상품코드    24760 non-null  int64         \n",
      " 7   총구매횟수   24643 non-null  float64       \n",
      " 8   총구매수량   24760 non-null  int64         \n",
      " 9   총구매금액   24760 non-null  int64         \n",
      " 10  재구매여부   24760 non-null  int64         \n",
      "dtypes: datetime64[ns](1), float64(1), int64(6), object(3)\n",
      "memory usage: 2.1+ MB\n"
     ]
    }
   ],
   "source": [
    "# 총 24280 데이터 중 결측치 확인\n",
    "#지역, 연령, 담당직원, 재구매일, 총구매횟수, 할인율, 사용포인트, 잔여포인트 결측치 확인\n",
    "data_df.info()"
   ]
  },
  {
   "cell_type": "code",
   "execution_count": 4,
   "id": "67574f6e",
   "metadata": {},
   "outputs": [
    {
     "data": {
      "image/png": "[encoded data removed]",
      "text/plain": [
       "<Figure size 1296x576 with 2 Axes>"
      ]
     },
     "metadata": {
      "needs_background": "light"
     },
     "output_type": "display_data"
    }
   ],
   "source": [
    "f, ax = plt.subplots(1,2,figsize=(18,8))\n",
    "data_df['재구매여부'].value_counts()\\\n",
    ".plot.pie(explode = [0,0.1], autopct = '%1.1f%%', ax=ax[0])\n",
    "\n",
    "ax[0].set_title('재구매여부')\n",
    "ax[0].set_ylabel('')\n",
    "\n",
    "sns.countplot('재구매여부', data = data_df, ax = ax[1])\n",
    "ax[1].set_title('재구매여부')\n",
    "plt.show()"
   ]
  },
  {
   "cell_type": "code",
   "execution_count": 5,
   "id": "320ca15c",
   "metadata": {},
   "outputs": [],
   "source": [
    "# f, ax = plt.subplots(1,2,figsize=(18,8))\n",
    "# msno.heatmap(data_df,ax=ax[0])\n",
    "# ax[0].set_title('결측치 히트맵')\n",
    "\n",
    "# msno.matrix(data_df,ax=ax[1])\n",
    "# ax[1].set_title('결측치 매트릭스')"
   ]
  },
  {
   "cell_type": "markdown",
   "id": "aa5a9daa",
   "metadata": {},
   "source": [
    "# 결측치 핸들링"
   ]
  },
  {
   "cell_type": "markdown",
   "id": "4f5cb550",
   "metadata": {},
   "source": [
    "## 고객번호, 사용포인트 삭제\n",
    "- 필요없는정보이므로 삭제"
   ]
  },
  {
   "cell_type": "code",
   "execution_count": 6,
   "id": "992bf27d",
   "metadata": {},
   "outputs": [],
   "source": [
    "del data_df['고객번호']"
   ]
  },
  {
   "cell_type": "code",
   "execution_count": 7,
   "id": "c807387d",
   "metadata": {},
   "outputs": [
    {
     "data": {
      "text/html": [
       "<div>\n",
       "<style scoped>\n",
       "    .dataframe tbody tr th:only-of-type {\n",
       "        vertical-align: middle;\n",
       "    }\n",
       "\n",
       "    .dataframe tbody tr th {\n",
       "        vertical-align: top;\n",
       "    }\n",
       "\n",
       "    .dataframe thead th {\n",
       "        text-align: right;\n",
       "    }\n",
       "</style>\n",
       "<table border=\"1\" class=\"dataframe\">\n",
       "  <thead>\n",
       "    <tr style=\"text-align: right;\">\n",
       "      <th></th>\n",
       "      <th>거주지</th>\n",
       "      <th>연령</th>\n",
       "      <th>가입경로</th>\n",
       "      <th>담당사원</th>\n",
       "      <th>상담횟수</th>\n",
       "      <th>상품코드</th>\n",
       "      <th>총구매횟수</th>\n",
       "      <th>총구매수량</th>\n",
       "      <th>총구매금액</th>\n",
       "      <th>재구매여부</th>\n",
       "    </tr>\n",
       "  </thead>\n",
       "  <tbody>\n",
       "    <tr>\n",
       "      <th>0</th>\n",
       "      <td>경상남도</td>\n",
       "      <td>1985-12-20</td>\n",
       "      <td>H</td>\n",
       "      <td>전우영</td>\n",
       "      <td>30</td>\n",
       "      <td>35007</td>\n",
       "      <td>12.0</td>\n",
       "      <td>6</td>\n",
       "      <td>113400</td>\n",
       "      <td>0</td>\n",
       "    </tr>\n",
       "    <tr>\n",
       "      <th>1</th>\n",
       "      <td>광주광역시</td>\n",
       "      <td>1980-02-09</td>\n",
       "      <td>D</td>\n",
       "      <td>정유경</td>\n",
       "      <td>16</td>\n",
       "      <td>35025</td>\n",
       "      <td>8.0</td>\n",
       "      <td>14</td>\n",
       "      <td>367800</td>\n",
       "      <td>1</td>\n",
       "    </tr>\n",
       "    <tr>\n",
       "      <th>2</th>\n",
       "      <td>경상남도</td>\n",
       "      <td>1977-11-05</td>\n",
       "      <td>M</td>\n",
       "      <td>정유경</td>\n",
       "      <td>20</td>\n",
       "      <td>35007</td>\n",
       "      <td>8.0</td>\n",
       "      <td>14</td>\n",
       "      <td>480600</td>\n",
       "      <td>0</td>\n",
       "    </tr>\n",
       "    <tr>\n",
       "      <th>3</th>\n",
       "      <td>부산광역시</td>\n",
       "      <td>1983-07-10</td>\n",
       "      <td>M</td>\n",
       "      <td>이선영</td>\n",
       "      <td>4</td>\n",
       "      <td>35023</td>\n",
       "      <td>8.0</td>\n",
       "      <td>14</td>\n",
       "      <td>358000</td>\n",
       "      <td>0</td>\n",
       "    </tr>\n",
       "    <tr>\n",
       "      <th>4</th>\n",
       "      <td>전라북도</td>\n",
       "      <td>1982-12-21</td>\n",
       "      <td>M</td>\n",
       "      <td>이선영</td>\n",
       "      <td>6</td>\n",
       "      <td>35027</td>\n",
       "      <td>4.0</td>\n",
       "      <td>2</td>\n",
       "      <td>55000</td>\n",
       "      <td>1</td>\n",
       "    </tr>\n",
       "  </tbody>\n",
       "</table>\n",
       "</div>"
      ],
      "text/plain": [
       "     거주지         연령 가입경로 담당사원  상담횟수   상품코드  총구매횟수  총구매수량   총구매금액  재구매여부\n",
       "0   경상남도 1985-12-20    H  전우영    30  35007   12.0      6  113400      0\n",
       "1  광주광역시 1980-02-09    D  정유경    16  35025    8.0     14  367800      1\n",
       "2   경상남도 1977-11-05    M  정유경    20  35007    8.0     14  480600      0\n",
       "3  부산광역시 1983-07-10    M  이선영     4  35023    8.0     14  358000      0\n",
       "4   전라북도 1982-12-21    M  이선영     6  35027    4.0      2   55000      1"
      ]
     },
     "execution_count": 7,
     "metadata": {},
     "output_type": "execute_result"
    }
   ],
   "source": [
    "data_df.head()"
   ]
  },
  {
   "cell_type": "code",
   "execution_count": 8,
   "id": "ce6c4a83",
   "metadata": {},
   "outputs": [
    {
     "data": {
      "text/plain": [
       "Text(0.5, 1.0, '결측치 매트릭스')"
      ]
     },
     "execution_count": 8,
     "metadata": {},
     "output_type": "execute_result"
    },
    {
     "data": {
      "image/png": "[encoded data removed]",
      "text/plain": [
       "<Figure size 1296x576 with 3 Axes>"
      ]
     },
     "metadata": {
      "needs_background": "light"
     },
     "output_type": "display_data"
    }
   ],
   "source": [
    "f, ax = plt.subplots(1,2,figsize=(18,8))\n",
    "msno.heatmap(data_df,ax=ax[0])\n",
    "ax[0].set_title('결측치 히트맵')\n",
    "\n",
    "msno.matrix(data_df,ax=ax[1])\n",
    "ax[1].set_title('결측치 매트릭스')"
   ]
  },
  {
   "cell_type": "markdown",
   "id": "cbf0d0e9",
   "metadata": {},
   "source": [
    "## 지역 열\n",
    "- 전체데이터 24325 행중 24행에 해당 전체데이터의 약 0.2퍼센트 해당 삭제 처리"
   ]
  },
  {
   "cell_type": "code",
   "execution_count": 9,
   "id": "70a5a856",
   "metadata": {},
   "outputs": [
    {
     "data": {
      "text/plain": [
       "경기도        6933\n",
       "서울특별시      3111\n",
       "부산광역시      1690\n",
       "경상남도       1670\n",
       "인천광역시      1590\n",
       "경상북도       1465\n",
       "대구광역시      1223\n",
       "충청남도       1155\n",
       "충청북도        847\n",
       "전라북도        819\n",
       "전라남도        812\n",
       "대전광역시       796\n",
       "광주광역시       771\n",
       "울산광역시       683\n",
       "강원도         637\n",
       "제주특별자치도     301\n",
       "세종특별자치시     228\n",
       "없음           29\n",
       "Name: 거주지, dtype: int64"
      ]
     },
     "execution_count": 9,
     "metadata": {},
     "output_type": "execute_result"
    }
   ],
   "source": [
    "data_df[\"거주지\"].value_counts()"
   ]
  },
  {
   "cell_type": "code",
   "execution_count": 10,
   "id": "e243e3e8",
   "metadata": {},
   "outputs": [
    {
     "data": {
      "text/plain": [
       "거주지      29\n",
       "연령       29\n",
       "가입경로     29\n",
       "담당사원     29\n",
       "상담횟수     29\n",
       "상품코드     29\n",
       "총구매횟수    29\n",
       "총구매수량    29\n",
       "총구매금액    29\n",
       "재구매여부    29\n",
       "dtype: int64"
      ]
     },
     "execution_count": 10,
     "metadata": {},
     "output_type": "execute_result"
    }
   ],
   "source": [
    "data_df[data_df[\"거주지\"] == \"없음\"].count()"
   ]
  },
  {
   "cell_type": "code",
   "execution_count": 11,
   "id": "ccbbc20a",
   "metadata": {},
   "outputs": [
    {
     "data": {
      "text/plain": [
       "거주지      0\n",
       "연령       0\n",
       "가입경로     0\n",
       "담당사원     0\n",
       "상담횟수     0\n",
       "상품코드     0\n",
       "총구매횟수    0\n",
       "총구매수량    0\n",
       "총구매금액    0\n",
       "재구매여부    0\n",
       "dtype: int64"
      ]
     },
     "execution_count": 11,
     "metadata": {},
     "output_type": "execute_result"
    }
   ],
   "source": [
    "data_df[data_df[\"거주지\"].isnull()].count()"
   ]
  },
  {
   "cell_type": "code",
   "execution_count": 12,
   "id": "517bc46d",
   "metadata": {},
   "outputs": [],
   "source": [
    "data_df_del_add = data_df[data_df[\"거주지\"] != \"없음\"]"
   ]
  },
  {
   "cell_type": "code",
   "execution_count": 13,
   "id": "c4e0dfcd",
   "metadata": {},
   "outputs": [],
   "source": [
    "data_df_del_add = data_df_del_add[data_df_del_add[\"거주지\"].notnull()]"
   ]
  },
  {
   "cell_type": "code",
   "execution_count": 14,
   "id": "4183e50e",
   "metadata": {},
   "outputs": [
    {
     "data": {
      "text/plain": [
       "False    24731\n",
       "Name: 거주지, dtype: int64"
      ]
     },
     "execution_count": 14,
     "metadata": {},
     "output_type": "execute_result"
    }
   ],
   "source": [
    "data_df_del_add[\"거주지\"].isnull().value_counts()"
   ]
  },
  {
   "cell_type": "code",
   "execution_count": 15,
   "id": "cc386a08",
   "metadata": {},
   "outputs": [
    {
     "data": {
      "text/plain": [
       "거주지      0\n",
       "연령       0\n",
       "가입경로     0\n",
       "담당사원     0\n",
       "상담횟수     0\n",
       "상품코드     0\n",
       "총구매횟수    0\n",
       "총구매수량    0\n",
       "총구매금액    0\n",
       "재구매여부    0\n",
       "dtype: int64"
      ]
     },
     "execution_count": 15,
     "metadata": {},
     "output_type": "execute_result"
    }
   ],
   "source": [
    "data_df_del_add[data_df_del_add[\"거주지\"]==\"없음\"].count()"
   ]
  },
  {
   "cell_type": "code",
   "execution_count": 16,
   "id": "b63f99c6",
   "metadata": {},
   "outputs": [
    {
     "name": "stdout",
     "output_type": "stream",
     "text": [
      "<class 'pandas.core.frame.DataFrame'>\n",
      "Int64Index: 24731 entries, 0 to 24759\n",
      "Data columns (total 10 columns):\n",
      " #   Column  Non-Null Count  Dtype         \n",
      "---  ------  --------------  -----         \n",
      " 0   거주지     24731 non-null  object        \n",
      " 1   연령      24731 non-null  datetime64[ns]\n",
      " 2   가입경로    24731 non-null  object        \n",
      " 3   담당사원    24731 non-null  object        \n",
      " 4   상담횟수    24731 non-null  int64         \n",
      " 5   상품코드    24731 non-null  int64         \n",
      " 6   총구매횟수   24614 non-null  float64       \n",
      " 7   총구매수량   24731 non-null  int64         \n",
      " 8   총구매금액   24731 non-null  int64         \n",
      " 9   재구매여부   24731 non-null  int64         \n",
      "dtypes: datetime64[ns](1), float64(1), int64(5), object(3)\n",
      "memory usage: 2.1+ MB\n"
     ]
    }
   ],
   "source": [
    "data_df_del_add.info()"
   ]
  },
  {
   "cell_type": "code",
   "execution_count": 17,
   "id": "f2b36aeb",
   "metadata": {},
   "outputs": [],
   "source": [
    "data_df_temp = data_df_del_add.copy()"
   ]
  },
  {
   "cell_type": "markdown",
   "id": "90c28621",
   "metadata": {},
   "source": [
    "## 연령 열\n",
    "- 현재 생년월일로 표현된 컬럼의 밸류를 년도로 바꾸고, k-means 알고리즘을 적용하여 군집화 확인 후 평균값 적용"
   ]
  },
  {
   "cell_type": "markdown",
   "id": "733e2588",
   "metadata": {},
   "source": [
    "### 나이/생일 열의 평균치 구하기"
   ]
  },
  {
   "cell_type": "code",
   "execution_count": 18,
   "id": "ae384b1f",
   "metadata": {},
   "outputs": [
    {
     "data": {
      "text/plain": [
       "False    24731\n",
       "Name: 연령, dtype: int64"
      ]
     },
     "execution_count": 18,
     "metadata": {},
     "output_type": "execute_result"
    }
   ],
   "source": [
    "data_df_temp['연령'].isnull().value_counts()"
   ]
  },
  {
   "cell_type": "code",
   "execution_count": 19,
   "id": "95f8b61e",
   "metadata": {},
   "outputs": [],
   "source": [
    "#나이/생일 열의 평균치를 구하기 위하여 결측,이상치를 제거한 임시 데이터 프래임을 생성한다.\n",
    "data_df_birth = data_df_temp[data_df_temp[\"연령\"].notnull()]\n",
    "data_df_birth = data_df_birth[data_df_temp[\"연령\"]!=0]\n",
    "data_df_birth = data_df_birth[data_df_temp[\"연령\"]!=\"0000-00-00\"]\n",
    "data_df_birth = data_df_birth[data_df_temp[\"연령\"]!=\"1111-11-11\"]\n",
    "data_df_birth = data_df_birth[data_df_temp[\"연령\"]!=\"1700-01-01\"]"
   ]
  },
  {
   "cell_type": "code",
   "execution_count": 20,
   "id": "30937473",
   "metadata": {},
   "outputs": [
    {
     "data": {
      "text/html": [
       "<div>\n",
       "<style scoped>\n",
       "    .dataframe tbody tr th:only-of-type {\n",
       "        vertical-align: middle;\n",
       "    }\n",
       "\n",
       "    .dataframe tbody tr th {\n",
       "        vertical-align: top;\n",
       "    }\n",
       "\n",
       "    .dataframe thead th {\n",
       "        text-align: right;\n",
       "    }\n",
       "</style>\n",
       "<table border=\"1\" class=\"dataframe\">\n",
       "  <thead>\n",
       "    <tr style=\"text-align: right;\">\n",
       "      <th></th>\n",
       "      <th>거주지</th>\n",
       "      <th>연령</th>\n",
       "      <th>가입경로</th>\n",
       "      <th>담당사원</th>\n",
       "      <th>상담횟수</th>\n",
       "      <th>상품코드</th>\n",
       "      <th>총구매횟수</th>\n",
       "      <th>총구매수량</th>\n",
       "      <th>총구매금액</th>\n",
       "      <th>재구매여부</th>\n",
       "    </tr>\n",
       "  </thead>\n",
       "  <tbody>\n",
       "    <tr>\n",
       "      <th>0</th>\n",
       "      <td>경상남도</td>\n",
       "      <td>1985-12-20</td>\n",
       "      <td>H</td>\n",
       "      <td>전우영</td>\n",
       "      <td>30</td>\n",
       "      <td>35007</td>\n",
       "      <td>12.0</td>\n",
       "      <td>6</td>\n",
       "      <td>113400</td>\n",
       "      <td>0</td>\n",
       "    </tr>\n",
       "    <tr>\n",
       "      <th>1</th>\n",
       "      <td>광주광역시</td>\n",
       "      <td>1980-02-09</td>\n",
       "      <td>D</td>\n",
       "      <td>정유경</td>\n",
       "      <td>16</td>\n",
       "      <td>35025</td>\n",
       "      <td>8.0</td>\n",
       "      <td>14</td>\n",
       "      <td>367800</td>\n",
       "      <td>1</td>\n",
       "    </tr>\n",
       "    <tr>\n",
       "      <th>2</th>\n",
       "      <td>경상남도</td>\n",
       "      <td>1977-11-05</td>\n",
       "      <td>M</td>\n",
       "      <td>정유경</td>\n",
       "      <td>20</td>\n",
       "      <td>35007</td>\n",
       "      <td>8.0</td>\n",
       "      <td>14</td>\n",
       "      <td>480600</td>\n",
       "      <td>0</td>\n",
       "    </tr>\n",
       "    <tr>\n",
       "      <th>3</th>\n",
       "      <td>부산광역시</td>\n",
       "      <td>1983-07-10</td>\n",
       "      <td>M</td>\n",
       "      <td>이선영</td>\n",
       "      <td>4</td>\n",
       "      <td>35023</td>\n",
       "      <td>8.0</td>\n",
       "      <td>14</td>\n",
       "      <td>358000</td>\n",
       "      <td>0</td>\n",
       "    </tr>\n",
       "    <tr>\n",
       "      <th>4</th>\n",
       "      <td>전라북도</td>\n",
       "      <td>1982-12-21</td>\n",
       "      <td>M</td>\n",
       "      <td>이선영</td>\n",
       "      <td>6</td>\n",
       "      <td>35027</td>\n",
       "      <td>4.0</td>\n",
       "      <td>2</td>\n",
       "      <td>55000</td>\n",
       "      <td>1</td>\n",
       "    </tr>\n",
       "    <tr>\n",
       "      <th>...</th>\n",
       "      <td>...</td>\n",
       "      <td>...</td>\n",
       "      <td>...</td>\n",
       "      <td>...</td>\n",
       "      <td>...</td>\n",
       "      <td>...</td>\n",
       "      <td>...</td>\n",
       "      <td>...</td>\n",
       "      <td>...</td>\n",
       "      <td>...</td>\n",
       "    </tr>\n",
       "    <tr>\n",
       "      <th>24726</th>\n",
       "      <td>광주광역시</td>\n",
       "      <td>1985-01-30</td>\n",
       "      <td>H</td>\n",
       "      <td>정유경</td>\n",
       "      <td>1653</td>\n",
       "      <td>56001</td>\n",
       "      <td>1479.0</td>\n",
       "      <td>1163</td>\n",
       "      <td>7180100</td>\n",
       "      <td>0</td>\n",
       "    </tr>\n",
       "    <tr>\n",
       "      <th>24727</th>\n",
       "      <td>경기도</td>\n",
       "      <td>2022-04-04</td>\n",
       "      <td>H</td>\n",
       "      <td>박애신</td>\n",
       "      <td>40</td>\n",
       "      <td>27001</td>\n",
       "      <td>24.0</td>\n",
       "      <td>16</td>\n",
       "      <td>486400</td>\n",
       "      <td>0</td>\n",
       "    </tr>\n",
       "    <tr>\n",
       "      <th>24728</th>\n",
       "      <td>경상남도</td>\n",
       "      <td>2022-04-12</td>\n",
       "      <td>H</td>\n",
       "      <td>박애신</td>\n",
       "      <td>27</td>\n",
       "      <td>19001</td>\n",
       "      <td>27.0</td>\n",
       "      <td>75</td>\n",
       "      <td>903300</td>\n",
       "      <td>1</td>\n",
       "    </tr>\n",
       "    <tr>\n",
       "      <th>24729</th>\n",
       "      <td>충청북도</td>\n",
       "      <td>2022-04-15</td>\n",
       "      <td>E</td>\n",
       "      <td>박애신</td>\n",
       "      <td>2</td>\n",
       "      <td>27001</td>\n",
       "      <td>2.0</td>\n",
       "      <td>8</td>\n",
       "      <td>243200</td>\n",
       "      <td>1</td>\n",
       "    </tr>\n",
       "    <tr>\n",
       "      <th>24730</th>\n",
       "      <td>전라북도</td>\n",
       "      <td>2022-04-28</td>\n",
       "      <td>Q</td>\n",
       "      <td>박애신</td>\n",
       "      <td>7</td>\n",
       "      <td>27001</td>\n",
       "      <td>3.0</td>\n",
       "      <td>15</td>\n",
       "      <td>224100</td>\n",
       "      <td>0</td>\n",
       "    </tr>\n",
       "  </tbody>\n",
       "</table>\n",
       "<p>24731 rows × 10 columns</p>\n",
       "</div>"
      ],
      "text/plain": [
       "         거주지         연령 가입경로 담당사원  상담횟수   상품코드   총구매횟수  총구매수량    총구매금액  재구매여부\n",
       "0       경상남도 1985-12-20    H  전우영    30  35007    12.0      6   113400      0\n",
       "1      광주광역시 1980-02-09    D  정유경    16  35025     8.0     14   367800      1\n",
       "2       경상남도 1977-11-05    M  정유경    20  35007     8.0     14   480600      0\n",
       "3      부산광역시 1983-07-10    M  이선영     4  35023     8.0     14   358000      0\n",
       "4       전라북도 1982-12-21    M  이선영     6  35027     4.0      2    55000      1\n",
       "...      ...        ...  ...  ...   ...    ...     ...    ...      ...    ...\n",
       "24726  광주광역시 1985-01-30    H  정유경  1653  56001  1479.0   1163  7180100      0\n",
       "24727    경기도 2022-04-04    H  박애신    40  27001    24.0     16   486400      0\n",
       "24728   경상남도 2022-04-12    H  박애신    27  19001    27.0     75   903300      1\n",
       "24729   충청북도 2022-04-15    E  박애신     2  27001     2.0      8   243200      1\n",
       "24730   전라북도 2022-04-28    Q  박애신     7  27001     3.0     15   224100      0\n",
       "\n",
       "[24731 rows x 10 columns]"
      ]
     },
     "execution_count": 20,
     "metadata": {},
     "output_type": "execute_result"
    }
   ],
   "source": [
    "data_df_birth = data_df_birth.reset_index()\n",
    "del data_df_birth[\"index\"]\n",
    "data_df_birth"
   ]
  },
  {
   "cell_type": "code",
   "execution_count": 21,
   "id": "c3ad8acf",
   "metadata": {},
   "outputs": [
    {
     "name": "stdout",
     "output_type": "stream",
     "text": [
      "<class 'pandas.core.frame.DataFrame'>\n",
      "RangeIndex: 24731 entries, 0 to 24730\n",
      "Data columns (total 10 columns):\n",
      " #   Column  Non-Null Count  Dtype         \n",
      "---  ------  --------------  -----         \n",
      " 0   거주지     24731 non-null  object        \n",
      " 1   연령      24731 non-null  datetime64[ns]\n",
      " 2   가입경로    24731 non-null  object        \n",
      " 3   담당사원    24731 non-null  object        \n",
      " 4   상담횟수    24731 non-null  int64         \n",
      " 5   상품코드    24731 non-null  int64         \n",
      " 6   총구매횟수   24614 non-null  float64       \n",
      " 7   총구매수량   24731 non-null  int64         \n",
      " 8   총구매금액   24731 non-null  int64         \n",
      " 9   재구매여부   24731 non-null  int64         \n",
      "dtypes: datetime64[ns](1), float64(1), int64(5), object(3)\n",
      "memory usage: 1.9+ MB\n"
     ]
    }
   ],
   "source": [
    "data_df_birth.info()"
   ]
  },
  {
   "cell_type": "code",
   "execution_count": 22,
   "id": "7648423c",
   "metadata": {},
   "outputs": [
    {
     "data": {
      "text/html": [
       "<div>\n",
       "<style scoped>\n",
       "    .dataframe tbody tr th:only-of-type {\n",
       "        vertical-align: middle;\n",
       "    }\n",
       "\n",
       "    .dataframe tbody tr th {\n",
       "        vertical-align: top;\n",
       "    }\n",
       "\n",
       "    .dataframe thead th {\n",
       "        text-align: right;\n",
       "    }\n",
       "</style>\n",
       "<table border=\"1\" class=\"dataframe\">\n",
       "  <thead>\n",
       "    <tr style=\"text-align: right;\">\n",
       "      <th></th>\n",
       "      <th>거주지</th>\n",
       "      <th>연령</th>\n",
       "      <th>가입경로</th>\n",
       "      <th>담당사원</th>\n",
       "      <th>상담횟수</th>\n",
       "      <th>상품코드</th>\n",
       "      <th>총구매횟수</th>\n",
       "      <th>총구매수량</th>\n",
       "      <th>총구매금액</th>\n",
       "      <th>재구매여부</th>\n",
       "    </tr>\n",
       "  </thead>\n",
       "  <tbody>\n",
       "    <tr>\n",
       "      <th>0</th>\n",
       "      <td>경상남도</td>\n",
       "      <td>1985-12-20</td>\n",
       "      <td>H</td>\n",
       "      <td>전우영</td>\n",
       "      <td>30</td>\n",
       "      <td>35007</td>\n",
       "      <td>12.0</td>\n",
       "      <td>6</td>\n",
       "      <td>113400</td>\n",
       "      <td>0</td>\n",
       "    </tr>\n",
       "    <tr>\n",
       "      <th>1</th>\n",
       "      <td>광주광역시</td>\n",
       "      <td>1980-02-09</td>\n",
       "      <td>D</td>\n",
       "      <td>정유경</td>\n",
       "      <td>16</td>\n",
       "      <td>35025</td>\n",
       "      <td>8.0</td>\n",
       "      <td>14</td>\n",
       "      <td>367800</td>\n",
       "      <td>1</td>\n",
       "    </tr>\n",
       "    <tr>\n",
       "      <th>2</th>\n",
       "      <td>경상남도</td>\n",
       "      <td>1977-11-05</td>\n",
       "      <td>M</td>\n",
       "      <td>정유경</td>\n",
       "      <td>20</td>\n",
       "      <td>35007</td>\n",
       "      <td>8.0</td>\n",
       "      <td>14</td>\n",
       "      <td>480600</td>\n",
       "      <td>0</td>\n",
       "    </tr>\n",
       "    <tr>\n",
       "      <th>3</th>\n",
       "      <td>부산광역시</td>\n",
       "      <td>1983-07-10</td>\n",
       "      <td>M</td>\n",
       "      <td>이선영</td>\n",
       "      <td>4</td>\n",
       "      <td>35023</td>\n",
       "      <td>8.0</td>\n",
       "      <td>14</td>\n",
       "      <td>358000</td>\n",
       "      <td>0</td>\n",
       "    </tr>\n",
       "    <tr>\n",
       "      <th>4</th>\n",
       "      <td>전라북도</td>\n",
       "      <td>1982-12-21</td>\n",
       "      <td>M</td>\n",
       "      <td>이선영</td>\n",
       "      <td>6</td>\n",
       "      <td>35027</td>\n",
       "      <td>4.0</td>\n",
       "      <td>2</td>\n",
       "      <td>55000</td>\n",
       "      <td>1</td>\n",
       "    </tr>\n",
       "  </tbody>\n",
       "</table>\n",
       "</div>"
      ],
      "text/plain": [
       "     거주지         연령 가입경로 담당사원  상담횟수   상품코드  총구매횟수  총구매수량   총구매금액  재구매여부\n",
       "0   경상남도 1985-12-20    H  전우영    30  35007   12.0      6  113400      0\n",
       "1  광주광역시 1980-02-09    D  정유경    16  35025    8.0     14  367800      1\n",
       "2   경상남도 1977-11-05    M  정유경    20  35007    8.0     14  480600      0\n",
       "3  부산광역시 1983-07-10    M  이선영     4  35023    8.0     14  358000      0\n",
       "4   전라북도 1982-12-21    M  이선영     6  35027    4.0      2   55000      1"
      ]
     },
     "execution_count": 22,
     "metadata": {},
     "output_type": "execute_result"
    }
   ],
   "source": [
    "# datetime 형태로 변환\n",
    "data_df_birth['연령'] = pd.to_datetime(data_df_birth['연령'])\n",
    "data_df_birth.head()"
   ]
  },
  {
   "cell_type": "code",
   "execution_count": 23,
   "id": "8df6633d",
   "metadata": {},
   "outputs": [],
   "source": [
    "data_df_birth['연령_연도'] = data_df_birth['연령'].dt.year"
   ]
  },
  {
   "cell_type": "code",
   "execution_count": 24,
   "id": "446a440f",
   "metadata": {},
   "outputs": [
    {
     "data": {
      "text/plain": [
       "Int64Index([18901, 21770, 21779, 24227, 24228, 24233, 24234, 24236, 24237,\n",
       "            24238,\n",
       "            ...\n",
       "            24715, 24717, 24719, 24722, 24723, 24725, 24727, 24728, 24729,\n",
       "            24730],\n",
       "           dtype='int64', length=387)"
      ]
     },
     "execution_count": 24,
     "metadata": {},
     "output_type": "execute_result"
    }
   ],
   "source": [
    "# 평균값을 내기 위해 너프하게 미성년자에 해당하는 이상치 제거\n",
    "data_df_birth_del = data_df_birth[data_df_birth['연령'].dt.year > 2002].index\n",
    "data_df_birth_del"
   ]
  },
  {
   "cell_type": "code",
   "execution_count": 25,
   "id": "753eb381",
   "metadata": {},
   "outputs": [
    {
     "data": {
      "text/html": [
       "<div>\n",
       "<style scoped>\n",
       "    .dataframe tbody tr th:only-of-type {\n",
       "        vertical-align: middle;\n",
       "    }\n",
       "\n",
       "    .dataframe tbody tr th {\n",
       "        vertical-align: top;\n",
       "    }\n",
       "\n",
       "    .dataframe thead th {\n",
       "        text-align: right;\n",
       "    }\n",
       "</style>\n",
       "<table border=\"1\" class=\"dataframe\">\n",
       "  <thead>\n",
       "    <tr style=\"text-align: right;\">\n",
       "      <th></th>\n",
       "      <th>거주지</th>\n",
       "      <th>연령</th>\n",
       "      <th>가입경로</th>\n",
       "      <th>담당사원</th>\n",
       "      <th>상담횟수</th>\n",
       "      <th>상품코드</th>\n",
       "      <th>총구매횟수</th>\n",
       "      <th>총구매수량</th>\n",
       "      <th>총구매금액</th>\n",
       "      <th>재구매여부</th>\n",
       "      <th>연령_연도</th>\n",
       "    </tr>\n",
       "  </thead>\n",
       "  <tbody>\n",
       "    <tr>\n",
       "      <th>0</th>\n",
       "      <td>경상남도</td>\n",
       "      <td>1985-12-20</td>\n",
       "      <td>H</td>\n",
       "      <td>전우영</td>\n",
       "      <td>30</td>\n",
       "      <td>35007</td>\n",
       "      <td>12.0</td>\n",
       "      <td>6</td>\n",
       "      <td>113400</td>\n",
       "      <td>0</td>\n",
       "      <td>1985</td>\n",
       "    </tr>\n",
       "    <tr>\n",
       "      <th>1</th>\n",
       "      <td>광주광역시</td>\n",
       "      <td>1980-02-09</td>\n",
       "      <td>D</td>\n",
       "      <td>정유경</td>\n",
       "      <td>16</td>\n",
       "      <td>35025</td>\n",
       "      <td>8.0</td>\n",
       "      <td>14</td>\n",
       "      <td>367800</td>\n",
       "      <td>1</td>\n",
       "      <td>1980</td>\n",
       "    </tr>\n",
       "    <tr>\n",
       "      <th>2</th>\n",
       "      <td>경상남도</td>\n",
       "      <td>1977-11-05</td>\n",
       "      <td>M</td>\n",
       "      <td>정유경</td>\n",
       "      <td>20</td>\n",
       "      <td>35007</td>\n",
       "      <td>8.0</td>\n",
       "      <td>14</td>\n",
       "      <td>480600</td>\n",
       "      <td>0</td>\n",
       "      <td>1977</td>\n",
       "    </tr>\n",
       "    <tr>\n",
       "      <th>3</th>\n",
       "      <td>부산광역시</td>\n",
       "      <td>1983-07-10</td>\n",
       "      <td>M</td>\n",
       "      <td>이선영</td>\n",
       "      <td>4</td>\n",
       "      <td>35023</td>\n",
       "      <td>8.0</td>\n",
       "      <td>14</td>\n",
       "      <td>358000</td>\n",
       "      <td>0</td>\n",
       "      <td>1983</td>\n",
       "    </tr>\n",
       "    <tr>\n",
       "      <th>4</th>\n",
       "      <td>전라북도</td>\n",
       "      <td>1982-12-21</td>\n",
       "      <td>M</td>\n",
       "      <td>이선영</td>\n",
       "      <td>6</td>\n",
       "      <td>35027</td>\n",
       "      <td>4.0</td>\n",
       "      <td>2</td>\n",
       "      <td>55000</td>\n",
       "      <td>1</td>\n",
       "      <td>1982</td>\n",
       "    </tr>\n",
       "  </tbody>\n",
       "</table>\n",
       "</div>"
      ],
      "text/plain": [
       "     거주지         연령 가입경로 담당사원  상담횟수   상품코드  총구매횟수  총구매수량   총구매금액  재구매여부  연령_연도\n",
       "0   경상남도 1985-12-20    H  전우영    30  35007   12.0      6  113400      0   1985\n",
       "1  광주광역시 1980-02-09    D  정유경    16  35025    8.0     14  367800      1   1980\n",
       "2   경상남도 1977-11-05    M  정유경    20  35007    8.0     14  480600      0   1977\n",
       "3  부산광역시 1983-07-10    M  이선영     4  35023    8.0     14  358000      0   1983\n",
       "4   전라북도 1982-12-21    M  이선영     6  35027    4.0      2   55000      1   1982"
      ]
     },
     "execution_count": 25,
     "metadata": {},
     "output_type": "execute_result"
    }
   ],
   "source": [
    "data_df_birth.drop(data_df_birth_del, axis='index', inplace=True)\n",
    "data_df_birth.head()"
   ]
  },
  {
   "cell_type": "code",
   "execution_count": 26,
   "id": "f604e12e",
   "metadata": {},
   "outputs": [],
   "source": [
    "# a = data_df_birth[data_df_birth['재구매여부'] == 1]\n",
    "# a['연령_연도'].value_counts().plot(kind='bar')"
   ]
  },
  {
   "cell_type": "code",
   "execution_count": 27,
   "id": "2a05e39a",
   "metadata": {},
   "outputs": [],
   "source": [
    "data_df_birth = data_df_birth.reset_index()"
   ]
  },
  {
   "cell_type": "code",
   "execution_count": 28,
   "id": "33676af4",
   "metadata": {},
   "outputs": [
    {
     "data": {
      "text/html": [
       "<div>\n",
       "<style scoped>\n",
       "    .dataframe tbody tr th:only-of-type {\n",
       "        vertical-align: middle;\n",
       "    }\n",
       "\n",
       "    .dataframe tbody tr th {\n",
       "        vertical-align: top;\n",
       "    }\n",
       "\n",
       "    .dataframe thead th {\n",
       "        text-align: right;\n",
       "    }\n",
       "</style>\n",
       "<table border=\"1\" class=\"dataframe\">\n",
       "  <thead>\n",
       "    <tr style=\"text-align: right;\">\n",
       "      <th></th>\n",
       "      <th>연령_연도</th>\n",
       "    </tr>\n",
       "  </thead>\n",
       "  <tbody>\n",
       "    <tr>\n",
       "      <th>count</th>\n",
       "      <td>24344.000000</td>\n",
       "    </tr>\n",
       "    <tr>\n",
       "      <th>mean</th>\n",
       "      <td>1987.931770</td>\n",
       "    </tr>\n",
       "    <tr>\n",
       "      <th>std</th>\n",
       "      <td>2.531011</td>\n",
       "    </tr>\n",
       "    <tr>\n",
       "      <th>min</th>\n",
       "      <td>1943.000000</td>\n",
       "    </tr>\n",
       "    <tr>\n",
       "      <th>25%</th>\n",
       "      <td>1988.000000</td>\n",
       "    </tr>\n",
       "    <tr>\n",
       "      <th>50%</th>\n",
       "      <td>1988.000000</td>\n",
       "    </tr>\n",
       "    <tr>\n",
       "      <th>75%</th>\n",
       "      <td>1988.000000</td>\n",
       "    </tr>\n",
       "    <tr>\n",
       "      <th>max</th>\n",
       "      <td>2002.000000</td>\n",
       "    </tr>\n",
       "  </tbody>\n",
       "</table>\n",
       "</div>"
      ],
      "text/plain": [
       "              연령_연도\n",
       "count  24344.000000\n",
       "mean    1987.931770\n",
       "std        2.531011\n",
       "min     1943.000000\n",
       "25%     1988.000000\n",
       "50%     1988.000000\n",
       "75%     1988.000000\n",
       "max     2002.000000"
      ]
     },
     "execution_count": 28,
     "metadata": {},
     "output_type": "execute_result"
    }
   ],
   "source": [
    "# 간단하게 기술통계학으로 확인한 평균값 1987년도\n",
    "data_df_birth[['연령_연도']].describe()"
   ]
  },
  {
   "cell_type": "markdown",
   "id": "6f5c7efa",
   "metadata": {},
   "source": [
    "### k-means 적용 (나이)"
   ]
  },
  {
   "cell_type": "code",
   "execution_count": 29,
   "id": "ba16e936",
   "metadata": {},
   "outputs": [],
   "source": [
    "data_df_birth_con = data_df_birth[['연령_연도']]"
   ]
  },
  {
   "cell_type": "code",
   "execution_count": 30,
   "id": "5fb89eaf",
   "metadata": {},
   "outputs": [],
   "source": [
    "kmeans = cluster.KMeans(n_clusters=5, random_state=0).fit(data_df_birth_con) "
   ]
  },
  {
   "cell_type": "code",
   "execution_count": 31,
   "id": "5c71e023",
   "metadata": {},
   "outputs": [
    {
     "data": {
      "text/html": [
       "<div>\n",
       "<style scoped>\n",
       "    .dataframe tbody tr th:only-of-type {\n",
       "        vertical-align: middle;\n",
       "    }\n",
       "\n",
       "    .dataframe tbody tr th {\n",
       "        vertical-align: top;\n",
       "    }\n",
       "\n",
       "    .dataframe thead th {\n",
       "        text-align: right;\n",
       "    }\n",
       "</style>\n",
       "<table border=\"1\" class=\"dataframe\">\n",
       "  <thead>\n",
       "    <tr style=\"text-align: right;\">\n",
       "      <th></th>\n",
       "      <th>연령_연도</th>\n",
       "    </tr>\n",
       "  </thead>\n",
       "  <tbody>\n",
       "    <tr>\n",
       "      <th>0</th>\n",
       "      <td>1987.997969</td>\n",
       "    </tr>\n",
       "    <tr>\n",
       "      <th>1</th>\n",
       "      <td>1980.036600</td>\n",
       "    </tr>\n",
       "    <tr>\n",
       "      <th>2</th>\n",
       "      <td>1995.997135</td>\n",
       "    </tr>\n",
       "    <tr>\n",
       "      <th>3</th>\n",
       "      <td>1984.658065</td>\n",
       "    </tr>\n",
       "    <tr>\n",
       "      <th>4</th>\n",
       "      <td>1991.306720</td>\n",
       "    </tr>\n",
       "  </tbody>\n",
       "</table>\n",
       "</div>"
      ],
      "text/plain": [
       "         연령_연도\n",
       "0  1987.997969\n",
       "1  1980.036600\n",
       "2  1995.997135\n",
       "3  1984.658065\n",
       "4  1991.306720"
      ]
     },
     "execution_count": 31,
     "metadata": {},
     "output_type": "execute_result"
    }
   ],
   "source": [
    "# 군집 중심 확인 및 컬럼이름 붙히기\n",
    "pd.DataFrame(kmeans.cluster_centers_, columns=data_df_birth_con.columns, index=range(5))"
   ]
  },
  {
   "cell_type": "code",
   "execution_count": 32,
   "id": "2f4a3383",
   "metadata": {},
   "outputs": [
    {
     "name": "stdout",
     "output_type": "stream",
     "text": [
      "(array([0, 1, 2, 3, 4]), array([19198,   847,   698,  1860,  1741], dtype=int64))\n"
     ]
    }
   ],
   "source": [
    "# 입력한 배열에 동일한 값의 개수가 몇개있는지 알수있다\n",
    "print(np.unique(kmeans.labels_, return_counts=True))"
   ]
  },
  {
   "cell_type": "code",
   "execution_count": 33,
   "id": "4867b431",
   "metadata": {},
   "outputs": [
    {
     "name": "stdout",
     "output_type": "stream",
     "text": [
      "155941.66936410984\n",
      "86162.53607588563\n",
      "35576.90365479308\n",
      "26362.759738237928\n",
      "17891.520854690738\n",
      "11770.455024154282\n",
      "9209.063086480111\n",
      "7241.449184155278\n",
      "5913.967291847084\n",
      "4793.923138210693\n",
      "3936.508480429437\n",
      "3531.002365213375\n",
      "2869.062079422413\n",
      "2278.285904636797\n"
     ]
    },
    {
     "data": {
      "image/png": "[encoded data removed]",
      "text/plain": [
       "<Figure size 432x288 with 1 Axes>"
      ]
     },
     "metadata": {
      "needs_background": "light"
     },
     "output_type": "display_data"
    }
   ],
   "source": [
    "def elbow(data_df_birth_con):\n",
    "    total_distance = []\n",
    "    for i in range(1, 15):\n",
    "        model = cluster.KMeans(n_clusters=i, random_state=0)\n",
    "        model.fit(data_df_birth_con)\n",
    "        \n",
    "        # inertia : Sum of squared distances of samples to their closest cluster center.\n",
    "        total_distance.append(model.inertia_) \n",
    "        print(model.inertia_)\n",
    "        \n",
    "    plt.plot(range(1, 15), total_distance, marker='o')\n",
    "    plt.xlabel('# of clusters')\n",
    "    plt.ylabel('Total distance (SSE)')\n",
    "    plt.show()\n",
    "\n",
    "elbow(data_df_birth_con) # Iris case : 2"
   ]
  },
  {
   "cell_type": "markdown",
   "id": "9e8c71de",
   "metadata": {},
   "source": [
    "## 원본데이터 연령 열 결측치에 평균값 처리\n",
    "- k-means로 확인한 결과 1986년도생에 군집이 몰려있음을 확인"
   ]
  },
  {
   "cell_type": "code",
   "execution_count": 34,
   "id": "e9978419",
   "metadata": {},
   "outputs": [
    {
     "data": {
      "text/plain": [
       "False    24731\n",
       "Name: 연령, dtype: int64"
      ]
     },
     "execution_count": 34,
     "metadata": {},
     "output_type": "execute_result"
    }
   ],
   "source": [
    "data_df_temp['연령'].isnull().value_counts()"
   ]
  },
  {
   "cell_type": "code",
   "execution_count": 35,
   "id": "f719fef6",
   "metadata": {},
   "outputs": [
    {
     "name": "stdout",
     "output_type": "stream",
     "text": [
      "0\n",
      "0\n",
      "0\n",
      "0\n",
      "0\n"
     ]
    }
   ],
   "source": [
    "print(sum(data_df_temp['연령']== '0000-00-00'))\n",
    "print(sum(data_df_temp['연령']== '1111-11-11'))\n",
    "print(sum(data_df_temp['연령']== '1700-01-01'))\n",
    "print(sum(data_df_temp['연령']== 0))\n",
    "print(sum(data_df_temp['연령'].isnull()))"
   ]
  },
  {
   "cell_type": "code",
   "execution_count": 36,
   "id": "87437870",
   "metadata": {},
   "outputs": [],
   "source": [
    "data_df_temp['연령'].replace({'0000-00-00':'1986-01-01 00:00:00',\\\n",
    "                             '1111-11-11':'1986-01-01 00:00:00',\\\n",
    "                             '1700-01-01':'1986-01-01 00:00:00',\\\n",
    "                             0 : '1986-01-01'}, inplace=True)"
   ]
  },
  {
   "cell_type": "code",
   "execution_count": 37,
   "id": "1cd86ea6",
   "metadata": {},
   "outputs": [],
   "source": [
    "data_df_temp['연령'].fillna('1986-01-01', inplace=True)"
   ]
  },
  {
   "cell_type": "code",
   "execution_count": 38,
   "id": "ac912e31",
   "metadata": {},
   "outputs": [
    {
     "name": "stdout",
     "output_type": "stream",
     "text": [
      "0\n",
      "0\n",
      "0\n",
      "0\n",
      "0\n"
     ]
    }
   ],
   "source": [
    "print(sum(data_df_temp['연령']== '0000-00-00'))\n",
    "print(sum(data_df_temp['연령']== '1111-11-11'))\n",
    "print(sum(data_df_temp['연령']== '1700-01-01'))\n",
    "print(sum(data_df_temp['연령']== 0))\n",
    "print(sum(data_df_temp['연령'].isnull()))"
   ]
  },
  {
   "cell_type": "code",
   "execution_count": 39,
   "id": "7eb8827a",
   "metadata": {},
   "outputs": [
    {
     "data": {
      "text/plain": [
       "False    24731\n",
       "Name: 연령, dtype: int64"
      ]
     },
     "execution_count": 39,
     "metadata": {},
     "output_type": "execute_result"
    }
   ],
   "source": [
    "data_df_temp['연령'].isnull().value_counts()"
   ]
  },
  {
   "cell_type": "markdown",
   "id": "48feb506",
   "metadata": {},
   "source": [
    "## 연령 열 이상치 처리\n",
    "- 프로그램오류로 원본데이터의 미성년자 비율이 높음\n",
    "- 전체데이터의 50%이상을 차지하여 삭제하는것보다 k-means 로 도출해낸 평균값 대입으로 이상치를 처리하였다."
   ]
  },
  {
   "cell_type": "code",
   "execution_count": 40,
   "id": "6cfb48ce",
   "metadata": {},
   "outputs": [],
   "source": [
    "# datetime 형태로 변환 후 미성년자 수 카운트 확인\n",
    "data_df_temp['연령'] = pd.to_datetime(data_df_temp['연령'])\n",
    "# data_df[data_df['나이/생일'].dt.year > 2003].count()"
   ]
  },
  {
   "cell_type": "code",
   "execution_count": 41,
   "id": "73c46b2a",
   "metadata": {},
   "outputs": [],
   "source": [
    "# 프로그램오류로 미성년자 비율이 높음.. 전체데이터의 50%이상을 차지하여 삭제하는것보다\n",
    "# k-means 로 도출해낸 평균값 대입으로 이상치 처리\n",
    "data_df_temp['연령'][data_df_temp['연령'].dt.year >= 2003] = '1986'"
   ]
  },
  {
   "cell_type": "code",
   "execution_count": 42,
   "id": "2dfc03b8",
   "metadata": {},
   "outputs": [],
   "source": [
    "data_df_temp['연령_연도'] = data_df_temp['연령'].dt.year"
   ]
  },
  {
   "cell_type": "code",
   "execution_count": 43,
   "id": "bab3a634",
   "metadata": {},
   "outputs": [],
   "source": [
    "del data_df_temp[\"연령\"]"
   ]
  },
  {
   "cell_type": "code",
   "execution_count": 44,
   "id": "48759a81",
   "metadata": {},
   "outputs": [],
   "source": [
    "def age_cate(x):\n",
    "    # 한국 나이 20대는 2003~1994\n",
    "    if (x <= 2003) & (x >= 1994) :\n",
    "        return 0\n",
    "    elif (x <= 1993) & (x >= 1984) :\n",
    "        return 1\n",
    "    elif (x <= 1983) & (x >= 1974) :\n",
    "        return 2\n",
    "    elif (x <= 1973) & (x >= 1964) :\n",
    "        return 3\n",
    "    elif (x <= 1963) & (x >= 1954) :\n",
    "        return 4\n",
    "    elif (x <= 1953) & (x >= 1944) :\n",
    "        return 5\n",
    "    elif (x <= 1943) & (x >= 1934) :\n",
    "        return 6\n",
    "    else:\n",
    "        return 7\n",
    "\n",
    "data_df_temp['부모연령'] = data_df_temp['연령_연도'].apply(age_cate)"
   ]
  },
  {
   "cell_type": "code",
   "execution_count": 45,
   "id": "a0cf0dd3",
   "metadata": {},
   "outputs": [
    {
     "data": {
      "text/html": [
       "<div>\n",
       "<style scoped>\n",
       "    .dataframe tbody tr th:only-of-type {\n",
       "        vertical-align: middle;\n",
       "    }\n",
       "\n",
       "    .dataframe tbody tr th {\n",
       "        vertical-align: top;\n",
       "    }\n",
       "\n",
       "    .dataframe thead th {\n",
       "        text-align: right;\n",
       "    }\n",
       "</style>\n",
       "<table border=\"1\" class=\"dataframe\">\n",
       "  <thead>\n",
       "    <tr style=\"text-align: right;\">\n",
       "      <th></th>\n",
       "      <th>거주지</th>\n",
       "      <th>가입경로</th>\n",
       "      <th>담당사원</th>\n",
       "      <th>상담횟수</th>\n",
       "      <th>상품코드</th>\n",
       "      <th>총구매횟수</th>\n",
       "      <th>총구매수량</th>\n",
       "      <th>총구매금액</th>\n",
       "      <th>재구매여부</th>\n",
       "      <th>연령_연도</th>\n",
       "      <th>부모연령</th>\n",
       "    </tr>\n",
       "  </thead>\n",
       "  <tbody>\n",
       "    <tr>\n",
       "      <th>0</th>\n",
       "      <td>경상남도</td>\n",
       "      <td>H</td>\n",
       "      <td>전우영</td>\n",
       "      <td>30</td>\n",
       "      <td>35007</td>\n",
       "      <td>12.0</td>\n",
       "      <td>6</td>\n",
       "      <td>113400</td>\n",
       "      <td>0</td>\n",
       "      <td>1985</td>\n",
       "      <td>1</td>\n",
       "    </tr>\n",
       "    <tr>\n",
       "      <th>1</th>\n",
       "      <td>광주광역시</td>\n",
       "      <td>D</td>\n",
       "      <td>정유경</td>\n",
       "      <td>16</td>\n",
       "      <td>35025</td>\n",
       "      <td>8.0</td>\n",
       "      <td>14</td>\n",
       "      <td>367800</td>\n",
       "      <td>1</td>\n",
       "      <td>1980</td>\n",
       "      <td>2</td>\n",
       "    </tr>\n",
       "    <tr>\n",
       "      <th>2</th>\n",
       "      <td>경상남도</td>\n",
       "      <td>M</td>\n",
       "      <td>정유경</td>\n",
       "      <td>20</td>\n",
       "      <td>35007</td>\n",
       "      <td>8.0</td>\n",
       "      <td>14</td>\n",
       "      <td>480600</td>\n",
       "      <td>0</td>\n",
       "      <td>1977</td>\n",
       "      <td>2</td>\n",
       "    </tr>\n",
       "    <tr>\n",
       "      <th>3</th>\n",
       "      <td>부산광역시</td>\n",
       "      <td>M</td>\n",
       "      <td>이선영</td>\n",
       "      <td>4</td>\n",
       "      <td>35023</td>\n",
       "      <td>8.0</td>\n",
       "      <td>14</td>\n",
       "      <td>358000</td>\n",
       "      <td>0</td>\n",
       "      <td>1983</td>\n",
       "      <td>2</td>\n",
       "    </tr>\n",
       "    <tr>\n",
       "      <th>4</th>\n",
       "      <td>전라북도</td>\n",
       "      <td>M</td>\n",
       "      <td>이선영</td>\n",
       "      <td>6</td>\n",
       "      <td>35027</td>\n",
       "      <td>4.0</td>\n",
       "      <td>2</td>\n",
       "      <td>55000</td>\n",
       "      <td>1</td>\n",
       "      <td>1982</td>\n",
       "      <td>2</td>\n",
       "    </tr>\n",
       "  </tbody>\n",
       "</table>\n",
       "</div>"
      ],
      "text/plain": [
       "     거주지 가입경로 담당사원  상담횟수   상품코드  총구매횟수  총구매수량   총구매금액  재구매여부  연령_연도  부모연령\n",
       "0   경상남도    H  전우영    30  35007   12.0      6  113400      0   1985     1\n",
       "1  광주광역시    D  정유경    16  35025    8.0     14  367800      1   1980     2\n",
       "2   경상남도    M  정유경    20  35007    8.0     14  480600      0   1977     2\n",
       "3  부산광역시    M  이선영     4  35023    8.0     14  358000      0   1983     2\n",
       "4   전라북도    M  이선영     6  35027    4.0      2   55000      1   1982     2"
      ]
     },
     "execution_count": 45,
     "metadata": {},
     "output_type": "execute_result"
    }
   ],
   "source": [
    "data_df_temp.head()"
   ]
  },
  {
   "cell_type": "code",
   "execution_count": 46,
   "id": "7bde3ec5",
   "metadata": {},
   "outputs": [
    {
     "data": {
      "text/html": [
       "<div>\n",
       "<style scoped>\n",
       "    .dataframe tbody tr th:only-of-type {\n",
       "        vertical-align: middle;\n",
       "    }\n",
       "\n",
       "    .dataframe tbody tr th {\n",
       "        vertical-align: top;\n",
       "    }\n",
       "\n",
       "    .dataframe thead th {\n",
       "        text-align: right;\n",
       "    }\n",
       "</style>\n",
       "<table border=\"1\" class=\"dataframe\">\n",
       "  <thead>\n",
       "    <tr style=\"text-align: right;\">\n",
       "      <th></th>\n",
       "      <th>거주지</th>\n",
       "      <th>가입경로</th>\n",
       "      <th>담당사원</th>\n",
       "      <th>상담횟수</th>\n",
       "      <th>상품코드</th>\n",
       "      <th>총구매횟수</th>\n",
       "      <th>총구매수량</th>\n",
       "      <th>총구매금액</th>\n",
       "      <th>재구매여부</th>\n",
       "      <th>부모연령</th>\n",
       "    </tr>\n",
       "  </thead>\n",
       "  <tbody>\n",
       "    <tr>\n",
       "      <th>0</th>\n",
       "      <td>경상남도</td>\n",
       "      <td>H</td>\n",
       "      <td>전우영</td>\n",
       "      <td>30</td>\n",
       "      <td>35007</td>\n",
       "      <td>12.0</td>\n",
       "      <td>6</td>\n",
       "      <td>113400</td>\n",
       "      <td>0</td>\n",
       "      <td>1</td>\n",
       "    </tr>\n",
       "    <tr>\n",
       "      <th>1</th>\n",
       "      <td>광주광역시</td>\n",
       "      <td>D</td>\n",
       "      <td>정유경</td>\n",
       "      <td>16</td>\n",
       "      <td>35025</td>\n",
       "      <td>8.0</td>\n",
       "      <td>14</td>\n",
       "      <td>367800</td>\n",
       "      <td>1</td>\n",
       "      <td>2</td>\n",
       "    </tr>\n",
       "    <tr>\n",
       "      <th>2</th>\n",
       "      <td>경상남도</td>\n",
       "      <td>M</td>\n",
       "      <td>정유경</td>\n",
       "      <td>20</td>\n",
       "      <td>35007</td>\n",
       "      <td>8.0</td>\n",
       "      <td>14</td>\n",
       "      <td>480600</td>\n",
       "      <td>0</td>\n",
       "      <td>2</td>\n",
       "    </tr>\n",
       "    <tr>\n",
       "      <th>3</th>\n",
       "      <td>부산광역시</td>\n",
       "      <td>M</td>\n",
       "      <td>이선영</td>\n",
       "      <td>4</td>\n",
       "      <td>35023</td>\n",
       "      <td>8.0</td>\n",
       "      <td>14</td>\n",
       "      <td>358000</td>\n",
       "      <td>0</td>\n",
       "      <td>2</td>\n",
       "    </tr>\n",
       "    <tr>\n",
       "      <th>4</th>\n",
       "      <td>전라북도</td>\n",
       "      <td>M</td>\n",
       "      <td>이선영</td>\n",
       "      <td>6</td>\n",
       "      <td>35027</td>\n",
       "      <td>4.0</td>\n",
       "      <td>2</td>\n",
       "      <td>55000</td>\n",
       "      <td>1</td>\n",
       "      <td>2</td>\n",
       "    </tr>\n",
       "    <tr>\n",
       "      <th>...</th>\n",
       "      <td>...</td>\n",
       "      <td>...</td>\n",
       "      <td>...</td>\n",
       "      <td>...</td>\n",
       "      <td>...</td>\n",
       "      <td>...</td>\n",
       "      <td>...</td>\n",
       "      <td>...</td>\n",
       "      <td>...</td>\n",
       "      <td>...</td>\n",
       "    </tr>\n",
       "    <tr>\n",
       "      <th>24755</th>\n",
       "      <td>광주광역시</td>\n",
       "      <td>H</td>\n",
       "      <td>정유경</td>\n",
       "      <td>1653</td>\n",
       "      <td>56001</td>\n",
       "      <td>1479.0</td>\n",
       "      <td>1163</td>\n",
       "      <td>7180100</td>\n",
       "      <td>0</td>\n",
       "      <td>1</td>\n",
       "    </tr>\n",
       "    <tr>\n",
       "      <th>24756</th>\n",
       "      <td>경기도</td>\n",
       "      <td>H</td>\n",
       "      <td>박애신</td>\n",
       "      <td>40</td>\n",
       "      <td>27001</td>\n",
       "      <td>24.0</td>\n",
       "      <td>16</td>\n",
       "      <td>486400</td>\n",
       "      <td>0</td>\n",
       "      <td>1</td>\n",
       "    </tr>\n",
       "    <tr>\n",
       "      <th>24757</th>\n",
       "      <td>경상남도</td>\n",
       "      <td>H</td>\n",
       "      <td>박애신</td>\n",
       "      <td>27</td>\n",
       "      <td>19001</td>\n",
       "      <td>27.0</td>\n",
       "      <td>75</td>\n",
       "      <td>903300</td>\n",
       "      <td>1</td>\n",
       "      <td>1</td>\n",
       "    </tr>\n",
       "    <tr>\n",
       "      <th>24758</th>\n",
       "      <td>충청북도</td>\n",
       "      <td>E</td>\n",
       "      <td>박애신</td>\n",
       "      <td>2</td>\n",
       "      <td>27001</td>\n",
       "      <td>2.0</td>\n",
       "      <td>8</td>\n",
       "      <td>243200</td>\n",
       "      <td>1</td>\n",
       "      <td>1</td>\n",
       "    </tr>\n",
       "    <tr>\n",
       "      <th>24759</th>\n",
       "      <td>전라북도</td>\n",
       "      <td>Q</td>\n",
       "      <td>박애신</td>\n",
       "      <td>7</td>\n",
       "      <td>27001</td>\n",
       "      <td>3.0</td>\n",
       "      <td>15</td>\n",
       "      <td>224100</td>\n",
       "      <td>0</td>\n",
       "      <td>1</td>\n",
       "    </tr>\n",
       "  </tbody>\n",
       "</table>\n",
       "<p>24731 rows × 10 columns</p>\n",
       "</div>"
      ],
      "text/plain": [
       "         거주지 가입경로 담당사원  상담횟수   상품코드   총구매횟수  총구매수량    총구매금액  재구매여부  부모연령\n",
       "0       경상남도    H  전우영    30  35007    12.0      6   113400      0     1\n",
       "1      광주광역시    D  정유경    16  35025     8.0     14   367800      1     2\n",
       "2       경상남도    M  정유경    20  35007     8.0     14   480600      0     2\n",
       "3      부산광역시    M  이선영     4  35023     8.0     14   358000      0     2\n",
       "4       전라북도    M  이선영     6  35027     4.0      2    55000      1     2\n",
       "...      ...  ...  ...   ...    ...     ...    ...      ...    ...   ...\n",
       "24755  광주광역시    H  정유경  1653  56001  1479.0   1163  7180100      0     1\n",
       "24756    경기도    H  박애신    40  27001    24.0     16   486400      0     1\n",
       "24757   경상남도    H  박애신    27  19001    27.0     75   903300      1     1\n",
       "24758   충청북도    E  박애신     2  27001     2.0      8   243200      1     1\n",
       "24759   전라북도    Q  박애신     7  27001     3.0     15   224100      0     1\n",
       "\n",
       "[24731 rows x 10 columns]"
      ]
     },
     "execution_count": 46,
     "metadata": {},
     "output_type": "execute_result"
    }
   ],
   "source": [
    "del data_df_temp['연령_연도']\n",
    "data_df_temp"
   ]
  },
  {
   "cell_type": "code",
   "execution_count": 47,
   "id": "0e06bc53",
   "metadata": {
    "scrolled": true
   },
   "outputs": [
    {
     "data": {
      "text/plain": [
       "1    22809\n",
       "2     1199\n",
       "0      698\n",
       "3       14\n",
       "4       10\n",
       "6        1\n",
       "Name: 부모연령, dtype: int64"
      ]
     },
     "execution_count": 47,
     "metadata": {},
     "output_type": "execute_result"
    }
   ],
   "source": [
    "data_df_temp['부모연령'].value_counts()"
   ]
  },
  {
   "cell_type": "code",
   "execution_count": 48,
   "id": "836f5aab",
   "metadata": {},
   "outputs": [],
   "source": [
    "data_df_add_age = data_df_temp.copy()"
   ]
  },
  {
   "cell_type": "markdown",
   "id": "43f24657",
   "metadata": {},
   "source": [
    "## 담당직원 열 결측치 처리\n",
    "- 전체 데이터의 512행에 해당하는 데이터 null값 확인 약 2.4퍼센트행에 대한 K-means 알고리즘 적용"
   ]
  },
  {
   "cell_type": "code",
   "execution_count": 49,
   "id": "edcac9bf",
   "metadata": {},
   "outputs": [
    {
     "data": {
      "text/plain": [
       "박애신      6692\n",
       "전우영      5877\n",
       "김필남      5125\n",
       "정유경      3499\n",
       "이선영      2289\n",
       "마케팅1팀    1085\n",
       "김영애        51\n",
       "김연화        45\n",
       "한나경        35\n",
       "윤슬기        33\n",
       "Name: 담당사원, dtype: int64"
      ]
     },
     "execution_count": 49,
     "metadata": {},
     "output_type": "execute_result"
    }
   ],
   "source": [
    "data_df_add_age[\"담당사원\"].value_counts()"
   ]
  },
  {
   "cell_type": "code",
   "execution_count": 50,
   "id": "e9a54886",
   "metadata": {},
   "outputs": [],
   "source": [
    "# 최고관리자 삭제\n",
    "data_df_add_age = data_df_add_age[data_df_add_age[\"담당사원\"] != \"최고관리자\"]"
   ]
  },
  {
   "cell_type": "code",
   "execution_count": 51,
   "id": "260a2add",
   "metadata": {},
   "outputs": [
    {
     "data": {
      "text/plain": [
       "False    24731\n",
       "Name: 담당사원, dtype: int64"
      ]
     },
     "execution_count": 51,
     "metadata": {},
     "output_type": "execute_result"
    }
   ],
   "source": [
    "data_df_add_age[\"담당사원\"].isnull().value_counts()"
   ]
  },
  {
   "cell_type": "code",
   "execution_count": 52,
   "id": "11fa0c2d",
   "metadata": {},
   "outputs": [],
   "source": [
    "# 담당직원열만 가져온다\n",
    "df_employee = data_df_add_age[['담당사원']]"
   ]
  },
  {
   "cell_type": "code",
   "execution_count": 53,
   "id": "61216ab7",
   "metadata": {},
   "outputs": [
    {
     "data": {
      "text/html": [
       "<div>\n",
       "<style scoped>\n",
       "    .dataframe tbody tr th:only-of-type {\n",
       "        vertical-align: middle;\n",
       "    }\n",
       "\n",
       "    .dataframe tbody tr th {\n",
       "        vertical-align: top;\n",
       "    }\n",
       "\n",
       "    .dataframe thead th {\n",
       "        text-align: right;\n",
       "    }\n",
       "</style>\n",
       "<table border=\"1\" class=\"dataframe\">\n",
       "  <thead>\n",
       "    <tr style=\"text-align: right;\">\n",
       "      <th></th>\n",
       "      <th>담당사원_김영애</th>\n",
       "      <th>담당사원_김필남</th>\n",
       "      <th>담당사원_마케팅1팀</th>\n",
       "      <th>담당사원_박애신</th>\n",
       "      <th>담당사원_윤슬기</th>\n",
       "      <th>담당사원_이선영</th>\n",
       "      <th>담당사원_전우영</th>\n",
       "      <th>담당사원_정유경</th>\n",
       "      <th>담당사원_한나경</th>\n",
       "    </tr>\n",
       "  </thead>\n",
       "  <tbody>\n",
       "    <tr>\n",
       "      <th>0</th>\n",
       "      <td>0</td>\n",
       "      <td>0</td>\n",
       "      <td>0</td>\n",
       "      <td>0</td>\n",
       "      <td>0</td>\n",
       "      <td>0</td>\n",
       "      <td>1</td>\n",
       "      <td>0</td>\n",
       "      <td>0</td>\n",
       "    </tr>\n",
       "    <tr>\n",
       "      <th>1</th>\n",
       "      <td>0</td>\n",
       "      <td>0</td>\n",
       "      <td>0</td>\n",
       "      <td>0</td>\n",
       "      <td>0</td>\n",
       "      <td>0</td>\n",
       "      <td>0</td>\n",
       "      <td>1</td>\n",
       "      <td>0</td>\n",
       "    </tr>\n",
       "    <tr>\n",
       "      <th>2</th>\n",
       "      <td>0</td>\n",
       "      <td>0</td>\n",
       "      <td>0</td>\n",
       "      <td>0</td>\n",
       "      <td>0</td>\n",
       "      <td>0</td>\n",
       "      <td>0</td>\n",
       "      <td>1</td>\n",
       "      <td>0</td>\n",
       "    </tr>\n",
       "    <tr>\n",
       "      <th>3</th>\n",
       "      <td>0</td>\n",
       "      <td>0</td>\n",
       "      <td>0</td>\n",
       "      <td>0</td>\n",
       "      <td>0</td>\n",
       "      <td>1</td>\n",
       "      <td>0</td>\n",
       "      <td>0</td>\n",
       "      <td>0</td>\n",
       "    </tr>\n",
       "    <tr>\n",
       "      <th>4</th>\n",
       "      <td>0</td>\n",
       "      <td>0</td>\n",
       "      <td>0</td>\n",
       "      <td>0</td>\n",
       "      <td>0</td>\n",
       "      <td>1</td>\n",
       "      <td>0</td>\n",
       "      <td>0</td>\n",
       "      <td>0</td>\n",
       "    </tr>\n",
       "  </tbody>\n",
       "</table>\n",
       "</div>"
      ],
      "text/plain": [
       "   담당사원_김영애  담당사원_김필남  담당사원_마케팅1팀  담당사원_박애신  담당사원_윤슬기  담당사원_이선영  담당사원_전우영  \\\n",
       "0         0         0           0         0         0         0         1   \n",
       "1         0         0           0         0         0         0         0   \n",
       "2         0         0           0         0         0         0         0   \n",
       "3         0         0           0         0         0         1         0   \n",
       "4         0         0           0         0         0         1         0   \n",
       "\n",
       "   담당사원_정유경  담당사원_한나경  \n",
       "0         0         0  \n",
       "1         1         0  \n",
       "2         1         0  \n",
       "3         0         0  \n",
       "4         0         0  "
      ]
     },
     "execution_count": 53,
     "metadata": {},
     "output_type": "execute_result"
    }
   ],
   "source": [
    "# 범주형 데이터이기때문에 dummies를 이용하여 숫자로 변환 (문자열은 k-means알고리즘 적용이 되지않음)\n",
    "df_employee_temp = pd.get_dummies(df_employee, drop_first=True)\n",
    "df_employee_temp.head()"
   ]
  },
  {
   "cell_type": "code",
   "execution_count": 54,
   "id": "cabd5140",
   "metadata": {},
   "outputs": [],
   "source": [
    "from sklearn import cluster"
   ]
  },
  {
   "cell_type": "code",
   "execution_count": 55,
   "id": "357f2c75",
   "metadata": {},
   "outputs": [],
   "source": [
    "kmeans = cluster.KMeans(n_clusters=6, random_state=0).fit(df_employee_temp) "
   ]
  },
  {
   "cell_type": "code",
   "execution_count": 56,
   "id": "6a9c423c",
   "metadata": {},
   "outputs": [
    {
     "data": {
      "text/html": [
       "<div>\n",
       "<style scoped>\n",
       "    .dataframe tbody tr th:only-of-type {\n",
       "        vertical-align: middle;\n",
       "    }\n",
       "\n",
       "    .dataframe tbody tr th {\n",
       "        vertical-align: top;\n",
       "    }\n",
       "\n",
       "    .dataframe thead th {\n",
       "        text-align: right;\n",
       "    }\n",
       "</style>\n",
       "<table border=\"1\" class=\"dataframe\">\n",
       "  <thead>\n",
       "    <tr style=\"text-align: right;\">\n",
       "      <th></th>\n",
       "      <th>담당사원_김영애</th>\n",
       "      <th>담당사원_김필남</th>\n",
       "      <th>담당사원_마케팅1팀</th>\n",
       "      <th>담당사원_박애신</th>\n",
       "      <th>담당사원_윤슬기</th>\n",
       "      <th>담당사원_이선영</th>\n",
       "      <th>담당사원_전우영</th>\n",
       "      <th>담당사원_정유경</th>\n",
       "      <th>담당사원_한나경</th>\n",
       "    </tr>\n",
       "  </thead>\n",
       "  <tbody>\n",
       "    <tr>\n",
       "      <th>0</th>\n",
       "      <td>4.083267e-02</td>\n",
       "      <td>9.159340e-16</td>\n",
       "      <td>8.686950e-01</td>\n",
       "      <td>1.110223e-16</td>\n",
       "      <td>2.642114e-02</td>\n",
       "      <td>2.359224e-16</td>\n",
       "      <td>-8.049117e-16</td>\n",
       "      <td>-3.608225e-16</td>\n",
       "      <td>2.802242e-02</td>\n",
       "    </tr>\n",
       "    <tr>\n",
       "      <th>1</th>\n",
       "      <td>-2.515349e-17</td>\n",
       "      <td>2.026157e-15</td>\n",
       "      <td>-2.775558e-16</td>\n",
       "      <td>9.992007e-16</td>\n",
       "      <td>9.107298e-18</td>\n",
       "      <td>3.053113e-16</td>\n",
       "      <td>1.000000e+00</td>\n",
       "      <td>-1.221245e-15</td>\n",
       "      <td>-8.023096e-18</td>\n",
       "    </tr>\n",
       "    <tr>\n",
       "      <th>2</th>\n",
       "      <td>-2.818926e-17</td>\n",
       "      <td>2.248202e-15</td>\n",
       "      <td>-2.775558e-16</td>\n",
       "      <td>1.000000e+00</td>\n",
       "      <td>1.431147e-17</td>\n",
       "      <td>2.498002e-16</td>\n",
       "      <td>-1.998401e-15</td>\n",
       "      <td>-4.440892e-16</td>\n",
       "      <td>-7.806256e-18</td>\n",
       "    </tr>\n",
       "    <tr>\n",
       "      <th>3</th>\n",
       "      <td>-2.125036e-17</td>\n",
       "      <td>1.000000e+00</td>\n",
       "      <td>-2.428613e-16</td>\n",
       "      <td>6.106227e-16</td>\n",
       "      <td>3.469447e-18</td>\n",
       "      <td>3.191891e-16</td>\n",
       "      <td>-1.804112e-15</td>\n",
       "      <td>-1.471046e-15</td>\n",
       "      <td>-7.806256e-18</td>\n",
       "    </tr>\n",
       "    <tr>\n",
       "      <th>4</th>\n",
       "      <td>-8.673617e-18</td>\n",
       "      <td>1.304512e-15</td>\n",
       "      <td>-1.110223e-16</td>\n",
       "      <td>-6.106227e-16</td>\n",
       "      <td>-2.602085e-18</td>\n",
       "      <td>2.914335e-16</td>\n",
       "      <td>-1.332268e-15</td>\n",
       "      <td>1.000000e+00</td>\n",
       "      <td>-6.288373e-18</td>\n",
       "    </tr>\n",
       "    <tr>\n",
       "      <th>5</th>\n",
       "      <td>-3.035766e-18</td>\n",
       "      <td>9.436896e-16</td>\n",
       "      <td>-4.857226e-17</td>\n",
       "      <td>-9.436896e-16</td>\n",
       "      <td>-3.252607e-18</td>\n",
       "      <td>1.000000e+00</td>\n",
       "      <td>-9.714451e-16</td>\n",
       "      <td>-4.163336e-16</td>\n",
       "      <td>-5.854692e-18</td>\n",
       "    </tr>\n",
       "  </tbody>\n",
       "</table>\n",
       "</div>"
      ],
      "text/plain": [
       "       담당사원_김영애      담당사원_김필남    담당사원_마케팅1팀      담당사원_박애신      담당사원_윤슬기  \\\n",
       "0  4.083267e-02  9.159340e-16  8.686950e-01  1.110223e-16  2.642114e-02   \n",
       "1 -2.515349e-17  2.026157e-15 -2.775558e-16  9.992007e-16  9.107298e-18   \n",
       "2 -2.818926e-17  2.248202e-15 -2.775558e-16  1.000000e+00  1.431147e-17   \n",
       "3 -2.125036e-17  1.000000e+00 -2.428613e-16  6.106227e-16  3.469447e-18   \n",
       "4 -8.673617e-18  1.304512e-15 -1.110223e-16 -6.106227e-16 -2.602085e-18   \n",
       "5 -3.035766e-18  9.436896e-16 -4.857226e-17 -9.436896e-16 -3.252607e-18   \n",
       "\n",
       "       담당사원_이선영      담당사원_전우영      담당사원_정유경      담당사원_한나경  \n",
       "0  2.359224e-16 -8.049117e-16 -3.608225e-16  2.802242e-02  \n",
       "1  3.053113e-16  1.000000e+00 -1.221245e-15 -8.023096e-18  \n",
       "2  2.498002e-16 -1.998401e-15 -4.440892e-16 -7.806256e-18  \n",
       "3  3.191891e-16 -1.804112e-15 -1.471046e-15 -7.806256e-18  \n",
       "4  2.914335e-16 -1.332268e-15  1.000000e+00 -6.288373e-18  \n",
       "5  1.000000e+00 -9.714451e-16 -4.163336e-16 -5.854692e-18  "
      ]
     },
     "execution_count": 56,
     "metadata": {},
     "output_type": "execute_result"
    }
   ],
   "source": [
    "# 군집 중심 확인 및 컬럼이름 붙히기\n",
    "pd.DataFrame(kmeans.cluster_centers_, columns=df_employee_temp.columns, index=range(6))"
   ]
  },
  {
   "cell_type": "code",
   "execution_count": 57,
   "id": "65906ef8",
   "metadata": {},
   "outputs": [
    {
     "name": "stdout",
     "output_type": "stream",
     "text": [
      "Clusters :  [1 4 4 ... 2 2 2]\n"
     ]
    }
   ],
   "source": [
    "# 군집 라벨 확인\n",
    "print(\"Clusters : \", kmeans.labels_)"
   ]
  },
  {
   "cell_type": "code",
   "execution_count": 58,
   "id": "7206e72a",
   "metadata": {},
   "outputs": [
    {
     "name": "stdout",
     "output_type": "stream",
     "text": [
      "(array([0, 1, 2, 3, 4, 5]), array([1249, 5877, 6692, 5125, 3499, 2289], dtype=int64))\n"
     ]
    }
   ],
   "source": [
    "# 입력한 배열에 동일한 값의 개수가 몇개있는지 알수있다\n",
    "# 제일높은값은 6061개의 0번 군집 -> 박애신으로 확인\n",
    "print(np.unique(kmeans.labels_, return_counts=True))"
   ]
  },
  {
   "cell_type": "code",
   "execution_count": 59,
   "id": "74133e74",
   "metadata": {},
   "outputs": [],
   "source": [
    "df_employee_temp['target'] = kmeans.labels_"
   ]
  },
  {
   "cell_type": "code",
   "execution_count": 60,
   "id": "fde7d7f2",
   "metadata": {},
   "outputs": [
    {
     "data": {
      "text/html": [
       "<div>\n",
       "<style scoped>\n",
       "    .dataframe tbody tr th:only-of-type {\n",
       "        vertical-align: middle;\n",
       "    }\n",
       "\n",
       "    .dataframe tbody tr th {\n",
       "        vertical-align: top;\n",
       "    }\n",
       "\n",
       "    .dataframe thead th {\n",
       "        text-align: right;\n",
       "    }\n",
       "</style>\n",
       "<table border=\"1\" class=\"dataframe\">\n",
       "  <thead>\n",
       "    <tr style=\"text-align: right;\">\n",
       "      <th></th>\n",
       "      <th>담당사원_김영애</th>\n",
       "      <th>담당사원_김필남</th>\n",
       "      <th>담당사원_마케팅1팀</th>\n",
       "      <th>담당사원_박애신</th>\n",
       "      <th>담당사원_윤슬기</th>\n",
       "      <th>담당사원_이선영</th>\n",
       "      <th>담당사원_전우영</th>\n",
       "      <th>담당사원_정유경</th>\n",
       "      <th>담당사원_한나경</th>\n",
       "      <th>target</th>\n",
       "    </tr>\n",
       "  </thead>\n",
       "  <tbody>\n",
       "    <tr>\n",
       "      <th>0</th>\n",
       "      <td>0</td>\n",
       "      <td>0</td>\n",
       "      <td>0</td>\n",
       "      <td>0</td>\n",
       "      <td>0</td>\n",
       "      <td>0</td>\n",
       "      <td>1</td>\n",
       "      <td>0</td>\n",
       "      <td>0</td>\n",
       "      <td>1</td>\n",
       "    </tr>\n",
       "    <tr>\n",
       "      <th>1</th>\n",
       "      <td>0</td>\n",
       "      <td>0</td>\n",
       "      <td>0</td>\n",
       "      <td>0</td>\n",
       "      <td>0</td>\n",
       "      <td>0</td>\n",
       "      <td>0</td>\n",
       "      <td>1</td>\n",
       "      <td>0</td>\n",
       "      <td>4</td>\n",
       "    </tr>\n",
       "    <tr>\n",
       "      <th>2</th>\n",
       "      <td>0</td>\n",
       "      <td>0</td>\n",
       "      <td>0</td>\n",
       "      <td>0</td>\n",
       "      <td>0</td>\n",
       "      <td>0</td>\n",
       "      <td>0</td>\n",
       "      <td>1</td>\n",
       "      <td>0</td>\n",
       "      <td>4</td>\n",
       "    </tr>\n",
       "    <tr>\n",
       "      <th>3</th>\n",
       "      <td>0</td>\n",
       "      <td>0</td>\n",
       "      <td>0</td>\n",
       "      <td>0</td>\n",
       "      <td>0</td>\n",
       "      <td>1</td>\n",
       "      <td>0</td>\n",
       "      <td>0</td>\n",
       "      <td>0</td>\n",
       "      <td>5</td>\n",
       "    </tr>\n",
       "    <tr>\n",
       "      <th>4</th>\n",
       "      <td>0</td>\n",
       "      <td>0</td>\n",
       "      <td>0</td>\n",
       "      <td>0</td>\n",
       "      <td>0</td>\n",
       "      <td>1</td>\n",
       "      <td>0</td>\n",
       "      <td>0</td>\n",
       "      <td>0</td>\n",
       "      <td>5</td>\n",
       "    </tr>\n",
       "    <tr>\n",
       "      <th>...</th>\n",
       "      <td>...</td>\n",
       "      <td>...</td>\n",
       "      <td>...</td>\n",
       "      <td>...</td>\n",
       "      <td>...</td>\n",
       "      <td>...</td>\n",
       "      <td>...</td>\n",
       "      <td>...</td>\n",
       "      <td>...</td>\n",
       "      <td>...</td>\n",
       "    </tr>\n",
       "    <tr>\n",
       "      <th>24755</th>\n",
       "      <td>0</td>\n",
       "      <td>0</td>\n",
       "      <td>0</td>\n",
       "      <td>0</td>\n",
       "      <td>0</td>\n",
       "      <td>0</td>\n",
       "      <td>0</td>\n",
       "      <td>1</td>\n",
       "      <td>0</td>\n",
       "      <td>4</td>\n",
       "    </tr>\n",
       "    <tr>\n",
       "      <th>24756</th>\n",
       "      <td>0</td>\n",
       "      <td>0</td>\n",
       "      <td>0</td>\n",
       "      <td>1</td>\n",
       "      <td>0</td>\n",
       "      <td>0</td>\n",
       "      <td>0</td>\n",
       "      <td>0</td>\n",
       "      <td>0</td>\n",
       "      <td>2</td>\n",
       "    </tr>\n",
       "    <tr>\n",
       "      <th>24757</th>\n",
       "      <td>0</td>\n",
       "      <td>0</td>\n",
       "      <td>0</td>\n",
       "      <td>1</td>\n",
       "      <td>0</td>\n",
       "      <td>0</td>\n",
       "      <td>0</td>\n",
       "      <td>0</td>\n",
       "      <td>0</td>\n",
       "      <td>2</td>\n",
       "    </tr>\n",
       "    <tr>\n",
       "      <th>24758</th>\n",
       "      <td>0</td>\n",
       "      <td>0</td>\n",
       "      <td>0</td>\n",
       "      <td>1</td>\n",
       "      <td>0</td>\n",
       "      <td>0</td>\n",
       "      <td>0</td>\n",
       "      <td>0</td>\n",
       "      <td>0</td>\n",
       "      <td>2</td>\n",
       "    </tr>\n",
       "    <tr>\n",
       "      <th>24759</th>\n",
       "      <td>0</td>\n",
       "      <td>0</td>\n",
       "      <td>0</td>\n",
       "      <td>1</td>\n",
       "      <td>0</td>\n",
       "      <td>0</td>\n",
       "      <td>0</td>\n",
       "      <td>0</td>\n",
       "      <td>0</td>\n",
       "      <td>2</td>\n",
       "    </tr>\n",
       "  </tbody>\n",
       "</table>\n",
       "<p>24731 rows × 10 columns</p>\n",
       "</div>"
      ],
      "text/plain": [
       "       담당사원_김영애  담당사원_김필남  담당사원_마케팅1팀  담당사원_박애신  담당사원_윤슬기  담당사원_이선영  담당사원_전우영  \\\n",
       "0             0         0           0         0         0         0         1   \n",
       "1             0         0           0         0         0         0         0   \n",
       "2             0         0           0         0         0         0         0   \n",
       "3             0         0           0         0         0         1         0   \n",
       "4             0         0           0         0         0         1         0   \n",
       "...         ...       ...         ...       ...       ...       ...       ...   \n",
       "24755         0         0           0         0         0         0         0   \n",
       "24756         0         0           0         1         0         0         0   \n",
       "24757         0         0           0         1         0         0         0   \n",
       "24758         0         0           0         1         0         0         0   \n",
       "24759         0         0           0         1         0         0         0   \n",
       "\n",
       "       담당사원_정유경  담당사원_한나경  target  \n",
       "0             0         0       1  \n",
       "1             1         0       4  \n",
       "2             1         0       4  \n",
       "3             0         0       5  \n",
       "4             0         0       5  \n",
       "...         ...       ...     ...  \n",
       "24755         1         0       4  \n",
       "24756         0         0       2  \n",
       "24757         0         0       2  \n",
       "24758         0         0       2  \n",
       "24759         0         0       2  \n",
       "\n",
       "[24731 rows x 10 columns]"
      ]
     },
     "execution_count": 60,
     "metadata": {},
     "output_type": "execute_result"
    }
   ],
   "source": [
    "df_employee_temp"
   ]
  },
  {
   "cell_type": "code",
   "execution_count": 61,
   "id": "decef76a",
   "metadata": {},
   "outputs": [
    {
     "data": {
      "text/plain": [
       "<AxesSubplot:>"
      ]
     },
     "execution_count": 61,
     "metadata": {},
     "output_type": "execute_result"
    },
    {
     "data": {
      "image/png": "[encoded data removed]",
      "text/plain": [
       "<Figure size 432x288 with 1 Axes>"
      ]
     },
     "metadata": {
      "needs_background": "light"
     },
     "output_type": "display_data"
    }
   ],
   "source": [
    "df_employee_temp['target'].value_counts().plot(kind = \"bar\") # plotting a \"bar\" graph"
   ]
  },
  {
   "cell_type": "code",
   "execution_count": 62,
   "id": "d8d8c75b",
   "metadata": {},
   "outputs": [],
   "source": [
    "# plt.scatter(df_employee_temp['TM담당직원_박애신'], df_employee_temp['target'], c='green')\n",
    "# plt.show()"
   ]
  },
  {
   "cell_type": "markdown",
   "id": "bcb7c663",
   "metadata": {},
   "source": [
    "### 최적 클러스터 개수 찾기\n",
    "- 엘보우 기법 사용"
   ]
  },
  {
   "cell_type": "code",
   "execution_count": 63,
   "id": "2815ef21",
   "metadata": {},
   "outputs": [
    {
     "name": "stdout",
     "output_type": "stream",
     "text": [
      "65700.69572601143\n",
      "27325.12158296116\n",
      "15956.4648444008\n",
      "7249.559538485895\n",
      "3098.2753297782574\n",
      "257.53082465972784\n",
      "89.03048780487805\n",
      "47.52212389380532\n",
      "19.03846153846154\n",
      "5.412802295624635e-25\n",
      "5.634269101452718e-25\n",
      "5.407055557754628e-25\n",
      "5.573476115007298e-25\n",
      "5.319834942165059e-25\n"
     ]
    },
    {
     "data": {
      "image/png": "[encoded data removed]",
      "text/plain": [
       "<Figure size 432x288 with 1 Axes>"
      ]
     },
     "metadata": {
      "needs_background": "light"
     },
     "output_type": "display_data"
    }
   ],
   "source": [
    "def elbow(df_employee_temp):\n",
    "    total_distance = []\n",
    "    for i in range(1, 15):\n",
    "        model = cluster.KMeans(n_clusters=i, random_state=0)\n",
    "        model.fit(df_employee_temp)\n",
    "        \n",
    "        # inertia : Sum of squared distances of samples to their closest cluster center.\n",
    "        total_distance.append(model.inertia_) \n",
    "        print(model.inertia_)\n",
    "        \n",
    "    plt.plot(range(1, 15), total_distance, marker='o')\n",
    "    plt.xlabel('# of clusters')\n",
    "    plt.ylabel('Total distance (SSE)')\n",
    "    plt.show()\n",
    "\n",
    "elbow(df_employee_temp) # Iris case : 2"
   ]
  },
  {
   "cell_type": "markdown",
   "id": "f71b350b",
   "metadata": {},
   "source": [
    "## TM 담당사원 결측치 적용\n",
    "- k-means 알고리즘으로 제일 군집도가 높은 값이 박애신사원으로 확인됨\n",
    "- 원본데이터 결측치에 박애신사원 적용"
   ]
  },
  {
   "cell_type": "code",
   "execution_count": 64,
   "id": "662f31cb",
   "metadata": {},
   "outputs": [],
   "source": [
    "data_df_add_age[\"담당사원\"].fillna(\"박애신\", inplace=True)"
   ]
  },
  {
   "cell_type": "code",
   "execution_count": 65,
   "id": "fcf04d2f",
   "metadata": {},
   "outputs": [
    {
     "data": {
      "text/plain": [
       "False    24731\n",
       "Name: 담당사원, dtype: int64"
      ]
     },
     "execution_count": 65,
     "metadata": {},
     "output_type": "execute_result"
    }
   ],
   "source": [
    "data_df_add_age[\"담당사원\"].isnull().value_counts()"
   ]
  },
  {
   "cell_type": "code",
   "execution_count": 66,
   "id": "9af095cb",
   "metadata": {},
   "outputs": [],
   "source": [
    "data_df_add_age_tm = data_df_add_age.copy()"
   ]
  },
  {
   "cell_type": "markdown",
   "id": "2f770ab9",
   "metadata": {},
   "source": [
    "## 총구매 횟수 열 결측치 평균값으로 대체\n",
    "- 전체 데이터의 6480행에 해당하는 데이터 null값 확인 약 26퍼센트행에 대한 K-means 알고리즘 적용"
   ]
  },
  {
   "cell_type": "code",
   "execution_count": 67,
   "id": "2ff1a27e",
   "metadata": {},
   "outputs": [
    {
     "data": {
      "text/plain": [
       "False    24614\n",
       "True       117\n",
       "Name: 총구매횟수, dtype: int64"
      ]
     },
     "execution_count": 67,
     "metadata": {},
     "output_type": "execute_result"
    }
   ],
   "source": [
    "data_df_add_age_tm[\"총구매횟수\"].isnull().value_counts()"
   ]
  },
  {
   "cell_type": "code",
   "execution_count": 68,
   "id": "4a86c58b",
   "metadata": {},
   "outputs": [],
   "source": [
    "# 총구매횟수열만 가져온다\n",
    "df_count = data_df_add_age_tm[data_df_add_age_tm['총구매횟수'].notnull()]\n",
    "df_count_temp = df_count[['총구매횟수']]"
   ]
  },
  {
   "cell_type": "code",
   "execution_count": 69,
   "id": "4fe62b6e",
   "metadata": {},
   "outputs": [],
   "source": [
    "kmeans = cluster.KMeans(n_clusters=6, random_state=0).fit(df_count_temp) "
   ]
  },
  {
   "cell_type": "code",
   "execution_count": 70,
   "id": "8039be6c",
   "metadata": {},
   "outputs": [
    {
     "data": {
      "text/html": [
       "<div>\n",
       "<style scoped>\n",
       "    .dataframe tbody tr th:only-of-type {\n",
       "        vertical-align: middle;\n",
       "    }\n",
       "\n",
       "    .dataframe tbody tr th {\n",
       "        vertical-align: top;\n",
       "    }\n",
       "\n",
       "    .dataframe thead th {\n",
       "        text-align: right;\n",
       "    }\n",
       "</style>\n",
       "<table border=\"1\" class=\"dataframe\">\n",
       "  <thead>\n",
       "    <tr style=\"text-align: right;\">\n",
       "      <th></th>\n",
       "      <th>총구매횟수</th>\n",
       "    </tr>\n",
       "  </thead>\n",
       "  <tbody>\n",
       "    <tr>\n",
       "      <th>0</th>\n",
       "      <td>5.191541</td>\n",
       "    </tr>\n",
       "    <tr>\n",
       "      <th>1</th>\n",
       "      <td>1374.260870</td>\n",
       "    </tr>\n",
       "    <tr>\n",
       "      <th>2</th>\n",
       "      <td>582.098765</td>\n",
       "    </tr>\n",
       "    <tr>\n",
       "      <th>3</th>\n",
       "      <td>85.798803</td>\n",
       "    </tr>\n",
       "    <tr>\n",
       "      <th>4</th>\n",
       "      <td>2990.800000</td>\n",
       "    </tr>\n",
       "    <tr>\n",
       "      <th>5</th>\n",
       "      <td>269.261803</td>\n",
       "    </tr>\n",
       "  </tbody>\n",
       "</table>\n",
       "</div>"
      ],
      "text/plain": [
       "         총구매횟수\n",
       "0     5.191541\n",
       "1  1374.260870\n",
       "2   582.098765\n",
       "3    85.798803\n",
       "4  2990.800000\n",
       "5   269.261803"
      ]
     },
     "execution_count": 70,
     "metadata": {},
     "output_type": "execute_result"
    }
   ],
   "source": [
    "# 군집 중심 확인 및 컬럼이름 붙히기\n",
    "pd.DataFrame(kmeans.cluster_centers_, columns=df_count_temp.columns, index=range(6))"
   ]
  },
  {
   "cell_type": "code",
   "execution_count": 71,
   "id": "7c5b7a90",
   "metadata": {},
   "outputs": [
    {
     "name": "stdout",
     "output_type": "stream",
     "text": [
      "(array([0, 1, 2, 3, 4, 5]), array([22935,    23,    81,  1337,     5,   233], dtype=int64))\n"
     ]
    }
   ],
   "source": [
    "# 입력한 배열에 동일한 값의 개수가 몇개있는지 알수있다\n",
    "print(np.unique(kmeans.labels_, return_counts=True))"
   ]
  },
  {
   "cell_type": "code",
   "execution_count": 72,
   "id": "3a32e86c",
   "metadata": {},
   "outputs": [
    {
     "name": "stdout",
     "output_type": "stream",
     "text": [
      "146976276.51600438\n",
      "68735891.48069444\n",
      "34969531.56561348\n",
      "23778960.42771576\n",
      "13916678.536780765\n",
      "10201659.911802111\n",
      "6932752.872905288\n",
      "5161603.973689832\n",
      "4233085.807214307\n",
      "3201037.4255916807\n",
      "2631265.5803158986\n",
      "2115141.7613046304\n",
      "1757805.4388602593\n",
      "1520494.4240012728\n"
     ]
    },
    {
     "data": {
      "image/png": "[encoded data removed]",
      "text/plain": [
       "<Figure size 432x288 with 1 Axes>"
      ]
     },
     "metadata": {
      "needs_background": "light"
     },
     "output_type": "display_data"
    }
   ],
   "source": [
    "# 최적의 클러스터 갯수 확인 : 엘보우포인트\n",
    "def elbow(df_count_temp):\n",
    "    total_distance = []\n",
    "    for i in range(1, 15):\n",
    "        model = cluster.KMeans(n_clusters=i, random_state=0)\n",
    "        model.fit(df_count_temp)\n",
    "        \n",
    "        # inertia : Sum of squared distances of samples to their closest cluster center.\n",
    "        total_distance.append(model.inertia_) \n",
    "        print(model.inertia_)\n",
    "        \n",
    "    plt.plot(range(1, 15), total_distance, marker='o')\n",
    "    plt.xlabel('# of clusters')\n",
    "    plt.ylabel('Total distance (SSE)')\n",
    "    plt.show()\n",
    "\n",
    "elbow(df_count_temp) # Iris case : 2"
   ]
  },
  {
   "cell_type": "markdown",
   "id": "3404800f",
   "metadata": {},
   "source": [
    "## 총구매횟수 결측치 처리\n",
    "- k-means로 확인한 군집도 높은값은 5.5\n",
    "- 원본데이터 총구매횟수 결측치에 5.5로 처리"
   ]
  },
  {
   "cell_type": "code",
   "execution_count": 73,
   "id": "ca433f43",
   "metadata": {},
   "outputs": [],
   "source": [
    "data_df_add_age_tm['총구매횟수'].fillna(5.5,inplace=True)"
   ]
  },
  {
   "cell_type": "code",
   "execution_count": 74,
   "id": "5a629fb8",
   "metadata": {},
   "outputs": [
    {
     "data": {
      "text/plain": [
       "False    24731\n",
       "Name: 총구매횟수, dtype: int64"
      ]
     },
     "execution_count": 74,
     "metadata": {},
     "output_type": "execute_result"
    }
   ],
   "source": [
    "data_df_add_age_tm['총구매횟수'].isnull().value_counts()"
   ]
  },
  {
   "cell_type": "code",
   "execution_count": 75,
   "id": "1f08b1d9",
   "metadata": {},
   "outputs": [],
   "source": [
    "data_df_add_age_tm_count = data_df_add_age_tm.copy()"
   ]
  },
  {
   "cell_type": "markdown",
   "id": "c6c84085",
   "metadata": {},
   "source": [
    "## 할인율 결측치처리"
   ]
  },
  {
   "cell_type": "code",
   "execution_count": 76,
   "id": "2068a5ec",
   "metadata": {},
   "outputs": [
    {
     "ename": "KeyError",
     "evalue": "'할인율'",
     "output_type": "error",
     "traceback": [
      "\u001b[1;31m---------------------------------------------------------------------------\u001b[0m",
      "\u001b[1;31mKeyError\u001b[0m                                  Traceback (most recent call last)",
      "File \u001b[1;32m~\\anaconda3\\lib\\site-packages\\pandas\\core\\indexes\\base.py:3621\u001b[0m, in \u001b[0;36mIndex.get_loc\u001b[1;34m(self, key, method, tolerance)\u001b[0m\n\u001b[0;32m   3620\u001b[0m \u001b[38;5;28;01mtry\u001b[39;00m:\n\u001b[1;32m-> 3621\u001b[0m     \u001b[38;5;28;01mreturn\u001b[39;00m \u001b[38;5;28;43mself\u001b[39;49m\u001b[38;5;241;43m.\u001b[39;49m\u001b[43m_engine\u001b[49m\u001b[38;5;241;43m.\u001b[39;49m\u001b[43mget_loc\u001b[49m\u001b[43m(\u001b[49m\u001b[43mcasted_key\u001b[49m\u001b[43m)\u001b[49m\n\u001b[0;32m   3622\u001b[0m \u001b[38;5;28;01mexcept\u001b[39;00m \u001b[38;5;167;01mKeyError\u001b[39;00m \u001b[38;5;28;01mas\u001b[39;00m err:\n",
      "File \u001b[1;32m~\\anaconda3\\lib\\site-packages\\pandas\\_libs\\index.pyx:136\u001b[0m, in \u001b[0;36mpandas._libs.index.IndexEngine.get_loc\u001b[1;34m()\u001b[0m\n",
      "File \u001b[1;32m~\\anaconda3\\lib\\site-packages\\pandas\\_libs\\index.pyx:163\u001b[0m, in \u001b[0;36mpandas._libs.index.IndexEngine.get_loc\u001b[1;34m()\u001b[0m\n",
      "File \u001b[1;32mpandas\\_libs\\hashtable_class_helper.pxi:5198\u001b[0m, in \u001b[0;36mpandas._libs.hashtable.PyObjectHashTable.get_item\u001b[1;34m()\u001b[0m\n",
      "File \u001b[1;32mpandas\\_libs\\hashtable_class_helper.pxi:5206\u001b[0m, in \u001b[0;36mpandas._libs.hashtable.PyObjectHashTable.get_item\u001b[1;34m()\u001b[0m\n",
      "\u001b[1;31mKeyError\u001b[0m: '할인율'",
      "\nThe above exception was the direct cause of the following exception:\n",
      "\u001b[1;31mKeyError\u001b[0m                                  Traceback (most recent call last)",
      "Input \u001b[1;32mIn [76]\u001b[0m, in \u001b[0;36m<cell line: 1>\u001b[1;34m()\u001b[0m\n\u001b[1;32m----> 1\u001b[0m \u001b[43mdata_df_add_age_tm_count\u001b[49m\u001b[43m[\u001b[49m\u001b[38;5;124;43m'\u001b[39;49m\u001b[38;5;124;43m할인율\u001b[39;49m\u001b[38;5;124;43m'\u001b[39;49m\u001b[43m]\u001b[49m\u001b[38;5;241m.\u001b[39mvalue_counts()\n",
      "File \u001b[1;32m~\\anaconda3\\lib\\site-packages\\pandas\\core\\frame.py:3505\u001b[0m, in \u001b[0;36mDataFrame.__getitem__\u001b[1;34m(self, key)\u001b[0m\n\u001b[0;32m   3503\u001b[0m \u001b[38;5;28;01mif\u001b[39;00m \u001b[38;5;28mself\u001b[39m\u001b[38;5;241m.\u001b[39mcolumns\u001b[38;5;241m.\u001b[39mnlevels \u001b[38;5;241m>\u001b[39m \u001b[38;5;241m1\u001b[39m:\n\u001b[0;32m   3504\u001b[0m     \u001b[38;5;28;01mreturn\u001b[39;00m \u001b[38;5;28mself\u001b[39m\u001b[38;5;241m.\u001b[39m_getitem_multilevel(key)\n\u001b[1;32m-> 3505\u001b[0m indexer \u001b[38;5;241m=\u001b[39m \u001b[38;5;28;43mself\u001b[39;49m\u001b[38;5;241;43m.\u001b[39;49m\u001b[43mcolumns\u001b[49m\u001b[38;5;241;43m.\u001b[39;49m\u001b[43mget_loc\u001b[49m\u001b[43m(\u001b[49m\u001b[43mkey\u001b[49m\u001b[43m)\u001b[49m\n\u001b[0;32m   3506\u001b[0m \u001b[38;5;28;01mif\u001b[39;00m is_integer(indexer):\n\u001b[0;32m   3507\u001b[0m     indexer \u001b[38;5;241m=\u001b[39m [indexer]\n",
      "File \u001b[1;32m~\\anaconda3\\lib\\site-packages\\pandas\\core\\indexes\\base.py:3623\u001b[0m, in \u001b[0;36mIndex.get_loc\u001b[1;34m(self, key, method, tolerance)\u001b[0m\n\u001b[0;32m   3621\u001b[0m     \u001b[38;5;28;01mreturn\u001b[39;00m \u001b[38;5;28mself\u001b[39m\u001b[38;5;241m.\u001b[39m_engine\u001b[38;5;241m.\u001b[39mget_loc(casted_key)\n\u001b[0;32m   3622\u001b[0m \u001b[38;5;28;01mexcept\u001b[39;00m \u001b[38;5;167;01mKeyError\u001b[39;00m \u001b[38;5;28;01mas\u001b[39;00m err:\n\u001b[1;32m-> 3623\u001b[0m     \u001b[38;5;28;01mraise\u001b[39;00m \u001b[38;5;167;01mKeyError\u001b[39;00m(key) \u001b[38;5;28;01mfrom\u001b[39;00m \u001b[38;5;21;01merr\u001b[39;00m\n\u001b[0;32m   3624\u001b[0m \u001b[38;5;28;01mexcept\u001b[39;00m \u001b[38;5;167;01mTypeError\u001b[39;00m:\n\u001b[0;32m   3625\u001b[0m     \u001b[38;5;66;03m# If we have a listlike key, _check_indexing_error will raise\u001b[39;00m\n\u001b[0;32m   3626\u001b[0m     \u001b[38;5;66;03m#  InvalidIndexError. Otherwise we fall through and re-raise\u001b[39;00m\n\u001b[0;32m   3627\u001b[0m     \u001b[38;5;66;03m#  the TypeError.\u001b[39;00m\n\u001b[0;32m   3628\u001b[0m     \u001b[38;5;28mself\u001b[39m\u001b[38;5;241m.\u001b[39m_check_indexing_error(key)\n",
      "\u001b[1;31mKeyError\u001b[0m: '할인율'"
     ]
    }
   ],
   "source": [
    "data_df_add_age_tm_count['할인율'].value_counts()"
   ]
  },
  {
   "cell_type": "code",
   "execution_count": null,
   "id": "f2bf9e1c",
   "metadata": {},
   "outputs": [],
   "source": [
    "data_df_add_age_tm_count['할인율'].isnull().value_counts()"
   ]
  },
  {
   "cell_type": "markdown",
   "id": "173e0bbf",
   "metadata": {},
   "source": [
    "## 할인율 열 결측치 삭제\n",
    "- 마이너스나 100을 넘는 이상치들은 35건정도로 1% 미만이므로 삭제한다"
   ]
  },
  {
   "cell_type": "code",
   "execution_count": null,
   "id": "405c0229",
   "metadata": {},
   "outputs": [],
   "source": [
    "data_df_add_age_tm_count['할인율'].value_counts()"
   ]
  },
  {
   "cell_type": "code",
   "execution_count": null,
   "id": "62d5c6c7",
   "metadata": {},
   "outputs": [],
   "source": [
    "# 마이너스나 100을 넘는 이상치들은 35건정도로 1% 미만이므로 삭제한다\n",
    "data_df_add_age_tm_count = data_df_add_age_tm_count[data_df_add_age_tm_count['할인율']<=101]\n",
    "data_df_add_age_tm_count = data_df_add_age_tm_count[data_df_add_age_tm_count['할인율']>0]\n",
    "data_df_add_age_tm_count = data_df_add_age_tm_count[data_df_add_age_tm_count['할인율'].notnull()]\n",
    "\n",
    "data_df_add_age_tm_count.head()"
   ]
  },
  {
   "cell_type": "code",
   "execution_count": null,
   "id": "7eb27eb0",
   "metadata": {},
   "outputs": [],
   "source": [
    "data_df_add_age_tm_count['할인율'].value_counts()"
   ]
  },
  {
   "cell_type": "code",
   "execution_count": null,
   "id": "3cb6c40c",
   "metadata": {},
   "outputs": [],
   "source": [
    "data_df_add_age_tm_count.info()"
   ]
  },
  {
   "cell_type": "code",
   "execution_count": null,
   "id": "55f5a350",
   "metadata": {},
   "outputs": [],
   "source": [
    "data_df_add_age_tm_count_per = data_df_add_age_tm_count.copy()"
   ]
  },
  {
   "cell_type": "code",
   "execution_count": null,
   "id": "b8565e16",
   "metadata": {},
   "outputs": [],
   "source": [
    "f, ax = plt.subplots(1,2,figsize=(18,8))\n",
    "msno.heatmap(data_df_add_age_tm_count_per,ax=ax[0])\n",
    "ax[0].set_title('결측치 히트맵')\n",
    "\n",
    "msno.matrix(data_df_add_age_tm_count_per,ax=ax[1])\n",
    "ax[1].set_title('결측치 매트릭스')"
   ]
  },
  {
   "cell_type": "markdown",
   "id": "f1379ff2",
   "metadata": {},
   "source": [
    "# 이상치 핸들링"
   ]
  },
  {
   "cell_type": "markdown",
   "id": "d540ee69",
   "metadata": {},
   "source": [
    "## IQR 계산 후 처리"
   ]
  },
  {
   "cell_type": "code",
   "execution_count": null,
   "id": "8139316d",
   "metadata": {},
   "outputs": [],
   "source": [
    "# 연속형 변수\n",
    "# 자녀의 수가 0인경우가 너무 많음 부정확함 제외\n",
    "# 사용포인트도 안사용한경우가 더 많음.. 포인트 사용 여부로 범주형으로 돌려야함\n",
    "\n",
    "# num_data = data_df_add_age_tm_count_per_point[['총상담횟수','총구매횟수', '총구매수량',\\\n",
    "#                                                '총구매금액','총할인금액','최종결제금액',\\\n",
    "#                                                '할인율','사용포인트','잔여포인트','자녀수']]\n",
    "\n",
    "num_data = data_df_add_age_tm_count_per[['상담횟수','총구매횟수', '총구매수량',\\\n",
    "                                               '총구매금액','총할인금액','최종결제금액',\\\n",
    "                                               '할인율','잔여포인트']]\n",
    "num_data.astype('float')\n",
    "num_data"
   ]
  },
  {
   "cell_type": "code",
   "execution_count": null,
   "id": "92c8d4f9",
   "metadata": {},
   "outputs": [],
   "source": [
    "# 각 연속형 컬럼마다 IQR값 계산\n",
    "import numpy as np\n",
    "def IQR_rule(val_list): # 한 특징에 포함된 값 (열 벡터)\n",
    "    # IQR 계산    \n",
    "    Q1 = np.quantile(val_list, 0.25)\n",
    "    Q3 = np.quantile(val_list, 0.75)\n",
    "    IQR = Q3 - Q1\n",
    "    \n",
    "    # IQR rule을 위배하지 않는 bool list 계산 (True: 이상치 X, False: 이상치 O)\n",
    "    not_outlier_condition = (Q3 + 1.5 * IQR > val_list) & (Q1 - 1.5 * IQR < val_list)\n",
    "    return not_outlier_condition"
   ]
  },
  {
   "cell_type": "code",
   "execution_count": null,
   "id": "6c3900f4",
   "metadata": {},
   "outputs": [],
   "source": [
    "conditions = num_data.apply(IQR_rule) # apply를 이용하여 모든 컬럼에 IQR rule 함수 적용\n",
    "conditions"
   ]
  },
  {
   "cell_type": "code",
   "execution_count": null,
   "id": "79c399db",
   "metadata": {},
   "outputs": [],
   "source": [
    "total_condition = conditions.sum(axis = 1) == len(num_data.columns) # 하나라도 IQR 규칙을 위반하는 요소를 갖는 레코드를 제거하기 위한 규칙\n",
    "num_data = num_data.loc[total_condition] # 이상치 제거"
   ]
  },
  {
   "cell_type": "code",
   "execution_count": null,
   "id": "3a636937",
   "metadata": {},
   "outputs": [],
   "source": [
    "# 원본데이터 24701행 중 5006행의 이상치가 제거되어 19695행이 되었음\n",
    "# 이상치는 20%정도\n",
    "\n",
    "num_row = num_data.shape[0]\n",
    "defalt_row = data_df_add_age_tm.shape[0]\n",
    "\n",
    "print(defalt_row-num_row)\n",
    "print((defalt_row-num_row)/defalt_row)"
   ]
  },
  {
   "cell_type": "markdown",
   "id": "cb36ce06",
   "metadata": {},
   "source": [
    "# 원본데이터에 이상치 제거한 데이터 적용"
   ]
  },
  {
   "cell_type": "code",
   "execution_count": null,
   "id": "71c9f2d0",
   "metadata": {},
   "outputs": [],
   "source": [
    "num_data\n",
    "#num_data.loc[[19826]]"
   ]
  },
  {
   "cell_type": "code",
   "execution_count": null,
   "id": "93875ccb",
   "metadata": {},
   "outputs": [],
   "source": [
    "# left_index=True, right_index=True 옵션을 넣으면 \n",
    "# 왼쪽 데이터프레임의 인덱스와 오른쪽 데이터프레임의 인덱스가 같은 행만 추출한다. (inner 기본 적용)\n",
    "data_df_add_age_tm_out = pd.merge(data_df_add_age_tm_count_per, num_data, left_index=True, right_index=True)"
   ]
  },
  {
   "cell_type": "code",
   "execution_count": null,
   "id": "56d3fa6a",
   "metadata": {},
   "outputs": [],
   "source": [
    "data_df_add_age_tm_out.head()"
   ]
  },
  {
   "cell_type": "code",
   "execution_count": null,
   "id": "8c5bdea9",
   "metadata": {},
   "outputs": [],
   "source": [
    "data_df_add_age_tm_out_join = data_df_add_age_tm_out[['거주지','가입경로','담당사원','상품코드',\\\n",
    "                                                     '상담횟수_y','총구매횟수_y',\\\n",
    "                                                     '총구매수량_y','총구매금액_y',\\\n",
    "                                                     '총할인금액_y','최종결제금액_y',\\\n",
    "                                                     '할인율_y','잔여포인트_y',\\\n",
    "                                                     '재구매여부','부모연령','포인트사용여부']]\n",
    "data_df_add_age_tm_out_join"
   ]
  },
  {
   "cell_type": "code",
   "execution_count": null,
   "id": "ef265396",
   "metadata": {},
   "outputs": [],
   "source": [
    "data_df_add_age_tm_out_join.shape"
   ]
  },
  {
   "cell_type": "markdown",
   "id": "e055dd85",
   "metadata": {},
   "source": [
    "# 값이 작은 이상치 제거(범주형)"
   ]
  },
  {
   "cell_type": "code",
   "execution_count": null,
   "id": "e87cf37a",
   "metadata": {
    "scrolled": true
   },
   "outputs": [],
   "source": [
    "#범주형 컬럼 vaule_counts\n",
    "print(data_df_add_age_tm_out_join[\"거주지\"].value_counts())\n",
    "print(\"===================================\")\n",
    "print(data_df_add_age_tm_out_join[\"가입경로\"].value_counts())\n",
    "print(\"===================================\")\n",
    "print(data_df_add_age_tm_out_join[\"담당사원\"].value_counts())\n",
    "print(\"===================================\")\n",
    "print(data_df_add_age_tm_out_join[\"상품코드\"].value_counts())\n",
    "print(\"===================================\")\n",
    "print(data_df_add_age_tm_out_join[\"부모연령\"].value_counts())\n",
    "print(\"===================================\")"
   ]
  },
  {
   "cell_type": "code",
   "execution_count": null,
   "id": "0b1139cc",
   "metadata": {},
   "outputs": [],
   "source": [
    "data_df_final = data_df_add_age_tm_out_join[data_df_add_age_tm_out_join[\"가입경로\"]!=\"AA\"]\n",
    "data_df_final = data_df_final[data_df_add_age_tm_out_join[\"가입경로\"]!=\"J\"]\n",
    "data_df_final = data_df_final[data_df_add_age_tm_out_join[\"가입경로\"]!=\"X\"]\n",
    "data_df_final = data_df_final[data_df_add_age_tm_out_join[\"가입경로\"]!=\"DD\"]\n",
    "data_df_final = data_df_final[data_df_add_age_tm_out_join[\"가입경로\"]!=\"CC\"]\n",
    "\n",
    "# data_df_final = data_df_add_age_tm_out_join[data_df_add_age_tm_out_join[\"체험상품\"]!=\"90001\"]\n",
    "# data_df_final = data_df_add_age_tm_out_join[data_df_add_age_tm_out_join[\"가입경로\"]!=\"CC\"]\n",
    "\n",
    "data_df_final"
   ]
  },
  {
   "cell_type": "code",
   "execution_count": null,
   "id": "123fa8b7",
   "metadata": {},
   "outputs": [],
   "source": [
    "data_df_final['상품코드'].value_counts()"
   ]
  },
  {
   "cell_type": "code",
   "execution_count": null,
   "id": "3e226d44",
   "metadata": {},
   "outputs": [],
   "source": [
    "data_df_final = data_df_final[data_df_add_age_tm_out_join[\"상품코드\"]!=35001]\n",
    "data_df_final = data_df_final[data_df_add_age_tm_out_join[\"상품코드\"]!=38004]\n",
    "data_df_final = data_df_final[data_df_add_age_tm_out_join[\"상품코드\"]!=90002]\n",
    "data_df_final = data_df_final[data_df_add_age_tm_out_join[\"상품코드\"]!=83001]\n",
    "data_df_final = data_df_final[data_df_add_age_tm_out_join[\"상품코드\"]!=90012]\n",
    "data_df_final = data_df_final[data_df_add_age_tm_out_join[\"상품코드\"]!=90007]\n",
    "data_df_final = data_df_final[data_df_add_age_tm_out_join[\"상품코드\"]!=90004]\n",
    "data_df_final = data_df_final[data_df_add_age_tm_out_join[\"상품코드\"]!=35030]\n",
    "data_df_final = data_df_final[data_df_add_age_tm_out_join[\"상품코드\"]!=73001]\n",
    "data_df_final = data_df_final[data_df_add_age_tm_out_join[\"상품코드\"]!=72010]\n",
    "data_df_final = data_df_final[data_df_add_age_tm_out_join[\"상품코드\"]!=39002]\n",
    "data_df_final = data_df_final[data_df_add_age_tm_out_join[\"상품코드\"]!=38003]\n",
    "\n",
    "data_df_final = data_df_final[data_df_add_age_tm_out_join[\"상품코드\"]!=90013]\n",
    "data_df_final = data_df_final[data_df_add_age_tm_out_join[\"상품코드\"]!=90006]\n",
    "data_df_final = data_df_final[data_df_add_age_tm_out_join[\"상품코드\"]!=90005]\n",
    "data_df_final = data_df_final[data_df_add_age_tm_out_join[\"상품코드\"]!=90011]\n",
    "data_df_final = data_df_final[data_df_add_age_tm_out_join[\"상품코드\"]!=73002]\n",
    "data_df_final = data_df_final[data_df_add_age_tm_out_join[\"상품코드\"]!=38001]\n",
    "data_df_final = data_df_final[data_df_add_age_tm_out_join[\"상품코드\"]!=38002]\n",
    "data_df_final = data_df_final[data_df_add_age_tm_out_join[\"상품코드\"]!=72001]\n",
    "data_df_final = data_df_final[data_df_add_age_tm_out_join[\"상품코드\"]!=90001]\n",
    "data_df_final = data_df_final[data_df_add_age_tm_out_join[\"상품코드\"]!=72012]\n",
    "data_df_final = data_df_final[data_df_add_age_tm_out_join[\"상품코드\"]!=37001]\n",
    "data_df_final = data_df_final[data_df_add_age_tm_out_join[\"상품코드\"]!=90014]\n",
    "data_df_final = data_df_final[data_df_add_age_tm_out_join[\"상품코드\"]!=72002]\n",
    "data_df_final = data_df_final[data_df_add_age_tm_out_join[\"상품코드\"]!=35021]\n",
    "\n",
    "data_df_final = data_df_final[data_df_add_age_tm_out_join[\"상품코드\"]!=89001]\n",
    "data_df_final = data_df_final[data_df_add_age_tm_out_join[\"상품코드\"]!=12009]\n",
    "data_df_final = data_df_final[data_df_add_age_tm_out_join[\"상품코드\"]!=52001]\n",
    "data_df_final = data_df_final[data_df_add_age_tm_out_join[\"상품코드\"]!=18001]\n",
    "data_df_final = data_df_final[data_df_add_age_tm_out_join[\"상품코드\"]!=48001]\n",
    "data_df_final = data_df_final[data_df_add_age_tm_out_join[\"상품코드\"]!=52007]\n",
    "data_df_final = data_df_final[data_df_add_age_tm_out_join[\"상품코드\"]!=78011]\n",
    "data_df_final = data_df_final[data_df_add_age_tm_out_join[\"상품코드\"]!=12001]\n",
    "\n",
    "data_df_final"
   ]
  },
  {
   "cell_type": "code",
   "execution_count": null,
   "id": "f723ce46",
   "metadata": {},
   "outputs": [],
   "source": [
    "# 연령 3,4,7\n",
    "\n",
    "data_df_final = data_df_final[data_df_add_age_tm_out_join[\"부모연령\"]!=3]\n",
    "data_df_final = data_df_final[data_df_add_age_tm_out_join[\"부모연령\"]!=4]\n",
    "data_df_final = data_df_final[data_df_add_age_tm_out_join[\"부모연령\"]!=7]"
   ]
  },
  {
   "cell_type": "code",
   "execution_count": null,
   "id": "3ff255d6",
   "metadata": {
    "scrolled": true
   },
   "outputs": [],
   "source": [
    "print(data_df_final['가입경로'].value_counts())\n",
    "\n",
    "print(data_df_final['상품코드'].value_counts())\n",
    "\n",
    "print(data_df_final['부모연령'].value_counts())\n"
   ]
  },
  {
   "cell_type": "code",
   "execution_count": null,
   "id": "446df447",
   "metadata": {},
   "outputs": [],
   "source": [
    "data_df_final.count()"
   ]
  },
  {
   "cell_type": "code",
   "execution_count": null,
   "id": "328cfabe",
   "metadata": {},
   "outputs": [],
   "source": [
    "# reset index 해주자\n",
    "data_df_final.reset_index(inplace=True)"
   ]
  },
  {
   "cell_type": "code",
   "execution_count": null,
   "id": "e8a571ea",
   "metadata": {},
   "outputs": [],
   "source": [
    "#data_df_final.to_excel('milk_preprocessing_outlier.xlsx')"
   ]
  }
 ],
 "metadata": {
  "kernelspec": {
   "display_name": "Python 3 (ipykernel)",
   "language": "python",
   "name": "python3"
  },
  "language_info": {
   "codemirror_mode": {
    "name": "ipython",
    "version": 3
   },
   "file_extension": ".py",
   "mimetype": "text/x-python",
   "name": "python",
   "nbconvert_exporter": "python",
   "pygments_lexer": "ipython3",
   "version": "3.9.12"
  }
 },
 "nbformat": 4,
 "nbformat_minor": 5
}
