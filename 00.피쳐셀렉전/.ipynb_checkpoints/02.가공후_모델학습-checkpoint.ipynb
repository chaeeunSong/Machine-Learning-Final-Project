{
 "cells": [
  {
   "cell_type": "code",
   "execution_count": 1,
   "id": "f4c69d64",
   "metadata": {},
   "outputs": [],
   "source": [
    "import copy\n",
    "import datetime\n",
    "import warnings\n",
    "warnings.filterwarnings(action='ignore') \n",
    "\n",
    "import pandas as pd\n",
    "import numpy as np\n",
    "import matplotlib.pyplot as plt\n",
    "\n",
    "from matplotlib import font_manager, rc\n",
    "font_path = \"C:/Windows/Fonts/NGULIM.TTF\"\n",
    "font = font_manager.FontProperties(fname=font_path).get_name()\n",
    "rc('font', family=font)\n",
    "\n",
    "# 시각화\n",
    "import seaborn as sns\n",
    "# 결측치\n",
    "import missingno as msno\n",
    "\n",
    "import sklearn\n",
    "from sklearn.preprocessing import StandardScaler, OneHotEncoder\n",
    "from sklearn import model_selection, linear_model\n",
    "from sklearn.metrics import auc\n",
    "\n",
    "# 파이프라인\n",
    "from sklearn.compose import ColumnTransformer\n",
    "from sklearn.pipeline import Pipeline\n",
    "\n",
    "from sklearn import cluster\n"
   ]
  },
  {
   "cell_type": "markdown",
   "id": "6bae4b80",
   "metadata": {},
   "source": [
    "# 데이터 불러오기"
   ]
  },
  {
   "cell_type": "code",
   "execution_count": 2,
   "id": "f701288b",
   "metadata": {},
   "outputs": [
    {
     "data": {
      "text/html": [
       "<div>\n",
       "<style scoped>\n",
       "    .dataframe tbody tr th:only-of-type {\n",
       "        vertical-align: middle;\n",
       "    }\n",
       "\n",
       "    .dataframe tbody tr th {\n",
       "        vertical-align: top;\n",
       "    }\n",
       "\n",
       "    .dataframe thead th {\n",
       "        text-align: right;\n",
       "    }\n",
       "</style>\n",
       "<table border=\"1\" class=\"dataframe\">\n",
       "  <thead>\n",
       "    <tr style=\"text-align: right;\">\n",
       "      <th></th>\n",
       "      <th>Unnamed: 0</th>\n",
       "      <th>index</th>\n",
       "      <th>거주지</th>\n",
       "      <th>가입경로</th>\n",
       "      <th>담당사원</th>\n",
       "      <th>상품코드</th>\n",
       "      <th>상담횟수_y</th>\n",
       "      <th>총구매횟수_y</th>\n",
       "      <th>총구매수량_y</th>\n",
       "      <th>총구매금액_y</th>\n",
       "      <th>재구매여부</th>\n",
       "      <th>부모연령</th>\n",
       "    </tr>\n",
       "  </thead>\n",
       "  <tbody>\n",
       "    <tr>\n",
       "      <th>0</th>\n",
       "      <td>0</td>\n",
       "      <td>1</td>\n",
       "      <td>광주광역시</td>\n",
       "      <td>D</td>\n",
       "      <td>정유경</td>\n",
       "      <td>35025</td>\n",
       "      <td>16</td>\n",
       "      <td>8.0</td>\n",
       "      <td>14</td>\n",
       "      <td>367800</td>\n",
       "      <td>1</td>\n",
       "      <td>2</td>\n",
       "    </tr>\n",
       "    <tr>\n",
       "      <th>1</th>\n",
       "      <td>1</td>\n",
       "      <td>2</td>\n",
       "      <td>경상남도</td>\n",
       "      <td>M</td>\n",
       "      <td>정유경</td>\n",
       "      <td>35007</td>\n",
       "      <td>20</td>\n",
       "      <td>8.0</td>\n",
       "      <td>14</td>\n",
       "      <td>480600</td>\n",
       "      <td>0</td>\n",
       "      <td>2</td>\n",
       "    </tr>\n",
       "    <tr>\n",
       "      <th>2</th>\n",
       "      <td>2</td>\n",
       "      <td>3</td>\n",
       "      <td>부산광역시</td>\n",
       "      <td>M</td>\n",
       "      <td>이선영</td>\n",
       "      <td>35023</td>\n",
       "      <td>4</td>\n",
       "      <td>8.0</td>\n",
       "      <td>14</td>\n",
       "      <td>358000</td>\n",
       "      <td>0</td>\n",
       "      <td>2</td>\n",
       "    </tr>\n",
       "    <tr>\n",
       "      <th>3</th>\n",
       "      <td>3</td>\n",
       "      <td>4</td>\n",
       "      <td>전라북도</td>\n",
       "      <td>M</td>\n",
       "      <td>이선영</td>\n",
       "      <td>35027</td>\n",
       "      <td>6</td>\n",
       "      <td>4.0</td>\n",
       "      <td>2</td>\n",
       "      <td>55000</td>\n",
       "      <td>1</td>\n",
       "      <td>2</td>\n",
       "    </tr>\n",
       "    <tr>\n",
       "      <th>4</th>\n",
       "      <td>4</td>\n",
       "      <td>9</td>\n",
       "      <td>서울특별시</td>\n",
       "      <td>D</td>\n",
       "      <td>박애신</td>\n",
       "      <td>35007</td>\n",
       "      <td>6</td>\n",
       "      <td>4.0</td>\n",
       "      <td>2</td>\n",
       "      <td>37800</td>\n",
       "      <td>0</td>\n",
       "      <td>1</td>\n",
       "    </tr>\n",
       "    <tr>\n",
       "      <th>...</th>\n",
       "      <td>...</td>\n",
       "      <td>...</td>\n",
       "      <td>...</td>\n",
       "      <td>...</td>\n",
       "      <td>...</td>\n",
       "      <td>...</td>\n",
       "      <td>...</td>\n",
       "      <td>...</td>\n",
       "      <td>...</td>\n",
       "      <td>...</td>\n",
       "      <td>...</td>\n",
       "      <td>...</td>\n",
       "    </tr>\n",
       "    <tr>\n",
       "      <th>19334</th>\n",
       "      <td>19334</td>\n",
       "      <td>24746</td>\n",
       "      <td>강원도</td>\n",
       "      <td>E</td>\n",
       "      <td>박애신</td>\n",
       "      <td>27001</td>\n",
       "      <td>2</td>\n",
       "      <td>3.0</td>\n",
       "      <td>8</td>\n",
       "      <td>186800</td>\n",
       "      <td>1</td>\n",
       "      <td>1</td>\n",
       "    </tr>\n",
       "    <tr>\n",
       "      <th>19335</th>\n",
       "      <td>19335</td>\n",
       "      <td>24747</td>\n",
       "      <td>경기도</td>\n",
       "      <td>H</td>\n",
       "      <td>이선영</td>\n",
       "      <td>27001</td>\n",
       "      <td>3</td>\n",
       "      <td>4.0</td>\n",
       "      <td>9</td>\n",
       "      <td>197700</td>\n",
       "      <td>0</td>\n",
       "      <td>1</td>\n",
       "    </tr>\n",
       "    <tr>\n",
       "      <th>19336</th>\n",
       "      <td>19336</td>\n",
       "      <td>24750</td>\n",
       "      <td>경기도</td>\n",
       "      <td>H</td>\n",
       "      <td>박애신</td>\n",
       "      <td>27001</td>\n",
       "      <td>4</td>\n",
       "      <td>4.0</td>\n",
       "      <td>4</td>\n",
       "      <td>121600</td>\n",
       "      <td>0</td>\n",
       "      <td>2</td>\n",
       "    </tr>\n",
       "    <tr>\n",
       "      <th>19337</th>\n",
       "      <td>19337</td>\n",
       "      <td>24758</td>\n",
       "      <td>충청북도</td>\n",
       "      <td>E</td>\n",
       "      <td>박애신</td>\n",
       "      <td>27001</td>\n",
       "      <td>2</td>\n",
       "      <td>2.0</td>\n",
       "      <td>8</td>\n",
       "      <td>243200</td>\n",
       "      <td>1</td>\n",
       "      <td>1</td>\n",
       "    </tr>\n",
       "    <tr>\n",
       "      <th>19338</th>\n",
       "      <td>19338</td>\n",
       "      <td>24759</td>\n",
       "      <td>전라북도</td>\n",
       "      <td>Q</td>\n",
       "      <td>박애신</td>\n",
       "      <td>27001</td>\n",
       "      <td>7</td>\n",
       "      <td>3.0</td>\n",
       "      <td>15</td>\n",
       "      <td>224100</td>\n",
       "      <td>0</td>\n",
       "      <td>1</td>\n",
       "    </tr>\n",
       "  </tbody>\n",
       "</table>\n",
       "<p>19339 rows × 12 columns</p>\n",
       "</div>"
      ],
      "text/plain": [
       "       Unnamed: 0  index    거주지 가입경로 담당사원   상품코드  상담횟수_y  총구매횟수_y  총구매수량_y  \\\n",
       "0               0      1  광주광역시    D  정유경  35025      16      8.0       14   \n",
       "1               1      2   경상남도    M  정유경  35007      20      8.0       14   \n",
       "2               2      3  부산광역시    M  이선영  35023       4      8.0       14   \n",
       "3               3      4   전라북도    M  이선영  35027       6      4.0        2   \n",
       "4               4      9  서울특별시    D  박애신  35007       6      4.0        2   \n",
       "...           ...    ...    ...  ...  ...    ...     ...      ...      ...   \n",
       "19334       19334  24746    강원도    E  박애신  27001       2      3.0        8   \n",
       "19335       19335  24747    경기도    H  이선영  27001       3      4.0        9   \n",
       "19336       19336  24750    경기도    H  박애신  27001       4      4.0        4   \n",
       "19337       19337  24758   충청북도    E  박애신  27001       2      2.0        8   \n",
       "19338       19338  24759   전라북도    Q  박애신  27001       7      3.0       15   \n",
       "\n",
       "       총구매금액_y  재구매여부  부모연령  \n",
       "0       367800      1     2  \n",
       "1       480600      0     2  \n",
       "2       358000      0     2  \n",
       "3        55000      1     2  \n",
       "4        37800      0     1  \n",
       "...        ...    ...   ...  \n",
       "19334   186800      1     1  \n",
       "19335   197700      0     1  \n",
       "19336   121600      0     2  \n",
       "19337   243200      1     1  \n",
       "19338   224100      0     1  \n",
       "\n",
       "[19339 rows x 12 columns]"
      ]
     },
     "execution_count": 2,
     "metadata": {},
     "output_type": "execute_result"
    }
   ],
   "source": [
    "data_df = pd.read_excel('milk_preprocessing_outlier.xlsx')\n",
    "data_df"
   ]
  },
  {
   "cell_type": "code",
   "execution_count": 3,
   "id": "f02c5344",
   "metadata": {},
   "outputs": [],
   "source": [
    "del data_df['Unnamed: 0']\n",
    "del data_df['index']"
   ]
  },
  {
   "cell_type": "code",
   "execution_count": 4,
   "id": "2039276d",
   "metadata": {},
   "outputs": [],
   "source": [
    "data_df.rename(columns={'상담횟수_y':'총상담횟수', '총구매횟수_y':'총구매횟수',\\\n",
    "                        '총구매수량_y':'총구매수량','총구매금액_y':'총구매금액',}, inplace=True)"
   ]
  },
  {
   "cell_type": "code",
   "execution_count": 5,
   "id": "a3889e3c",
   "metadata": {},
   "outputs": [
    {
     "data": {
      "text/html": [
       "<div>\n",
       "<style scoped>\n",
       "    .dataframe tbody tr th:only-of-type {\n",
       "        vertical-align: middle;\n",
       "    }\n",
       "\n",
       "    .dataframe tbody tr th {\n",
       "        vertical-align: top;\n",
       "    }\n",
       "\n",
       "    .dataframe thead th {\n",
       "        text-align: right;\n",
       "    }\n",
       "</style>\n",
       "<table border=\"1\" class=\"dataframe\">\n",
       "  <thead>\n",
       "    <tr style=\"text-align: right;\">\n",
       "      <th></th>\n",
       "      <th>거주지</th>\n",
       "      <th>가입경로</th>\n",
       "      <th>담당사원</th>\n",
       "      <th>상품코드</th>\n",
       "      <th>총상담횟수</th>\n",
       "      <th>총구매횟수</th>\n",
       "      <th>총구매수량</th>\n",
       "      <th>총구매금액</th>\n",
       "      <th>재구매여부</th>\n",
       "      <th>부모연령</th>\n",
       "    </tr>\n",
       "  </thead>\n",
       "  <tbody>\n",
       "    <tr>\n",
       "      <th>0</th>\n",
       "      <td>광주광역시</td>\n",
       "      <td>D</td>\n",
       "      <td>정유경</td>\n",
       "      <td>35025</td>\n",
       "      <td>16</td>\n",
       "      <td>8.0</td>\n",
       "      <td>14</td>\n",
       "      <td>367800</td>\n",
       "      <td>1</td>\n",
       "      <td>2</td>\n",
       "    </tr>\n",
       "    <tr>\n",
       "      <th>1</th>\n",
       "      <td>경상남도</td>\n",
       "      <td>M</td>\n",
       "      <td>정유경</td>\n",
       "      <td>35007</td>\n",
       "      <td>20</td>\n",
       "      <td>8.0</td>\n",
       "      <td>14</td>\n",
       "      <td>480600</td>\n",
       "      <td>0</td>\n",
       "      <td>2</td>\n",
       "    </tr>\n",
       "    <tr>\n",
       "      <th>2</th>\n",
       "      <td>부산광역시</td>\n",
       "      <td>M</td>\n",
       "      <td>이선영</td>\n",
       "      <td>35023</td>\n",
       "      <td>4</td>\n",
       "      <td>8.0</td>\n",
       "      <td>14</td>\n",
       "      <td>358000</td>\n",
       "      <td>0</td>\n",
       "      <td>2</td>\n",
       "    </tr>\n",
       "    <tr>\n",
       "      <th>3</th>\n",
       "      <td>전라북도</td>\n",
       "      <td>M</td>\n",
       "      <td>이선영</td>\n",
       "      <td>35027</td>\n",
       "      <td>6</td>\n",
       "      <td>4.0</td>\n",
       "      <td>2</td>\n",
       "      <td>55000</td>\n",
       "      <td>1</td>\n",
       "      <td>2</td>\n",
       "    </tr>\n",
       "    <tr>\n",
       "      <th>4</th>\n",
       "      <td>서울특별시</td>\n",
       "      <td>D</td>\n",
       "      <td>박애신</td>\n",
       "      <td>35007</td>\n",
       "      <td>6</td>\n",
       "      <td>4.0</td>\n",
       "      <td>2</td>\n",
       "      <td>37800</td>\n",
       "      <td>0</td>\n",
       "      <td>1</td>\n",
       "    </tr>\n",
       "  </tbody>\n",
       "</table>\n",
       "</div>"
      ],
      "text/plain": [
       "     거주지 가입경로 담당사원   상품코드  총상담횟수  총구매횟수  총구매수량   총구매금액  재구매여부  부모연령\n",
       "0  광주광역시    D  정유경  35025     16    8.0     14  367800      1     2\n",
       "1   경상남도    M  정유경  35007     20    8.0     14  480600      0     2\n",
       "2  부산광역시    M  이선영  35023      4    8.0     14  358000      0     2\n",
       "3   전라북도    M  이선영  35027      6    4.0      2   55000      1     2\n",
       "4  서울특별시    D  박애신  35007      6    4.0      2   37800      0     1"
      ]
     },
     "execution_count": 5,
     "metadata": {},
     "output_type": "execute_result"
    }
   ],
   "source": [
    "data_df.head()"
   ]
  },
  {
   "cell_type": "code",
   "execution_count": 6,
   "id": "90831059",
   "metadata": {},
   "outputs": [
    {
     "data": {
      "text/plain": [
       "<AxesSubplot:>"
      ]
     },
     "execution_count": 6,
     "metadata": {},
     "output_type": "execute_result"
    },
    {
     "data": {
      "image/png": "[encoded data removed]",
      "text/plain": [
       "<Figure size 432x288 with 1 Axes>"
      ]
     },
     "metadata": {
      "needs_background": "light"
     },
     "output_type": "display_data"
    }
   ],
   "source": [
    "a = data_df[data_df['재구매여부'] == 1]\n",
    "a['상품코드'].value_counts().plot(kind='bar')"
   ]
  },
  {
   "cell_type": "code",
   "execution_count": 7,
   "id": "5b36fe77",
   "metadata": {},
   "outputs": [
    {
     "data": {
      "text/plain": [
       "거주지      1668\n",
       "가입경로     1668\n",
       "담당사원     1668\n",
       "상품코드     1668\n",
       "총상담횟수    1668\n",
       "총구매횟수    1668\n",
       "총구매수량    1668\n",
       "총구매금액    1668\n",
       "재구매여부    1668\n",
       "부모연령     1668\n",
       "dtype: int64"
      ]
     },
     "execution_count": 7,
     "metadata": {},
     "output_type": "execute_result"
    }
   ],
   "source": [
    "a.count()"
   ]
  },
  {
   "cell_type": "code",
   "execution_count": 8,
   "id": "f8b5f924",
   "metadata": {},
   "outputs": [
    {
     "data": {
      "text/plain": [
       "1    1570\n",
       "2      59\n",
       "0      39\n",
       "Name: 부모연령, dtype: int64"
      ]
     },
     "execution_count": 8,
     "metadata": {},
     "output_type": "execute_result"
    }
   ],
   "source": [
    "a['부모연령'].value_counts()"
   ]
  },
  {
   "cell_type": "code",
   "execution_count": 9,
   "id": "aba76eee",
   "metadata": {},
   "outputs": [
    {
     "data": {
      "image/png": "[encoded data removed]",
      "text/plain": [
       "<Figure size 1296x576 with 2 Axes>"
      ]
     },
     "metadata": {
      "needs_background": "light"
     },
     "output_type": "display_data"
    }
   ],
   "source": [
    "# 전처리와 이상치 제거 후 데이터가 줄어듬에 따라 클래스 비율이 더 극대화되었다.\n",
    "f, ax = plt.subplots(1,2,figsize=(18,8))\n",
    "data_df['재구매여부'].value_counts()\\\n",
    ".plot.pie(explode = [0,0.1], autopct = '%1.1f%%', ax=ax[0])\n",
    "\n",
    "ax[0].set_title('재구매여부')\n",
    "ax[0].set_ylabel('')\n",
    "\n",
    "sns.countplot('재구매여부', data = data_df, ax = ax[1])\n",
    "ax[1].set_title('재구매여부')\n",
    "plt.show()"
   ]
  },
  {
   "cell_type": "code",
   "execution_count": 10,
   "id": "98b335ec",
   "metadata": {},
   "outputs": [
    {
     "data": {
      "text/plain": [
       "0    17671\n",
       "1     1668\n",
       "Name: 재구매여부, dtype: int64"
      ]
     },
     "execution_count": 10,
     "metadata": {},
     "output_type": "execute_result"
    }
   ],
   "source": [
    "data_df['재구매여부'].value_counts()"
   ]
  },
  {
   "cell_type": "markdown",
   "id": "2434a4c8",
   "metadata": {},
   "source": [
    "# 학습데이터와 타겟데이터 분리"
   ]
  },
  {
   "cell_type": "code",
   "execution_count": 11,
   "id": "9eb58689",
   "metadata": {},
   "outputs": [],
   "source": [
    "data_df_temp = data_df.copy()"
   ]
  },
  {
   "cell_type": "code",
   "execution_count": 12,
   "id": "a48f8b28",
   "metadata": {},
   "outputs": [],
   "source": [
    "y_data=data_df_temp[[\"재구매여부\"]].copy()\n",
    "x_data=data_df_temp.copy()\n",
    "del x_data[\"재구매여부\"]"
   ]
  },
  {
   "cell_type": "code",
   "execution_count": 13,
   "id": "be6c9d7b",
   "metadata": {},
   "outputs": [
    {
     "data": {
      "text/html": [
       "<div>\n",
       "<style scoped>\n",
       "    .dataframe tbody tr th:only-of-type {\n",
       "        vertical-align: middle;\n",
       "    }\n",
       "\n",
       "    .dataframe tbody tr th {\n",
       "        vertical-align: top;\n",
       "    }\n",
       "\n",
       "    .dataframe thead th {\n",
       "        text-align: right;\n",
       "    }\n",
       "</style>\n",
       "<table border=\"1\" class=\"dataframe\">\n",
       "  <thead>\n",
       "    <tr style=\"text-align: right;\">\n",
       "      <th></th>\n",
       "      <th>거주지</th>\n",
       "      <th>가입경로</th>\n",
       "      <th>담당사원</th>\n",
       "      <th>상품코드</th>\n",
       "      <th>총상담횟수</th>\n",
       "      <th>총구매횟수</th>\n",
       "      <th>총구매수량</th>\n",
       "      <th>총구매금액</th>\n",
       "      <th>부모연령</th>\n",
       "    </tr>\n",
       "  </thead>\n",
       "  <tbody>\n",
       "    <tr>\n",
       "      <th>0</th>\n",
       "      <td>광주광역시</td>\n",
       "      <td>D</td>\n",
       "      <td>정유경</td>\n",
       "      <td>35025</td>\n",
       "      <td>16</td>\n",
       "      <td>8.0</td>\n",
       "      <td>14</td>\n",
       "      <td>367800</td>\n",
       "      <td>2</td>\n",
       "    </tr>\n",
       "    <tr>\n",
       "      <th>1</th>\n",
       "      <td>경상남도</td>\n",
       "      <td>M</td>\n",
       "      <td>정유경</td>\n",
       "      <td>35007</td>\n",
       "      <td>20</td>\n",
       "      <td>8.0</td>\n",
       "      <td>14</td>\n",
       "      <td>480600</td>\n",
       "      <td>2</td>\n",
       "    </tr>\n",
       "    <tr>\n",
       "      <th>2</th>\n",
       "      <td>부산광역시</td>\n",
       "      <td>M</td>\n",
       "      <td>이선영</td>\n",
       "      <td>35023</td>\n",
       "      <td>4</td>\n",
       "      <td>8.0</td>\n",
       "      <td>14</td>\n",
       "      <td>358000</td>\n",
       "      <td>2</td>\n",
       "    </tr>\n",
       "    <tr>\n",
       "      <th>3</th>\n",
       "      <td>전라북도</td>\n",
       "      <td>M</td>\n",
       "      <td>이선영</td>\n",
       "      <td>35027</td>\n",
       "      <td>6</td>\n",
       "      <td>4.0</td>\n",
       "      <td>2</td>\n",
       "      <td>55000</td>\n",
       "      <td>2</td>\n",
       "    </tr>\n",
       "    <tr>\n",
       "      <th>4</th>\n",
       "      <td>서울특별시</td>\n",
       "      <td>D</td>\n",
       "      <td>박애신</td>\n",
       "      <td>35007</td>\n",
       "      <td>6</td>\n",
       "      <td>4.0</td>\n",
       "      <td>2</td>\n",
       "      <td>37800</td>\n",
       "      <td>1</td>\n",
       "    </tr>\n",
       "    <tr>\n",
       "      <th>...</th>\n",
       "      <td>...</td>\n",
       "      <td>...</td>\n",
       "      <td>...</td>\n",
       "      <td>...</td>\n",
       "      <td>...</td>\n",
       "      <td>...</td>\n",
       "      <td>...</td>\n",
       "      <td>...</td>\n",
       "      <td>...</td>\n",
       "    </tr>\n",
       "    <tr>\n",
       "      <th>19334</th>\n",
       "      <td>강원도</td>\n",
       "      <td>E</td>\n",
       "      <td>박애신</td>\n",
       "      <td>27001</td>\n",
       "      <td>2</td>\n",
       "      <td>3.0</td>\n",
       "      <td>8</td>\n",
       "      <td>186800</td>\n",
       "      <td>1</td>\n",
       "    </tr>\n",
       "    <tr>\n",
       "      <th>19335</th>\n",
       "      <td>경기도</td>\n",
       "      <td>H</td>\n",
       "      <td>이선영</td>\n",
       "      <td>27001</td>\n",
       "      <td>3</td>\n",
       "      <td>4.0</td>\n",
       "      <td>9</td>\n",
       "      <td>197700</td>\n",
       "      <td>1</td>\n",
       "    </tr>\n",
       "    <tr>\n",
       "      <th>19336</th>\n",
       "      <td>경기도</td>\n",
       "      <td>H</td>\n",
       "      <td>박애신</td>\n",
       "      <td>27001</td>\n",
       "      <td>4</td>\n",
       "      <td>4.0</td>\n",
       "      <td>4</td>\n",
       "      <td>121600</td>\n",
       "      <td>2</td>\n",
       "    </tr>\n",
       "    <tr>\n",
       "      <th>19337</th>\n",
       "      <td>충청북도</td>\n",
       "      <td>E</td>\n",
       "      <td>박애신</td>\n",
       "      <td>27001</td>\n",
       "      <td>2</td>\n",
       "      <td>2.0</td>\n",
       "      <td>8</td>\n",
       "      <td>243200</td>\n",
       "      <td>1</td>\n",
       "    </tr>\n",
       "    <tr>\n",
       "      <th>19338</th>\n",
       "      <td>전라북도</td>\n",
       "      <td>Q</td>\n",
       "      <td>박애신</td>\n",
       "      <td>27001</td>\n",
       "      <td>7</td>\n",
       "      <td>3.0</td>\n",
       "      <td>15</td>\n",
       "      <td>224100</td>\n",
       "      <td>1</td>\n",
       "    </tr>\n",
       "  </tbody>\n",
       "</table>\n",
       "<p>19339 rows × 9 columns</p>\n",
       "</div>"
      ],
      "text/plain": [
       "         거주지 가입경로 담당사원   상품코드  총상담횟수  총구매횟수  총구매수량   총구매금액  부모연령\n",
       "0      광주광역시    D  정유경  35025     16    8.0     14  367800     2\n",
       "1       경상남도    M  정유경  35007     20    8.0     14  480600     2\n",
       "2      부산광역시    M  이선영  35023      4    8.0     14  358000     2\n",
       "3       전라북도    M  이선영  35027      6    4.0      2   55000     2\n",
       "4      서울특별시    D  박애신  35007      6    4.0      2   37800     1\n",
       "...      ...  ...  ...    ...    ...    ...    ...     ...   ...\n",
       "19334    강원도    E  박애신  27001      2    3.0      8  186800     1\n",
       "19335    경기도    H  이선영  27001      3    4.0      9  197700     1\n",
       "19336    경기도    H  박애신  27001      4    4.0      4  121600     2\n",
       "19337   충청북도    E  박애신  27001      2    2.0      8  243200     1\n",
       "19338   전라북도    Q  박애신  27001      7    3.0     15  224100     1\n",
       "\n",
       "[19339 rows x 9 columns]"
      ]
     },
     "execution_count": 13,
     "metadata": {},
     "output_type": "execute_result"
    }
   ],
   "source": [
    "x_data"
   ]
  },
  {
   "cell_type": "markdown",
   "id": "f9ef00ee",
   "metadata": {},
   "source": [
    "# Train - Test split (비율 7:3 , seed는 0을 적용)"
   ]
  },
  {
   "cell_type": "code",
   "execution_count": 14,
   "id": "ad8ceaf1",
   "metadata": {},
   "outputs": [],
   "source": [
    "x_train, x_test, y_train, y_test =\\\n",
    "model_selection.train_test_split(x_data, y_data, test_size=0.3, random_state=0)"
   ]
  },
  {
   "cell_type": "code",
   "execution_count": 15,
   "id": "d9d10e20",
   "metadata": {},
   "outputs": [
    {
     "name": "stdout",
     "output_type": "stream",
     "text": [
      "(13537, 9)\n",
      "(5802, 9)\n",
      "(13537, 1)\n",
      "(5802, 1)\n"
     ]
    }
   ],
   "source": [
    "print(x_train.shape)\n",
    "print(x_test.shape)\n",
    "print(y_train.shape)\n",
    "print(y_test.shape)"
   ]
  },
  {
   "cell_type": "markdown",
   "id": "ddb59d75",
   "metadata": {},
   "source": [
    "# Data Scaling"
   ]
  },
  {
   "cell_type": "markdown",
   "id": "552eedef",
   "metadata": {},
   "source": [
    "## 범주형컬럼 one-hot encoding"
   ]
  },
  {
   "cell_type": "markdown",
   "id": "1dafa1d1",
   "metadata": {},
   "source": [
    "### X Train Data"
   ]
  },
  {
   "cell_type": "code",
   "execution_count": 17,
   "id": "9adf3b01",
   "metadata": {},
   "outputs": [],
   "source": [
    "# x train data 범주형\n",
    "train_x_data_categorical = x_train[[\"거주지\",\"가입경로\",\"담당사원\",\"상품코드\",\"부모연령\"]]"
   ]
  },
  {
   "cell_type": "code",
   "execution_count": 18,
   "id": "6d515d05",
   "metadata": {},
   "outputs": [],
   "source": [
    "encoder = OneHotEncoder(sparse=False)\n",
    "\n",
    "# x train data는 학습과 transform 모두 적용\n",
    "train_x_data_categorical = pd.DataFrame(encoder.fit_transform(train_x_data_categorical[[\"거주지\",\"가입경로\",\"담당사원\",\"상품코드\",\"부모연령\"]]))\n",
    "# 컬럼명 변경\n",
    "train_x_data_categorical.columns = encoder.get_feature_names([\"거주지\",\"가입경로\",\"담당사원\",\"상품코드\",\"부모연령\"])"
   ]
  },
  {
   "cell_type": "markdown",
   "id": "a203da78",
   "metadata": {},
   "source": [
    "### X Test Data"
   ]
  },
  {
   "cell_type": "code",
   "execution_count": 19,
   "id": "5ba8274d",
   "metadata": {},
   "outputs": [],
   "source": [
    "test_x_data_categorical = x_test[[\"거주지\",\"가입경로\",\"담당사원\",\"상품코드\",\"부모연령\"]]"
   ]
  },
  {
   "cell_type": "code",
   "execution_count": 20,
   "id": "9d3ab897",
   "metadata": {},
   "outputs": [],
   "source": [
    "# x test data는 학습은하면 안됨(정답을 훔쳐보는것) transform만 적용\n",
    "test_x_data_categorical = pd.DataFrame(encoder.transform(test_x_data_categorical[[\"거주지\",\"가입경로\",\"담당사원\",\"상품코드\",\"부모연령\"]]))\n",
    "# 컬럼명 변경\n",
    "test_x_data_categorical.columns = encoder.get_feature_names([\"거주지\",\"가입경로\",\"담당사원\",\"상품코드\",\"부모연령\"])"
   ]
  },
  {
   "cell_type": "code",
   "execution_count": 21,
   "id": "73eac046",
   "metadata": {},
   "outputs": [
    {
     "data": {
      "text/plain": [
       "(13537, 90)"
      ]
     },
     "execution_count": 21,
     "metadata": {},
     "output_type": "execute_result"
    }
   ],
   "source": [
    "np.shape(train_x_data_categorical)"
   ]
  },
  {
   "cell_type": "code",
   "execution_count": 22,
   "id": "de43d064",
   "metadata": {},
   "outputs": [
    {
     "data": {
      "text/plain": [
       "(5802, 90)"
      ]
     },
     "execution_count": 22,
     "metadata": {},
     "output_type": "execute_result"
    }
   ],
   "source": [
    "np.shape(test_x_data_categorical)"
   ]
  },
  {
   "cell_type": "markdown",
   "id": "a95ad6af",
   "metadata": {},
   "source": [
    "## 연속형 컬럼 Standardization"
   ]
  },
  {
   "cell_type": "code",
   "execution_count": 23,
   "id": "2ecdc21f",
   "metadata": {},
   "outputs": [],
   "source": [
    "train_x_data_num = x_train[['총상담횟수','총구매횟수', '총구매수량','총구매금액']]"
   ]
  },
  {
   "cell_type": "code",
   "execution_count": 24,
   "id": "0003d9f0",
   "metadata": {},
   "outputs": [],
   "source": [
    "std_scaler=StandardScaler()\n",
    "train_x_data_num = pd.DataFrame(std_scaler.fit_transform(train_x_data_num[['총상담횟수','총구매횟수', '총구매수량','총구매금액']]))"
   ]
  },
  {
   "cell_type": "code",
   "execution_count": 25,
   "id": "b7859574",
   "metadata": {},
   "outputs": [],
   "source": [
    "train_x_data_num.columns = ['총상담횟수','총구매횟수', '총구매수량','총구매금액']"
   ]
  },
  {
   "cell_type": "code",
   "execution_count": 26,
   "id": "e01c9ed6",
   "metadata": {},
   "outputs": [
    {
     "data": {
      "text/html": [
       "<div>\n",
       "<style scoped>\n",
       "    .dataframe tbody tr th:only-of-type {\n",
       "        vertical-align: middle;\n",
       "    }\n",
       "\n",
       "    .dataframe tbody tr th {\n",
       "        vertical-align: top;\n",
       "    }\n",
       "\n",
       "    .dataframe thead th {\n",
       "        text-align: right;\n",
       "    }\n",
       "</style>\n",
       "<table border=\"1\" class=\"dataframe\">\n",
       "  <thead>\n",
       "    <tr style=\"text-align: right;\">\n",
       "      <th></th>\n",
       "      <th>총상담횟수</th>\n",
       "      <th>총구매횟수</th>\n",
       "      <th>총구매수량</th>\n",
       "      <th>총구매금액</th>\n",
       "    </tr>\n",
       "  </thead>\n",
       "  <tbody>\n",
       "    <tr>\n",
       "      <th>0</th>\n",
       "      <td>1.133523</td>\n",
       "      <td>-0.899770</td>\n",
       "      <td>-0.506848</td>\n",
       "      <td>-0.335403</td>\n",
       "    </tr>\n",
       "    <tr>\n",
       "      <th>1</th>\n",
       "      <td>0.717553</td>\n",
       "      <td>0.436803</td>\n",
       "      <td>0.210751</td>\n",
       "      <td>0.146419</td>\n",
       "    </tr>\n",
       "    <tr>\n",
       "      <th>2</th>\n",
       "      <td>0.301583</td>\n",
       "      <td>0.882327</td>\n",
       "      <td>-0.506848</td>\n",
       "      <td>-0.480920</td>\n",
       "    </tr>\n",
       "    <tr>\n",
       "      <th>3</th>\n",
       "      <td>-0.530356</td>\n",
       "      <td>0.882327</td>\n",
       "      <td>-0.506848</td>\n",
       "      <td>-0.480920</td>\n",
       "    </tr>\n",
       "    <tr>\n",
       "      <th>4</th>\n",
       "      <td>0.717553</td>\n",
       "      <td>-0.008722</td>\n",
       "      <td>0.689150</td>\n",
       "      <td>-0.463943</td>\n",
       "    </tr>\n",
       "    <tr>\n",
       "      <th>...</th>\n",
       "      <td>...</td>\n",
       "      <td>...</td>\n",
       "      <td>...</td>\n",
       "      <td>...</td>\n",
       "    </tr>\n",
       "    <tr>\n",
       "      <th>13532</th>\n",
       "      <td>0.717553</td>\n",
       "      <td>0.882327</td>\n",
       "      <td>0.210751</td>\n",
       "      <td>0.414009</td>\n",
       "    </tr>\n",
       "    <tr>\n",
       "      <th>13533</th>\n",
       "      <td>-0.738341</td>\n",
       "      <td>-0.899770</td>\n",
       "      <td>-0.506848</td>\n",
       "      <td>-0.464752</td>\n",
       "    </tr>\n",
       "    <tr>\n",
       "      <th>13534</th>\n",
       "      <td>0.301583</td>\n",
       "      <td>-0.899770</td>\n",
       "      <td>-0.506848</td>\n",
       "      <td>-0.335403</td>\n",
       "    </tr>\n",
       "    <tr>\n",
       "      <th>13535</th>\n",
       "      <td>0.093599</td>\n",
       "      <td>-0.899770</td>\n",
       "      <td>-0.506848</td>\n",
       "      <td>-0.480920</td>\n",
       "    </tr>\n",
       "    <tr>\n",
       "      <th>13536</th>\n",
       "      <td>2.173447</td>\n",
       "      <td>1.327851</td>\n",
       "      <td>5.233946</td>\n",
       "      <td>4.815087</td>\n",
       "    </tr>\n",
       "  </tbody>\n",
       "</table>\n",
       "<p>13537 rows × 4 columns</p>\n",
       "</div>"
      ],
      "text/plain": [
       "          총상담횟수     총구매횟수     총구매수량     총구매금액\n",
       "0      1.133523 -0.899770 -0.506848 -0.335403\n",
       "1      0.717553  0.436803  0.210751  0.146419\n",
       "2      0.301583  0.882327 -0.506848 -0.480920\n",
       "3     -0.530356  0.882327 -0.506848 -0.480920\n",
       "4      0.717553 -0.008722  0.689150 -0.463943\n",
       "...         ...       ...       ...       ...\n",
       "13532  0.717553  0.882327  0.210751  0.414009\n",
       "13533 -0.738341 -0.899770 -0.506848 -0.464752\n",
       "13534  0.301583 -0.899770 -0.506848 -0.335403\n",
       "13535  0.093599 -0.899770 -0.506848 -0.480920\n",
       "13536  2.173447  1.327851  5.233946  4.815087\n",
       "\n",
       "[13537 rows x 4 columns]"
      ]
     },
     "execution_count": 26,
     "metadata": {},
     "output_type": "execute_result"
    }
   ],
   "source": [
    "train_x_data_num"
   ]
  },
  {
   "cell_type": "code",
   "execution_count": 27,
   "id": "c41e60e9",
   "metadata": {},
   "outputs": [],
   "source": [
    "test_x_data_num = x_test[['총상담횟수','총구매횟수', '총구매수량','총구매금액']]"
   ]
  },
  {
   "cell_type": "code",
   "execution_count": 28,
   "id": "3533f52a",
   "metadata": {},
   "outputs": [],
   "source": [
    "std_scaler=StandardScaler()\n",
    "test_x_data_num = pd.DataFrame(std_scaler.fit_transform(test_x_data_num[['총상담횟수','총구매횟수', '총구매수량','총구매금액']]))"
   ]
  },
  {
   "cell_type": "code",
   "execution_count": 29,
   "id": "bf510e05",
   "metadata": {},
   "outputs": [],
   "source": [
    "test_x_data_num.columns = ['총상담횟수','총구매횟수', '총구매수량','총구매금액']"
   ]
  },
  {
   "cell_type": "code",
   "execution_count": 30,
   "id": "133b5b34",
   "metadata": {},
   "outputs": [
    {
     "data": {
      "text/html": [
       "<div>\n",
       "<style scoped>\n",
       "    .dataframe tbody tr th:only-of-type {\n",
       "        vertical-align: middle;\n",
       "    }\n",
       "\n",
       "    .dataframe tbody tr th {\n",
       "        vertical-align: top;\n",
       "    }\n",
       "\n",
       "    .dataframe thead th {\n",
       "        text-align: right;\n",
       "    }\n",
       "</style>\n",
       "<table border=\"1\" class=\"dataframe\">\n",
       "  <thead>\n",
       "    <tr style=\"text-align: right;\">\n",
       "      <th></th>\n",
       "      <th>총상담횟수</th>\n",
       "      <th>총구매횟수</th>\n",
       "      <th>총구매수량</th>\n",
       "      <th>총구매금액</th>\n",
       "    </tr>\n",
       "  </thead>\n",
       "  <tbody>\n",
       "    <tr>\n",
       "      <th>0</th>\n",
       "      <td>0.277434</td>\n",
       "      <td>1.097577</td>\n",
       "      <td>2.648689</td>\n",
       "      <td>3.056147</td>\n",
       "    </tr>\n",
       "    <tr>\n",
       "      <th>1</th>\n",
       "      <td>0.682129</td>\n",
       "      <td>0.876430</td>\n",
       "      <td>-0.497453</td>\n",
       "      <td>-0.471036</td>\n",
       "    </tr>\n",
       "    <tr>\n",
       "      <th>2</th>\n",
       "      <td>-0.127261</td>\n",
       "      <td>-0.450450</td>\n",
       "      <td>-0.255442</td>\n",
       "      <td>-0.313773</td>\n",
       "    </tr>\n",
       "    <tr>\n",
       "      <th>3</th>\n",
       "      <td>0.479782</td>\n",
       "      <td>0.876430</td>\n",
       "      <td>-0.497453</td>\n",
       "      <td>-0.471036</td>\n",
       "    </tr>\n",
       "    <tr>\n",
       "      <th>4</th>\n",
       "      <td>-0.127261</td>\n",
       "      <td>-0.892743</td>\n",
       "      <td>-0.497453</td>\n",
       "      <td>-0.511808</td>\n",
       "    </tr>\n",
       "    <tr>\n",
       "      <th>...</th>\n",
       "      <td>...</td>\n",
       "      <td>...</td>\n",
       "      <td>...</td>\n",
       "      <td>...</td>\n",
       "    </tr>\n",
       "    <tr>\n",
       "      <th>5797</th>\n",
       "      <td>-0.127261</td>\n",
       "      <td>-0.892743</td>\n",
       "      <td>-0.497453</td>\n",
       "      <td>-0.471036</td>\n",
       "    </tr>\n",
       "    <tr>\n",
       "      <th>5798</th>\n",
       "      <td>-0.531955</td>\n",
       "      <td>0.876430</td>\n",
       "      <td>-0.255442</td>\n",
       "      <td>-0.080791</td>\n",
       "    </tr>\n",
       "    <tr>\n",
       "      <th>5799</th>\n",
       "      <td>-0.734303</td>\n",
       "      <td>-0.892743</td>\n",
       "      <td>-0.497453</td>\n",
       "      <td>-0.471036</td>\n",
       "    </tr>\n",
       "    <tr>\n",
       "      <th>5800</th>\n",
       "      <td>-0.531955</td>\n",
       "      <td>-0.892743</td>\n",
       "      <td>-0.497453</td>\n",
       "      <td>-0.471036</td>\n",
       "    </tr>\n",
       "    <tr>\n",
       "      <th>5801</th>\n",
       "      <td>-0.734303</td>\n",
       "      <td>-0.892743</td>\n",
       "      <td>-0.497453</td>\n",
       "      <td>-0.511808</td>\n",
       "    </tr>\n",
       "  </tbody>\n",
       "</table>\n",
       "<p>5802 rows × 4 columns</p>\n",
       "</div>"
      ],
      "text/plain": [
       "         총상담횟수     총구매횟수     총구매수량     총구매금액\n",
       "0     0.277434  1.097577  2.648689  3.056147\n",
       "1     0.682129  0.876430 -0.497453 -0.471036\n",
       "2    -0.127261 -0.450450 -0.255442 -0.313773\n",
       "3     0.479782  0.876430 -0.497453 -0.471036\n",
       "4    -0.127261 -0.892743 -0.497453 -0.511808\n",
       "...        ...       ...       ...       ...\n",
       "5797 -0.127261 -0.892743 -0.497453 -0.471036\n",
       "5798 -0.531955  0.876430 -0.255442 -0.080791\n",
       "5799 -0.734303 -0.892743 -0.497453 -0.471036\n",
       "5800 -0.531955 -0.892743 -0.497453 -0.471036\n",
       "5801 -0.734303 -0.892743 -0.497453 -0.511808\n",
       "\n",
       "[5802 rows x 4 columns]"
      ]
     },
     "execution_count": 30,
     "metadata": {},
     "output_type": "execute_result"
    }
   ],
   "source": [
    "test_x_data_num"
   ]
  },
  {
   "cell_type": "code",
   "execution_count": 31,
   "id": "453bd691",
   "metadata": {},
   "outputs": [
    {
     "data": {
      "text/html": [
       "<div>\n",
       "<style scoped>\n",
       "    .dataframe tbody tr th:only-of-type {\n",
       "        vertical-align: middle;\n",
       "    }\n",
       "\n",
       "    .dataframe tbody tr th {\n",
       "        vertical-align: top;\n",
       "    }\n",
       "\n",
       "    .dataframe thead th {\n",
       "        text-align: right;\n",
       "    }\n",
       "</style>\n",
       "<table border=\"1\" class=\"dataframe\">\n",
       "  <thead>\n",
       "    <tr style=\"text-align: right;\">\n",
       "      <th></th>\n",
       "      <th>거주지_강원도</th>\n",
       "      <th>거주지_경기도</th>\n",
       "      <th>거주지_경상남도</th>\n",
       "      <th>거주지_경상북도</th>\n",
       "      <th>거주지_광주광역시</th>\n",
       "      <th>거주지_대구광역시</th>\n",
       "      <th>거주지_대전광역시</th>\n",
       "      <th>거주지_부산광역시</th>\n",
       "      <th>거주지_서울특별시</th>\n",
       "      <th>거주지_세종특별자치시</th>\n",
       "      <th>...</th>\n",
       "      <th>상품코드_90008</th>\n",
       "      <th>상품코드_90009</th>\n",
       "      <th>상품코드_90010</th>\n",
       "      <th>부모연령_0</th>\n",
       "      <th>부모연령_1</th>\n",
       "      <th>부모연령_2</th>\n",
       "      <th>총상담횟수</th>\n",
       "      <th>총구매횟수</th>\n",
       "      <th>총구매수량</th>\n",
       "      <th>총구매금액</th>\n",
       "    </tr>\n",
       "  </thead>\n",
       "  <tbody>\n",
       "    <tr>\n",
       "      <th>0</th>\n",
       "      <td>0.0</td>\n",
       "      <td>0.0</td>\n",
       "      <td>0.0</td>\n",
       "      <td>0.0</td>\n",
       "      <td>0.0</td>\n",
       "      <td>0.0</td>\n",
       "      <td>0.0</td>\n",
       "      <td>1.0</td>\n",
       "      <td>0.0</td>\n",
       "      <td>0.0</td>\n",
       "      <td>...</td>\n",
       "      <td>0.0</td>\n",
       "      <td>0.0</td>\n",
       "      <td>0.0</td>\n",
       "      <td>0.0</td>\n",
       "      <td>1.0</td>\n",
       "      <td>0.0</td>\n",
       "      <td>1.133523</td>\n",
       "      <td>-0.899770</td>\n",
       "      <td>-0.506848</td>\n",
       "      <td>-0.335403</td>\n",
       "    </tr>\n",
       "    <tr>\n",
       "      <th>1</th>\n",
       "      <td>0.0</td>\n",
       "      <td>1.0</td>\n",
       "      <td>0.0</td>\n",
       "      <td>0.0</td>\n",
       "      <td>0.0</td>\n",
       "      <td>0.0</td>\n",
       "      <td>0.0</td>\n",
       "      <td>0.0</td>\n",
       "      <td>0.0</td>\n",
       "      <td>0.0</td>\n",
       "      <td>...</td>\n",
       "      <td>0.0</td>\n",
       "      <td>0.0</td>\n",
       "      <td>0.0</td>\n",
       "      <td>0.0</td>\n",
       "      <td>1.0</td>\n",
       "      <td>0.0</td>\n",
       "      <td>0.717553</td>\n",
       "      <td>0.436803</td>\n",
       "      <td>0.210751</td>\n",
       "      <td>0.146419</td>\n",
       "    </tr>\n",
       "    <tr>\n",
       "      <th>2</th>\n",
       "      <td>0.0</td>\n",
       "      <td>1.0</td>\n",
       "      <td>0.0</td>\n",
       "      <td>0.0</td>\n",
       "      <td>0.0</td>\n",
       "      <td>0.0</td>\n",
       "      <td>0.0</td>\n",
       "      <td>0.0</td>\n",
       "      <td>0.0</td>\n",
       "      <td>0.0</td>\n",
       "      <td>...</td>\n",
       "      <td>0.0</td>\n",
       "      <td>0.0</td>\n",
       "      <td>0.0</td>\n",
       "      <td>0.0</td>\n",
       "      <td>1.0</td>\n",
       "      <td>0.0</td>\n",
       "      <td>0.301583</td>\n",
       "      <td>0.882327</td>\n",
       "      <td>-0.506848</td>\n",
       "      <td>-0.480920</td>\n",
       "    </tr>\n",
       "    <tr>\n",
       "      <th>3</th>\n",
       "      <td>0.0</td>\n",
       "      <td>0.0</td>\n",
       "      <td>0.0</td>\n",
       "      <td>0.0</td>\n",
       "      <td>0.0</td>\n",
       "      <td>0.0</td>\n",
       "      <td>0.0</td>\n",
       "      <td>0.0</td>\n",
       "      <td>0.0</td>\n",
       "      <td>0.0</td>\n",
       "      <td>...</td>\n",
       "      <td>0.0</td>\n",
       "      <td>0.0</td>\n",
       "      <td>0.0</td>\n",
       "      <td>0.0</td>\n",
       "      <td>1.0</td>\n",
       "      <td>0.0</td>\n",
       "      <td>-0.530356</td>\n",
       "      <td>0.882327</td>\n",
       "      <td>-0.506848</td>\n",
       "      <td>-0.480920</td>\n",
       "    </tr>\n",
       "    <tr>\n",
       "      <th>4</th>\n",
       "      <td>0.0</td>\n",
       "      <td>0.0</td>\n",
       "      <td>0.0</td>\n",
       "      <td>0.0</td>\n",
       "      <td>0.0</td>\n",
       "      <td>0.0</td>\n",
       "      <td>0.0</td>\n",
       "      <td>0.0</td>\n",
       "      <td>0.0</td>\n",
       "      <td>0.0</td>\n",
       "      <td>...</td>\n",
       "      <td>0.0</td>\n",
       "      <td>0.0</td>\n",
       "      <td>0.0</td>\n",
       "      <td>0.0</td>\n",
       "      <td>1.0</td>\n",
       "      <td>0.0</td>\n",
       "      <td>0.717553</td>\n",
       "      <td>-0.008722</td>\n",
       "      <td>0.689150</td>\n",
       "      <td>-0.463943</td>\n",
       "    </tr>\n",
       "    <tr>\n",
       "      <th>...</th>\n",
       "      <td>...</td>\n",
       "      <td>...</td>\n",
       "      <td>...</td>\n",
       "      <td>...</td>\n",
       "      <td>...</td>\n",
       "      <td>...</td>\n",
       "      <td>...</td>\n",
       "      <td>...</td>\n",
       "      <td>...</td>\n",
       "      <td>...</td>\n",
       "      <td>...</td>\n",
       "      <td>...</td>\n",
       "      <td>...</td>\n",
       "      <td>...</td>\n",
       "      <td>...</td>\n",
       "      <td>...</td>\n",
       "      <td>...</td>\n",
       "      <td>...</td>\n",
       "      <td>...</td>\n",
       "      <td>...</td>\n",
       "      <td>...</td>\n",
       "    </tr>\n",
       "    <tr>\n",
       "      <th>13532</th>\n",
       "      <td>0.0</td>\n",
       "      <td>1.0</td>\n",
       "      <td>0.0</td>\n",
       "      <td>0.0</td>\n",
       "      <td>0.0</td>\n",
       "      <td>0.0</td>\n",
       "      <td>0.0</td>\n",
       "      <td>0.0</td>\n",
       "      <td>0.0</td>\n",
       "      <td>0.0</td>\n",
       "      <td>...</td>\n",
       "      <td>0.0</td>\n",
       "      <td>0.0</td>\n",
       "      <td>0.0</td>\n",
       "      <td>0.0</td>\n",
       "      <td>1.0</td>\n",
       "      <td>0.0</td>\n",
       "      <td>0.717553</td>\n",
       "      <td>0.882327</td>\n",
       "      <td>0.210751</td>\n",
       "      <td>0.414009</td>\n",
       "    </tr>\n",
       "    <tr>\n",
       "      <th>13533</th>\n",
       "      <td>0.0</td>\n",
       "      <td>1.0</td>\n",
       "      <td>0.0</td>\n",
       "      <td>0.0</td>\n",
       "      <td>0.0</td>\n",
       "      <td>0.0</td>\n",
       "      <td>0.0</td>\n",
       "      <td>0.0</td>\n",
       "      <td>0.0</td>\n",
       "      <td>0.0</td>\n",
       "      <td>...</td>\n",
       "      <td>0.0</td>\n",
       "      <td>0.0</td>\n",
       "      <td>0.0</td>\n",
       "      <td>0.0</td>\n",
       "      <td>1.0</td>\n",
       "      <td>0.0</td>\n",
       "      <td>-0.738341</td>\n",
       "      <td>-0.899770</td>\n",
       "      <td>-0.506848</td>\n",
       "      <td>-0.464752</td>\n",
       "    </tr>\n",
       "    <tr>\n",
       "      <th>13534</th>\n",
       "      <td>0.0</td>\n",
       "      <td>0.0</td>\n",
       "      <td>0.0</td>\n",
       "      <td>0.0</td>\n",
       "      <td>0.0</td>\n",
       "      <td>0.0</td>\n",
       "      <td>0.0</td>\n",
       "      <td>0.0</td>\n",
       "      <td>1.0</td>\n",
       "      <td>0.0</td>\n",
       "      <td>...</td>\n",
       "      <td>0.0</td>\n",
       "      <td>0.0</td>\n",
       "      <td>0.0</td>\n",
       "      <td>0.0</td>\n",
       "      <td>1.0</td>\n",
       "      <td>0.0</td>\n",
       "      <td>0.301583</td>\n",
       "      <td>-0.899770</td>\n",
       "      <td>-0.506848</td>\n",
       "      <td>-0.335403</td>\n",
       "    </tr>\n",
       "    <tr>\n",
       "      <th>13535</th>\n",
       "      <td>0.0</td>\n",
       "      <td>0.0</td>\n",
       "      <td>0.0</td>\n",
       "      <td>0.0</td>\n",
       "      <td>0.0</td>\n",
       "      <td>0.0</td>\n",
       "      <td>0.0</td>\n",
       "      <td>0.0</td>\n",
       "      <td>1.0</td>\n",
       "      <td>0.0</td>\n",
       "      <td>...</td>\n",
       "      <td>0.0</td>\n",
       "      <td>0.0</td>\n",
       "      <td>0.0</td>\n",
       "      <td>1.0</td>\n",
       "      <td>0.0</td>\n",
       "      <td>0.0</td>\n",
       "      <td>0.093599</td>\n",
       "      <td>-0.899770</td>\n",
       "      <td>-0.506848</td>\n",
       "      <td>-0.480920</td>\n",
       "    </tr>\n",
       "    <tr>\n",
       "      <th>13536</th>\n",
       "      <td>0.0</td>\n",
       "      <td>1.0</td>\n",
       "      <td>0.0</td>\n",
       "      <td>0.0</td>\n",
       "      <td>0.0</td>\n",
       "      <td>0.0</td>\n",
       "      <td>0.0</td>\n",
       "      <td>0.0</td>\n",
       "      <td>0.0</td>\n",
       "      <td>0.0</td>\n",
       "      <td>...</td>\n",
       "      <td>0.0</td>\n",
       "      <td>0.0</td>\n",
       "      <td>0.0</td>\n",
       "      <td>0.0</td>\n",
       "      <td>1.0</td>\n",
       "      <td>0.0</td>\n",
       "      <td>2.173447</td>\n",
       "      <td>1.327851</td>\n",
       "      <td>5.233946</td>\n",
       "      <td>4.815087</td>\n",
       "    </tr>\n",
       "  </tbody>\n",
       "</table>\n",
       "<p>13537 rows × 94 columns</p>\n",
       "</div>"
      ],
      "text/plain": [
       "       거주지_강원도  거주지_경기도  거주지_경상남도  거주지_경상북도  거주지_광주광역시  거주지_대구광역시  거주지_대전광역시  \\\n",
       "0          0.0      0.0       0.0       0.0        0.0        0.0        0.0   \n",
       "1          0.0      1.0       0.0       0.0        0.0        0.0        0.0   \n",
       "2          0.0      1.0       0.0       0.0        0.0        0.0        0.0   \n",
       "3          0.0      0.0       0.0       0.0        0.0        0.0        0.0   \n",
       "4          0.0      0.0       0.0       0.0        0.0        0.0        0.0   \n",
       "...        ...      ...       ...       ...        ...        ...        ...   \n",
       "13532      0.0      1.0       0.0       0.0        0.0        0.0        0.0   \n",
       "13533      0.0      1.0       0.0       0.0        0.0        0.0        0.0   \n",
       "13534      0.0      0.0       0.0       0.0        0.0        0.0        0.0   \n",
       "13535      0.0      0.0       0.0       0.0        0.0        0.0        0.0   \n",
       "13536      0.0      1.0       0.0       0.0        0.0        0.0        0.0   \n",
       "\n",
       "       거주지_부산광역시  거주지_서울특별시  거주지_세종특별자치시  ...  상품코드_90008  상품코드_90009  \\\n",
       "0            1.0        0.0          0.0  ...         0.0         0.0   \n",
       "1            0.0        0.0          0.0  ...         0.0         0.0   \n",
       "2            0.0        0.0          0.0  ...         0.0         0.0   \n",
       "3            0.0        0.0          0.0  ...         0.0         0.0   \n",
       "4            0.0        0.0          0.0  ...         0.0         0.0   \n",
       "...          ...        ...          ...  ...         ...         ...   \n",
       "13532        0.0        0.0          0.0  ...         0.0         0.0   \n",
       "13533        0.0        0.0          0.0  ...         0.0         0.0   \n",
       "13534        0.0        1.0          0.0  ...         0.0         0.0   \n",
       "13535        0.0        1.0          0.0  ...         0.0         0.0   \n",
       "13536        0.0        0.0          0.0  ...         0.0         0.0   \n",
       "\n",
       "       상품코드_90010  부모연령_0  부모연령_1  부모연령_2     총상담횟수     총구매횟수     총구매수량  \\\n",
       "0             0.0     0.0     1.0     0.0  1.133523 -0.899770 -0.506848   \n",
       "1             0.0     0.0     1.0     0.0  0.717553  0.436803  0.210751   \n",
       "2             0.0     0.0     1.0     0.0  0.301583  0.882327 -0.506848   \n",
       "3             0.0     0.0     1.0     0.0 -0.530356  0.882327 -0.506848   \n",
       "4             0.0     0.0     1.0     0.0  0.717553 -0.008722  0.689150   \n",
       "...           ...     ...     ...     ...       ...       ...       ...   \n",
       "13532         0.0     0.0     1.0     0.0  0.717553  0.882327  0.210751   \n",
       "13533         0.0     0.0     1.0     0.0 -0.738341 -0.899770 -0.506848   \n",
       "13534         0.0     0.0     1.0     0.0  0.301583 -0.899770 -0.506848   \n",
       "13535         0.0     1.0     0.0     0.0  0.093599 -0.899770 -0.506848   \n",
       "13536         0.0     0.0     1.0     0.0  2.173447  1.327851  5.233946   \n",
       "\n",
       "          총구매금액  \n",
       "0     -0.335403  \n",
       "1      0.146419  \n",
       "2     -0.480920  \n",
       "3     -0.480920  \n",
       "4     -0.463943  \n",
       "...         ...  \n",
       "13532  0.414009  \n",
       "13533 -0.464752  \n",
       "13534 -0.335403  \n",
       "13535 -0.480920  \n",
       "13536  4.815087  \n",
       "\n",
       "[13537 rows x 94 columns]"
      ]
     },
     "execution_count": 31,
     "metadata": {},
     "output_type": "execute_result"
    }
   ],
   "source": [
    "x_train = pd.concat([train_x_data_categorical, train_x_data_num], axis=1)\n",
    "x_train"
   ]
  },
  {
   "cell_type": "code",
   "execution_count": 32,
   "id": "ee70a64b",
   "metadata": {},
   "outputs": [
    {
     "data": {
      "text/html": [
       "<div>\n",
       "<style scoped>\n",
       "    .dataframe tbody tr th:only-of-type {\n",
       "        vertical-align: middle;\n",
       "    }\n",
       "\n",
       "    .dataframe tbody tr th {\n",
       "        vertical-align: top;\n",
       "    }\n",
       "\n",
       "    .dataframe thead th {\n",
       "        text-align: right;\n",
       "    }\n",
       "</style>\n",
       "<table border=\"1\" class=\"dataframe\">\n",
       "  <thead>\n",
       "    <tr style=\"text-align: right;\">\n",
       "      <th></th>\n",
       "      <th>거주지_강원도</th>\n",
       "      <th>거주지_경기도</th>\n",
       "      <th>거주지_경상남도</th>\n",
       "      <th>거주지_경상북도</th>\n",
       "      <th>거주지_광주광역시</th>\n",
       "      <th>거주지_대구광역시</th>\n",
       "      <th>거주지_대전광역시</th>\n",
       "      <th>거주지_부산광역시</th>\n",
       "      <th>거주지_서울특별시</th>\n",
       "      <th>거주지_세종특별자치시</th>\n",
       "      <th>...</th>\n",
       "      <th>상품코드_90008</th>\n",
       "      <th>상품코드_90009</th>\n",
       "      <th>상품코드_90010</th>\n",
       "      <th>부모연령_0</th>\n",
       "      <th>부모연령_1</th>\n",
       "      <th>부모연령_2</th>\n",
       "      <th>총상담횟수</th>\n",
       "      <th>총구매횟수</th>\n",
       "      <th>총구매수량</th>\n",
       "      <th>총구매금액</th>\n",
       "    </tr>\n",
       "  </thead>\n",
       "  <tbody>\n",
       "    <tr>\n",
       "      <th>0</th>\n",
       "      <td>0.0</td>\n",
       "      <td>0.0</td>\n",
       "      <td>0.0</td>\n",
       "      <td>0.0</td>\n",
       "      <td>1.0</td>\n",
       "      <td>0.0</td>\n",
       "      <td>0.0</td>\n",
       "      <td>0.0</td>\n",
       "      <td>0.0</td>\n",
       "      <td>0.0</td>\n",
       "      <td>...</td>\n",
       "      <td>0.0</td>\n",
       "      <td>0.0</td>\n",
       "      <td>0.0</td>\n",
       "      <td>0.0</td>\n",
       "      <td>1.0</td>\n",
       "      <td>0.0</td>\n",
       "      <td>0.277434</td>\n",
       "      <td>1.097577</td>\n",
       "      <td>2.648689</td>\n",
       "      <td>3.056147</td>\n",
       "    </tr>\n",
       "    <tr>\n",
       "      <th>1</th>\n",
       "      <td>0.0</td>\n",
       "      <td>1.0</td>\n",
       "      <td>0.0</td>\n",
       "      <td>0.0</td>\n",
       "      <td>0.0</td>\n",
       "      <td>0.0</td>\n",
       "      <td>0.0</td>\n",
       "      <td>0.0</td>\n",
       "      <td>0.0</td>\n",
       "      <td>0.0</td>\n",
       "      <td>...</td>\n",
       "      <td>0.0</td>\n",
       "      <td>0.0</td>\n",
       "      <td>0.0</td>\n",
       "      <td>0.0</td>\n",
       "      <td>1.0</td>\n",
       "      <td>0.0</td>\n",
       "      <td>0.682129</td>\n",
       "      <td>0.876430</td>\n",
       "      <td>-0.497453</td>\n",
       "      <td>-0.471036</td>\n",
       "    </tr>\n",
       "    <tr>\n",
       "      <th>2</th>\n",
       "      <td>0.0</td>\n",
       "      <td>0.0</td>\n",
       "      <td>0.0</td>\n",
       "      <td>0.0</td>\n",
       "      <td>0.0</td>\n",
       "      <td>0.0</td>\n",
       "      <td>0.0</td>\n",
       "      <td>1.0</td>\n",
       "      <td>0.0</td>\n",
       "      <td>0.0</td>\n",
       "      <td>...</td>\n",
       "      <td>0.0</td>\n",
       "      <td>0.0</td>\n",
       "      <td>0.0</td>\n",
       "      <td>0.0</td>\n",
       "      <td>1.0</td>\n",
       "      <td>0.0</td>\n",
       "      <td>-0.127261</td>\n",
       "      <td>-0.450450</td>\n",
       "      <td>-0.255442</td>\n",
       "      <td>-0.313773</td>\n",
       "    </tr>\n",
       "    <tr>\n",
       "      <th>3</th>\n",
       "      <td>0.0</td>\n",
       "      <td>0.0</td>\n",
       "      <td>0.0</td>\n",
       "      <td>0.0</td>\n",
       "      <td>0.0</td>\n",
       "      <td>0.0</td>\n",
       "      <td>0.0</td>\n",
       "      <td>0.0</td>\n",
       "      <td>0.0</td>\n",
       "      <td>0.0</td>\n",
       "      <td>...</td>\n",
       "      <td>0.0</td>\n",
       "      <td>0.0</td>\n",
       "      <td>0.0</td>\n",
       "      <td>0.0</td>\n",
       "      <td>1.0</td>\n",
       "      <td>0.0</td>\n",
       "      <td>0.479782</td>\n",
       "      <td>0.876430</td>\n",
       "      <td>-0.497453</td>\n",
       "      <td>-0.471036</td>\n",
       "    </tr>\n",
       "    <tr>\n",
       "      <th>4</th>\n",
       "      <td>0.0</td>\n",
       "      <td>1.0</td>\n",
       "      <td>0.0</td>\n",
       "      <td>0.0</td>\n",
       "      <td>0.0</td>\n",
       "      <td>0.0</td>\n",
       "      <td>0.0</td>\n",
       "      <td>0.0</td>\n",
       "      <td>0.0</td>\n",
       "      <td>0.0</td>\n",
       "      <td>...</td>\n",
       "      <td>0.0</td>\n",
       "      <td>0.0</td>\n",
       "      <td>0.0</td>\n",
       "      <td>1.0</td>\n",
       "      <td>0.0</td>\n",
       "      <td>0.0</td>\n",
       "      <td>-0.127261</td>\n",
       "      <td>-0.892743</td>\n",
       "      <td>-0.497453</td>\n",
       "      <td>-0.511808</td>\n",
       "    </tr>\n",
       "    <tr>\n",
       "      <th>...</th>\n",
       "      <td>...</td>\n",
       "      <td>...</td>\n",
       "      <td>...</td>\n",
       "      <td>...</td>\n",
       "      <td>...</td>\n",
       "      <td>...</td>\n",
       "      <td>...</td>\n",
       "      <td>...</td>\n",
       "      <td>...</td>\n",
       "      <td>...</td>\n",
       "      <td>...</td>\n",
       "      <td>...</td>\n",
       "      <td>...</td>\n",
       "      <td>...</td>\n",
       "      <td>...</td>\n",
       "      <td>...</td>\n",
       "      <td>...</td>\n",
       "      <td>...</td>\n",
       "      <td>...</td>\n",
       "      <td>...</td>\n",
       "      <td>...</td>\n",
       "    </tr>\n",
       "    <tr>\n",
       "      <th>5797</th>\n",
       "      <td>0.0</td>\n",
       "      <td>0.0</td>\n",
       "      <td>0.0</td>\n",
       "      <td>0.0</td>\n",
       "      <td>0.0</td>\n",
       "      <td>0.0</td>\n",
       "      <td>1.0</td>\n",
       "      <td>0.0</td>\n",
       "      <td>0.0</td>\n",
       "      <td>0.0</td>\n",
       "      <td>...</td>\n",
       "      <td>0.0</td>\n",
       "      <td>0.0</td>\n",
       "      <td>0.0</td>\n",
       "      <td>0.0</td>\n",
       "      <td>1.0</td>\n",
       "      <td>0.0</td>\n",
       "      <td>-0.127261</td>\n",
       "      <td>-0.892743</td>\n",
       "      <td>-0.497453</td>\n",
       "      <td>-0.471036</td>\n",
       "    </tr>\n",
       "    <tr>\n",
       "      <th>5798</th>\n",
       "      <td>0.0</td>\n",
       "      <td>1.0</td>\n",
       "      <td>0.0</td>\n",
       "      <td>0.0</td>\n",
       "      <td>0.0</td>\n",
       "      <td>0.0</td>\n",
       "      <td>0.0</td>\n",
       "      <td>0.0</td>\n",
       "      <td>0.0</td>\n",
       "      <td>0.0</td>\n",
       "      <td>...</td>\n",
       "      <td>0.0</td>\n",
       "      <td>0.0</td>\n",
       "      <td>0.0</td>\n",
       "      <td>0.0</td>\n",
       "      <td>1.0</td>\n",
       "      <td>0.0</td>\n",
       "      <td>-0.531955</td>\n",
       "      <td>0.876430</td>\n",
       "      <td>-0.255442</td>\n",
       "      <td>-0.080791</td>\n",
       "    </tr>\n",
       "    <tr>\n",
       "      <th>5799</th>\n",
       "      <td>0.0</td>\n",
       "      <td>1.0</td>\n",
       "      <td>0.0</td>\n",
       "      <td>0.0</td>\n",
       "      <td>0.0</td>\n",
       "      <td>0.0</td>\n",
       "      <td>0.0</td>\n",
       "      <td>0.0</td>\n",
       "      <td>0.0</td>\n",
       "      <td>0.0</td>\n",
       "      <td>...</td>\n",
       "      <td>0.0</td>\n",
       "      <td>0.0</td>\n",
       "      <td>0.0</td>\n",
       "      <td>0.0</td>\n",
       "      <td>1.0</td>\n",
       "      <td>0.0</td>\n",
       "      <td>-0.734303</td>\n",
       "      <td>-0.892743</td>\n",
       "      <td>-0.497453</td>\n",
       "      <td>-0.471036</td>\n",
       "    </tr>\n",
       "    <tr>\n",
       "      <th>5800</th>\n",
       "      <td>0.0</td>\n",
       "      <td>1.0</td>\n",
       "      <td>0.0</td>\n",
       "      <td>0.0</td>\n",
       "      <td>0.0</td>\n",
       "      <td>0.0</td>\n",
       "      <td>0.0</td>\n",
       "      <td>0.0</td>\n",
       "      <td>0.0</td>\n",
       "      <td>0.0</td>\n",
       "      <td>...</td>\n",
       "      <td>0.0</td>\n",
       "      <td>0.0</td>\n",
       "      <td>0.0</td>\n",
       "      <td>0.0</td>\n",
       "      <td>1.0</td>\n",
       "      <td>0.0</td>\n",
       "      <td>-0.531955</td>\n",
       "      <td>-0.892743</td>\n",
       "      <td>-0.497453</td>\n",
       "      <td>-0.471036</td>\n",
       "    </tr>\n",
       "    <tr>\n",
       "      <th>5801</th>\n",
       "      <td>0.0</td>\n",
       "      <td>0.0</td>\n",
       "      <td>0.0</td>\n",
       "      <td>0.0</td>\n",
       "      <td>0.0</td>\n",
       "      <td>0.0</td>\n",
       "      <td>0.0</td>\n",
       "      <td>0.0</td>\n",
       "      <td>0.0</td>\n",
       "      <td>0.0</td>\n",
       "      <td>...</td>\n",
       "      <td>0.0</td>\n",
       "      <td>0.0</td>\n",
       "      <td>0.0</td>\n",
       "      <td>0.0</td>\n",
       "      <td>1.0</td>\n",
       "      <td>0.0</td>\n",
       "      <td>-0.734303</td>\n",
       "      <td>-0.892743</td>\n",
       "      <td>-0.497453</td>\n",
       "      <td>-0.511808</td>\n",
       "    </tr>\n",
       "  </tbody>\n",
       "</table>\n",
       "<p>5802 rows × 94 columns</p>\n",
       "</div>"
      ],
      "text/plain": [
       "      거주지_강원도  거주지_경기도  거주지_경상남도  거주지_경상북도  거주지_광주광역시  거주지_대구광역시  거주지_대전광역시  \\\n",
       "0         0.0      0.0       0.0       0.0        1.0        0.0        0.0   \n",
       "1         0.0      1.0       0.0       0.0        0.0        0.0        0.0   \n",
       "2         0.0      0.0       0.0       0.0        0.0        0.0        0.0   \n",
       "3         0.0      0.0       0.0       0.0        0.0        0.0        0.0   \n",
       "4         0.0      1.0       0.0       0.0        0.0        0.0        0.0   \n",
       "...       ...      ...       ...       ...        ...        ...        ...   \n",
       "5797      0.0      0.0       0.0       0.0        0.0        0.0        1.0   \n",
       "5798      0.0      1.0       0.0       0.0        0.0        0.0        0.0   \n",
       "5799      0.0      1.0       0.0       0.0        0.0        0.0        0.0   \n",
       "5800      0.0      1.0       0.0       0.0        0.0        0.0        0.0   \n",
       "5801      0.0      0.0       0.0       0.0        0.0        0.0        0.0   \n",
       "\n",
       "      거주지_부산광역시  거주지_서울특별시  거주지_세종특별자치시  ...  상품코드_90008  상품코드_90009  \\\n",
       "0           0.0        0.0          0.0  ...         0.0         0.0   \n",
       "1           0.0        0.0          0.0  ...         0.0         0.0   \n",
       "2           1.0        0.0          0.0  ...         0.0         0.0   \n",
       "3           0.0        0.0          0.0  ...         0.0         0.0   \n",
       "4           0.0        0.0          0.0  ...         0.0         0.0   \n",
       "...         ...        ...          ...  ...         ...         ...   \n",
       "5797        0.0        0.0          0.0  ...         0.0         0.0   \n",
       "5798        0.0        0.0          0.0  ...         0.0         0.0   \n",
       "5799        0.0        0.0          0.0  ...         0.0         0.0   \n",
       "5800        0.0        0.0          0.0  ...         0.0         0.0   \n",
       "5801        0.0        0.0          0.0  ...         0.0         0.0   \n",
       "\n",
       "      상품코드_90010  부모연령_0  부모연령_1  부모연령_2     총상담횟수     총구매횟수     총구매수량  \\\n",
       "0            0.0     0.0     1.0     0.0  0.277434  1.097577  2.648689   \n",
       "1            0.0     0.0     1.0     0.0  0.682129  0.876430 -0.497453   \n",
       "2            0.0     0.0     1.0     0.0 -0.127261 -0.450450 -0.255442   \n",
       "3            0.0     0.0     1.0     0.0  0.479782  0.876430 -0.497453   \n",
       "4            0.0     1.0     0.0     0.0 -0.127261 -0.892743 -0.497453   \n",
       "...          ...     ...     ...     ...       ...       ...       ...   \n",
       "5797         0.0     0.0     1.0     0.0 -0.127261 -0.892743 -0.497453   \n",
       "5798         0.0     0.0     1.0     0.0 -0.531955  0.876430 -0.255442   \n",
       "5799         0.0     0.0     1.0     0.0 -0.734303 -0.892743 -0.497453   \n",
       "5800         0.0     0.0     1.0     0.0 -0.531955 -0.892743 -0.497453   \n",
       "5801         0.0     0.0     1.0     0.0 -0.734303 -0.892743 -0.497453   \n",
       "\n",
       "         총구매금액  \n",
       "0     3.056147  \n",
       "1    -0.471036  \n",
       "2    -0.313773  \n",
       "3    -0.471036  \n",
       "4    -0.511808  \n",
       "...        ...  \n",
       "5797 -0.471036  \n",
       "5798 -0.080791  \n",
       "5799 -0.471036  \n",
       "5800 -0.471036  \n",
       "5801 -0.511808  \n",
       "\n",
       "[5802 rows x 94 columns]"
      ]
     },
     "execution_count": 32,
     "metadata": {},
     "output_type": "execute_result"
    }
   ],
   "source": [
    "x_test = pd.concat([test_x_data_categorical, test_x_data_num], axis=1)\n",
    "x_test"
   ]
  },
  {
   "cell_type": "code",
   "execution_count": null,
   "id": "7b49f4f1",
   "metadata": {},
   "outputs": [],
   "source": [
    "# x_train.to_excel('x_train.xlsx')\n",
    "# x_test.to_excel('x_test.xlsx')\n",
    "# y_train.to_excel('y_train.xlsx')\n",
    "# y_test.to_excel('y_test.xlsx')"
   ]
  },
  {
   "cell_type": "code",
   "execution_count": 33,
   "id": "70484536",
   "metadata": {},
   "outputs": [
    {
     "data": {
      "text/plain": [
       "<AxesSubplot:>"
      ]
     },
     "execution_count": 33,
     "metadata": {},
     "output_type": "execute_result"
    },
    {
     "data": {
      "image/png": "[encoded data removed]",
      "text/plain": [
       "<Figure size 2160x2160 with 1 Axes>"
      ]
     },
     "metadata": {
      "needs_background": "light"
     },
     "output_type": "display_data"
    }
   ],
   "source": [
    "plt.figure(figsize=(30,30))\n",
    "sns.boxenplot(data=train_x_data_num)"
   ]
  },
  {
   "cell_type": "markdown",
   "id": "e97eda54",
   "metadata": {},
   "source": [
    "# Train the model"
   ]
  },
  {
   "cell_type": "code",
   "execution_count": 34,
   "id": "64a2891f",
   "metadata": {},
   "outputs": [],
   "source": [
    "from sklearn import ensemble\n",
    "from sklearn.metrics import accuracy_score"
   ]
  },
  {
   "cell_type": "markdown",
   "id": "35dd601b",
   "metadata": {},
   "source": [
    "# 앙상블 기본 모델 학습 및 정확도 측정"
   ]
  },
  {
   "cell_type": "code",
   "execution_count": 35,
   "id": "898a5f68",
   "metadata": {},
   "outputs": [
    {
     "name": "stdout",
     "output_type": "stream",
     "text": [
      "The accuracy score on test set: 0.9347\n"
     ]
    }
   ],
   "source": [
    "clf_RFC = ensemble.RandomForestClassifier()\n",
    "clf_RFC.fit(x_train, y_train)\n",
    "acc = accuracy_score(y_test, clf_RFC.predict(x_test))\n",
    "print(\"The accuracy score on test set: {:.4f}\".format(acc))"
   ]
  },
  {
   "cell_type": "code",
   "execution_count": 36,
   "id": "4bbca55a",
   "metadata": {},
   "outputs": [
    {
     "name": "stdout",
     "output_type": "stream",
     "text": [
      "The accuracy score on test set: 0.9266\n"
     ]
    }
   ],
   "source": [
    "clf_DTC = sklearn.tree.DecisionTreeClassifier(random_state=0)\n",
    "clf_DTC.fit(x_train, y_train)\n",
    "acc = accuracy_score(y_test, clf_DTC.predict(x_test))\n",
    "print(\"The accuracy score on test set: {:.4f}\".format(acc))"
   ]
  },
  {
   "cell_type": "markdown",
   "id": "e9228adb",
   "metadata": {},
   "source": [
    "# 부스팅 알고리즘 학습 및 정확도 측정"
   ]
  },
  {
   "cell_type": "code",
   "execution_count": 37,
   "id": "40028439",
   "metadata": {},
   "outputs": [],
   "source": [
    "from xgboost import XGBClassifier"
   ]
  },
  {
   "cell_type": "code",
   "execution_count": 38,
   "id": "d90477ea",
   "metadata": {},
   "outputs": [
    {
     "name": "stdout",
     "output_type": "stream",
     "text": [
      "The accuracy score on test set: 0.9326\n"
     ]
    }
   ],
   "source": [
    "clf_XGB = XGBClassifier(random_state=0)\n",
    "clf_XGB.fit(x_train, y_train)\n",
    "acc = accuracy_score(y_test, clf_XGB.predict(x_test))\n",
    "print(\"The accuracy score on test set: {:.4f}\".format(acc))"
   ]
  },
  {
   "cell_type": "code",
   "execution_count": 39,
   "id": "3be6f8a8",
   "metadata": {},
   "outputs": [
    {
     "name": "stdout",
     "output_type": "stream",
     "text": [
      "The accuracy score on test set: 0.9336\n"
     ]
    }
   ],
   "source": [
    "clf_GB = ensemble.GradientBoostingClassifier()\n",
    "clf_GB.fit(x_train, y_train)\n",
    "acc = accuracy_score(y_test, clf_GB.predict(x_test))\n",
    "print(\"The accuracy score on test set: {:.4f}\".format(acc))"
   ]
  },
  {
   "cell_type": "code",
   "execution_count": 40,
   "id": "4b58bdda",
   "metadata": {},
   "outputs": [
    {
     "data": {
      "image/png": "[encoded data removed]",
      "text/plain": [
       "<Figure size 864x432 with 1 Axes>"
      ]
     },
     "metadata": {
      "needs_background": "light"
     },
     "output_type": "display_data"
    }
   ],
   "source": [
    "train_score = np.zeros((clf_GB.n_estimators,), dtype=np.float64)\n",
    "for i, y_pred in enumerate(clf_GB.staged_predict(x_train)):\n",
    "    train_score[i] = accuracy_score(y_train, y_pred)\n",
    "\n",
    "test_score = np.zeros((clf_GB.n_estimators,), dtype=np.float64)\n",
    "for i, y_pred in enumerate(clf_GB.staged_predict(x_test)):\n",
    "    test_score[i] = accuracy_score(y_test, y_pred)\n",
    "    \n",
    "fig = plt.figure(figsize=(12, 6))\n",
    "plt.subplot(1, 1, 1)\n",
    "plt.title('Accuracy') # Binomial deviance loss function for binary classification\n",
    "plt.plot(np.arange(clf_GB.n_estimators) + 1, train_score, 'b-', label='Training Set Accuracy')\n",
    "plt.plot(np.arange(clf_GB.n_estimators) + 1, test_score, 'r-', label='Test Set Accuracy')\n",
    "plt.legend(loc='upper right')\n",
    "plt.xlabel('Boosting Iterations')\n",
    "plt.ylabel('Accuracy')\n",
    "fig.tight_layout()\n",
    "plt.show()"
   ]
  },
  {
   "cell_type": "code",
   "execution_count": 41,
   "id": "7958ce1c",
   "metadata": {},
   "outputs": [
    {
     "data": {
      "image/png": "[encoded data removed]",
      "text/plain": [
       "<Figure size 576x432 with 1 Axes>"
      ]
     },
     "metadata": {
      "needs_background": "light"
     },
     "output_type": "display_data"
    }
   ],
   "source": [
    "import seaborn as sns\n",
    "\n",
    "feature_importance_values = clf_XGB.feature_importances_\n",
    "# Top 중요도로 정렬하고, 쉽게 시각화하기 위해 Series 변환\n",
    "feature_importances = pd.Series(feature_importance_values, index=x_train.columns)\n",
    "# 중요도값 순으로 Series를 정렬\n",
    "feature_top5 = feature_importances.sort_values(ascending=False)[:30]\n",
    "\n",
    "plt.figure(figsize=[8, 6])\n",
    "plt.title('Feature Importances Top 5')\n",
    "sns.barplot(x=feature_top5, y=feature_top5.index)\n",
    "plt.show()"
   ]
  },
  {
   "cell_type": "code",
   "execution_count": null,
   "id": "13f65247",
   "metadata": {},
   "outputs": [],
   "source": [
    "# x_data.to_excel(\"./x_data.xlsx\")\n",
    "# y_data.to_excel(\"./y_data.xlsx\")"
   ]
  },
  {
   "cell_type": "code",
   "execution_count": 42,
   "id": "5b3ae6ec",
   "metadata": {},
   "outputs": [
    {
     "data": {
      "image/png": "[encoded data removed]",
      "text/plain": [
       "<Figure size 720x720 with 1 Axes>"
      ]
     },
     "metadata": {
      "needs_background": "light"
     },
     "output_type": "display_data"
    }
   ],
   "source": [
    "from sklearn.metrics import roc_curve, auc\n",
    "\n",
    "models=['RFC', 'DTC', 'XGB']\n",
    "\n",
    "\n",
    "plt.figure(figsize=(10, 10))\n",
    "plt.xlim([0.0, 1.0])\n",
    "plt.ylim([0.0, 1.05])\n",
    "plt.xlabel('False Positive Rate')\n",
    "plt.ylabel('True Positive Rate')\n",
    "\n",
    "plt.title(\"ROC curve\")\n",
    "plt.plot([0, 1], [0, 1], color='navy', lw=2, linestyle='--')\n",
    "\n",
    "\n",
    "# Global 변수 (전역 변수)\n",
    "# string으로 변수를 설정하고, 값을 할당의 목적으로 사용\n",
    "\n",
    "for i in models:\n",
    "\n",
    "    globals()['clf_{}_pred'.format(i)] = \\\n",
    "    globals()['clf_{}'.format(i)].predict_proba(x_test)\n",
    "    \n",
    "    globals()['clf_{}_roc'.format(i)]=\\\n",
    "    globals()['clf_{}_pred'.format(i)][:,1]\n",
    "   \n",
    "    globals()['fpr_{}'.format(i)],\\\n",
    "    globals()['tpr_{}'.format(i)], \\\n",
    "    globals()['_{}'.format(i)] \\\n",
    "    =roc_curve(y_true=y_test, y_score=globals()['clf_{}_roc'.format(i)]) \n",
    "    \n",
    "    globals()['roc_auc_{}'.format(i)] = \\\n",
    "    auc(globals()['fpr_{}'.format(i)], globals()['tpr_{}'.format(i)])\n",
    "    \n",
    "    \n",
    "    \n",
    "    plt.plot(globals()['fpr_{}'.format(i)], globals()['tpr_{}'.format(i)]\n",
    "             , lw=2, label=i+'__ROC curve (area = %0.3f)' %globals()['roc_auc_{}'.format(i)])\n",
    "\n",
    "\n",
    "# # Stack model은 S_test data로 진행하므로 따로 정리함.\n",
    "# clf_STACK_pred = clf_STACK_predict_proba(S_test)\n",
    "# clf_STACK_roc = clf_STACK_pred[:,1]\n",
    "# fpr_STACK, tpr_STACK, _STACK = roc_curve(y_true = y_test, y_score = clf_STACK_roc)\n",
    "# roc_auc_STACK = auc(fpr_STACK, tpr_STACK)\n",
    "# plt.plot(fpr_STACK, tpr_STACK, lw=2, label='STACK curve (area = %0.2f)'\\\n",
    "#          % roc_auc_STACK)\n",
    "\n",
    "\n",
    "plt.legend()\n",
    "plt.show()"
   ]
  },
  {
   "cell_type": "code",
   "execution_count": 43,
   "id": "b80ee612",
   "metadata": {},
   "outputs": [
    {
     "name": "stdout",
     "output_type": "stream",
     "text": [
      "              precision    recall  f1-score   support\n",
      "\n",
      "           0       0.95      0.97      0.96      5311\n",
      "           1       0.63      0.48      0.55       491\n",
      "\n",
      "    accuracy                           0.93      5802\n",
      "   macro avg       0.79      0.73      0.76      5802\n",
      "weighted avg       0.93      0.93      0.93      5802\n",
      "\n",
      "Accuracy on Training set: 0.979\n",
      "Accuracy on Test set: 0.933\n"
     ]
    }
   ],
   "source": [
    "from sklearn.metrics import classification_report\n",
    "\n",
    "predictions = clf_XGB.predict(x_test)\n",
    "print(classification_report(y_test, predictions)) # Precision, Recall, F1-score 등을 확인할 수 있습니다.\n",
    "\n",
    "print(\"Accuracy on Training set: {:.3f}\".format(clf_XGB.score(x_train, y_train)))\n",
    "print(\"Accuracy on Test set: {:.3f}\".format(clf_XGB.score(x_test, y_test)))"
   ]
  },
  {
   "cell_type": "code",
   "execution_count": 44,
   "id": "33cc181c",
   "metadata": {},
   "outputs": [
    {
     "data": {
      "image/png": "[encoded data removed]",
      "text/plain": [
       "<Figure size 1440x360 with 6 Axes>"
      ]
     },
     "metadata": {
      "needs_background": "light"
     },
     "output_type": "display_data"
    }
   ],
   "source": [
    "# confusion matrix\n",
    "from sklearn.metrics import confusion_matrix\n",
    "fig, ax = plt.subplots(nrows = 1, ncols = 3, figsize=(20, 5))\n",
    "\n",
    "confu = confusion_matrix(y_true = y_test, y_pred = clf_RFC.predict(x_test))\n",
    "confu2 = confusion_matrix(y_true = y_test, y_pred = clf_DTC.predict(x_test))\n",
    "confu3 = confusion_matrix(y_true = y_test, y_pred = clf_XGB.predict(x_test))\n",
    "\n",
    "\n",
    "sns.heatmap(confu, annot=True, annot_kws={'size':15}, cmap='OrRd', fmt='.10g', ax=ax[0])\n",
    "sns.heatmap(confu2, annot=True, annot_kws={'size':15}, cmap='GnBu', fmt='.10g', ax=ax[1])\n",
    "sns.heatmap(confu3, annot=True, annot_kws={'size':15}, cmap='Greys', fmt='.10g', ax=ax[2])\n",
    "ax[0].set_title('랜덤포레스트',pad = 12, fontsize = 20)\n",
    "ax[1].set_title('디시전트리',pad = 12, fontsize = 20)\n",
    "ax[2].set_title('XGB',pad = 12, fontsize = 20)\n",
    "plt.show()"
   ]
  },
  {
   "cell_type": "markdown",
   "id": "f6427891",
   "metadata": {},
   "source": [
    "# 클래스 불균형 문제 해결(오버샘플링 SMOTE)"
   ]
  },
  {
   "cell_type": "code",
   "execution_count": 45,
   "id": "f8a70fdc",
   "metadata": {},
   "outputs": [],
   "source": [
    "from imblearn.over_sampling import SMOTE"
   ]
  },
  {
   "cell_type": "code",
   "execution_count": 46,
   "id": "3630839c",
   "metadata": {},
   "outputs": [
    {
     "name": "stdout",
     "output_type": "stream",
     "text": [
      "SMOTE 적용 전 학습용 피처/레이블 데이터 세트 :  (13537, 94) (13537, 1)\n",
      "SMOTE 적용 후 학습용 피처/레이블 데이터 세트 : (24720, 94) (24720, 1)\n",
      "SMOTE 적용 후 값의 분포 :\n",
      " 재구매여부\n",
      "0        12360\n",
      "1        12360\n",
      "dtype: int64\n"
     ]
    }
   ],
   "source": [
    "smote = SMOTE(random_state=42)\n",
    "x_train_over, y_train_over = smote.fit_resample(x_train, y_train)\n",
    "print(\"SMOTE 적용 전 학습용 피처/레이블 데이터 세트 : \", x_train.shape, y_train.shape)\n",
    "print('SMOTE 적용 후 학습용 피처/레이블 데이터 세트 :', x_train_over.shape, y_train_over.shape)\n",
    "# print(\"SMOTE 적용 전 학습용 피처/레이블 데이터 세트 : \", x_test.shape, y_test.shape)\n",
    "print('SMOTE 적용 후 값의 분포 :\\n', y_train_over.value_counts() )\n",
    "#print('SMOTE 적용 후 값의 분포 :\\n', y_train.value_counts() )"
   ]
  },
  {
   "cell_type": "code",
   "execution_count": 47,
   "id": "8f2e438b",
   "metadata": {},
   "outputs": [
    {
     "data": {
      "image/png": "[encoded data removed]",
      "text/plain": [
       "<Figure size 1296x576 with 2 Axes>"
      ]
     },
     "metadata": {
      "needs_background": "light"
     },
     "output_type": "display_data"
    }
   ],
   "source": [
    "f, ax = plt.subplots(1,2,figsize=(18,8))\n",
    "y_train_over['재구매여부'].value_counts()\\\n",
    ".plot.pie(explode = [0,0.1], autopct = '%1.1f%%', ax=ax[0])\n",
    "\n",
    "ax[0].set_title('재구매여부')\n",
    "ax[0].set_ylabel('')\n",
    "\n",
    "sns.countplot('재구매여부', data = y_train_over, ax = ax[1])\n",
    "ax[1].set_title('재구매여부')\n",
    "plt.show()"
   ]
  },
  {
   "cell_type": "code",
   "execution_count": 48,
   "id": "98b8ca63",
   "metadata": {},
   "outputs": [
    {
     "data": {
      "text/plain": [
       "0    12360\n",
       "1    12360\n",
       "Name: 재구매여부, dtype: int64"
      ]
     },
     "execution_count": 48,
     "metadata": {},
     "output_type": "execute_result"
    }
   ],
   "source": [
    "y_train_over['재구매여부'].value_counts()"
   ]
  },
  {
   "cell_type": "markdown",
   "id": "f22a0ebd",
   "metadata": {},
   "source": [
    "# 재학습"
   ]
  },
  {
   "cell_type": "code",
   "execution_count": 49,
   "id": "6bea967a",
   "metadata": {},
   "outputs": [],
   "source": [
    "x_train_resample, x_test, y_train_resample, y_test =\\\n",
    "model_selection.train_test_split(x_train_over, y_train_over, test_size=0.3, random_state=0)"
   ]
  },
  {
   "cell_type": "code",
   "execution_count": null,
   "id": "3563f164",
   "metadata": {},
   "outputs": [],
   "source": [
    "# params = {'n_estimators': 1000,\n",
    "#           'max_depth': 5,\n",
    "#           'min_samples_split': 7,\n",
    "# #           'learning_rate': 0.01,\n",
    "#          'random_state':0}"
   ]
  },
  {
   "cell_type": "code",
   "execution_count": 50,
   "id": "2afd5238",
   "metadata": {},
   "outputs": [
    {
     "name": "stdout",
     "output_type": "stream",
     "text": [
      "The accuracy score on test set: 0.9617\n"
     ]
    }
   ],
   "source": [
    "clf_Bagging_re = ensemble.BaggingClassifier()\n",
    "clf_Bagging_re.fit(x_train_resample, y_train_resample)\n",
    "acc = accuracy_score(y_test, clf_Bagging_re.predict(x_test))\n",
    "print(\"The accuracy score on test set: {:.4f}\".format(acc))"
   ]
  },
  {
   "cell_type": "code",
   "execution_count": 51,
   "id": "932b5c8f",
   "metadata": {},
   "outputs": [
    {
     "name": "stdout",
     "output_type": "stream",
     "text": [
      "The accuracy score on test set: 0.9689\n"
     ]
    }
   ],
   "source": [
    "clf_RFC_re = ensemble.RandomForestClassifier()\n",
    "clf_RFC_re.fit(x_train_resample, y_train_resample)\n",
    "acc = accuracy_score(y_test, clf_RFC_re.predict(x_test))\n",
    "print(\"The accuracy score on test set: {:.4f}\".format(acc))"
   ]
  },
  {
   "cell_type": "code",
   "execution_count": 52,
   "id": "1ad62f3f",
   "metadata": {},
   "outputs": [
    {
     "name": "stdout",
     "output_type": "stream",
     "text": [
      "The accuracy score on test set: 0.9506\n"
     ]
    }
   ],
   "source": [
    "clf_DTC_re = sklearn.tree.DecisionTreeClassifier(random_state=0)\n",
    "clf_DTC_re.fit(x_train_resample, y_train_resample)\n",
    "acc = accuracy_score(y_test, clf_DTC_re.predict(x_test))\n",
    "print(\"The accuracy score on test set: {:.4f}\".format(acc))"
   ]
  },
  {
   "cell_type": "code",
   "execution_count": 53,
   "id": "2c1234a1",
   "metadata": {},
   "outputs": [
    {
     "name": "stdout",
     "output_type": "stream",
     "text": [
      "The accuracy score on test set: 0.9674\n"
     ]
    }
   ],
   "source": [
    "clf_XGB_re = XGBClassifier(random_state=0)\n",
    "clf_XGB_re.fit(x_train_resample, y_train_resample)\n",
    "acc = accuracy_score(y_test, clf_XGB_re.predict(x_test))\n",
    "print(\"The accuracy score on test set: {:.4f}\".format(acc))"
   ]
  },
  {
   "cell_type": "code",
   "execution_count": 54,
   "id": "b2ea2564",
   "metadata": {},
   "outputs": [
    {
     "name": "stdout",
     "output_type": "stream",
     "text": [
      "The accuracy score on test set: 0.9474\n"
     ]
    }
   ],
   "source": [
    "clf_GB_re = ensemble.GradientBoostingClassifier()\n",
    "clf_GB_re.fit(x_train_resample, y_train_resample)\n",
    "acc = accuracy_score(y_test, clf_GB_re.predict(x_test))\n",
    "print(\"The accuracy score on test set: {:.4f}\".format(acc))"
   ]
  },
  {
   "cell_type": "code",
   "execution_count": 55,
   "id": "f4d5aa10",
   "metadata": {},
   "outputs": [],
   "source": [
    "# clf_XGB_re = XGBClassifier(\n",
    "#                 colsample_bytree = 0.8,\\\n",
    "#                 gamma = 0.8,\\\n",
    "#                 learning_rate = 0.05,\\\n",
    "#                 max_depth = 25,\\\n",
    "#                 min_child_weight = 0.5,\\\n",
    "#                 n_estimators = 200,\\\n",
    "#                 nthread = -1,\\\n",
    "#                 objective = 'binary:logistic',\\\n",
    "#                 scale_pos_weight = 1,\\\n",
    "#                 seed = 2019,\\\n",
    "#                 subsample = 0.8)\n",
    "# clf_XGB_re.fit(x_train_resample, y_train_resample)\n",
    "# acc = accuracy_score(y_test, clf_XGB_re.predict(x_test))\n",
    "# print(\"The accuracy score on test set: {:.4f}\".format(acc))"
   ]
  },
  {
   "cell_type": "code",
   "execution_count": null,
   "id": "b9fb0676",
   "metadata": {},
   "outputs": [],
   "source": [
    "# clf_XGB_re = XGBClassifier(\n",
    "#                 colsample_bytree = 0.8,\\\n",
    "#                 gamma = 0,\\\n",
    "#                 learning_rate = 0.05,\\\n",
    "#                 max_depth = 25,\\\n",
    "#                 min_child_weight = 0.5,\\\n",
    "#                 n_estimators = 200,\\\n",
    "#                 nthread = -1,\\\n",
    "#                 objective = 'binary:logistic',\\\n",
    "#                 scale_pos_weight = 1,\\\n",
    "#                 seed = 2019,\\\n",
    "#                 subsample = 0.8)\n",
    "# clf_XGB_re.fit(x_train_resample, y_train_resample)\n",
    "# acc = accuracy_score(y_test, clf_XGB_re.predict(x_test))\n",
    "# print(\"The accuracy score on test set: {:.4f}\".format(acc))"
   ]
  },
  {
   "cell_type": "code",
   "execution_count": 56,
   "id": "e7ab494f",
   "metadata": {},
   "outputs": [
    {
     "name": "stdout",
     "output_type": "stream",
     "text": [
      "              precision    recall  f1-score   support\n",
      "\n",
      "           0       0.98      0.95      0.97      3740\n",
      "           1       0.95      0.98      0.97      3676\n",
      "\n",
      "    accuracy                           0.97      7416\n",
      "   macro avg       0.97      0.97      0.97      7416\n",
      "weighted avg       0.97      0.97      0.97      7416\n",
      "\n",
      "Accuracy on Training set: 0.982\n",
      "Accuracy on Test set: 0.969\n"
     ]
    }
   ],
   "source": [
    "predictions = clf_RFC_re.predict(x_test)\n",
    "print(classification_report(y_test, predictions)) # Precision, Recall, F1-score 등을 확인할 수 있습니다.\n",
    "\n",
    "print(\"Accuracy on Training set: {:.3f}\".format(clf_RFC_re.score(x_train, y_train)))\n",
    "print(\"Accuracy on Test set: {:.3f}\".format(clf_RFC_re.score(x_test, y_test)))"
   ]
  },
  {
   "cell_type": "code",
   "execution_count": 57,
   "id": "b1fc2889",
   "metadata": {},
   "outputs": [
    {
     "data": {
      "image/png": "[encoded data removed]",
      "text/plain": [
       "<Figure size 1440x360 with 6 Axes>"
      ]
     },
     "metadata": {
      "needs_background": "light"
     },
     "output_type": "display_data"
    }
   ],
   "source": [
    "# confusion matrix\n",
    "from sklearn.metrics import confusion_matrix\n",
    "fig, ax = plt.subplots(nrows = 1, ncols = 3, figsize=(20, 5))\n",
    "\n",
    "confu = confusion_matrix(y_true = y_test, y_pred = clf_RFC_re.predict(x_test))\n",
    "confu2 = confusion_matrix(y_true = y_test, y_pred = clf_DTC_re.predict(x_test))\n",
    "confu3 = confusion_matrix(y_true = y_test, y_pred = clf_XGB_re.predict(x_test))\n",
    "\n",
    "\n",
    "sns.heatmap(confu, annot=True, annot_kws={'size':15}, cmap='OrRd', fmt='.10g', ax=ax[0])\n",
    "sns.heatmap(confu2, annot=True, annot_kws={'size':15}, cmap='GnBu', fmt='.10g', ax=ax[1])\n",
    "sns.heatmap(confu3, annot=True, annot_kws={'size':15}, cmap='Greys', fmt='.10g', ax=ax[2])\n",
    "ax[0].set_title('랜덤포레스트',pad = 12, fontsize = 20)\n",
    "ax[1].set_title('디시전트리',pad = 12, fontsize = 20)\n",
    "ax[2].set_title('XGB',pad = 12, fontsize = 20)\n",
    "plt.show()"
   ]
  },
  {
   "cell_type": "code",
   "execution_count": null,
   "id": "0cf607c0",
   "metadata": {},
   "outputs": [],
   "source": [
    "# import seaborn as sns\n",
    "\n",
    "# feature_importance_values = clf_DTC_re.feature_importances_\n",
    "# # Top 중요도로 정렬하고, 쉽게 시각화하기 위해 Series 변환\n",
    "# feature_importances = pd.Series(feature_importance_values, index=x_train.columns)\n",
    "# # 중요도값 순으로 Series를 정렬\n",
    "# feature_top5 = feature_importances.sort_values(ascending=False)[:30]\n",
    "\n",
    "# plt.figure(figsize=[8, 6])\n",
    "# plt.title('DTC Feature Importances')\n",
    "# sns.barplot(x=feature_top5, y=feature_top5.index)\n",
    "# plt.show()"
   ]
  },
  {
   "cell_type": "code",
   "execution_count": null,
   "id": "c6cc6055",
   "metadata": {},
   "outputs": [],
   "source": [
    "# import seaborn as sns\n",
    "\n",
    "# feature_importance_values = clf_RFC_re.feature_importances_\n",
    "# # Top 중요도로 정렬하고, 쉽게 시각화하기 위해 Series 변환\n",
    "# feature_importances = pd.Series(feature_importance_values, index=x_train.columns)\n",
    "# # 중요도값 순으로 Series를 정렬\n",
    "# feature_top5 = feature_importances.sort_values(ascending=False)[:30]\n",
    "\n",
    "# plt.figure(figsize=[8, 6])\n",
    "# plt.title('RF Feature Importances')\n",
    "# sns.barplot(x=feature_top5, y=feature_top5.index)\n",
    "# plt.show()"
   ]
  },
  {
   "cell_type": "code",
   "execution_count": 61,
   "id": "8aa22111",
   "metadata": {},
   "outputs": [
    {
     "data": {
      "image/png": "[encoded data removed]",
      "text/plain": [
       "<Figure size 576x432 with 1 Axes>"
      ]
     },
     "metadata": {
      "needs_background": "light"
     },
     "output_type": "display_data"
    }
   ],
   "source": [
    "import seaborn as sns\n",
    "\n",
    "feature_importance_values = clf_RFC_re.feature_importances_\n",
    "# Top 중요도로 정렬하고, 쉽게 시각화하기 위해 Series 변환\n",
    "feature_importances = pd.Series(feature_importance_values, index=x_train.columns)\n",
    "# 중요도값 순으로 Series를 정렬\n",
    "feature_top5 = feature_importances.sort_values(ascending=False)[:30]\n",
    "\n",
    "plt.figure(figsize=[8, 6])\n",
    "plt.title('RFC Feature Importances')\n",
    "sns.barplot(x=feature_top5, y=feature_top5.index)\n",
    "plt.show()"
   ]
  },
  {
   "cell_type": "code",
   "execution_count": 58,
   "id": "f09bf048",
   "metadata": {},
   "outputs": [
    {
     "data": {
      "image/png": "[encoded data removed]",
      "text/plain": [
       "<Figure size 576x432 with 1 Axes>"
      ]
     },
     "metadata": {
      "needs_background": "light"
     },
     "output_type": "display_data"
    }
   ],
   "source": [
    "import seaborn as sns\n",
    "\n",
    "feature_importance_values = clf_XGB_re.feature_importances_\n",
    "# Top 중요도로 정렬하고, 쉽게 시각화하기 위해 Series 변환\n",
    "feature_importances = pd.Series(feature_importance_values, index=x_train.columns)\n",
    "# 중요도값 순으로 Series를 정렬\n",
    "feature_top5 = feature_importances.sort_values(ascending=False)[:30]\n",
    "\n",
    "plt.figure(figsize=[8, 6])\n",
    "plt.title('XGB Feature Importances')\n",
    "sns.barplot(x=feature_top5, y=feature_top5.index)\n",
    "plt.show()"
   ]
  },
  {
   "cell_type": "code",
   "execution_count": null,
   "id": "51c38feb",
   "metadata": {},
   "outputs": [],
   "source": [
    "feature_top5"
   ]
  },
  {
   "cell_type": "code",
   "execution_count": 59,
   "id": "c9231c5f",
   "metadata": {},
   "outputs": [
    {
     "data": {
      "image/png": "[encoded data removed]",
      "text/plain": [
       "<Figure size 720x720 with 1 Axes>"
      ]
     },
     "metadata": {
      "needs_background": "light"
     },
     "output_type": "display_data"
    }
   ],
   "source": [
    "from sklearn.metrics import roc_curve, auc\n",
    "\n",
    "models=['Bagging', 'RFC', 'DTC', 'XGB', 'GB']\n",
    "\n",
    "\n",
    "plt.figure(figsize=(10, 10))\n",
    "plt.xlim([0.0, 1.0])\n",
    "plt.ylim([0.0, 1.05])\n",
    "plt.xlabel('False Positive Rate')\n",
    "plt.ylabel('True Positive Rate')\n",
    "\n",
    "plt.title(\"ROC curve\")\n",
    "plt.plot([0, 1], [0, 1], color='navy', lw=2, linestyle='--')\n",
    "\n",
    "\n",
    "for i in models:\n",
    "\n",
    "    globals()['clf_{}_re_pred'.format(i)] = \\\n",
    "    globals()['clf_{}_re'.format(i)].predict_proba(x_test)\n",
    "    \n",
    "    globals()['clf_{}_re_roc'.format(i)]=\\\n",
    "    globals()['clf_{}_re_pred'.format(i)][:,1]\n",
    "   \n",
    "    globals()['fpr_{}_re'.format(i)],\\\n",
    "    globals()['tpr_{}_re'.format(i)], \\\n",
    "    globals()['_{}'.format(i)] \\\n",
    "    =roc_curve(y_true=y_test, y_score=globals()['clf_{}_re_roc'.format(i)]) \n",
    "    \n",
    "    globals()['roc_auc_{}_re'.format(i)] = \\\n",
    "    auc(globals()['fpr_{}_re'.format(i)], globals()['tpr_{}_re'.format(i)])\n",
    "\n",
    "    \n",
    "    plt.plot(globals()['fpr_{}_re'.format(i)], globals()['tpr_{}_re'.format(i)]\n",
    "             , lw=2, label=i+'__ROC curve (area = %0.3f)' %globals()['roc_auc_{}_re'.format(i)])\n",
    "\n",
    "plt.legend()\n",
    "plt.show()"
   ]
  },
  {
   "cell_type": "code",
   "execution_count": null,
   "id": "45fed4b4",
   "metadata": {},
   "outputs": [],
   "source": [
    "# from sklearn.metrics import roc_curve, auc\n",
    "\n",
    "# models=['RFC', 'DTC', 'XGB']\n",
    "\n",
    "\n",
    "# plt.figure(figsize=(10, 10))\n",
    "# plt.xlim([0.0, 1.0])\n",
    "# plt.ylim([0.0, 1.05])\n",
    "# plt.xlabel('False Positive Rate')\n",
    "# plt.ylabel('True Positive Rate')\n",
    "\n",
    "# plt.title(\"ROC curve\")\n",
    "# plt.plot([0, 1], [0, 1], color='navy', lw=2, linestyle='--')\n",
    "\n",
    "\n",
    "# for i in models:\n",
    "\n",
    "#     globals()['clf_{}_re_pred'.format(i)] = \\\n",
    "#     globals()['clf_{}_re'.format(i)].predict_proba(x_test)\n",
    "    \n",
    "#     globals()['clf_{}_re_roc'.format(i)]=\\\n",
    "#     globals()['clf_{}_re_pred'.format(i)][:,1]\n",
    "   \n",
    "#     globals()['fpr_{}_re'.format(i)],\\\n",
    "#     globals()['tpr_{}_re'.format(i)], \\\n",
    "#     globals()['_{}'.format(i)] \\\n",
    "#     =roc_curve(y_true=y_test, y_score=globals()['clf_{}_re_roc'.format(i)]) \n",
    "    \n",
    "#     globals()['roc_auc_{}_re'.format(i)] = \\\n",
    "#     auc(globals()['fpr_{}_re'.format(i)], globals()['tpr_{}_re'.format(i)])\n",
    "\n",
    "    \n",
    "#     plt.plot(globals()['fpr_{}_re'.format(i)], globals()['tpr_{}_re'.format(i)]\n",
    "#              , lw=2, label=i+'__ROC curve (area = %0.3f)' %globals()['roc_auc_{}_re'.format(i)])\n",
    "\n",
    "# plt.legend()\n",
    "# plt.show()"
   ]
  },
  {
   "cell_type": "code",
   "execution_count": 60,
   "id": "785740cf",
   "metadata": {},
   "outputs": [
    {
     "data": {
      "image/png": "[encoded data removed]",
      "text/plain": [
       "<Figure size 864x432 with 1 Axes>"
      ]
     },
     "metadata": {
      "needs_background": "light"
     },
     "output_type": "display_data"
    }
   ],
   "source": [
    "train_score = np.zeros((clf_GB_re.n_estimators,), dtype=np.float64)\n",
    "for i, y_pred in enumerate(clf_GB_re.staged_predict(x_train_resample)):\n",
    "    train_score[i] = accuracy_score(y_train_resample, y_pred)\n",
    "\n",
    "test_score = np.zeros((clf_GB_re.n_estimators,), dtype=np.float64)\n",
    "for i, y_pred in enumerate(clf_GB_re.staged_predict(x_test)):\n",
    "    test_score[i] = accuracy_score(y_test, y_pred)\n",
    "    \n",
    "fig = plt.figure(figsize=(12, 6))\n",
    "plt.subplot(1, 1, 1)\n",
    "plt.title('Accuracy') \n",
    "plt.plot(np.arange(clf_GB_re.n_estimators) + 1, train_score, 'b-', label='Training Set Accuracy')\n",
    "plt.plot(np.arange(clf_GB_re.n_estimators) + 1, test_score, 'r-', label='Test Set Accuracy')\n",
    "plt.legend(loc='upper right')\n",
    "plt.xlabel('Boosting Iterations')\n",
    "plt.ylabel('Accuracy')\n",
    "fig.tight_layout()\n",
    "plt.show()"
   ]
  }
 ],
 "metadata": {
  "kernelspec": {
   "display_name": "Python 3 (ipykernel)",
   "language": "python",
   "name": "python3"
  },
  "language_info": {
   "codemirror_mode": {
    "name": "ipython",
    "version": 3
   },
   "file_extension": ".py",
   "mimetype": "text/x-python",
   "name": "python",
   "nbconvert_exporter": "python",
   "pygments_lexer": "ipython3",
   "version": "3.9.12"
  }
 },
 "nbformat": 4,
 "nbformat_minor": 5
}
