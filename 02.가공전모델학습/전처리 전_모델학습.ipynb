{
 "cells": [
  {
   "cell_type": "code",
   "execution_count": 1,
   "metadata": {
    "ExecuteTime": {
     "end_time": "2022-09-15T11:33:53.947807Z",
     "start_time": "2022-09-15T11:33:53.933842Z"
    }
   },
   "outputs": [],
   "source": [
    "import copy\n",
    "import datetime\n",
    "import warnings\n",
    "warnings.filterwarnings(action='ignore') \n",
    "\n",
    "import pandas as pd\n",
    "import numpy as np\n",
    "import matplotlib.pyplot as plt\n",
    "\n",
    "from matplotlib import font_manager, rc\n",
    "font_path = \"C:/Windows/Fonts/NGULIM.TTF\"\n",
    "font = font_manager.FontProperties(fname=font_path).get_name()\n",
    "rc('font', family=font)\n",
    "\n",
    "# 시각화\n",
    "import seaborn as sns\n",
    "# 결측치\n",
    "import missingno as msno\n",
    "\n",
    "import sklearn\n",
    "from sklearn.preprocessing import StandardScaler, OneHotEncoder\n",
    "from sklearn import model_selection, linear_model\n",
    "from sklearn.metrics import auc\n",
    "\n",
    "# 파이프라인\n",
    "from sklearn.compose import ColumnTransformer\n",
    "from sklearn.pipeline import Pipeline"
   ]
  },
  {
   "cell_type": "markdown",
   "metadata": {},
   "source": [
    "# 데이터 불러오기"
   ]
  },
  {
   "cell_type": "code",
   "execution_count": 2,
   "metadata": {
    "ExecuteTime": {
     "end_time": "2022-09-15T11:34:02.242528Z",
     "start_time": "2022-09-15T11:33:55.532258Z"
    }
   },
   "outputs": [
    {
     "data": {
      "text/html": [
       "<div>\n",
       "<style scoped>\n",
       "    .dataframe tbody tr th:only-of-type {\n",
       "        vertical-align: middle;\n",
       "    }\n",
       "\n",
       "    .dataframe tbody tr th {\n",
       "        vertical-align: top;\n",
       "    }\n",
       "\n",
       "    .dataframe thead th {\n",
       "        text-align: right;\n",
       "    }\n",
       "</style>\n",
       "<table border=\"1\" class=\"dataframe\">\n",
       "  <thead>\n",
       "    <tr style=\"text-align: right;\">\n",
       "      <th></th>\n",
       "      <th>고객번호</th>\n",
       "      <th>거주지</th>\n",
       "      <th>연령</th>\n",
       "      <th>가입경로</th>\n",
       "      <th>담당사원</th>\n",
       "      <th>상품코드</th>\n",
       "      <th>상담횟수</th>\n",
       "      <th>총구매횟수</th>\n",
       "      <th>총구매수량</th>\n",
       "      <th>총구매금액</th>\n",
       "      <th>총할인금액</th>\n",
       "      <th>최종결제금액</th>\n",
       "      <th>할인율</th>\n",
       "      <th>사용포인트</th>\n",
       "      <th>포인트사용여부</th>\n",
       "      <th>잔여포인트</th>\n",
       "      <th>재구매여부</th>\n",
       "    </tr>\n",
       "  </thead>\n",
       "  <tbody>\n",
       "    <tr>\n",
       "      <th>0</th>\n",
       "      <td>11454</td>\n",
       "      <td>대구광역시</td>\n",
       "      <td>1979-06-15 00:00:00</td>\n",
       "      <td>M</td>\n",
       "      <td>박애신</td>\n",
       "      <td>89003</td>\n",
       "      <td>72</td>\n",
       "      <td>24.0</td>\n",
       "      <td>20</td>\n",
       "      <td>664200</td>\n",
       "      <td>184200</td>\n",
       "      <td>480000</td>\n",
       "      <td>28.0</td>\n",
       "      <td>0.0</td>\n",
       "      <td>0</td>\n",
       "      <td>96</td>\n",
       "      <td>0</td>\n",
       "    </tr>\n",
       "    <tr>\n",
       "      <th>1</th>\n",
       "      <td>14506</td>\n",
       "      <td>경기도</td>\n",
       "      <td>1986-09-11 00:00:00</td>\n",
       "      <td>M</td>\n",
       "      <td>전우영</td>\n",
       "      <td>89003</td>\n",
       "      <td>24</td>\n",
       "      <td>NaN</td>\n",
       "      <td>56</td>\n",
       "      <td>1771200</td>\n",
       "      <td>331200</td>\n",
       "      <td>1440000</td>\n",
       "      <td>19.0</td>\n",
       "      <td>120000.0</td>\n",
       "      <td>1</td>\n",
       "      <td>130</td>\n",
       "      <td>0</td>\n",
       "    </tr>\n",
       "    <tr>\n",
       "      <th>2</th>\n",
       "      <td>83078</td>\n",
       "      <td>충청남도</td>\n",
       "      <td>1111-11-11</td>\n",
       "      <td>M</td>\n",
       "      <td>박애신</td>\n",
       "      <td>89003</td>\n",
       "      <td>684</td>\n",
       "      <td>1044.0</td>\n",
       "      <td>420</td>\n",
       "      <td>15055200</td>\n",
       "      <td>3055200</td>\n",
       "      <td>12000000</td>\n",
       "      <td>20.0</td>\n",
       "      <td>0.0</td>\n",
       "      <td>0</td>\n",
       "      <td>96</td>\n",
       "      <td>0</td>\n",
       "    </tr>\n",
       "  </tbody>\n",
       "</table>\n",
       "</div>"
      ],
      "text/plain": [
       "    고객번호    거주지                   연령 가입경로 담당사원   상품코드  상담횟수   총구매횟수  총구매수량  \\\n",
       "0  11454  대구광역시  1979-06-15 00:00:00    M  박애신  89003    72    24.0     20   \n",
       "1  14506    경기도  1986-09-11 00:00:00    M  전우영  89003    24     NaN     56   \n",
       "2  83078   충청남도           1111-11-11    M  박애신  89003   684  1044.0    420   \n",
       "\n",
       "      총구매금액    총할인금액    최종결제금액   할인율     사용포인트  포인트사용여부  잔여포인트  재구매여부  \n",
       "0    664200   184200    480000  28.0       0.0        0     96      0  \n",
       "1   1771200   331200   1440000  19.0  120000.0        1    130      0  \n",
       "2  15055200  3055200  12000000  20.0       0.0        0     96      0  "
      ]
     },
     "execution_count": 2,
     "metadata": {},
     "output_type": "execute_result"
    }
   ],
   "source": [
    "data_df = pd.read_excel('2.all_data(전처리전_피쳐추출).xls')\n",
    "data_df.head(3)"
   ]
  },
  {
   "cell_type": "markdown",
   "metadata": {},
   "source": [
    "# 데이터 탐색"
   ]
  },
  {
   "cell_type": "code",
   "execution_count": 3,
   "metadata": {
    "ExecuteTime": {
     "end_time": "2022-09-15T11:34:04.411360Z",
     "start_time": "2022-09-15T11:34:04.381432Z"
    }
   },
   "outputs": [
    {
     "name": "stdout",
     "output_type": "stream",
     "text": [
      "<class 'pandas.core.frame.DataFrame'>\n",
      "RangeIndex: 24801 entries, 0 to 24800\n",
      "Data columns (total 17 columns):\n",
      " #   Column   Non-Null Count  Dtype  \n",
      "---  ------   --------------  -----  \n",
      " 0   고객번호     24801 non-null  int64  \n",
      " 1   거주지      24777 non-null  object \n",
      " 2   연령       22199 non-null  object \n",
      " 3   가입경로     24801 non-null  object \n",
      " 4   담당사원     24283 non-null  object \n",
      " 5   상품코드     24801 non-null  int64  \n",
      " 6   상담횟수     24801 non-null  int64  \n",
      " 7   총구매횟수    18155 non-null  float64\n",
      " 8   총구매수량    24801 non-null  int64  \n",
      " 9   총구매금액    24801 non-null  int64  \n",
      " 10  총할인금액    24801 non-null  int64  \n",
      " 11  최종결제금액   24801 non-null  int64  \n",
      " 12  할인율      24799 non-null  float64\n",
      " 13  사용포인트    24408 non-null  float64\n",
      " 14  포인트사용여부  24801 non-null  int64  \n",
      " 15  잔여포인트    24801 non-null  int64  \n",
      " 16  재구매여부    24801 non-null  int64  \n",
      "dtypes: float64(3), int64(10), object(4)\n",
      "memory usage: 3.2+ MB\n"
     ]
    }
   ],
   "source": [
    "## 주소, 나이, 담당직원, 총구매 횟수 결측치 존재 확인\n",
    "data_df.info()"
   ]
  },
  {
   "cell_type": "code",
   "execution_count": 4,
   "metadata": {
    "ExecuteTime": {
     "end_time": "2022-09-15T11:34:06.827815Z",
     "start_time": "2022-09-15T11:34:06.533040Z"
    }
   },
   "outputs": [
    {
     "data": {
      "image/png": "[encoded data removed]",
      "text/plain": [
       "<Figure size 1296x576 with 2 Axes>"
      ]
     },
     "metadata": {
      "needs_background": "light"
     },
     "output_type": "display_data"
    }
   ],
   "source": [
    "f, ax = plt.subplots(1,2,figsize=(18,8))\n",
    "data_df['재구매여부'].value_counts()\\\n",
    ".plot.pie(explode = [0,0.1], autopct = '%1.1f%%', ax=ax[0])\n",
    "\n",
    "ax[0].set_title('재구매여부')\n",
    "ax[0].set_ylabel('')\n",
    "\n",
    "sns.countplot('재구매여부', data = data_df, ax = ax[1])\n",
    "ax[1].set_title('재구매여부')\n",
    "plt.show()"
   ]
  },
  {
   "cell_type": "code",
   "execution_count": 21,
   "metadata": {
    "ExecuteTime": {
     "end_time": "2022-09-15T11:34:09.571791Z",
     "start_time": "2022-09-15T11:34:08.601369Z"
    }
   },
   "outputs": [
    {
     "data": {
      "image/png": "[encoded data removed]",
      "text/plain": [
       "<Figure size 1296x576 with 3 Axes>"
      ]
     },
     "metadata": {
      "needs_background": "light"
     },
     "output_type": "display_data"
    }
   ],
   "source": [
    "plt.rc('font', size=16)\n",
    "f, ax = plt.subplots(1,2,figsize=(18,8))\n",
    "msno.heatmap(data_df,ax=ax[0])\n",
    "ax[0].set_title('결측치 히트맵')\n",
    "\n",
    "msno.matrix(data_df,ax=ax[1])\n",
    "ax[1].set_title('결측치 매트릭스')\n",
    "\n",
    "plt.rc('font', size=20)        # 기본 폰트 크기\n",
    "plt.rc('axes', labelsize=20)   # x,y축 label 폰트 크기\n",
    "plt.rc('xtick', labelsize=50)  # x축 눈금 폰트 크기 \n",
    "plt.rc('ytick', labelsize=50)  # y축 눈금 폰트 크기\n",
    "plt.rc('legend', fontsize=30)  # 범례 폰트 크기\n",
    "plt.rc('figure', titlesize=50) # figure title 폰트 크기"
   ]
  },
  {
   "cell_type": "code",
   "execution_count": 6,
   "metadata": {
    "ExecuteTime": {
     "end_time": "2022-09-15T11:34:11.505922Z",
     "start_time": "2022-09-15T11:34:11.481988Z"
    },
    "scrolled": false
   },
   "outputs": [
    {
     "name": "stdout",
     "output_type": "stream",
     "text": [
      "경기도        6949\n",
      "서울특별시      3108\n",
      "경상남도       1672\n",
      "인천광역시      1593\n",
      "부산광역시      1554\n",
      "경상북도       1466\n",
      "대구광역시      1354\n",
      "충청남도       1157\n",
      "충청북도        848\n",
      "전라북도        819\n",
      "전라남도        812\n",
      "대전광역시       796\n",
      "광주광역시       771\n",
      "울산광역시       683\n",
      "강원도         637\n",
      "제주특별자치도     301\n",
      "세종특별자치시     228\n",
      "없음           29\n",
      "Name: 거주지, dtype: int64\n",
      "===================================\n",
      "박애신      6225\n",
      "전우영      5885\n",
      "김필남      5129\n",
      "정유경      3500\n",
      "이선영      2294\n",
      "마케팅1팀    1085\n",
      "김영애        51\n",
      "김연화        45\n",
      "한나경        35\n",
      "윤슬기        33\n",
      "최고관리자       1\n",
      "Name: 담당사원, dtype: int64\n",
      "===================================\n"
     ]
    }
   ],
   "source": [
    "#범주형 컬럼 vaule_counts\n",
    "print(data_df[\"거주지\"].value_counts())\n",
    "print(\"===================================\")\n",
    "print(data_df[\"담당사원\"].value_counts())\n",
    "print(\"===================================\")"
   ]
  },
  {
   "cell_type": "markdown",
   "metadata": {
    "ExecuteTime": {
     "end_time": "2022-09-13T14:22:19.234661Z",
     "start_time": "2022-09-13T14:22:18.863104Z"
    }
   },
   "source": [
    "# 결측치 핸들링"
   ]
  },
  {
   "cell_type": "markdown",
   "metadata": {},
   "source": [
    "## 주소(지역) 열 <br>\n",
    "전체데이터 24325 행중 24행에 해당 전체데이터의 약 0.2퍼센트 해당 삭제 처리"
   ]
  },
  {
   "cell_type": "code",
   "execution_count": 7,
   "metadata": {
    "ExecuteTime": {
     "end_time": "2022-09-15T11:34:14.487373Z",
     "start_time": "2022-09-15T11:34:14.471414Z"
    }
   },
   "outputs": [
    {
     "data": {
      "text/plain": [
       "고객번호       29\n",
       "거주지        29\n",
       "연령         29\n",
       "가입경로       29\n",
       "담당사원        0\n",
       "상품코드       29\n",
       "상담횟수       29\n",
       "총구매횟수       0\n",
       "총구매수량      29\n",
       "총구매금액      29\n",
       "총할인금액      29\n",
       "최종결제금액     29\n",
       "할인율        29\n",
       "사용포인트       0\n",
       "포인트사용여부    29\n",
       "잔여포인트      29\n",
       "재구매여부      29\n",
       "dtype: int64"
      ]
     },
     "execution_count": 7,
     "metadata": {},
     "output_type": "execute_result"
    }
   ],
   "source": [
    "data_df[data_df[\"거주지\"] == \"없음\"].count()"
   ]
  },
  {
   "cell_type": "code",
   "execution_count": 8,
   "metadata": {
    "ExecuteTime": {
     "end_time": "2022-09-15T11:34:16.242008Z",
     "start_time": "2022-09-15T11:34:16.231034Z"
    }
   },
   "outputs": [
    {
     "data": {
      "text/plain": [
       "고객번호       24\n",
       "거주지         0\n",
       "연령         23\n",
       "가입경로       24\n",
       "담당사원        5\n",
       "상품코드       24\n",
       "상담횟수       24\n",
       "총구매횟수       0\n",
       "총구매수량      24\n",
       "총구매금액      24\n",
       "총할인금액      24\n",
       "최종결제금액     24\n",
       "할인율        24\n",
       "사용포인트       5\n",
       "포인트사용여부    24\n",
       "잔여포인트      24\n",
       "재구매여부      24\n",
       "dtype: int64"
      ]
     },
     "execution_count": 8,
     "metadata": {},
     "output_type": "execute_result"
    }
   ],
   "source": [
    "data_df[data_df[\"거주지\"].isnull()].count()"
   ]
  },
  {
   "cell_type": "code",
   "execution_count": 9,
   "metadata": {
    "ExecuteTime": {
     "end_time": "2022-09-15T11:34:18.170312Z",
     "start_time": "2022-09-15T11:34:18.151332Z"
    }
   },
   "outputs": [],
   "source": [
    "data_df_del_add = data_df[data_df[\"거주지\"] != \"없음\"]"
   ]
  },
  {
   "cell_type": "code",
   "execution_count": 10,
   "metadata": {
    "ExecuteTime": {
     "end_time": "2022-09-15T11:34:19.568955Z",
     "start_time": "2022-09-15T11:34:19.552000Z"
    }
   },
   "outputs": [],
   "source": [
    "data_df_del_add = data_df_del_add[data_df_del_add[\"거주지\"].notnull()]"
   ]
  },
  {
   "cell_type": "code",
   "execution_count": 11,
   "metadata": {
    "ExecuteTime": {
     "end_time": "2022-09-15T11:34:20.783256Z",
     "start_time": "2022-09-15T11:34:20.771289Z"
    }
   },
   "outputs": [
    {
     "data": {
      "text/plain": [
       "False    24748\n",
       "Name: 거주지, dtype: int64"
      ]
     },
     "execution_count": 11,
     "metadata": {},
     "output_type": "execute_result"
    }
   ],
   "source": [
    "data_df_del_add[\"거주지\"].isnull().value_counts()"
   ]
  },
  {
   "cell_type": "code",
   "execution_count": 12,
   "metadata": {
    "ExecuteTime": {
     "end_time": "2022-09-15T11:34:22.193896Z",
     "start_time": "2022-09-15T11:34:22.181927Z"
    }
   },
   "outputs": [
    {
     "data": {
      "text/plain": [
       "고객번호       0\n",
       "거주지        0\n",
       "연령         0\n",
       "가입경로       0\n",
       "담당사원       0\n",
       "상품코드       0\n",
       "상담횟수       0\n",
       "총구매횟수      0\n",
       "총구매수량      0\n",
       "총구매금액      0\n",
       "총할인금액      0\n",
       "최종결제금액     0\n",
       "할인율        0\n",
       "사용포인트      0\n",
       "포인트사용여부    0\n",
       "잔여포인트      0\n",
       "재구매여부      0\n",
       "dtype: int64"
      ]
     },
     "execution_count": 12,
     "metadata": {},
     "output_type": "execute_result"
    }
   ],
   "source": [
    "data_df_del_add[data_df_del_add[\"거주지\"]==\"없음\"].count()"
   ]
  },
  {
   "cell_type": "code",
   "execution_count": 13,
   "metadata": {
    "ExecuteTime": {
     "end_time": "2022-09-15T11:34:38.554101Z",
     "start_time": "2022-09-15T11:34:38.521190Z"
    }
   },
   "outputs": [
    {
     "name": "stdout",
     "output_type": "stream",
     "text": [
      "<class 'pandas.core.frame.DataFrame'>\n",
      "Int64Index: 24748 entries, 0 to 24800\n",
      "Data columns (total 17 columns):\n",
      " #   Column   Non-Null Count  Dtype  \n",
      "---  ------   --------------  -----  \n",
      " 0   고객번호     24748 non-null  int64  \n",
      " 1   거주지      24748 non-null  object \n",
      " 2   연령       22147 non-null  object \n",
      " 3   가입경로     24748 non-null  object \n",
      " 4   담당사원     24278 non-null  object \n",
      " 5   상품코드     24748 non-null  int64  \n",
      " 6   상담횟수     24748 non-null  int64  \n",
      " 7   총구매횟수    18155 non-null  float64\n",
      " 8   총구매수량    24748 non-null  int64  \n",
      " 9   총구매금액    24748 non-null  int64  \n",
      " 10  총할인금액    24748 non-null  int64  \n",
      " 11  최종결제금액   24748 non-null  int64  \n",
      " 12  할인율      24746 non-null  float64\n",
      " 13  사용포인트    24403 non-null  float64\n",
      " 14  포인트사용여부  24748 non-null  int64  \n",
      " 15  잔여포인트    24748 non-null  int64  \n",
      " 16  재구매여부    24748 non-null  int64  \n",
      "dtypes: float64(3), int64(10), object(4)\n",
      "memory usage: 3.4+ MB\n"
     ]
    }
   ],
   "source": [
    "data_df_del_add.info()"
   ]
  },
  {
   "cell_type": "markdown",
   "metadata": {},
   "source": [
    "## 나이/생일 열<br>\n",
    "현재 생년월일로 표현된 컬럼의 밸류를 나이형태로 교체하고, 결측치는 평균값으로 채워준다.<br>\n",
    "나이의 범주가 연속값이므로 나이별 구간화 하여 범주형 카테고리로 변경한다."
   ]
  },
  {
   "cell_type": "markdown",
   "metadata": {},
   "source": [
    "### 나이/생일 열의 평균치 구하기"
   ]
  },
  {
   "cell_type": "code",
   "execution_count": 14,
   "metadata": {
    "ExecuteTime": {
     "end_time": "2022-09-15T11:34:41.267962Z",
     "start_time": "2022-09-15T11:34:41.260981Z"
    }
   },
   "outputs": [],
   "source": [
    "data_df_temp = data_df_del_add.copy()"
   ]
  },
  {
   "cell_type": "code",
   "execution_count": 15,
   "metadata": {
    "ExecuteTime": {
     "end_time": "2022-09-15T11:34:42.652246Z",
     "start_time": "2022-09-15T11:34:42.631271Z"
    }
   },
   "outputs": [
    {
     "data": {
      "text/plain": [
       "False    22147\n",
       "True      2601\n",
       "Name: 연령, dtype: int64"
      ]
     },
     "execution_count": 15,
     "metadata": {},
     "output_type": "execute_result"
    }
   ],
   "source": [
    "#결측치 수 확인\n",
    "data_df_temp[\"연령\"].isnull().value_counts()"
   ]
  },
  {
   "cell_type": "code",
   "execution_count": 16,
   "metadata": {
    "ExecuteTime": {
     "end_time": "2022-09-15T11:34:44.383908Z",
     "start_time": "2022-09-15T11:34:44.341012Z"
    }
   },
   "outputs": [],
   "source": [
    "#나이/생일 열의 평균치를 구하기 위하여 결측,이상치를 제거한 임시 데이터 프래임을 생성한다.\n",
    "data_df_birth = data_df_temp[data_df_temp[\"연령\"].notnull()]\n",
    "data_df_birth = data_df_birth[data_df_birth[\"연령\"]!=0]\n",
    "data_df_birth = data_df_birth[data_df_birth[\"연령\"]!=\"0000-00-00\"]\n",
    "data_df_birth = data_df_birth[data_df_birth[\"연령\"]!=\"1111-11-11\"]\n",
    "data_df_birth = data_df_birth[data_df_birth[\"연령\"]!=\"1700-01-01\"]"
   ]
  },
  {
   "cell_type": "code",
   "execution_count": 17,
   "metadata": {
    "ExecuteTime": {
     "end_time": "2022-09-15T11:56:10.195204Z",
     "start_time": "2022-09-15T11:56:10.161297Z"
    }
   },
   "outputs": [
    {
     "data": {
      "text/html": [
       "<div>\n",
       "<style scoped>\n",
       "    .dataframe tbody tr th:only-of-type {\n",
       "        vertical-align: middle;\n",
       "    }\n",
       "\n",
       "    .dataframe tbody tr th {\n",
       "        vertical-align: top;\n",
       "    }\n",
       "\n",
       "    .dataframe thead th {\n",
       "        text-align: right;\n",
       "    }\n",
       "</style>\n",
       "<table border=\"1\" class=\"dataframe\">\n",
       "  <thead>\n",
       "    <tr style=\"text-align: right;\">\n",
       "      <th></th>\n",
       "      <th>고객번호</th>\n",
       "      <th>거주지</th>\n",
       "      <th>연령</th>\n",
       "      <th>가입경로</th>\n",
       "      <th>담당사원</th>\n",
       "      <th>상품코드</th>\n",
       "      <th>상담횟수</th>\n",
       "      <th>총구매횟수</th>\n",
       "      <th>총구매수량</th>\n",
       "      <th>총구매금액</th>\n",
       "      <th>총할인금액</th>\n",
       "      <th>최종결제금액</th>\n",
       "      <th>할인율</th>\n",
       "      <th>사용포인트</th>\n",
       "      <th>포인트사용여부</th>\n",
       "      <th>잔여포인트</th>\n",
       "      <th>재구매여부</th>\n",
       "    </tr>\n",
       "  </thead>\n",
       "  <tbody>\n",
       "    <tr>\n",
       "      <th>0</th>\n",
       "      <td>11454</td>\n",
       "      <td>대구광역시</td>\n",
       "      <td>1979-06-15 00:00:00</td>\n",
       "      <td>M</td>\n",
       "      <td>박애신</td>\n",
       "      <td>89003</td>\n",
       "      <td>72</td>\n",
       "      <td>24.0</td>\n",
       "      <td>20</td>\n",
       "      <td>664200</td>\n",
       "      <td>184200</td>\n",
       "      <td>480000</td>\n",
       "      <td>28.0</td>\n",
       "      <td>0.0</td>\n",
       "      <td>0</td>\n",
       "      <td>96</td>\n",
       "      <td>0</td>\n",
       "    </tr>\n",
       "    <tr>\n",
       "      <th>1</th>\n",
       "      <td>14506</td>\n",
       "      <td>경기도</td>\n",
       "      <td>1986-09-11 00:00:00</td>\n",
       "      <td>M</td>\n",
       "      <td>전우영</td>\n",
       "      <td>89003</td>\n",
       "      <td>24</td>\n",
       "      <td>NaN</td>\n",
       "      <td>56</td>\n",
       "      <td>1771200</td>\n",
       "      <td>331200</td>\n",
       "      <td>1440000</td>\n",
       "      <td>19.0</td>\n",
       "      <td>120000.0</td>\n",
       "      <td>1</td>\n",
       "      <td>130</td>\n",
       "      <td>0</td>\n",
       "    </tr>\n",
       "    <tr>\n",
       "      <th>2</th>\n",
       "      <td>141938</td>\n",
       "      <td>인천광역시</td>\n",
       "      <td>1983-03-06 00:00:00</td>\n",
       "      <td>E</td>\n",
       "      <td>전우영</td>\n",
       "      <td>89003</td>\n",
       "      <td>15</td>\n",
       "      <td>NaN</td>\n",
       "      <td>12</td>\n",
       "      <td>332100</td>\n",
       "      <td>152100</td>\n",
       "      <td>180000</td>\n",
       "      <td>46.0</td>\n",
       "      <td>0.0</td>\n",
       "      <td>0</td>\n",
       "      <td>130</td>\n",
       "      <td>0</td>\n",
       "    </tr>\n",
       "    <tr>\n",
       "      <th>3</th>\n",
       "      <td>145918</td>\n",
       "      <td>경기도</td>\n",
       "      <td>1984-06-06 00:00:00</td>\n",
       "      <td>H</td>\n",
       "      <td>박애신</td>\n",
       "      <td>89002</td>\n",
       "      <td>10</td>\n",
       "      <td>NaN</td>\n",
       "      <td>8</td>\n",
       "      <td>221400</td>\n",
       "      <td>101400</td>\n",
       "      <td>120000</td>\n",
       "      <td>46.0</td>\n",
       "      <td>0.0</td>\n",
       "      <td>0</td>\n",
       "      <td>96</td>\n",
       "      <td>0</td>\n",
       "    </tr>\n",
       "    <tr>\n",
       "      <th>4</th>\n",
       "      <td>154978</td>\n",
       "      <td>충청북도</td>\n",
       "      <td>1988-06-14 00:00:00</td>\n",
       "      <td>H</td>\n",
       "      <td>전우영</td>\n",
       "      <td>89001</td>\n",
       "      <td>32</td>\n",
       "      <td>NaN</td>\n",
       "      <td>92</td>\n",
       "      <td>2878200</td>\n",
       "      <td>598200</td>\n",
       "      <td>2280000</td>\n",
       "      <td>21.0</td>\n",
       "      <td>0.0</td>\n",
       "      <td>0</td>\n",
       "      <td>130</td>\n",
       "      <td>0</td>\n",
       "    </tr>\n",
       "    <tr>\n",
       "      <th>...</th>\n",
       "      <td>...</td>\n",
       "      <td>...</td>\n",
       "      <td>...</td>\n",
       "      <td>...</td>\n",
       "      <td>...</td>\n",
       "      <td>...</td>\n",
       "      <td>...</td>\n",
       "      <td>...</td>\n",
       "      <td>...</td>\n",
       "      <td>...</td>\n",
       "      <td>...</td>\n",
       "      <td>...</td>\n",
       "      <td>...</td>\n",
       "      <td>...</td>\n",
       "      <td>...</td>\n",
       "      <td>...</td>\n",
       "      <td>...</td>\n",
       "    </tr>\n",
       "    <tr>\n",
       "      <th>21805</th>\n",
       "      <td>346758</td>\n",
       "      <td>경기도</td>\n",
       "      <td>2022-08-30 00:00:00</td>\n",
       "      <td>A</td>\n",
       "      <td>NaN</td>\n",
       "      <td>35023</td>\n",
       "      <td>1</td>\n",
       "      <td>0.0</td>\n",
       "      <td>0</td>\n",
       "      <td>18900</td>\n",
       "      <td>16400</td>\n",
       "      <td>2500</td>\n",
       "      <td>87.0</td>\n",
       "      <td>0.0</td>\n",
       "      <td>0</td>\n",
       "      <td>160</td>\n",
       "      <td>0</td>\n",
       "    </tr>\n",
       "    <tr>\n",
       "      <th>21806</th>\n",
       "      <td>346769</td>\n",
       "      <td>경상남도</td>\n",
       "      <td>2022-08-31 00:00:00</td>\n",
       "      <td>H</td>\n",
       "      <td>박애신</td>\n",
       "      <td>35025</td>\n",
       "      <td>1</td>\n",
       "      <td>1.0</td>\n",
       "      <td>1</td>\n",
       "      <td>18900</td>\n",
       "      <td>15900</td>\n",
       "      <td>3000</td>\n",
       "      <td>84.0</td>\n",
       "      <td>0.0</td>\n",
       "      <td>0</td>\n",
       "      <td>96</td>\n",
       "      <td>0</td>\n",
       "    </tr>\n",
       "    <tr>\n",
       "      <th>21807</th>\n",
       "      <td>346771</td>\n",
       "      <td>서울특별시</td>\n",
       "      <td>2022-08-31 00:00:00</td>\n",
       "      <td>H</td>\n",
       "      <td>박애신</td>\n",
       "      <td>35008</td>\n",
       "      <td>1</td>\n",
       "      <td>1.0</td>\n",
       "      <td>1</td>\n",
       "      <td>18900</td>\n",
       "      <td>13900</td>\n",
       "      <td>5000</td>\n",
       "      <td>74.0</td>\n",
       "      <td>0.0</td>\n",
       "      <td>0</td>\n",
       "      <td>96</td>\n",
       "      <td>0</td>\n",
       "    </tr>\n",
       "    <tr>\n",
       "      <th>21808</th>\n",
       "      <td>346776</td>\n",
       "      <td>전라남도</td>\n",
       "      <td>2022-08-31 00:00:00</td>\n",
       "      <td>H</td>\n",
       "      <td>박애신</td>\n",
       "      <td>35025</td>\n",
       "      <td>1</td>\n",
       "      <td>1.0</td>\n",
       "      <td>1</td>\n",
       "      <td>18900</td>\n",
       "      <td>15900</td>\n",
       "      <td>3000</td>\n",
       "      <td>84.0</td>\n",
       "      <td>0.0</td>\n",
       "      <td>0</td>\n",
       "      <td>96</td>\n",
       "      <td>0</td>\n",
       "    </tr>\n",
       "    <tr>\n",
       "      <th>21809</th>\n",
       "      <td>346784</td>\n",
       "      <td>부산광역시</td>\n",
       "      <td>2022-08-31 00:00:00</td>\n",
       "      <td>H</td>\n",
       "      <td>박애신</td>\n",
       "      <td>35008</td>\n",
       "      <td>4</td>\n",
       "      <td>2.0</td>\n",
       "      <td>7</td>\n",
       "      <td>240300</td>\n",
       "      <td>103300</td>\n",
       "      <td>137000</td>\n",
       "      <td>43.0</td>\n",
       "      <td>0.0</td>\n",
       "      <td>0</td>\n",
       "      <td>96</td>\n",
       "      <td>0</td>\n",
       "    </tr>\n",
       "  </tbody>\n",
       "</table>\n",
       "<p>21810 rows × 17 columns</p>\n",
       "</div>"
      ],
      "text/plain": [
       "         고객번호    거주지                   연령 가입경로 담당사원   상품코드  상담횟수  총구매횟수  \\\n",
       "0       11454  대구광역시  1979-06-15 00:00:00    M  박애신  89003    72   24.0   \n",
       "1       14506    경기도  1986-09-11 00:00:00    M  전우영  89003    24    NaN   \n",
       "2      141938  인천광역시  1983-03-06 00:00:00    E  전우영  89003    15    NaN   \n",
       "3      145918    경기도  1984-06-06 00:00:00    H  박애신  89002    10    NaN   \n",
       "4      154978   충청북도  1988-06-14 00:00:00    H  전우영  89001    32    NaN   \n",
       "...       ...    ...                  ...  ...  ...    ...   ...    ...   \n",
       "21805  346758    경기도  2022-08-30 00:00:00    A  NaN  35023     1    0.0   \n",
       "21806  346769   경상남도  2022-08-31 00:00:00    H  박애신  35025     1    1.0   \n",
       "21807  346771  서울특별시  2022-08-31 00:00:00    H  박애신  35008     1    1.0   \n",
       "21808  346776   전라남도  2022-08-31 00:00:00    H  박애신  35025     1    1.0   \n",
       "21809  346784  부산광역시  2022-08-31 00:00:00    H  박애신  35008     4    2.0   \n",
       "\n",
       "       총구매수량    총구매금액   총할인금액   최종결제금액   할인율     사용포인트  포인트사용여부  잔여포인트  재구매여부  \n",
       "0         20   664200  184200   480000  28.0       0.0        0     96      0  \n",
       "1         56  1771200  331200  1440000  19.0  120000.0        1    130      0  \n",
       "2         12   332100  152100   180000  46.0       0.0        0    130      0  \n",
       "3          8   221400  101400   120000  46.0       0.0        0     96      0  \n",
       "4         92  2878200  598200  2280000  21.0       0.0        0    130      0  \n",
       "...      ...      ...     ...      ...   ...       ...      ...    ...    ...  \n",
       "21805      0    18900   16400     2500  87.0       0.0        0    160      0  \n",
       "21806      1    18900   15900     3000  84.0       0.0        0     96      0  \n",
       "21807      1    18900   13900     5000  74.0       0.0        0     96      0  \n",
       "21808      1    18900   15900     3000  84.0       0.0        0     96      0  \n",
       "21809      7   240300  103300   137000  43.0       0.0        0     96      0  \n",
       "\n",
       "[21810 rows x 17 columns]"
      ]
     },
     "execution_count": 17,
     "metadata": {},
     "output_type": "execute_result"
    }
   ],
   "source": [
    "data_df_birth = data_df_birth.reset_index()\n",
    "del data_df_birth[\"index\"]\n",
    "data_df_birth"
   ]
  },
  {
   "cell_type": "code",
   "execution_count": 18,
   "metadata": {
    "ExecuteTime": {
     "end_time": "2022-09-15T11:56:12.426715Z",
     "start_time": "2022-09-15T11:56:12.400788Z"
    }
   },
   "outputs": [
    {
     "name": "stdout",
     "output_type": "stream",
     "text": [
      "<class 'pandas.core.frame.DataFrame'>\n",
      "RangeIndex: 21810 entries, 0 to 21809\n",
      "Data columns (total 17 columns):\n",
      " #   Column   Non-Null Count  Dtype  \n",
      "---  ------   --------------  -----  \n",
      " 0   고객번호     21810 non-null  int64  \n",
      " 1   거주지      21810 non-null  object \n",
      " 2   연령       21810 non-null  object \n",
      " 3   가입경로     21810 non-null  object \n",
      " 4   담당사원     21515 non-null  object \n",
      " 5   상품코드     21810 non-null  int64  \n",
      " 6   상담횟수     21810 non-null  int64  \n",
      " 7   총구매횟수    15922 non-null  float64\n",
      " 8   총구매수량    21810 non-null  int64  \n",
      " 9   총구매금액    21810 non-null  int64  \n",
      " 10  총할인금액    21810 non-null  int64  \n",
      " 11  최종결제금액   21810 non-null  int64  \n",
      " 12  할인율      21808 non-null  float64\n",
      " 13  사용포인트    21629 non-null  float64\n",
      " 14  포인트사용여부  21810 non-null  int64  \n",
      " 15  잔여포인트    21810 non-null  int64  \n",
      " 16  재구매여부    21810 non-null  int64  \n",
      "dtypes: float64(3), int64(10), object(4)\n",
      "memory usage: 2.8+ MB\n"
     ]
    }
   ],
   "source": [
    "data_df_birth.info()"
   ]
  },
  {
   "cell_type": "code",
   "execution_count": 19,
   "metadata": {
    "ExecuteTime": {
     "end_time": "2022-09-15T11:58:01.242431Z",
     "start_time": "2022-09-15T11:56:14.380701Z"
    }
   },
   "outputs": [],
   "source": [
    "for i, row in data_df_birth.iterrows():\n",
    "    if(type(row[\"연령\"]) == str):\n",
    "        pass\n",
    "    else:\n",
    "        birth_day = (int)(row[\"연령\"].year)\n",
    "        this_year = (int)(datetime.date.today().strftime(\"%Y\"))\n",
    "\n",
    "        age = (this_year - birth_day)+1\n",
    "\n",
    "        row[\"연령\"] = age\n",
    "        data_df_birth.iloc[i] = row"
   ]
  },
  {
   "cell_type": "code",
   "execution_count": 20,
   "metadata": {
    "ExecuteTime": {
     "end_time": "2022-09-15T11:58:07.002955Z",
     "start_time": "2022-09-15T11:58:06.980988Z"
    }
   },
   "outputs": [],
   "source": [
    "#이상치 제거\n",
    "data_df_birth = data_df_birth[data_df_birth[\"연령\"] > 20]\n",
    "data_df_birth = data_df_birth[data_df_birth[\"연령\"] < 80]"
   ]
  },
  {
   "cell_type": "code",
   "execution_count": 21,
   "metadata": {
    "ExecuteTime": {
     "end_time": "2022-09-15T11:58:09.091586Z",
     "start_time": "2022-09-15T11:58:09.082610Z"
    }
   },
   "outputs": [
    {
     "data": {
      "text/plain": [
       "35.23169164882227"
      ]
     },
     "execution_count": 21,
     "metadata": {},
     "output_type": "execute_result"
    }
   ],
   "source": [
    "#나이열 평균 35세로 확인\n",
    "data_df_birth[\"연령\"].mean()"
   ]
  },
  {
   "cell_type": "markdown",
   "metadata": {},
   "source": [
    "### 나이/생일 열 나이 값으로 변환 전, 35세 해당 1988년으로 치환"
   ]
  },
  {
   "cell_type": "code",
   "execution_count": 22,
   "metadata": {
    "ExecuteTime": {
     "end_time": "2022-09-15T11:58:11.174017Z",
     "start_time": "2022-09-15T11:58:11.141105Z"
    }
   },
   "outputs": [
    {
     "data": {
      "text/html": [
       "<div>\n",
       "<style scoped>\n",
       "    .dataframe tbody tr th:only-of-type {\n",
       "        vertical-align: middle;\n",
       "    }\n",
       "\n",
       "    .dataframe tbody tr th {\n",
       "        vertical-align: top;\n",
       "    }\n",
       "\n",
       "    .dataframe thead th {\n",
       "        text-align: right;\n",
       "    }\n",
       "</style>\n",
       "<table border=\"1\" class=\"dataframe\">\n",
       "  <thead>\n",
       "    <tr style=\"text-align: right;\">\n",
       "      <th></th>\n",
       "      <th>고객번호</th>\n",
       "      <th>거주지</th>\n",
       "      <th>연령</th>\n",
       "      <th>가입경로</th>\n",
       "      <th>담당사원</th>\n",
       "      <th>상품코드</th>\n",
       "      <th>상담횟수</th>\n",
       "      <th>총구매횟수</th>\n",
       "      <th>총구매수량</th>\n",
       "      <th>총구매금액</th>\n",
       "      <th>총할인금액</th>\n",
       "      <th>최종결제금액</th>\n",
       "      <th>할인율</th>\n",
       "      <th>사용포인트</th>\n",
       "      <th>포인트사용여부</th>\n",
       "      <th>잔여포인트</th>\n",
       "      <th>재구매여부</th>\n",
       "    </tr>\n",
       "  </thead>\n",
       "  <tbody>\n",
       "    <tr>\n",
       "      <th>0</th>\n",
       "      <td>11454</td>\n",
       "      <td>대구광역시</td>\n",
       "      <td>1979-06-15 00:00:00</td>\n",
       "      <td>M</td>\n",
       "      <td>박애신</td>\n",
       "      <td>89003</td>\n",
       "      <td>72</td>\n",
       "      <td>24.0</td>\n",
       "      <td>20</td>\n",
       "      <td>664200</td>\n",
       "      <td>184200</td>\n",
       "      <td>480000</td>\n",
       "      <td>28.0</td>\n",
       "      <td>0.0</td>\n",
       "      <td>0</td>\n",
       "      <td>96</td>\n",
       "      <td>0</td>\n",
       "    </tr>\n",
       "    <tr>\n",
       "      <th>1</th>\n",
       "      <td>14506</td>\n",
       "      <td>경기도</td>\n",
       "      <td>1986-09-11 00:00:00</td>\n",
       "      <td>M</td>\n",
       "      <td>전우영</td>\n",
       "      <td>89003</td>\n",
       "      <td>24</td>\n",
       "      <td>NaN</td>\n",
       "      <td>56</td>\n",
       "      <td>1771200</td>\n",
       "      <td>331200</td>\n",
       "      <td>1440000</td>\n",
       "      <td>19.0</td>\n",
       "      <td>120000.0</td>\n",
       "      <td>1</td>\n",
       "      <td>130</td>\n",
       "      <td>0</td>\n",
       "    </tr>\n",
       "    <tr>\n",
       "      <th>2</th>\n",
       "      <td>83078</td>\n",
       "      <td>충청남도</td>\n",
       "      <td>1111-11-11</td>\n",
       "      <td>M</td>\n",
       "      <td>박애신</td>\n",
       "      <td>89003</td>\n",
       "      <td>684</td>\n",
       "      <td>1044.0</td>\n",
       "      <td>420</td>\n",
       "      <td>15055200</td>\n",
       "      <td>3055200</td>\n",
       "      <td>12000000</td>\n",
       "      <td>20.0</td>\n",
       "      <td>0.0</td>\n",
       "      <td>0</td>\n",
       "      <td>96</td>\n",
       "      <td>0</td>\n",
       "    </tr>\n",
       "    <tr>\n",
       "      <th>3</th>\n",
       "      <td>141938</td>\n",
       "      <td>인천광역시</td>\n",
       "      <td>1983-03-06 00:00:00</td>\n",
       "      <td>E</td>\n",
       "      <td>전우영</td>\n",
       "      <td>89003</td>\n",
       "      <td>15</td>\n",
       "      <td>NaN</td>\n",
       "      <td>12</td>\n",
       "      <td>332100</td>\n",
       "      <td>152100</td>\n",
       "      <td>180000</td>\n",
       "      <td>46.0</td>\n",
       "      <td>0.0</td>\n",
       "      <td>0</td>\n",
       "      <td>130</td>\n",
       "      <td>0</td>\n",
       "    </tr>\n",
       "    <tr>\n",
       "      <th>4</th>\n",
       "      <td>145918</td>\n",
       "      <td>경기도</td>\n",
       "      <td>1984-06-06 00:00:00</td>\n",
       "      <td>H</td>\n",
       "      <td>박애신</td>\n",
       "      <td>89002</td>\n",
       "      <td>10</td>\n",
       "      <td>NaN</td>\n",
       "      <td>8</td>\n",
       "      <td>221400</td>\n",
       "      <td>101400</td>\n",
       "      <td>120000</td>\n",
       "      <td>46.0</td>\n",
       "      <td>0.0</td>\n",
       "      <td>0</td>\n",
       "      <td>96</td>\n",
       "      <td>0</td>\n",
       "    </tr>\n",
       "    <tr>\n",
       "      <th>...</th>\n",
       "      <td>...</td>\n",
       "      <td>...</td>\n",
       "      <td>...</td>\n",
       "      <td>...</td>\n",
       "      <td>...</td>\n",
       "      <td>...</td>\n",
       "      <td>...</td>\n",
       "      <td>...</td>\n",
       "      <td>...</td>\n",
       "      <td>...</td>\n",
       "      <td>...</td>\n",
       "      <td>...</td>\n",
       "      <td>...</td>\n",
       "      <td>...</td>\n",
       "      <td>...</td>\n",
       "      <td>...</td>\n",
       "      <td>...</td>\n",
       "    </tr>\n",
       "    <tr>\n",
       "      <th>24743</th>\n",
       "      <td>346783</td>\n",
       "      <td>경상남도</td>\n",
       "      <td>NaN</td>\n",
       "      <td>H</td>\n",
       "      <td>이선영</td>\n",
       "      <td>35009</td>\n",
       "      <td>1</td>\n",
       "      <td>1.0</td>\n",
       "      <td>1</td>\n",
       "      <td>36900</td>\n",
       "      <td>27000</td>\n",
       "      <td>9900</td>\n",
       "      <td>73.0</td>\n",
       "      <td>0.0</td>\n",
       "      <td>0</td>\n",
       "      <td>161</td>\n",
       "      <td>0</td>\n",
       "    </tr>\n",
       "    <tr>\n",
       "      <th>24744</th>\n",
       "      <td>346784</td>\n",
       "      <td>부산광역시</td>\n",
       "      <td>2022-08-31 00:00:00</td>\n",
       "      <td>H</td>\n",
       "      <td>박애신</td>\n",
       "      <td>35008</td>\n",
       "      <td>4</td>\n",
       "      <td>2.0</td>\n",
       "      <td>7</td>\n",
       "      <td>240300</td>\n",
       "      <td>103300</td>\n",
       "      <td>137000</td>\n",
       "      <td>43.0</td>\n",
       "      <td>0.0</td>\n",
       "      <td>0</td>\n",
       "      <td>96</td>\n",
       "      <td>0</td>\n",
       "    </tr>\n",
       "    <tr>\n",
       "      <th>24745</th>\n",
       "      <td>346786</td>\n",
       "      <td>경상북도</td>\n",
       "      <td>NaN</td>\n",
       "      <td>H</td>\n",
       "      <td>전우영</td>\n",
       "      <td>35023</td>\n",
       "      <td>1</td>\n",
       "      <td>1.0</td>\n",
       "      <td>1</td>\n",
       "      <td>14000</td>\n",
       "      <td>11000</td>\n",
       "      <td>3000</td>\n",
       "      <td>79.0</td>\n",
       "      <td>0.0</td>\n",
       "      <td>0</td>\n",
       "      <td>130</td>\n",
       "      <td>0</td>\n",
       "    </tr>\n",
       "    <tr>\n",
       "      <th>24746</th>\n",
       "      <td>346787</td>\n",
       "      <td>경기도</td>\n",
       "      <td>NaN</td>\n",
       "      <td>E</td>\n",
       "      <td>전우영</td>\n",
       "      <td>35009</td>\n",
       "      <td>1</td>\n",
       "      <td>1.0</td>\n",
       "      <td>1</td>\n",
       "      <td>36900</td>\n",
       "      <td>27000</td>\n",
       "      <td>9900</td>\n",
       "      <td>73.0</td>\n",
       "      <td>0.0</td>\n",
       "      <td>0</td>\n",
       "      <td>130</td>\n",
       "      <td>0</td>\n",
       "    </tr>\n",
       "    <tr>\n",
       "      <th>24747</th>\n",
       "      <td>347027</td>\n",
       "      <td>광주광역시</td>\n",
       "      <td>NaN</td>\n",
       "      <td>E</td>\n",
       "      <td>김필남</td>\n",
       "      <td>35031</td>\n",
       "      <td>1</td>\n",
       "      <td>1.0</td>\n",
       "      <td>1</td>\n",
       "      <td>14000</td>\n",
       "      <td>14000</td>\n",
       "      <td>0</td>\n",
       "      <td>100.0</td>\n",
       "      <td>0.0</td>\n",
       "      <td>0</td>\n",
       "      <td>71</td>\n",
       "      <td>0</td>\n",
       "    </tr>\n",
       "  </tbody>\n",
       "</table>\n",
       "<p>24748 rows × 17 columns</p>\n",
       "</div>"
      ],
      "text/plain": [
       "         고객번호    거주지                   연령 가입경로 담당사원   상품코드  상담횟수   총구매횟수  \\\n",
       "0       11454  대구광역시  1979-06-15 00:00:00    M  박애신  89003    72    24.0   \n",
       "1       14506    경기도  1986-09-11 00:00:00    M  전우영  89003    24     NaN   \n",
       "2       83078   충청남도           1111-11-11    M  박애신  89003   684  1044.0   \n",
       "3      141938  인천광역시  1983-03-06 00:00:00    E  전우영  89003    15     NaN   \n",
       "4      145918    경기도  1984-06-06 00:00:00    H  박애신  89002    10     NaN   \n",
       "...       ...    ...                  ...  ...  ...    ...   ...     ...   \n",
       "24743  346783   경상남도                  NaN    H  이선영  35009     1     1.0   \n",
       "24744  346784  부산광역시  2022-08-31 00:00:00    H  박애신  35008     4     2.0   \n",
       "24745  346786   경상북도                  NaN    H  전우영  35023     1     1.0   \n",
       "24746  346787    경기도                  NaN    E  전우영  35009     1     1.0   \n",
       "24747  347027  광주광역시                  NaN    E  김필남  35031     1     1.0   \n",
       "\n",
       "       총구매수량     총구매금액    총할인금액    최종결제금액    할인율     사용포인트  포인트사용여부  잔여포인트  \\\n",
       "0         20    664200   184200    480000   28.0       0.0        0     96   \n",
       "1         56   1771200   331200   1440000   19.0  120000.0        1    130   \n",
       "2        420  15055200  3055200  12000000   20.0       0.0        0     96   \n",
       "3         12    332100   152100    180000   46.0       0.0        0    130   \n",
       "4          8    221400   101400    120000   46.0       0.0        0     96   \n",
       "...      ...       ...      ...       ...    ...       ...      ...    ...   \n",
       "24743      1     36900    27000      9900   73.0       0.0        0    161   \n",
       "24744      7    240300   103300    137000   43.0       0.0        0     96   \n",
       "24745      1     14000    11000      3000   79.0       0.0        0    130   \n",
       "24746      1     36900    27000      9900   73.0       0.0        0    130   \n",
       "24747      1     14000    14000         0  100.0       0.0        0     71   \n",
       "\n",
       "       재구매여부  \n",
       "0          0  \n",
       "1          0  \n",
       "2          0  \n",
       "3          0  \n",
       "4          0  \n",
       "...      ...  \n",
       "24743      0  \n",
       "24744      0  \n",
       "24745      0  \n",
       "24746      0  \n",
       "24747      0  \n",
       "\n",
       "[24748 rows x 17 columns]"
      ]
     },
     "execution_count": 22,
     "metadata": {},
     "output_type": "execute_result"
    }
   ],
   "source": [
    "data_df_temp = data_df_temp.reset_index()\n",
    "\n",
    "del data_df_temp[\"index\"]\n",
    "\n",
    "data_df_temp"
   ]
  },
  {
   "cell_type": "code",
   "execution_count": 23,
   "metadata": {
    "ExecuteTime": {
     "end_time": "2022-09-15T12:00:30.535355Z",
     "start_time": "2022-09-15T11:58:17.591629Z"
    }
   },
   "outputs": [],
   "source": [
    "for i, row in data_df_temp.iterrows():\n",
    "    if(type(row[\"연령\"]) == str or type(row[\"연령\"]) == int or type(row[\"연령\"]) == float):\n",
    "        row[\"연령\"] = datetime.datetime(1988,1,1)\n",
    "        row[\"연령\"] = row[\"연령\"].year\n",
    "    else:\n",
    "        row[\"연령\"] = row[\"연령\"].year\n",
    "        \n",
    "    birth_day = row[\"연령\"]\n",
    "    this_year = (int)(datetime.date.today().strftime(\"%Y\"))\n",
    "\n",
    "    age = (this_year - birth_day)+1\n",
    "    \n",
    "    if (age < 20 or age > 80):\n",
    "        row[\"연령\"] = 35\n",
    "    else:\n",
    "        row[\"연령\"] = age\n",
    "        \n",
    "        \n",
    "    if row['연령']<=30 :\n",
    "        row[\"연령\"] = 1\n",
    "    elif row['연령']<=40 :\n",
    "        row[\"연령\"] = 2\n",
    "    elif row['연령']<=50 :\n",
    "        row[\"연령\"] = 3\n",
    "    elif row['연령']<=60 :\n",
    "        row[\"연령\"] = 4\n",
    "    elif row['연령']<=70 :\n",
    "        row[\"연령\"] = 5\n",
    "    elif row['연령']<=80 :\n",
    "        row[\"연령\"] = 6\n",
    "    \n",
    "    data_df_temp.iloc[i] =  row"
   ]
  },
  {
   "cell_type": "code",
   "execution_count": 24,
   "metadata": {
    "ExecuteTime": {
     "end_time": "2022-09-15T12:00:51.925785Z",
     "start_time": "2022-09-15T12:00:51.880906Z"
    },
    "scrolled": true
   },
   "outputs": [
    {
     "name": "stdout",
     "output_type": "stream",
     "text": [
      "고객번호       0\n",
      "거주지        0\n",
      "연령         0\n",
      "가입경로       0\n",
      "담당사원       0\n",
      "상품코드       0\n",
      "상담횟수       0\n",
      "총구매횟수      0\n",
      "총구매수량      0\n",
      "총구매금액      0\n",
      "총할인금액      0\n",
      "최종결제금액     0\n",
      "할인율        0\n",
      "사용포인트      0\n",
      "포인트사용여부    0\n",
      "잔여포인트      0\n",
      "재구매여부      0\n",
      "dtype: int64\n",
      "_____________________________________________________\n",
      "고객번호       0\n",
      "거주지        0\n",
      "연령         0\n",
      "가입경로       0\n",
      "담당사원       0\n",
      "상품코드       0\n",
      "상담횟수       0\n",
      "총구매횟수      0\n",
      "총구매수량      0\n",
      "총구매금액      0\n",
      "총할인금액      0\n",
      "최종결제금액     0\n",
      "할인율        0\n",
      "사용포인트      0\n",
      "포인트사용여부    0\n",
      "잔여포인트      0\n",
      "재구매여부      0\n",
      "dtype: int64\n",
      "_____________________________________________________\n",
      "고객번호       0\n",
      "거주지        0\n",
      "연령         0\n",
      "가입경로       0\n",
      "담당사원       0\n",
      "상품코드       0\n",
      "상담횟수       0\n",
      "총구매횟수      0\n",
      "총구매수량      0\n",
      "총구매금액      0\n",
      "총할인금액      0\n",
      "최종결제금액     0\n",
      "할인율        0\n",
      "사용포인트      0\n",
      "포인트사용여부    0\n",
      "잔여포인트      0\n",
      "재구매여부      0\n",
      "dtype: int64\n",
      "_____________________________________________________\n",
      "고객번호       0\n",
      "거주지        0\n",
      "연령         0\n",
      "가입경로       0\n",
      "담당사원       0\n",
      "상품코드       0\n",
      "상담횟수       0\n",
      "총구매횟수      0\n",
      "총구매수량      0\n",
      "총구매금액      0\n",
      "총할인금액      0\n",
      "최종결제금액     0\n",
      "할인율        0\n",
      "사용포인트      0\n",
      "포인트사용여부    0\n",
      "잔여포인트      0\n",
      "재구매여부      0\n",
      "dtype: int64\n",
      "_____________________________________________________\n",
      "고객번호       0\n",
      "거주지        0\n",
      "연령         0\n",
      "가입경로       0\n",
      "담당사원       0\n",
      "상품코드       0\n",
      "상담횟수       0\n",
      "총구매횟수      0\n",
      "총구매수량      0\n",
      "총구매금액      0\n",
      "총할인금액      0\n",
      "최종결제금액     0\n",
      "할인율        0\n",
      "사용포인트      0\n",
      "포인트사용여부    0\n",
      "잔여포인트      0\n",
      "재구매여부      0\n",
      "dtype: int64\n"
     ]
    }
   ],
   "source": [
    "print(data_df_temp[data_df_temp[\"연령\"] == \"0\"].count())\n",
    "print(\"_____________________________________________________\")\n",
    "print(data_df_temp[data_df_temp[\"연령\"]==\"0000-00-00\"].count())\n",
    "print(\"_____________________________________________________\")\n",
    "print(data_df_temp[data_df_temp[\"연령\"]==\"1111-11-11\"].count())\n",
    "print(\"_____________________________________________________\")\n",
    "print(data_df_temp[data_df_temp[\"연령\"]==\"1700-01-01\"].count())\n",
    "print(\"_____________________________________________________\")\n",
    "print(data_df_temp[data_df_temp[\"연령\"].isnull()].count())"
   ]
  },
  {
   "cell_type": "code",
   "execution_count": 25,
   "metadata": {
    "ExecuteTime": {
     "end_time": "2022-09-15T12:00:54.268429Z",
     "start_time": "2022-09-15T12:00:54.241502Z"
    }
   },
   "outputs": [
    {
     "name": "stdout",
     "output_type": "stream",
     "text": [
      "<class 'pandas.core.frame.DataFrame'>\n",
      "RangeIndex: 24748 entries, 0 to 24747\n",
      "Data columns (total 17 columns):\n",
      " #   Column   Non-Null Count  Dtype  \n",
      "---  ------   --------------  -----  \n",
      " 0   고객번호     24748 non-null  int64  \n",
      " 1   거주지      24748 non-null  object \n",
      " 2   연령       24748 non-null  object \n",
      " 3   가입경로     24748 non-null  object \n",
      " 4   담당사원     24278 non-null  object \n",
      " 5   상품코드     24748 non-null  int64  \n",
      " 6   상담횟수     24748 non-null  int64  \n",
      " 7   총구매횟수    18155 non-null  float64\n",
      " 8   총구매수량    24748 non-null  int64  \n",
      " 9   총구매금액    24748 non-null  int64  \n",
      " 10  총할인금액    24748 non-null  int64  \n",
      " 11  최종결제금액   24748 non-null  int64  \n",
      " 12  할인율      24746 non-null  float64\n",
      " 13  사용포인트    24403 non-null  float64\n",
      " 14  포인트사용여부  24748 non-null  int64  \n",
      " 15  잔여포인트    24748 non-null  int64  \n",
      " 16  재구매여부    24748 non-null  int64  \n",
      "dtypes: float64(3), int64(10), object(4)\n",
      "memory usage: 3.2+ MB\n"
     ]
    }
   ],
   "source": [
    "data_df_temp['연령'].value_counts()\n",
    "data_df_temp.info()"
   ]
  },
  {
   "cell_type": "code",
   "execution_count": 26,
   "metadata": {
    "ExecuteTime": {
     "end_time": "2022-09-15T12:00:55.827780Z",
     "start_time": "2022-09-15T12:00:55.820797Z"
    }
   },
   "outputs": [],
   "source": [
    "data_df_add_age = data_df_temp.copy()"
   ]
  },
  {
   "cell_type": "markdown",
   "metadata": {},
   "source": [
    "## TM담당직원 열 결측치 처리<br>\n",
    "전체 데이터의 512행에 해당하는 데이터 null값 확인 약 2.4퍼센트행에 대한 최빈 값으로 대체"
   ]
  },
  {
   "cell_type": "code",
   "execution_count": 27,
   "metadata": {
    "ExecuteTime": {
     "end_time": "2022-09-15T12:00:57.161707Z",
     "start_time": "2022-09-15T12:00:57.140761Z"
    }
   },
   "outputs": [
    {
     "data": {
      "text/plain": [
       "박애신      6225\n",
       "전우영      5881\n",
       "김필남      5128\n",
       "정유경      3500\n",
       "이선영      2294\n",
       "마케팅1팀    1085\n",
       "김영애        51\n",
       "김연화        45\n",
       "한나경        35\n",
       "윤슬기        33\n",
       "최고관리자       1\n",
       "Name: 담당사원, dtype: int64"
      ]
     },
     "execution_count": 27,
     "metadata": {},
     "output_type": "execute_result"
    }
   ],
   "source": [
    "data_df_temp[\"담당사원\"].value_counts()"
   ]
  },
  {
   "cell_type": "code",
   "execution_count": 28,
   "metadata": {
    "ExecuteTime": {
     "end_time": "2022-09-15T12:00:58.737119Z",
     "start_time": "2022-09-15T12:00:58.723125Z"
    }
   },
   "outputs": [
    {
     "data": {
      "text/plain": [
       "False    24278\n",
       "True       470\n",
       "Name: 담당사원, dtype: int64"
      ]
     },
     "execution_count": 28,
     "metadata": {},
     "output_type": "execute_result"
    }
   ],
   "source": [
    "data_df_temp[\"담당사원\"].isnull().value_counts()"
   ]
  },
  {
   "cell_type": "code",
   "execution_count": 29,
   "metadata": {
    "ExecuteTime": {
     "end_time": "2022-09-15T12:01:00.843923Z",
     "start_time": "2022-09-15T12:01:00.830957Z"
    }
   },
   "outputs": [
    {
     "data": {
      "text/plain": [
       "False    24748\n",
       "Name: 담당사원, dtype: int64"
      ]
     },
     "execution_count": 29,
     "metadata": {},
     "output_type": "execute_result"
    }
   ],
   "source": [
    "data_df_temp.loc[data_df_temp[\"담당사원\"].isnull()==True, \"담당사원\" ] = \"박애신\"\n",
    "data_df_temp[\"담당사원\"].isnull().value_counts()"
   ]
  },
  {
   "cell_type": "code",
   "execution_count": 30,
   "metadata": {
    "ExecuteTime": {
     "end_time": "2022-09-15T12:01:02.301847Z",
     "start_time": "2022-09-15T12:01:02.291873Z"
    }
   },
   "outputs": [],
   "source": [
    "data_df_add_age_tm = data_df_temp.copy()"
   ]
  },
  {
   "cell_type": "markdown",
   "metadata": {},
   "source": [
    "## 총구매 횟수 열 결측치 평균값으로 대체"
   ]
  },
  {
   "cell_type": "code",
   "execution_count": 31,
   "metadata": {
    "ExecuteTime": {
     "end_time": "2022-09-15T12:01:04.041102Z",
     "start_time": "2022-09-15T12:01:04.031127Z"
    }
   },
   "outputs": [
    {
     "data": {
      "text/plain": [
       "False    18155\n",
       "True      6593\n",
       "Name: 총구매횟수, dtype: int64"
      ]
     },
     "execution_count": 31,
     "metadata": {},
     "output_type": "execute_result"
    }
   ],
   "source": [
    "data_df_temp[\"총구매횟수\"].isnull().value_counts()"
   ]
  },
  {
   "cell_type": "code",
   "execution_count": 32,
   "metadata": {
    "ExecuteTime": {
     "end_time": "2022-09-15T12:01:05.992387Z",
     "start_time": "2022-09-15T12:01:05.980389Z"
    }
   },
   "outputs": [
    {
     "data": {
      "text/plain": [
       "False    24748\n",
       "Name: 총구매횟수, dtype: int64"
      ]
     },
     "execution_count": 32,
     "metadata": {},
     "output_type": "execute_result"
    }
   ],
   "source": [
    "data_df_temp.loc[data_df_temp[\"총구매횟수\"].isnull()==True, \"총구매횟수\" ] = data_df_temp[\"총구매횟수\"].mean()\n",
    "data_df_temp[\"총구매횟수\"].isnull().value_counts()"
   ]
  },
  {
   "cell_type": "code",
   "execution_count": 33,
   "metadata": {},
   "outputs": [
    {
     "data": {
      "text/plain": [
       "19.775268521063186"
      ]
     },
     "execution_count": 33,
     "metadata": {},
     "output_type": "execute_result"
    }
   ],
   "source": [
    "data_df_temp[\"총구매횟수\"].mean()"
   ]
  },
  {
   "cell_type": "code",
   "execution_count": 34,
   "metadata": {
    "ExecuteTime": {
     "end_time": "2022-09-15T12:01:07.241728Z",
     "start_time": "2022-09-15T12:01:07.230757Z"
    }
   },
   "outputs": [],
   "source": [
    "data_df_add_age_tm_totalCnt = data_df_temp.copy()"
   ]
  },
  {
   "cell_type": "code",
   "execution_count": 35,
   "metadata": {
    "ExecuteTime": {
     "end_time": "2022-09-15T12:01:08.910079Z",
     "start_time": "2022-09-15T12:01:08.880161Z"
    }
   },
   "outputs": [
    {
     "name": "stdout",
     "output_type": "stream",
     "text": [
      "<class 'pandas.core.frame.DataFrame'>\n",
      "RangeIndex: 24748 entries, 0 to 24747\n",
      "Data columns (total 17 columns):\n",
      " #   Column   Non-Null Count  Dtype  \n",
      "---  ------   --------------  -----  \n",
      " 0   고객번호     24748 non-null  int64  \n",
      " 1   거주지      24748 non-null  object \n",
      " 2   연령       24748 non-null  object \n",
      " 3   가입경로     24748 non-null  object \n",
      " 4   담당사원     24748 non-null  object \n",
      " 5   상품코드     24748 non-null  int64  \n",
      " 6   상담횟수     24748 non-null  int64  \n",
      " 7   총구매횟수    24748 non-null  float64\n",
      " 8   총구매수량    24748 non-null  int64  \n",
      " 9   총구매금액    24748 non-null  int64  \n",
      " 10  총할인금액    24748 non-null  int64  \n",
      " 11  최종결제금액   24748 non-null  int64  \n",
      " 12  할인율      24746 non-null  float64\n",
      " 13  사용포인트    24403 non-null  float64\n",
      " 14  포인트사용여부  24748 non-null  int64  \n",
      " 15  잔여포인트    24748 non-null  int64  \n",
      " 16  재구매여부    24748 non-null  int64  \n",
      "dtypes: float64(3), int64(10), object(4)\n",
      "memory usage: 3.2+ MB\n"
     ]
    }
   ],
   "source": [
    "data_df_temp.info()"
   ]
  },
  {
   "cell_type": "markdown",
   "metadata": {},
   "source": [
    "## 할인율 열 결측치 평균값 대체"
   ]
  },
  {
   "cell_type": "code",
   "execution_count": 36,
   "metadata": {},
   "outputs": [
    {
     "data": {
      "text/plain": [
       " 84.0     5063\n",
       " 100.0    4010\n",
       " 74.0     3148\n",
       " 79.0     1390\n",
       " 86.0      644\n",
       "          ... \n",
       " 68.0        1\n",
       "-12.0        1\n",
       " 398.0       1\n",
       " 299.0       1\n",
       "-2.0         1\n",
       "Name: 할인율, Length: 101, dtype: int64"
      ]
     },
     "execution_count": 36,
     "metadata": {},
     "output_type": "execute_result"
    }
   ],
   "source": [
    "data_df_temp['할인율'].value_counts()"
   ]
  },
  {
   "cell_type": "code",
   "execution_count": 37,
   "metadata": {},
   "outputs": [],
   "source": [
    "# 마이너스 삭제\n",
    "data_df_temp = data_df_temp[data_df_temp['할인율'] > 0]"
   ]
  },
  {
   "cell_type": "code",
   "execution_count": 38,
   "metadata": {},
   "outputs": [
    {
     "data": {
      "text/html": [
       "<div>\n",
       "<style scoped>\n",
       "    .dataframe tbody tr th:only-of-type {\n",
       "        vertical-align: middle;\n",
       "    }\n",
       "\n",
       "    .dataframe tbody tr th {\n",
       "        vertical-align: top;\n",
       "    }\n",
       "\n",
       "    .dataframe thead th {\n",
       "        text-align: right;\n",
       "    }\n",
       "</style>\n",
       "<table border=\"1\" class=\"dataframe\">\n",
       "  <thead>\n",
       "    <tr style=\"text-align: right;\">\n",
       "      <th></th>\n",
       "      <th>고객번호</th>\n",
       "      <th>거주지</th>\n",
       "      <th>연령</th>\n",
       "      <th>가입경로</th>\n",
       "      <th>담당사원</th>\n",
       "      <th>상품코드</th>\n",
       "      <th>상담횟수</th>\n",
       "      <th>총구매횟수</th>\n",
       "      <th>총구매수량</th>\n",
       "      <th>총구매금액</th>\n",
       "      <th>총할인금액</th>\n",
       "      <th>최종결제금액</th>\n",
       "      <th>할인율</th>\n",
       "      <th>사용포인트</th>\n",
       "      <th>포인트사용여부</th>\n",
       "      <th>잔여포인트</th>\n",
       "      <th>재구매여부</th>\n",
       "    </tr>\n",
       "  </thead>\n",
       "  <tbody>\n",
       "    <tr>\n",
       "      <th>0</th>\n",
       "      <td>11454</td>\n",
       "      <td>대구광역시</td>\n",
       "      <td>3</td>\n",
       "      <td>M</td>\n",
       "      <td>박애신</td>\n",
       "      <td>89003</td>\n",
       "      <td>72</td>\n",
       "      <td>24.000000</td>\n",
       "      <td>20</td>\n",
       "      <td>664200</td>\n",
       "      <td>184200</td>\n",
       "      <td>480000</td>\n",
       "      <td>28.0</td>\n",
       "      <td>0.0</td>\n",
       "      <td>0</td>\n",
       "      <td>96</td>\n",
       "      <td>0</td>\n",
       "    </tr>\n",
       "    <tr>\n",
       "      <th>1</th>\n",
       "      <td>14506</td>\n",
       "      <td>경기도</td>\n",
       "      <td>2</td>\n",
       "      <td>M</td>\n",
       "      <td>전우영</td>\n",
       "      <td>89003</td>\n",
       "      <td>24</td>\n",
       "      <td>19.775269</td>\n",
       "      <td>56</td>\n",
       "      <td>1771200</td>\n",
       "      <td>331200</td>\n",
       "      <td>1440000</td>\n",
       "      <td>19.0</td>\n",
       "      <td>120000.0</td>\n",
       "      <td>1</td>\n",
       "      <td>130</td>\n",
       "      <td>0</td>\n",
       "    </tr>\n",
       "    <tr>\n",
       "      <th>2</th>\n",
       "      <td>83078</td>\n",
       "      <td>충청남도</td>\n",
       "      <td>2</td>\n",
       "      <td>M</td>\n",
       "      <td>박애신</td>\n",
       "      <td>89003</td>\n",
       "      <td>684</td>\n",
       "      <td>1044.000000</td>\n",
       "      <td>420</td>\n",
       "      <td>15055200</td>\n",
       "      <td>3055200</td>\n",
       "      <td>12000000</td>\n",
       "      <td>20.0</td>\n",
       "      <td>0.0</td>\n",
       "      <td>0</td>\n",
       "      <td>96</td>\n",
       "      <td>0</td>\n",
       "    </tr>\n",
       "    <tr>\n",
       "      <th>3</th>\n",
       "      <td>141938</td>\n",
       "      <td>인천광역시</td>\n",
       "      <td>2</td>\n",
       "      <td>E</td>\n",
       "      <td>전우영</td>\n",
       "      <td>89003</td>\n",
       "      <td>15</td>\n",
       "      <td>19.775269</td>\n",
       "      <td>12</td>\n",
       "      <td>332100</td>\n",
       "      <td>152100</td>\n",
       "      <td>180000</td>\n",
       "      <td>46.0</td>\n",
       "      <td>0.0</td>\n",
       "      <td>0</td>\n",
       "      <td>130</td>\n",
       "      <td>0</td>\n",
       "    </tr>\n",
       "    <tr>\n",
       "      <th>4</th>\n",
       "      <td>145918</td>\n",
       "      <td>경기도</td>\n",
       "      <td>2</td>\n",
       "      <td>H</td>\n",
       "      <td>박애신</td>\n",
       "      <td>89002</td>\n",
       "      <td>10</td>\n",
       "      <td>19.775269</td>\n",
       "      <td>8</td>\n",
       "      <td>221400</td>\n",
       "      <td>101400</td>\n",
       "      <td>120000</td>\n",
       "      <td>46.0</td>\n",
       "      <td>0.0</td>\n",
       "      <td>0</td>\n",
       "      <td>96</td>\n",
       "      <td>0</td>\n",
       "    </tr>\n",
       "    <tr>\n",
       "      <th>...</th>\n",
       "      <td>...</td>\n",
       "      <td>...</td>\n",
       "      <td>...</td>\n",
       "      <td>...</td>\n",
       "      <td>...</td>\n",
       "      <td>...</td>\n",
       "      <td>...</td>\n",
       "      <td>...</td>\n",
       "      <td>...</td>\n",
       "      <td>...</td>\n",
       "      <td>...</td>\n",
       "      <td>...</td>\n",
       "      <td>...</td>\n",
       "      <td>...</td>\n",
       "      <td>...</td>\n",
       "      <td>...</td>\n",
       "      <td>...</td>\n",
       "    </tr>\n",
       "    <tr>\n",
       "      <th>24742</th>\n",
       "      <td>346780</td>\n",
       "      <td>부산광역시</td>\n",
       "      <td>2</td>\n",
       "      <td>H</td>\n",
       "      <td>정유경</td>\n",
       "      <td>35009</td>\n",
       "      <td>1</td>\n",
       "      <td>1.000000</td>\n",
       "      <td>1</td>\n",
       "      <td>36900</td>\n",
       "      <td>27000</td>\n",
       "      <td>9900</td>\n",
       "      <td>73.0</td>\n",
       "      <td>0.0</td>\n",
       "      <td>0</td>\n",
       "      <td>160</td>\n",
       "      <td>0</td>\n",
       "    </tr>\n",
       "    <tr>\n",
       "      <th>24743</th>\n",
       "      <td>346783</td>\n",
       "      <td>경상남도</td>\n",
       "      <td>2</td>\n",
       "      <td>H</td>\n",
       "      <td>이선영</td>\n",
       "      <td>35009</td>\n",
       "      <td>1</td>\n",
       "      <td>1.000000</td>\n",
       "      <td>1</td>\n",
       "      <td>36900</td>\n",
       "      <td>27000</td>\n",
       "      <td>9900</td>\n",
       "      <td>73.0</td>\n",
       "      <td>0.0</td>\n",
       "      <td>0</td>\n",
       "      <td>161</td>\n",
       "      <td>0</td>\n",
       "    </tr>\n",
       "    <tr>\n",
       "      <th>24744</th>\n",
       "      <td>346784</td>\n",
       "      <td>부산광역시</td>\n",
       "      <td>2</td>\n",
       "      <td>H</td>\n",
       "      <td>박애신</td>\n",
       "      <td>35008</td>\n",
       "      <td>4</td>\n",
       "      <td>2.000000</td>\n",
       "      <td>7</td>\n",
       "      <td>240300</td>\n",
       "      <td>103300</td>\n",
       "      <td>137000</td>\n",
       "      <td>43.0</td>\n",
       "      <td>0.0</td>\n",
       "      <td>0</td>\n",
       "      <td>96</td>\n",
       "      <td>0</td>\n",
       "    </tr>\n",
       "    <tr>\n",
       "      <th>24745</th>\n",
       "      <td>346786</td>\n",
       "      <td>경상북도</td>\n",
       "      <td>2</td>\n",
       "      <td>H</td>\n",
       "      <td>전우영</td>\n",
       "      <td>35023</td>\n",
       "      <td>1</td>\n",
       "      <td>1.000000</td>\n",
       "      <td>1</td>\n",
       "      <td>14000</td>\n",
       "      <td>11000</td>\n",
       "      <td>3000</td>\n",
       "      <td>79.0</td>\n",
       "      <td>0.0</td>\n",
       "      <td>0</td>\n",
       "      <td>130</td>\n",
       "      <td>0</td>\n",
       "    </tr>\n",
       "    <tr>\n",
       "      <th>24746</th>\n",
       "      <td>346787</td>\n",
       "      <td>경기도</td>\n",
       "      <td>2</td>\n",
       "      <td>E</td>\n",
       "      <td>전우영</td>\n",
       "      <td>35009</td>\n",
       "      <td>1</td>\n",
       "      <td>1.000000</td>\n",
       "      <td>1</td>\n",
       "      <td>36900</td>\n",
       "      <td>27000</td>\n",
       "      <td>9900</td>\n",
       "      <td>73.0</td>\n",
       "      <td>0.0</td>\n",
       "      <td>0</td>\n",
       "      <td>130</td>\n",
       "      <td>0</td>\n",
       "    </tr>\n",
       "  </tbody>\n",
       "</table>\n",
       "<p>20692 rows × 17 columns</p>\n",
       "</div>"
      ],
      "text/plain": [
       "         고객번호    거주지 연령 가입경로 담당사원   상품코드  상담횟수        총구매횟수  총구매수량     총구매금액  \\\n",
       "0       11454  대구광역시  3    M  박애신  89003    72    24.000000     20    664200   \n",
       "1       14506    경기도  2    M  전우영  89003    24    19.775269     56   1771200   \n",
       "2       83078   충청남도  2    M  박애신  89003   684  1044.000000    420  15055200   \n",
       "3      141938  인천광역시  2    E  전우영  89003    15    19.775269     12    332100   \n",
       "4      145918    경기도  2    H  박애신  89002    10    19.775269      8    221400   \n",
       "...       ...    ... ..  ...  ...    ...   ...          ...    ...       ...   \n",
       "24742  346780  부산광역시  2    H  정유경  35009     1     1.000000      1     36900   \n",
       "24743  346783   경상남도  2    H  이선영  35009     1     1.000000      1     36900   \n",
       "24744  346784  부산광역시  2    H  박애신  35008     4     2.000000      7    240300   \n",
       "24745  346786   경상북도  2    H  전우영  35023     1     1.000000      1     14000   \n",
       "24746  346787    경기도  2    E  전우영  35009     1     1.000000      1     36900   \n",
       "\n",
       "         총할인금액    최종결제금액   할인율     사용포인트  포인트사용여부  잔여포인트  재구매여부  \n",
       "0       184200    480000  28.0       0.0        0     96      0  \n",
       "1       331200   1440000  19.0  120000.0        1    130      0  \n",
       "2      3055200  12000000  20.0       0.0        0     96      0  \n",
       "3       152100    180000  46.0       0.0        0    130      0  \n",
       "4       101400    120000  46.0       0.0        0     96      0  \n",
       "...        ...       ...   ...       ...      ...    ...    ...  \n",
       "24742    27000      9900  73.0       0.0        0    160      0  \n",
       "24743    27000      9900  73.0       0.0        0    161      0  \n",
       "24744   103300    137000  43.0       0.0        0     96      0  \n",
       "24745    11000      3000  79.0       0.0        0    130      0  \n",
       "24746    27000      9900  73.0       0.0        0    130      0  \n",
       "\n",
       "[20692 rows x 17 columns]"
      ]
     },
     "execution_count": 38,
     "metadata": {},
     "output_type": "execute_result"
    }
   ],
   "source": [
    "# 100프로를 넘는값 삭제\n",
    "data_df_temp = data_df_temp[data_df_temp['할인율'] < 100]\n",
    "data_df_temp"
   ]
  },
  {
   "cell_type": "code",
   "execution_count": 39,
   "metadata": {},
   "outputs": [
    {
     "data": {
      "text/plain": [
       "84.0    5063\n",
       "74.0    3148\n",
       "79.0    1390\n",
       "86.0     644\n",
       "49.0     551\n",
       "        ... \n",
       "65.0       2\n",
       "68.0       1\n",
       "95.0       1\n",
       "67.0       1\n",
       "3.0        1\n",
       "Name: 할인율, Length: 91, dtype: int64"
      ]
     },
     "execution_count": 39,
     "metadata": {},
     "output_type": "execute_result"
    }
   ],
   "source": [
    "data_df_temp['할인율'].value_counts()"
   ]
  },
  {
   "cell_type": "markdown",
   "metadata": {},
   "source": [
    "## 사용포인트 컬럼 삭제"
   ]
  },
  {
   "cell_type": "code",
   "execution_count": 40,
   "metadata": {},
   "outputs": [],
   "source": [
    "del data_df_temp['사용포인트']"
   ]
  },
  {
   "cell_type": "markdown",
   "metadata": {},
   "source": [
    "## 상품코드 이상치 삭제"
   ]
  },
  {
   "cell_type": "code",
   "execution_count": 41,
   "metadata": {},
   "outputs": [
    {
     "data": {
      "text/plain": [
       "4004     1\n",
       "78011    1\n",
       "6003     1\n",
       "16002    1\n",
       "56002    1\n",
       "12001    1\n",
       "48001    1\n",
       "52001    1\n",
       "19002    1\n",
       "35001    1\n",
       "Name: 상품코드, dtype: int64"
      ]
     },
     "execution_count": 41,
     "metadata": {},
     "output_type": "execute_result"
    }
   ],
   "source": [
    "data_df_temp['상품코드'].value_counts().tail(10)"
   ]
  },
  {
   "cell_type": "code",
   "execution_count": 42,
   "metadata": {},
   "outputs": [],
   "source": [
    "data_df_temp = data_df_temp[data_df_temp[\"상품코드\"]!=35001]\n",
    "data_df_temp = data_df_temp[data_df_temp[\"상품코드\"]!=38004]\n",
    "data_df_temp = data_df_temp[data_df_temp[\"상품코드\"]!=90002]\n",
    "data_df_temp = data_df_temp[data_df_temp[\"상품코드\"]!=83001]\n",
    "data_df_temp = data_df_temp[data_df_temp[\"상품코드\"]!=90012]\n",
    "data_df_temp = data_df_temp[data_df_temp[\"상품코드\"]!=90007]\n",
    "data_df_temp = data_df_temp[data_df_temp[\"상품코드\"]!=90004]\n",
    "data_df_temp = data_df_temp[data_df_temp[\"상품코드\"]!=35030]\n",
    "data_df_temp = data_df_temp[data_df_temp[\"상품코드\"]!=73001]\n",
    "data_df_temp = data_df_temp[data_df_temp[\"상품코드\"]!=72010]\n",
    "data_df_temp = data_df_temp[data_df_temp[\"상품코드\"]!=39002]\n",
    "data_df_temp = data_df_temp[data_df_temp[\"상품코드\"]!=38003]\n",
    "\n",
    "data_df_temp = data_df_temp[data_df_temp[\"상품코드\"]!=90013]\n",
    "data_df_temp = data_df_temp[data_df_temp[\"상품코드\"]!=90006]\n",
    "data_df_temp = data_df_temp[data_df_temp[\"상품코드\"]!=90005]\n",
    "data_df_temp = data_df_temp[data_df_temp[\"상품코드\"]!=90011]\n",
    "data_df_temp = data_df_temp[data_df_temp[\"상품코드\"]!=73002]\n",
    "data_df_temp = data_df_temp[data_df_temp[\"상품코드\"]!=38001]\n",
    "data_df_temp = data_df_temp[data_df_temp[\"상품코드\"]!=38002]\n",
    "data_df_temp = data_df_temp[data_df_temp[\"상품코드\"]!=72001]\n",
    "data_df_temp = data_df_temp[data_df_temp[\"상품코드\"]!=90001]\n",
    "data_df_temp = data_df_temp[data_df_temp[\"상품코드\"]!=72012]\n",
    "data_df_temp = data_df_temp[data_df_temp[\"상품코드\"]!=37001]\n",
    "data_df_temp = data_df_temp[data_df_temp[\"상품코드\"]!=90014]\n",
    "data_df_temp = data_df_temp[data_df_temp[\"상품코드\"]!=72002]\n",
    "data_df_temp = data_df_temp[data_df_temp[\"상품코드\"]!=35021]\n",
    "\n",
    "data_df_temp = data_df_temp[data_df_temp[\"상품코드\"]!=35028]\n",
    "data_df_temp = data_df_temp[data_df_temp[\"상품코드\"]!=35086]\n",
    "data_df_temp = data_df_temp[data_df_temp[\"상품코드\"]!=12004]\n",
    "data_df_temp = data_df_temp[data_df_temp[\"상품코드\"]!=56001]\n",
    "data_df_temp = data_df_temp[data_df_temp[\"상품코드\"]!=52007]\n",
    "data_df_temp = data_df_temp[data_df_temp[\"상품코드\"]!=18001]\n",
    "data_df_temp = data_df_temp[data_df_temp[\"상품코드\"]!=39001]\n",
    "data_df_temp = data_df_temp[data_df_temp[\"상품코드\"]!=6001]\n",
    "data_df_temp = data_df_temp[data_df_temp[\"상품코드\"]!=19002]\n",
    "data_df_temp = data_df_temp[data_df_temp[\"상품코드\"]!=48001]\n",
    "data_df_temp = data_df_temp[data_df_temp[\"상품코드\"]!=52001]\n",
    "data_df_temp = data_df_temp[data_df_temp[\"상품코드\"]!=12001]\n",
    "data_df_temp = data_df_temp[data_df_temp[\"상품코드\"]!=56002]\n",
    "data_df_temp = data_df_temp[data_df_temp[\"상품코드\"]!=16002]\n",
    "\n",
    "data_df_temp = data_df_temp[data_df_temp[\"상품코드\"]!=6003]\n",
    "data_df_temp = data_df_temp[data_df_temp[\"상품코드\"]!=4004]\n",
    "data_df_temp = data_df_temp[data_df_temp[\"상품코드\"]!=69004]\n",
    "data_df_temp = data_df_temp[data_df_temp[\"상품코드\"]!=78011]\n",
    "data_df_temp = data_df_temp[data_df_temp[\"상품코드\"]!=19001]\n",
    "data_df_temp = data_df_temp[data_df_temp[\"상품코드\"]!=12012]\n",
    "data_df_temp = data_df_temp[data_df_temp[\"상품코드\"]!=37002]\n",
    "\n",
    "data_df_temp = data_df_temp[data_df_temp[\"상품코드\"]!=35027]\n",
    "data_df_temp = data_df_temp[data_df_temp[\"상품코드\"]!=12009]\n",
    "data_df_temp = data_df_temp[data_df_temp[\"상품코드\"]!=35029]"
   ]
  },
  {
   "cell_type": "code",
   "execution_count": 43,
   "metadata": {},
   "outputs": [
    {
     "data": {
      "text/plain": [
       "35025    1009\n",
       "35026     484\n",
       "35033     383\n",
       "36002     347\n",
       "36001     303\n",
       "35005     245\n",
       "71011     227\n",
       "35032     182\n",
       "71001     174\n",
       "35006     169\n",
       "89003     169\n",
       "71012     136\n",
       "35035     128\n",
       "71003     117\n",
       "36003     112\n",
       "71002     110\n",
       "90009     107\n",
       "35034      89\n",
       "90010      89\n",
       "37003      85\n",
       "27001      84\n",
       "35031      76\n",
       "36004      67\n",
       "71013      61\n",
       "90008      55\n",
       "89001      54\n",
       "89002      49\n",
       "35011      44\n",
       "35022      39\n",
       "72011      25\n",
       "Name: 상품코드, dtype: int64"
      ]
     },
     "execution_count": 43,
     "metadata": {},
     "output_type": "execute_result"
    }
   ],
   "source": [
    "data_df_temp['상품코드'].value_counts().tail(30)"
   ]
  },
  {
   "cell_type": "code",
   "execution_count": 44,
   "metadata": {
    "ExecuteTime": {
     "end_time": "2022-09-15T12:01:11.505678Z",
     "start_time": "2022-09-15T12:01:10.750535Z"
    }
   },
   "outputs": [
    {
     "data": {
      "text/plain": [
       "Text(0.5, 1.0, '결측치 매트릭스')"
      ]
     },
     "execution_count": 44,
     "metadata": {},
     "output_type": "execute_result"
    },
    {
     "data": {
      "image/png": "[encoded data removed]",
      "text/plain": [
       "<Figure size 1296x576 with 3 Axes>"
      ]
     },
     "metadata": {
      "needs_background": "light"
     },
     "output_type": "display_data"
    }
   ],
   "source": [
    "f, ax = plt.subplots(1,2,figsize=(18,8))\n",
    "msno.heatmap(data_df_temp,ax=ax[0])\n",
    "ax[0].set_title('결측치 히트맵')\n",
    "\n",
    "msno.matrix(data_df_temp,ax=ax[1])\n",
    "ax[1].set_title('결측치 매트릭스')"
   ]
  },
  {
   "cell_type": "code",
   "execution_count": 45,
   "metadata": {},
   "outputs": [],
   "source": [
    "data_df_temp.reset_index(inplace=True)"
   ]
  },
  {
   "cell_type": "code",
   "execution_count": 46,
   "metadata": {},
   "outputs": [],
   "source": [
    "#data_df_temp.to_excel('1231.xlsx')"
   ]
  },
  {
   "cell_type": "markdown",
   "metadata": {},
   "source": [
    "# 학습데이터 와 타겟데이터 분리"
   ]
  },
  {
   "cell_type": "code",
   "execution_count": 47,
   "metadata": {
    "ExecuteTime": {
     "end_time": "2022-09-15T12:01:13.412199Z",
     "start_time": "2022-09-15T12:01:13.392255Z"
    }
   },
   "outputs": [],
   "source": [
    "y_data=data_df_temp[[\"재구매여부\"]].copy()\n",
    "x_data=data_df_temp.copy()\n",
    "del x_data[\"재구매여부\"]\n",
    "del x_data[\"고객번호\"]"
   ]
  },
  {
   "cell_type": "code",
   "execution_count": 48,
   "metadata": {
    "ExecuteTime": {
     "end_time": "2022-09-15T12:01:14.856713Z",
     "start_time": "2022-09-15T12:01:14.840765Z"
    }
   },
   "outputs": [
    {
     "data": {
      "text/html": [
       "<div>\n",
       "<style scoped>\n",
       "    .dataframe tbody tr th:only-of-type {\n",
       "        vertical-align: middle;\n",
       "    }\n",
       "\n",
       "    .dataframe tbody tr th {\n",
       "        vertical-align: top;\n",
       "    }\n",
       "\n",
       "    .dataframe thead th {\n",
       "        text-align: right;\n",
       "    }\n",
       "</style>\n",
       "<table border=\"1\" class=\"dataframe\">\n",
       "  <thead>\n",
       "    <tr style=\"text-align: right;\">\n",
       "      <th></th>\n",
       "      <th>재구매여부</th>\n",
       "    </tr>\n",
       "  </thead>\n",
       "  <tbody>\n",
       "    <tr>\n",
       "      <th>0</th>\n",
       "      <td>0</td>\n",
       "    </tr>\n",
       "    <tr>\n",
       "      <th>1</th>\n",
       "      <td>0</td>\n",
       "    </tr>\n",
       "    <tr>\n",
       "      <th>2</th>\n",
       "      <td>0</td>\n",
       "    </tr>\n",
       "    <tr>\n",
       "      <th>3</th>\n",
       "      <td>0</td>\n",
       "    </tr>\n",
       "    <tr>\n",
       "      <th>4</th>\n",
       "      <td>0</td>\n",
       "    </tr>\n",
       "    <tr>\n",
       "      <th>...</th>\n",
       "      <td>...</td>\n",
       "    </tr>\n",
       "    <tr>\n",
       "      <th>20406</th>\n",
       "      <td>0</td>\n",
       "    </tr>\n",
       "    <tr>\n",
       "      <th>20407</th>\n",
       "      <td>0</td>\n",
       "    </tr>\n",
       "    <tr>\n",
       "      <th>20408</th>\n",
       "      <td>0</td>\n",
       "    </tr>\n",
       "    <tr>\n",
       "      <th>20409</th>\n",
       "      <td>0</td>\n",
       "    </tr>\n",
       "    <tr>\n",
       "      <th>20410</th>\n",
       "      <td>0</td>\n",
       "    </tr>\n",
       "  </tbody>\n",
       "</table>\n",
       "<p>20411 rows × 1 columns</p>\n",
       "</div>"
      ],
      "text/plain": [
       "       재구매여부\n",
       "0          0\n",
       "1          0\n",
       "2          0\n",
       "3          0\n",
       "4          0\n",
       "...      ...\n",
       "20406      0\n",
       "20407      0\n",
       "20408      0\n",
       "20409      0\n",
       "20410      0\n",
       "\n",
       "[20411 rows x 1 columns]"
      ]
     },
     "execution_count": 48,
     "metadata": {},
     "output_type": "execute_result"
    }
   ],
   "source": [
    "y_data"
   ]
  },
  {
   "cell_type": "code",
   "execution_count": 49,
   "metadata": {
    "ExecuteTime": {
     "end_time": "2022-09-15T12:01:16.894254Z",
     "start_time": "2022-09-15T12:01:16.862311Z"
    }
   },
   "outputs": [
    {
     "data": {
      "text/html": [
       "<div>\n",
       "<style scoped>\n",
       "    .dataframe tbody tr th:only-of-type {\n",
       "        vertical-align: middle;\n",
       "    }\n",
       "\n",
       "    .dataframe tbody tr th {\n",
       "        vertical-align: top;\n",
       "    }\n",
       "\n",
       "    .dataframe thead th {\n",
       "        text-align: right;\n",
       "    }\n",
       "</style>\n",
       "<table border=\"1\" class=\"dataframe\">\n",
       "  <thead>\n",
       "    <tr style=\"text-align: right;\">\n",
       "      <th></th>\n",
       "      <th>index</th>\n",
       "      <th>거주지</th>\n",
       "      <th>연령</th>\n",
       "      <th>가입경로</th>\n",
       "      <th>담당사원</th>\n",
       "      <th>상품코드</th>\n",
       "      <th>상담횟수</th>\n",
       "      <th>총구매횟수</th>\n",
       "      <th>총구매수량</th>\n",
       "      <th>총구매금액</th>\n",
       "      <th>총할인금액</th>\n",
       "      <th>최종결제금액</th>\n",
       "      <th>할인율</th>\n",
       "      <th>포인트사용여부</th>\n",
       "      <th>잔여포인트</th>\n",
       "    </tr>\n",
       "  </thead>\n",
       "  <tbody>\n",
       "    <tr>\n",
       "      <th>0</th>\n",
       "      <td>0</td>\n",
       "      <td>대구광역시</td>\n",
       "      <td>3</td>\n",
       "      <td>M</td>\n",
       "      <td>박애신</td>\n",
       "      <td>89003</td>\n",
       "      <td>72</td>\n",
       "      <td>24.000000</td>\n",
       "      <td>20</td>\n",
       "      <td>664200</td>\n",
       "      <td>184200</td>\n",
       "      <td>480000</td>\n",
       "      <td>28.0</td>\n",
       "      <td>0</td>\n",
       "      <td>96</td>\n",
       "    </tr>\n",
       "    <tr>\n",
       "      <th>1</th>\n",
       "      <td>1</td>\n",
       "      <td>경기도</td>\n",
       "      <td>2</td>\n",
       "      <td>M</td>\n",
       "      <td>전우영</td>\n",
       "      <td>89003</td>\n",
       "      <td>24</td>\n",
       "      <td>19.775269</td>\n",
       "      <td>56</td>\n",
       "      <td>1771200</td>\n",
       "      <td>331200</td>\n",
       "      <td>1440000</td>\n",
       "      <td>19.0</td>\n",
       "      <td>1</td>\n",
       "      <td>130</td>\n",
       "    </tr>\n",
       "    <tr>\n",
       "      <th>2</th>\n",
       "      <td>2</td>\n",
       "      <td>충청남도</td>\n",
       "      <td>2</td>\n",
       "      <td>M</td>\n",
       "      <td>박애신</td>\n",
       "      <td>89003</td>\n",
       "      <td>684</td>\n",
       "      <td>1044.000000</td>\n",
       "      <td>420</td>\n",
       "      <td>15055200</td>\n",
       "      <td>3055200</td>\n",
       "      <td>12000000</td>\n",
       "      <td>20.0</td>\n",
       "      <td>0</td>\n",
       "      <td>96</td>\n",
       "    </tr>\n",
       "    <tr>\n",
       "      <th>3</th>\n",
       "      <td>3</td>\n",
       "      <td>인천광역시</td>\n",
       "      <td>2</td>\n",
       "      <td>E</td>\n",
       "      <td>전우영</td>\n",
       "      <td>89003</td>\n",
       "      <td>15</td>\n",
       "      <td>19.775269</td>\n",
       "      <td>12</td>\n",
       "      <td>332100</td>\n",
       "      <td>152100</td>\n",
       "      <td>180000</td>\n",
       "      <td>46.0</td>\n",
       "      <td>0</td>\n",
       "      <td>130</td>\n",
       "    </tr>\n",
       "    <tr>\n",
       "      <th>4</th>\n",
       "      <td>4</td>\n",
       "      <td>경기도</td>\n",
       "      <td>2</td>\n",
       "      <td>H</td>\n",
       "      <td>박애신</td>\n",
       "      <td>89002</td>\n",
       "      <td>10</td>\n",
       "      <td>19.775269</td>\n",
       "      <td>8</td>\n",
       "      <td>221400</td>\n",
       "      <td>101400</td>\n",
       "      <td>120000</td>\n",
       "      <td>46.0</td>\n",
       "      <td>0</td>\n",
       "      <td>96</td>\n",
       "    </tr>\n",
       "    <tr>\n",
       "      <th>...</th>\n",
       "      <td>...</td>\n",
       "      <td>...</td>\n",
       "      <td>...</td>\n",
       "      <td>...</td>\n",
       "      <td>...</td>\n",
       "      <td>...</td>\n",
       "      <td>...</td>\n",
       "      <td>...</td>\n",
       "      <td>...</td>\n",
       "      <td>...</td>\n",
       "      <td>...</td>\n",
       "      <td>...</td>\n",
       "      <td>...</td>\n",
       "      <td>...</td>\n",
       "      <td>...</td>\n",
       "    </tr>\n",
       "    <tr>\n",
       "      <th>20406</th>\n",
       "      <td>24742</td>\n",
       "      <td>부산광역시</td>\n",
       "      <td>2</td>\n",
       "      <td>H</td>\n",
       "      <td>정유경</td>\n",
       "      <td>35009</td>\n",
       "      <td>1</td>\n",
       "      <td>1.000000</td>\n",
       "      <td>1</td>\n",
       "      <td>36900</td>\n",
       "      <td>27000</td>\n",
       "      <td>9900</td>\n",
       "      <td>73.0</td>\n",
       "      <td>0</td>\n",
       "      <td>160</td>\n",
       "    </tr>\n",
       "    <tr>\n",
       "      <th>20407</th>\n",
       "      <td>24743</td>\n",
       "      <td>경상남도</td>\n",
       "      <td>2</td>\n",
       "      <td>H</td>\n",
       "      <td>이선영</td>\n",
       "      <td>35009</td>\n",
       "      <td>1</td>\n",
       "      <td>1.000000</td>\n",
       "      <td>1</td>\n",
       "      <td>36900</td>\n",
       "      <td>27000</td>\n",
       "      <td>9900</td>\n",
       "      <td>73.0</td>\n",
       "      <td>0</td>\n",
       "      <td>161</td>\n",
       "    </tr>\n",
       "    <tr>\n",
       "      <th>20408</th>\n",
       "      <td>24744</td>\n",
       "      <td>부산광역시</td>\n",
       "      <td>2</td>\n",
       "      <td>H</td>\n",
       "      <td>박애신</td>\n",
       "      <td>35008</td>\n",
       "      <td>4</td>\n",
       "      <td>2.000000</td>\n",
       "      <td>7</td>\n",
       "      <td>240300</td>\n",
       "      <td>103300</td>\n",
       "      <td>137000</td>\n",
       "      <td>43.0</td>\n",
       "      <td>0</td>\n",
       "      <td>96</td>\n",
       "    </tr>\n",
       "    <tr>\n",
       "      <th>20409</th>\n",
       "      <td>24745</td>\n",
       "      <td>경상북도</td>\n",
       "      <td>2</td>\n",
       "      <td>H</td>\n",
       "      <td>전우영</td>\n",
       "      <td>35023</td>\n",
       "      <td>1</td>\n",
       "      <td>1.000000</td>\n",
       "      <td>1</td>\n",
       "      <td>14000</td>\n",
       "      <td>11000</td>\n",
       "      <td>3000</td>\n",
       "      <td>79.0</td>\n",
       "      <td>0</td>\n",
       "      <td>130</td>\n",
       "    </tr>\n",
       "    <tr>\n",
       "      <th>20410</th>\n",
       "      <td>24746</td>\n",
       "      <td>경기도</td>\n",
       "      <td>2</td>\n",
       "      <td>E</td>\n",
       "      <td>전우영</td>\n",
       "      <td>35009</td>\n",
       "      <td>1</td>\n",
       "      <td>1.000000</td>\n",
       "      <td>1</td>\n",
       "      <td>36900</td>\n",
       "      <td>27000</td>\n",
       "      <td>9900</td>\n",
       "      <td>73.0</td>\n",
       "      <td>0</td>\n",
       "      <td>130</td>\n",
       "    </tr>\n",
       "  </tbody>\n",
       "</table>\n",
       "<p>20411 rows × 15 columns</p>\n",
       "</div>"
      ],
      "text/plain": [
       "       index    거주지 연령 가입경로 담당사원   상품코드  상담횟수        총구매횟수  총구매수량     총구매금액  \\\n",
       "0          0  대구광역시  3    M  박애신  89003    72    24.000000     20    664200   \n",
       "1          1    경기도  2    M  전우영  89003    24    19.775269     56   1771200   \n",
       "2          2   충청남도  2    M  박애신  89003   684  1044.000000    420  15055200   \n",
       "3          3  인천광역시  2    E  전우영  89003    15    19.775269     12    332100   \n",
       "4          4    경기도  2    H  박애신  89002    10    19.775269      8    221400   \n",
       "...      ...    ... ..  ...  ...    ...   ...          ...    ...       ...   \n",
       "20406  24742  부산광역시  2    H  정유경  35009     1     1.000000      1     36900   \n",
       "20407  24743   경상남도  2    H  이선영  35009     1     1.000000      1     36900   \n",
       "20408  24744  부산광역시  2    H  박애신  35008     4     2.000000      7    240300   \n",
       "20409  24745   경상북도  2    H  전우영  35023     1     1.000000      1     14000   \n",
       "20410  24746    경기도  2    E  전우영  35009     1     1.000000      1     36900   \n",
       "\n",
       "         총할인금액    최종결제금액   할인율  포인트사용여부  잔여포인트  \n",
       "0       184200    480000  28.0        0     96  \n",
       "1       331200   1440000  19.0        1    130  \n",
       "2      3055200  12000000  20.0        0     96  \n",
       "3       152100    180000  46.0        0    130  \n",
       "4       101400    120000  46.0        0     96  \n",
       "...        ...       ...   ...      ...    ...  \n",
       "20406    27000      9900  73.0        0    160  \n",
       "20407    27000      9900  73.0        0    161  \n",
       "20408   103300    137000  43.0        0     96  \n",
       "20409    11000      3000  79.0        0    130  \n",
       "20410    27000      9900  73.0        0    130  \n",
       "\n",
       "[20411 rows x 15 columns]"
      ]
     },
     "execution_count": 49,
     "metadata": {},
     "output_type": "execute_result"
    }
   ],
   "source": [
    "x_data"
   ]
  },
  {
   "cell_type": "markdown",
   "metadata": {},
   "source": [
    "# Data Scaling"
   ]
  },
  {
   "cell_type": "markdown",
   "metadata": {},
   "source": [
    "## 범주형컬럼 one-hot encoding"
   ]
  },
  {
   "cell_type": "code",
   "execution_count": 50,
   "metadata": {
    "ExecuteTime": {
     "end_time": "2022-09-15T12:01:18.790880Z",
     "start_time": "2022-09-15T12:01:18.771935Z"
    }
   },
   "outputs": [],
   "source": [
    "x_data_categorical = x_data[[\"거주지\",\"연령\",\"가입경로\",\"담당사원\",\"상품코드\",\"포인트사용여부\"]]"
   ]
  },
  {
   "cell_type": "code",
   "execution_count": 51,
   "metadata": {
    "ExecuteTime": {
     "end_time": "2022-09-15T12:01:20.048888Z",
     "start_time": "2022-09-15T12:01:20.021959Z"
    }
   },
   "outputs": [
    {
     "data": {
      "text/html": [
       "<div>\n",
       "<style scoped>\n",
       "    .dataframe tbody tr th:only-of-type {\n",
       "        vertical-align: middle;\n",
       "    }\n",
       "\n",
       "    .dataframe tbody tr th {\n",
       "        vertical-align: top;\n",
       "    }\n",
       "\n",
       "    .dataframe thead th {\n",
       "        text-align: right;\n",
       "    }\n",
       "</style>\n",
       "<table border=\"1\" class=\"dataframe\">\n",
       "  <thead>\n",
       "    <tr style=\"text-align: right;\">\n",
       "      <th></th>\n",
       "      <th>거주지</th>\n",
       "      <th>연령</th>\n",
       "      <th>가입경로</th>\n",
       "      <th>담당사원</th>\n",
       "      <th>상품코드</th>\n",
       "      <th>포인트사용여부</th>\n",
       "    </tr>\n",
       "  </thead>\n",
       "  <tbody>\n",
       "    <tr>\n",
       "      <th>0</th>\n",
       "      <td>대구광역시</td>\n",
       "      <td>3</td>\n",
       "      <td>M</td>\n",
       "      <td>박애신</td>\n",
       "      <td>89003</td>\n",
       "      <td>0</td>\n",
       "    </tr>\n",
       "    <tr>\n",
       "      <th>1</th>\n",
       "      <td>경기도</td>\n",
       "      <td>2</td>\n",
       "      <td>M</td>\n",
       "      <td>전우영</td>\n",
       "      <td>89003</td>\n",
       "      <td>1</td>\n",
       "    </tr>\n",
       "    <tr>\n",
       "      <th>2</th>\n",
       "      <td>충청남도</td>\n",
       "      <td>2</td>\n",
       "      <td>M</td>\n",
       "      <td>박애신</td>\n",
       "      <td>89003</td>\n",
       "      <td>0</td>\n",
       "    </tr>\n",
       "    <tr>\n",
       "      <th>3</th>\n",
       "      <td>인천광역시</td>\n",
       "      <td>2</td>\n",
       "      <td>E</td>\n",
       "      <td>전우영</td>\n",
       "      <td>89003</td>\n",
       "      <td>0</td>\n",
       "    </tr>\n",
       "    <tr>\n",
       "      <th>4</th>\n",
       "      <td>경기도</td>\n",
       "      <td>2</td>\n",
       "      <td>H</td>\n",
       "      <td>박애신</td>\n",
       "      <td>89002</td>\n",
       "      <td>0</td>\n",
       "    </tr>\n",
       "    <tr>\n",
       "      <th>...</th>\n",
       "      <td>...</td>\n",
       "      <td>...</td>\n",
       "      <td>...</td>\n",
       "      <td>...</td>\n",
       "      <td>...</td>\n",
       "      <td>...</td>\n",
       "    </tr>\n",
       "    <tr>\n",
       "      <th>20406</th>\n",
       "      <td>부산광역시</td>\n",
       "      <td>2</td>\n",
       "      <td>H</td>\n",
       "      <td>정유경</td>\n",
       "      <td>35009</td>\n",
       "      <td>0</td>\n",
       "    </tr>\n",
       "    <tr>\n",
       "      <th>20407</th>\n",
       "      <td>경상남도</td>\n",
       "      <td>2</td>\n",
       "      <td>H</td>\n",
       "      <td>이선영</td>\n",
       "      <td>35009</td>\n",
       "      <td>0</td>\n",
       "    </tr>\n",
       "    <tr>\n",
       "      <th>20408</th>\n",
       "      <td>부산광역시</td>\n",
       "      <td>2</td>\n",
       "      <td>H</td>\n",
       "      <td>박애신</td>\n",
       "      <td>35008</td>\n",
       "      <td>0</td>\n",
       "    </tr>\n",
       "    <tr>\n",
       "      <th>20409</th>\n",
       "      <td>경상북도</td>\n",
       "      <td>2</td>\n",
       "      <td>H</td>\n",
       "      <td>전우영</td>\n",
       "      <td>35023</td>\n",
       "      <td>0</td>\n",
       "    </tr>\n",
       "    <tr>\n",
       "      <th>20410</th>\n",
       "      <td>경기도</td>\n",
       "      <td>2</td>\n",
       "      <td>E</td>\n",
       "      <td>전우영</td>\n",
       "      <td>35009</td>\n",
       "      <td>0</td>\n",
       "    </tr>\n",
       "  </tbody>\n",
       "</table>\n",
       "<p>20411 rows × 6 columns</p>\n",
       "</div>"
      ],
      "text/plain": [
       "         거주지 연령 가입경로 담당사원   상품코드  포인트사용여부\n",
       "0      대구광역시  3    M  박애신  89003        0\n",
       "1        경기도  2    M  전우영  89003        1\n",
       "2       충청남도  2    M  박애신  89003        0\n",
       "3      인천광역시  2    E  전우영  89003        0\n",
       "4        경기도  2    H  박애신  89002        0\n",
       "...      ... ..  ...  ...    ...      ...\n",
       "20406  부산광역시  2    H  정유경  35009        0\n",
       "20407   경상남도  2    H  이선영  35009        0\n",
       "20408  부산광역시  2    H  박애신  35008        0\n",
       "20409   경상북도  2    H  전우영  35023        0\n",
       "20410    경기도  2    E  전우영  35009        0\n",
       "\n",
       "[20411 rows x 6 columns]"
      ]
     },
     "execution_count": 51,
     "metadata": {},
     "output_type": "execute_result"
    }
   ],
   "source": [
    "x_data_categorical"
   ]
  },
  {
   "cell_type": "code",
   "execution_count": 52,
   "metadata": {
    "ExecuteTime": {
     "end_time": "2022-09-15T12:01:22.614749Z",
     "start_time": "2022-09-15T12:01:22.533875Z"
    }
   },
   "outputs": [],
   "source": [
    "encoder = OneHotEncoder(sparse=False)\n",
    "\n",
    "x_data_categorical = pd.DataFrame(encoder.fit_transform(x_data_categorical[[\"거주지\",\"연령\",\"가입경로\",\"담당사원\",\"상품코드\",\"포인트사용여부\"]]))\n",
    "\n",
    "x_data_categorical.columns = encoder.get_feature_names([\"거주지\",\"연령\",\"가입경로\",\"담당사원\",\"상품코드\",\"포인트사용여부\"])"
   ]
  },
  {
   "cell_type": "code",
   "execution_count": 53,
   "metadata": {
    "ExecuteTime": {
     "end_time": "2022-09-15T12:01:24.181582Z",
     "start_time": "2022-09-15T12:01:24.142687Z"
    }
   },
   "outputs": [
    {
     "data": {
      "text/html": [
       "<div>\n",
       "<style scoped>\n",
       "    .dataframe tbody tr th:only-of-type {\n",
       "        vertical-align: middle;\n",
       "    }\n",
       "\n",
       "    .dataframe tbody tr th {\n",
       "        vertical-align: top;\n",
       "    }\n",
       "\n",
       "    .dataframe thead th {\n",
       "        text-align: right;\n",
       "    }\n",
       "</style>\n",
       "<table border=\"1\" class=\"dataframe\">\n",
       "  <thead>\n",
       "    <tr style=\"text-align: right;\">\n",
       "      <th></th>\n",
       "      <th>거주지_강원도</th>\n",
       "      <th>거주지_경기도</th>\n",
       "      <th>거주지_경상남도</th>\n",
       "      <th>거주지_경상북도</th>\n",
       "      <th>거주지_광주광역시</th>\n",
       "      <th>거주지_대구광역시</th>\n",
       "      <th>거주지_대전광역시</th>\n",
       "      <th>거주지_부산광역시</th>\n",
       "      <th>거주지_서울특별시</th>\n",
       "      <th>거주지_세종특별자치시</th>\n",
       "      <th>...</th>\n",
       "      <th>상품코드_71013</th>\n",
       "      <th>상품코드_72011</th>\n",
       "      <th>상품코드_89001</th>\n",
       "      <th>상품코드_89002</th>\n",
       "      <th>상품코드_89003</th>\n",
       "      <th>상품코드_90008</th>\n",
       "      <th>상품코드_90009</th>\n",
       "      <th>상품코드_90010</th>\n",
       "      <th>포인트사용여부_0</th>\n",
       "      <th>포인트사용여부_1</th>\n",
       "    </tr>\n",
       "  </thead>\n",
       "  <tbody>\n",
       "    <tr>\n",
       "      <th>0</th>\n",
       "      <td>0.0</td>\n",
       "      <td>0.0</td>\n",
       "      <td>0.0</td>\n",
       "      <td>0.0</td>\n",
       "      <td>0.0</td>\n",
       "      <td>1.0</td>\n",
       "      <td>0.0</td>\n",
       "      <td>0.0</td>\n",
       "      <td>0.0</td>\n",
       "      <td>0.0</td>\n",
       "      <td>...</td>\n",
       "      <td>0.0</td>\n",
       "      <td>0.0</td>\n",
       "      <td>0.0</td>\n",
       "      <td>0.0</td>\n",
       "      <td>1.0</td>\n",
       "      <td>0.0</td>\n",
       "      <td>0.0</td>\n",
       "      <td>0.0</td>\n",
       "      <td>1.0</td>\n",
       "      <td>0.0</td>\n",
       "    </tr>\n",
       "    <tr>\n",
       "      <th>1</th>\n",
       "      <td>0.0</td>\n",
       "      <td>1.0</td>\n",
       "      <td>0.0</td>\n",
       "      <td>0.0</td>\n",
       "      <td>0.0</td>\n",
       "      <td>0.0</td>\n",
       "      <td>0.0</td>\n",
       "      <td>0.0</td>\n",
       "      <td>0.0</td>\n",
       "      <td>0.0</td>\n",
       "      <td>...</td>\n",
       "      <td>0.0</td>\n",
       "      <td>0.0</td>\n",
       "      <td>0.0</td>\n",
       "      <td>0.0</td>\n",
       "      <td>1.0</td>\n",
       "      <td>0.0</td>\n",
       "      <td>0.0</td>\n",
       "      <td>0.0</td>\n",
       "      <td>0.0</td>\n",
       "      <td>1.0</td>\n",
       "    </tr>\n",
       "    <tr>\n",
       "      <th>2</th>\n",
       "      <td>0.0</td>\n",
       "      <td>0.0</td>\n",
       "      <td>0.0</td>\n",
       "      <td>0.0</td>\n",
       "      <td>0.0</td>\n",
       "      <td>0.0</td>\n",
       "      <td>0.0</td>\n",
       "      <td>0.0</td>\n",
       "      <td>0.0</td>\n",
       "      <td>0.0</td>\n",
       "      <td>...</td>\n",
       "      <td>0.0</td>\n",
       "      <td>0.0</td>\n",
       "      <td>0.0</td>\n",
       "      <td>0.0</td>\n",
       "      <td>1.0</td>\n",
       "      <td>0.0</td>\n",
       "      <td>0.0</td>\n",
       "      <td>0.0</td>\n",
       "      <td>1.0</td>\n",
       "      <td>0.0</td>\n",
       "    </tr>\n",
       "    <tr>\n",
       "      <th>3</th>\n",
       "      <td>0.0</td>\n",
       "      <td>0.0</td>\n",
       "      <td>0.0</td>\n",
       "      <td>0.0</td>\n",
       "      <td>0.0</td>\n",
       "      <td>0.0</td>\n",
       "      <td>0.0</td>\n",
       "      <td>0.0</td>\n",
       "      <td>0.0</td>\n",
       "      <td>0.0</td>\n",
       "      <td>...</td>\n",
       "      <td>0.0</td>\n",
       "      <td>0.0</td>\n",
       "      <td>0.0</td>\n",
       "      <td>0.0</td>\n",
       "      <td>1.0</td>\n",
       "      <td>0.0</td>\n",
       "      <td>0.0</td>\n",
       "      <td>0.0</td>\n",
       "      <td>1.0</td>\n",
       "      <td>0.0</td>\n",
       "    </tr>\n",
       "    <tr>\n",
       "      <th>4</th>\n",
       "      <td>0.0</td>\n",
       "      <td>1.0</td>\n",
       "      <td>0.0</td>\n",
       "      <td>0.0</td>\n",
       "      <td>0.0</td>\n",
       "      <td>0.0</td>\n",
       "      <td>0.0</td>\n",
       "      <td>0.0</td>\n",
       "      <td>0.0</td>\n",
       "      <td>0.0</td>\n",
       "      <td>...</td>\n",
       "      <td>0.0</td>\n",
       "      <td>0.0</td>\n",
       "      <td>0.0</td>\n",
       "      <td>1.0</td>\n",
       "      <td>0.0</td>\n",
       "      <td>0.0</td>\n",
       "      <td>0.0</td>\n",
       "      <td>0.0</td>\n",
       "      <td>1.0</td>\n",
       "      <td>0.0</td>\n",
       "    </tr>\n",
       "    <tr>\n",
       "      <th>...</th>\n",
       "      <td>...</td>\n",
       "      <td>...</td>\n",
       "      <td>...</td>\n",
       "      <td>...</td>\n",
       "      <td>...</td>\n",
       "      <td>...</td>\n",
       "      <td>...</td>\n",
       "      <td>...</td>\n",
       "      <td>...</td>\n",
       "      <td>...</td>\n",
       "      <td>...</td>\n",
       "      <td>...</td>\n",
       "      <td>...</td>\n",
       "      <td>...</td>\n",
       "      <td>...</td>\n",
       "      <td>...</td>\n",
       "      <td>...</td>\n",
       "      <td>...</td>\n",
       "      <td>...</td>\n",
       "      <td>...</td>\n",
       "      <td>...</td>\n",
       "    </tr>\n",
       "    <tr>\n",
       "      <th>20406</th>\n",
       "      <td>0.0</td>\n",
       "      <td>0.0</td>\n",
       "      <td>0.0</td>\n",
       "      <td>0.0</td>\n",
       "      <td>0.0</td>\n",
       "      <td>0.0</td>\n",
       "      <td>0.0</td>\n",
       "      <td>1.0</td>\n",
       "      <td>0.0</td>\n",
       "      <td>0.0</td>\n",
       "      <td>...</td>\n",
       "      <td>0.0</td>\n",
       "      <td>0.0</td>\n",
       "      <td>0.0</td>\n",
       "      <td>0.0</td>\n",
       "      <td>0.0</td>\n",
       "      <td>0.0</td>\n",
       "      <td>0.0</td>\n",
       "      <td>0.0</td>\n",
       "      <td>1.0</td>\n",
       "      <td>0.0</td>\n",
       "    </tr>\n",
       "    <tr>\n",
       "      <th>20407</th>\n",
       "      <td>0.0</td>\n",
       "      <td>0.0</td>\n",
       "      <td>1.0</td>\n",
       "      <td>0.0</td>\n",
       "      <td>0.0</td>\n",
       "      <td>0.0</td>\n",
       "      <td>0.0</td>\n",
       "      <td>0.0</td>\n",
       "      <td>0.0</td>\n",
       "      <td>0.0</td>\n",
       "      <td>...</td>\n",
       "      <td>0.0</td>\n",
       "      <td>0.0</td>\n",
       "      <td>0.0</td>\n",
       "      <td>0.0</td>\n",
       "      <td>0.0</td>\n",
       "      <td>0.0</td>\n",
       "      <td>0.0</td>\n",
       "      <td>0.0</td>\n",
       "      <td>1.0</td>\n",
       "      <td>0.0</td>\n",
       "    </tr>\n",
       "    <tr>\n",
       "      <th>20408</th>\n",
       "      <td>0.0</td>\n",
       "      <td>0.0</td>\n",
       "      <td>0.0</td>\n",
       "      <td>0.0</td>\n",
       "      <td>0.0</td>\n",
       "      <td>0.0</td>\n",
       "      <td>0.0</td>\n",
       "      <td>1.0</td>\n",
       "      <td>0.0</td>\n",
       "      <td>0.0</td>\n",
       "      <td>...</td>\n",
       "      <td>0.0</td>\n",
       "      <td>0.0</td>\n",
       "      <td>0.0</td>\n",
       "      <td>0.0</td>\n",
       "      <td>0.0</td>\n",
       "      <td>0.0</td>\n",
       "      <td>0.0</td>\n",
       "      <td>0.0</td>\n",
       "      <td>1.0</td>\n",
       "      <td>0.0</td>\n",
       "    </tr>\n",
       "    <tr>\n",
       "      <th>20409</th>\n",
       "      <td>0.0</td>\n",
       "      <td>0.0</td>\n",
       "      <td>0.0</td>\n",
       "      <td>1.0</td>\n",
       "      <td>0.0</td>\n",
       "      <td>0.0</td>\n",
       "      <td>0.0</td>\n",
       "      <td>0.0</td>\n",
       "      <td>0.0</td>\n",
       "      <td>0.0</td>\n",
       "      <td>...</td>\n",
       "      <td>0.0</td>\n",
       "      <td>0.0</td>\n",
       "      <td>0.0</td>\n",
       "      <td>0.0</td>\n",
       "      <td>0.0</td>\n",
       "      <td>0.0</td>\n",
       "      <td>0.0</td>\n",
       "      <td>0.0</td>\n",
       "      <td>1.0</td>\n",
       "      <td>0.0</td>\n",
       "    </tr>\n",
       "    <tr>\n",
       "      <th>20410</th>\n",
       "      <td>0.0</td>\n",
       "      <td>1.0</td>\n",
       "      <td>0.0</td>\n",
       "      <td>0.0</td>\n",
       "      <td>0.0</td>\n",
       "      <td>0.0</td>\n",
       "      <td>0.0</td>\n",
       "      <td>0.0</td>\n",
       "      <td>0.0</td>\n",
       "      <td>0.0</td>\n",
       "      <td>...</td>\n",
       "      <td>0.0</td>\n",
       "      <td>0.0</td>\n",
       "      <td>0.0</td>\n",
       "      <td>0.0</td>\n",
       "      <td>0.0</td>\n",
       "      <td>0.0</td>\n",
       "      <td>0.0</td>\n",
       "      <td>0.0</td>\n",
       "      <td>1.0</td>\n",
       "      <td>0.0</td>\n",
       "    </tr>\n",
       "  </tbody>\n",
       "</table>\n",
       "<p>20411 rows × 96 columns</p>\n",
       "</div>"
      ],
      "text/plain": [
       "       거주지_강원도  거주지_경기도  거주지_경상남도  거주지_경상북도  거주지_광주광역시  거주지_대구광역시  거주지_대전광역시  \\\n",
       "0          0.0      0.0       0.0       0.0        0.0        1.0        0.0   \n",
       "1          0.0      1.0       0.0       0.0        0.0        0.0        0.0   \n",
       "2          0.0      0.0       0.0       0.0        0.0        0.0        0.0   \n",
       "3          0.0      0.0       0.0       0.0        0.0        0.0        0.0   \n",
       "4          0.0      1.0       0.0       0.0        0.0        0.0        0.0   \n",
       "...        ...      ...       ...       ...        ...        ...        ...   \n",
       "20406      0.0      0.0       0.0       0.0        0.0        0.0        0.0   \n",
       "20407      0.0      0.0       1.0       0.0        0.0        0.0        0.0   \n",
       "20408      0.0      0.0       0.0       0.0        0.0        0.0        0.0   \n",
       "20409      0.0      0.0       0.0       1.0        0.0        0.0        0.0   \n",
       "20410      0.0      1.0       0.0       0.0        0.0        0.0        0.0   \n",
       "\n",
       "       거주지_부산광역시  거주지_서울특별시  거주지_세종특별자치시  ...  상품코드_71013  상품코드_72011  \\\n",
       "0            0.0        0.0          0.0  ...         0.0         0.0   \n",
       "1            0.0        0.0          0.0  ...         0.0         0.0   \n",
       "2            0.0        0.0          0.0  ...         0.0         0.0   \n",
       "3            0.0        0.0          0.0  ...         0.0         0.0   \n",
       "4            0.0        0.0          0.0  ...         0.0         0.0   \n",
       "...          ...        ...          ...  ...         ...         ...   \n",
       "20406        1.0        0.0          0.0  ...         0.0         0.0   \n",
       "20407        0.0        0.0          0.0  ...         0.0         0.0   \n",
       "20408        1.0        0.0          0.0  ...         0.0         0.0   \n",
       "20409        0.0        0.0          0.0  ...         0.0         0.0   \n",
       "20410        0.0        0.0          0.0  ...         0.0         0.0   \n",
       "\n",
       "       상품코드_89001  상품코드_89002  상품코드_89003  상품코드_90008  상품코드_90009  상품코드_90010  \\\n",
       "0             0.0         0.0         1.0         0.0         0.0         0.0   \n",
       "1             0.0         0.0         1.0         0.0         0.0         0.0   \n",
       "2             0.0         0.0         1.0         0.0         0.0         0.0   \n",
       "3             0.0         0.0         1.0         0.0         0.0         0.0   \n",
       "4             0.0         1.0         0.0         0.0         0.0         0.0   \n",
       "...           ...         ...         ...         ...         ...         ...   \n",
       "20406         0.0         0.0         0.0         0.0         0.0         0.0   \n",
       "20407         0.0         0.0         0.0         0.0         0.0         0.0   \n",
       "20408         0.0         0.0         0.0         0.0         0.0         0.0   \n",
       "20409         0.0         0.0         0.0         0.0         0.0         0.0   \n",
       "20410         0.0         0.0         0.0         0.0         0.0         0.0   \n",
       "\n",
       "       포인트사용여부_0  포인트사용여부_1  \n",
       "0            1.0        0.0  \n",
       "1            0.0        1.0  \n",
       "2            1.0        0.0  \n",
       "3            1.0        0.0  \n",
       "4            1.0        0.0  \n",
       "...          ...        ...  \n",
       "20406        1.0        0.0  \n",
       "20407        1.0        0.0  \n",
       "20408        1.0        0.0  \n",
       "20409        1.0        0.0  \n",
       "20410        1.0        0.0  \n",
       "\n",
       "[20411 rows x 96 columns]"
      ]
     },
     "execution_count": 53,
     "metadata": {},
     "output_type": "execute_result"
    }
   ],
   "source": [
    "x_data_categorical"
   ]
  },
  {
   "cell_type": "code",
   "execution_count": 54,
   "metadata": {
    "ExecuteTime": {
     "end_time": "2022-09-15T12:01:26.082960Z",
     "start_time": "2022-09-15T12:01:26.071988Z"
    }
   },
   "outputs": [],
   "source": [
    "x_data.drop([\"거주지\",\"연령\",\"가입경로\",\"담당사원\",\"상품코드\",\"포인트사용여부\"], axis=1, inplace=True)"
   ]
  },
  {
   "cell_type": "code",
   "execution_count": 55,
   "metadata": {
    "ExecuteTime": {
     "end_time": "2022-09-15T12:01:27.357491Z",
     "start_time": "2022-09-15T12:01:27.341532Z"
    }
   },
   "outputs": [
    {
     "data": {
      "text/html": [
       "<div>\n",
       "<style scoped>\n",
       "    .dataframe tbody tr th:only-of-type {\n",
       "        vertical-align: middle;\n",
       "    }\n",
       "\n",
       "    .dataframe tbody tr th {\n",
       "        vertical-align: top;\n",
       "    }\n",
       "\n",
       "    .dataframe thead th {\n",
       "        text-align: right;\n",
       "    }\n",
       "</style>\n",
       "<table border=\"1\" class=\"dataframe\">\n",
       "  <thead>\n",
       "    <tr style=\"text-align: right;\">\n",
       "      <th></th>\n",
       "      <th>index</th>\n",
       "      <th>상담횟수</th>\n",
       "      <th>총구매횟수</th>\n",
       "      <th>총구매수량</th>\n",
       "      <th>총구매금액</th>\n",
       "      <th>총할인금액</th>\n",
       "      <th>최종결제금액</th>\n",
       "      <th>할인율</th>\n",
       "      <th>잔여포인트</th>\n",
       "    </tr>\n",
       "  </thead>\n",
       "  <tbody>\n",
       "    <tr>\n",
       "      <th>0</th>\n",
       "      <td>0</td>\n",
       "      <td>72</td>\n",
       "      <td>24.000000</td>\n",
       "      <td>20</td>\n",
       "      <td>664200</td>\n",
       "      <td>184200</td>\n",
       "      <td>480000</td>\n",
       "      <td>28.0</td>\n",
       "      <td>96</td>\n",
       "    </tr>\n",
       "    <tr>\n",
       "      <th>1</th>\n",
       "      <td>1</td>\n",
       "      <td>24</td>\n",
       "      <td>19.775269</td>\n",
       "      <td>56</td>\n",
       "      <td>1771200</td>\n",
       "      <td>331200</td>\n",
       "      <td>1440000</td>\n",
       "      <td>19.0</td>\n",
       "      <td>130</td>\n",
       "    </tr>\n",
       "    <tr>\n",
       "      <th>2</th>\n",
       "      <td>2</td>\n",
       "      <td>684</td>\n",
       "      <td>1044.000000</td>\n",
       "      <td>420</td>\n",
       "      <td>15055200</td>\n",
       "      <td>3055200</td>\n",
       "      <td>12000000</td>\n",
       "      <td>20.0</td>\n",
       "      <td>96</td>\n",
       "    </tr>\n",
       "    <tr>\n",
       "      <th>3</th>\n",
       "      <td>3</td>\n",
       "      <td>15</td>\n",
       "      <td>19.775269</td>\n",
       "      <td>12</td>\n",
       "      <td>332100</td>\n",
       "      <td>152100</td>\n",
       "      <td>180000</td>\n",
       "      <td>46.0</td>\n",
       "      <td>130</td>\n",
       "    </tr>\n",
       "    <tr>\n",
       "      <th>4</th>\n",
       "      <td>4</td>\n",
       "      <td>10</td>\n",
       "      <td>19.775269</td>\n",
       "      <td>8</td>\n",
       "      <td>221400</td>\n",
       "      <td>101400</td>\n",
       "      <td>120000</td>\n",
       "      <td>46.0</td>\n",
       "      <td>96</td>\n",
       "    </tr>\n",
       "    <tr>\n",
       "      <th>...</th>\n",
       "      <td>...</td>\n",
       "      <td>...</td>\n",
       "      <td>...</td>\n",
       "      <td>...</td>\n",
       "      <td>...</td>\n",
       "      <td>...</td>\n",
       "      <td>...</td>\n",
       "      <td>...</td>\n",
       "      <td>...</td>\n",
       "    </tr>\n",
       "    <tr>\n",
       "      <th>20406</th>\n",
       "      <td>24742</td>\n",
       "      <td>1</td>\n",
       "      <td>1.000000</td>\n",
       "      <td>1</td>\n",
       "      <td>36900</td>\n",
       "      <td>27000</td>\n",
       "      <td>9900</td>\n",
       "      <td>73.0</td>\n",
       "      <td>160</td>\n",
       "    </tr>\n",
       "    <tr>\n",
       "      <th>20407</th>\n",
       "      <td>24743</td>\n",
       "      <td>1</td>\n",
       "      <td>1.000000</td>\n",
       "      <td>1</td>\n",
       "      <td>36900</td>\n",
       "      <td>27000</td>\n",
       "      <td>9900</td>\n",
       "      <td>73.0</td>\n",
       "      <td>161</td>\n",
       "    </tr>\n",
       "    <tr>\n",
       "      <th>20408</th>\n",
       "      <td>24744</td>\n",
       "      <td>4</td>\n",
       "      <td>2.000000</td>\n",
       "      <td>7</td>\n",
       "      <td>240300</td>\n",
       "      <td>103300</td>\n",
       "      <td>137000</td>\n",
       "      <td>43.0</td>\n",
       "      <td>96</td>\n",
       "    </tr>\n",
       "    <tr>\n",
       "      <th>20409</th>\n",
       "      <td>24745</td>\n",
       "      <td>1</td>\n",
       "      <td>1.000000</td>\n",
       "      <td>1</td>\n",
       "      <td>14000</td>\n",
       "      <td>11000</td>\n",
       "      <td>3000</td>\n",
       "      <td>79.0</td>\n",
       "      <td>130</td>\n",
       "    </tr>\n",
       "    <tr>\n",
       "      <th>20410</th>\n",
       "      <td>24746</td>\n",
       "      <td>1</td>\n",
       "      <td>1.000000</td>\n",
       "      <td>1</td>\n",
       "      <td>36900</td>\n",
       "      <td>27000</td>\n",
       "      <td>9900</td>\n",
       "      <td>73.0</td>\n",
       "      <td>130</td>\n",
       "    </tr>\n",
       "  </tbody>\n",
       "</table>\n",
       "<p>20411 rows × 9 columns</p>\n",
       "</div>"
      ],
      "text/plain": [
       "       index  상담횟수        총구매횟수  총구매수량     총구매금액    총할인금액    최종결제금액   할인율  \\\n",
       "0          0    72    24.000000     20    664200   184200    480000  28.0   \n",
       "1          1    24    19.775269     56   1771200   331200   1440000  19.0   \n",
       "2          2   684  1044.000000    420  15055200  3055200  12000000  20.0   \n",
       "3          3    15    19.775269     12    332100   152100    180000  46.0   \n",
       "4          4    10    19.775269      8    221400   101400    120000  46.0   \n",
       "...      ...   ...          ...    ...       ...      ...       ...   ...   \n",
       "20406  24742     1     1.000000      1     36900    27000      9900  73.0   \n",
       "20407  24743     1     1.000000      1     36900    27000      9900  73.0   \n",
       "20408  24744     4     2.000000      7    240300   103300    137000  43.0   \n",
       "20409  24745     1     1.000000      1     14000    11000      3000  79.0   \n",
       "20410  24746     1     1.000000      1     36900    27000      9900  73.0   \n",
       "\n",
       "       잔여포인트  \n",
       "0         96  \n",
       "1        130  \n",
       "2         96  \n",
       "3        130  \n",
       "4         96  \n",
       "...      ...  \n",
       "20406    160  \n",
       "20407    161  \n",
       "20408     96  \n",
       "20409    130  \n",
       "20410    130  \n",
       "\n",
       "[20411 rows x 9 columns]"
      ]
     },
     "execution_count": 55,
     "metadata": {},
     "output_type": "execute_result"
    }
   ],
   "source": [
    "x_data"
   ]
  },
  {
   "cell_type": "code",
   "execution_count": 56,
   "metadata": {
    "ExecuteTime": {
     "end_time": "2022-09-15T12:01:30.733122Z",
     "start_time": "2022-09-15T12:01:30.642854Z"
    }
   },
   "outputs": [
    {
     "data": {
      "text/html": [
       "<div>\n",
       "<style scoped>\n",
       "    .dataframe tbody tr th:only-of-type {\n",
       "        vertical-align: middle;\n",
       "    }\n",
       "\n",
       "    .dataframe tbody tr th {\n",
       "        vertical-align: top;\n",
       "    }\n",
       "\n",
       "    .dataframe thead th {\n",
       "        text-align: right;\n",
       "    }\n",
       "</style>\n",
       "<table border=\"1\" class=\"dataframe\">\n",
       "  <thead>\n",
       "    <tr style=\"text-align: right;\">\n",
       "      <th></th>\n",
       "      <th>index</th>\n",
       "      <th>상담횟수</th>\n",
       "      <th>총구매횟수</th>\n",
       "      <th>총구매수량</th>\n",
       "      <th>총구매금액</th>\n",
       "      <th>총할인금액</th>\n",
       "      <th>최종결제금액</th>\n",
       "      <th>할인율</th>\n",
       "      <th>잔여포인트</th>\n",
       "      <th>거주지_강원도</th>\n",
       "      <th>...</th>\n",
       "      <th>상품코드_71013</th>\n",
       "      <th>상품코드_72011</th>\n",
       "      <th>상품코드_89001</th>\n",
       "      <th>상품코드_89002</th>\n",
       "      <th>상품코드_89003</th>\n",
       "      <th>상품코드_90008</th>\n",
       "      <th>상품코드_90009</th>\n",
       "      <th>상품코드_90010</th>\n",
       "      <th>포인트사용여부_0</th>\n",
       "      <th>포인트사용여부_1</th>\n",
       "    </tr>\n",
       "  </thead>\n",
       "  <tbody>\n",
       "    <tr>\n",
       "      <th>0</th>\n",
       "      <td>0</td>\n",
       "      <td>72</td>\n",
       "      <td>24.000000</td>\n",
       "      <td>20</td>\n",
       "      <td>664200</td>\n",
       "      <td>184200</td>\n",
       "      <td>480000</td>\n",
       "      <td>28.0</td>\n",
       "      <td>96</td>\n",
       "      <td>0.0</td>\n",
       "      <td>...</td>\n",
       "      <td>0.0</td>\n",
       "      <td>0.0</td>\n",
       "      <td>0.0</td>\n",
       "      <td>0.0</td>\n",
       "      <td>1.0</td>\n",
       "      <td>0.0</td>\n",
       "      <td>0.0</td>\n",
       "      <td>0.0</td>\n",
       "      <td>1.0</td>\n",
       "      <td>0.0</td>\n",
       "    </tr>\n",
       "    <tr>\n",
       "      <th>1</th>\n",
       "      <td>1</td>\n",
       "      <td>24</td>\n",
       "      <td>19.775269</td>\n",
       "      <td>56</td>\n",
       "      <td>1771200</td>\n",
       "      <td>331200</td>\n",
       "      <td>1440000</td>\n",
       "      <td>19.0</td>\n",
       "      <td>130</td>\n",
       "      <td>0.0</td>\n",
       "      <td>...</td>\n",
       "      <td>0.0</td>\n",
       "      <td>0.0</td>\n",
       "      <td>0.0</td>\n",
       "      <td>0.0</td>\n",
       "      <td>1.0</td>\n",
       "      <td>0.0</td>\n",
       "      <td>0.0</td>\n",
       "      <td>0.0</td>\n",
       "      <td>0.0</td>\n",
       "      <td>1.0</td>\n",
       "    </tr>\n",
       "    <tr>\n",
       "      <th>2</th>\n",
       "      <td>2</td>\n",
       "      <td>684</td>\n",
       "      <td>1044.000000</td>\n",
       "      <td>420</td>\n",
       "      <td>15055200</td>\n",
       "      <td>3055200</td>\n",
       "      <td>12000000</td>\n",
       "      <td>20.0</td>\n",
       "      <td>96</td>\n",
       "      <td>0.0</td>\n",
       "      <td>...</td>\n",
       "      <td>0.0</td>\n",
       "      <td>0.0</td>\n",
       "      <td>0.0</td>\n",
       "      <td>0.0</td>\n",
       "      <td>1.0</td>\n",
       "      <td>0.0</td>\n",
       "      <td>0.0</td>\n",
       "      <td>0.0</td>\n",
       "      <td>1.0</td>\n",
       "      <td>0.0</td>\n",
       "    </tr>\n",
       "    <tr>\n",
       "      <th>3</th>\n",
       "      <td>3</td>\n",
       "      <td>15</td>\n",
       "      <td>19.775269</td>\n",
       "      <td>12</td>\n",
       "      <td>332100</td>\n",
       "      <td>152100</td>\n",
       "      <td>180000</td>\n",
       "      <td>46.0</td>\n",
       "      <td>130</td>\n",
       "      <td>0.0</td>\n",
       "      <td>...</td>\n",
       "      <td>0.0</td>\n",
       "      <td>0.0</td>\n",
       "      <td>0.0</td>\n",
       "      <td>0.0</td>\n",
       "      <td>1.0</td>\n",
       "      <td>0.0</td>\n",
       "      <td>0.0</td>\n",
       "      <td>0.0</td>\n",
       "      <td>1.0</td>\n",
       "      <td>0.0</td>\n",
       "    </tr>\n",
       "    <tr>\n",
       "      <th>4</th>\n",
       "      <td>4</td>\n",
       "      <td>10</td>\n",
       "      <td>19.775269</td>\n",
       "      <td>8</td>\n",
       "      <td>221400</td>\n",
       "      <td>101400</td>\n",
       "      <td>120000</td>\n",
       "      <td>46.0</td>\n",
       "      <td>96</td>\n",
       "      <td>0.0</td>\n",
       "      <td>...</td>\n",
       "      <td>0.0</td>\n",
       "      <td>0.0</td>\n",
       "      <td>0.0</td>\n",
       "      <td>1.0</td>\n",
       "      <td>0.0</td>\n",
       "      <td>0.0</td>\n",
       "      <td>0.0</td>\n",
       "      <td>0.0</td>\n",
       "      <td>1.0</td>\n",
       "      <td>0.0</td>\n",
       "    </tr>\n",
       "    <tr>\n",
       "      <th>...</th>\n",
       "      <td>...</td>\n",
       "      <td>...</td>\n",
       "      <td>...</td>\n",
       "      <td>...</td>\n",
       "      <td>...</td>\n",
       "      <td>...</td>\n",
       "      <td>...</td>\n",
       "      <td>...</td>\n",
       "      <td>...</td>\n",
       "      <td>...</td>\n",
       "      <td>...</td>\n",
       "      <td>...</td>\n",
       "      <td>...</td>\n",
       "      <td>...</td>\n",
       "      <td>...</td>\n",
       "      <td>...</td>\n",
       "      <td>...</td>\n",
       "      <td>...</td>\n",
       "      <td>...</td>\n",
       "      <td>...</td>\n",
       "      <td>...</td>\n",
       "    </tr>\n",
       "    <tr>\n",
       "      <th>20406</th>\n",
       "      <td>24742</td>\n",
       "      <td>1</td>\n",
       "      <td>1.000000</td>\n",
       "      <td>1</td>\n",
       "      <td>36900</td>\n",
       "      <td>27000</td>\n",
       "      <td>9900</td>\n",
       "      <td>73.0</td>\n",
       "      <td>160</td>\n",
       "      <td>0.0</td>\n",
       "      <td>...</td>\n",
       "      <td>0.0</td>\n",
       "      <td>0.0</td>\n",
       "      <td>0.0</td>\n",
       "      <td>0.0</td>\n",
       "      <td>0.0</td>\n",
       "      <td>0.0</td>\n",
       "      <td>0.0</td>\n",
       "      <td>0.0</td>\n",
       "      <td>1.0</td>\n",
       "      <td>0.0</td>\n",
       "    </tr>\n",
       "    <tr>\n",
       "      <th>20407</th>\n",
       "      <td>24743</td>\n",
       "      <td>1</td>\n",
       "      <td>1.000000</td>\n",
       "      <td>1</td>\n",
       "      <td>36900</td>\n",
       "      <td>27000</td>\n",
       "      <td>9900</td>\n",
       "      <td>73.0</td>\n",
       "      <td>161</td>\n",
       "      <td>0.0</td>\n",
       "      <td>...</td>\n",
       "      <td>0.0</td>\n",
       "      <td>0.0</td>\n",
       "      <td>0.0</td>\n",
       "      <td>0.0</td>\n",
       "      <td>0.0</td>\n",
       "      <td>0.0</td>\n",
       "      <td>0.0</td>\n",
       "      <td>0.0</td>\n",
       "      <td>1.0</td>\n",
       "      <td>0.0</td>\n",
       "    </tr>\n",
       "    <tr>\n",
       "      <th>20408</th>\n",
       "      <td>24744</td>\n",
       "      <td>4</td>\n",
       "      <td>2.000000</td>\n",
       "      <td>7</td>\n",
       "      <td>240300</td>\n",
       "      <td>103300</td>\n",
       "      <td>137000</td>\n",
       "      <td>43.0</td>\n",
       "      <td>96</td>\n",
       "      <td>0.0</td>\n",
       "      <td>...</td>\n",
       "      <td>0.0</td>\n",
       "      <td>0.0</td>\n",
       "      <td>0.0</td>\n",
       "      <td>0.0</td>\n",
       "      <td>0.0</td>\n",
       "      <td>0.0</td>\n",
       "      <td>0.0</td>\n",
       "      <td>0.0</td>\n",
       "      <td>1.0</td>\n",
       "      <td>0.0</td>\n",
       "    </tr>\n",
       "    <tr>\n",
       "      <th>20409</th>\n",
       "      <td>24745</td>\n",
       "      <td>1</td>\n",
       "      <td>1.000000</td>\n",
       "      <td>1</td>\n",
       "      <td>14000</td>\n",
       "      <td>11000</td>\n",
       "      <td>3000</td>\n",
       "      <td>79.0</td>\n",
       "      <td>130</td>\n",
       "      <td>0.0</td>\n",
       "      <td>...</td>\n",
       "      <td>0.0</td>\n",
       "      <td>0.0</td>\n",
       "      <td>0.0</td>\n",
       "      <td>0.0</td>\n",
       "      <td>0.0</td>\n",
       "      <td>0.0</td>\n",
       "      <td>0.0</td>\n",
       "      <td>0.0</td>\n",
       "      <td>1.0</td>\n",
       "      <td>0.0</td>\n",
       "    </tr>\n",
       "    <tr>\n",
       "      <th>20410</th>\n",
       "      <td>24746</td>\n",
       "      <td>1</td>\n",
       "      <td>1.000000</td>\n",
       "      <td>1</td>\n",
       "      <td>36900</td>\n",
       "      <td>27000</td>\n",
       "      <td>9900</td>\n",
       "      <td>73.0</td>\n",
       "      <td>130</td>\n",
       "      <td>0.0</td>\n",
       "      <td>...</td>\n",
       "      <td>0.0</td>\n",
       "      <td>0.0</td>\n",
       "      <td>0.0</td>\n",
       "      <td>0.0</td>\n",
       "      <td>0.0</td>\n",
       "      <td>0.0</td>\n",
       "      <td>0.0</td>\n",
       "      <td>0.0</td>\n",
       "      <td>1.0</td>\n",
       "      <td>0.0</td>\n",
       "    </tr>\n",
       "  </tbody>\n",
       "</table>\n",
       "<p>20411 rows × 105 columns</p>\n",
       "</div>"
      ],
      "text/plain": [
       "       index  상담횟수        총구매횟수  총구매수량     총구매금액    총할인금액    최종결제금액   할인율  \\\n",
       "0          0    72    24.000000     20    664200   184200    480000  28.0   \n",
       "1          1    24    19.775269     56   1771200   331200   1440000  19.0   \n",
       "2          2   684  1044.000000    420  15055200  3055200  12000000  20.0   \n",
       "3          3    15    19.775269     12    332100   152100    180000  46.0   \n",
       "4          4    10    19.775269      8    221400   101400    120000  46.0   \n",
       "...      ...   ...          ...    ...       ...      ...       ...   ...   \n",
       "20406  24742     1     1.000000      1     36900    27000      9900  73.0   \n",
       "20407  24743     1     1.000000      1     36900    27000      9900  73.0   \n",
       "20408  24744     4     2.000000      7    240300   103300    137000  43.0   \n",
       "20409  24745     1     1.000000      1     14000    11000      3000  79.0   \n",
       "20410  24746     1     1.000000      1     36900    27000      9900  73.0   \n",
       "\n",
       "       잔여포인트  거주지_강원도  ...  상품코드_71013  상품코드_72011  상품코드_89001  상품코드_89002  \\\n",
       "0         96      0.0  ...         0.0         0.0         0.0         0.0   \n",
       "1        130      0.0  ...         0.0         0.0         0.0         0.0   \n",
       "2         96      0.0  ...         0.0         0.0         0.0         0.0   \n",
       "3        130      0.0  ...         0.0         0.0         0.0         0.0   \n",
       "4         96      0.0  ...         0.0         0.0         0.0         1.0   \n",
       "...      ...      ...  ...         ...         ...         ...         ...   \n",
       "20406    160      0.0  ...         0.0         0.0         0.0         0.0   \n",
       "20407    161      0.0  ...         0.0         0.0         0.0         0.0   \n",
       "20408     96      0.0  ...         0.0         0.0         0.0         0.0   \n",
       "20409    130      0.0  ...         0.0         0.0         0.0         0.0   \n",
       "20410    130      0.0  ...         0.0         0.0         0.0         0.0   \n",
       "\n",
       "       상품코드_89003  상품코드_90008  상품코드_90009  상품코드_90010  포인트사용여부_0  포인트사용여부_1  \n",
       "0             1.0         0.0         0.0         0.0        1.0        0.0  \n",
       "1             1.0         0.0         0.0         0.0        0.0        1.0  \n",
       "2             1.0         0.0         0.0         0.0        1.0        0.0  \n",
       "3             1.0         0.0         0.0         0.0        1.0        0.0  \n",
       "4             0.0         0.0         0.0         0.0        1.0        0.0  \n",
       "...           ...         ...         ...         ...        ...        ...  \n",
       "20406         0.0         0.0         0.0         0.0        1.0        0.0  \n",
       "20407         0.0         0.0         0.0         0.0        1.0        0.0  \n",
       "20408         0.0         0.0         0.0         0.0        1.0        0.0  \n",
       "20409         0.0         0.0         0.0         0.0        1.0        0.0  \n",
       "20410         0.0         0.0         0.0         0.0        1.0        0.0  \n",
       "\n",
       "[20411 rows x 105 columns]"
      ]
     },
     "execution_count": 56,
     "metadata": {},
     "output_type": "execute_result"
    }
   ],
   "source": [
    "x_data = pd.concat([x_data, x_data_categorical],axis=1)\n",
    "x_data"
   ]
  },
  {
   "cell_type": "markdown",
   "metadata": {},
   "source": [
    "## 연속형 컬럼 Standardization"
   ]
  },
  {
   "cell_type": "code",
   "execution_count": 57,
   "metadata": {
    "ExecuteTime": {
     "end_time": "2022-09-15T12:01:32.988613Z",
     "start_time": "2022-09-15T12:01:32.951682Z"
    }
   },
   "outputs": [],
   "source": [
    "x_data_num = x_data[['상담횟수','총구매횟수', '총구매수량','총구매금액','총할인금액','최종결제금액','할인율','잔여포인트']]"
   ]
  },
  {
   "cell_type": "code",
   "execution_count": 58,
   "metadata": {
    "ExecuteTime": {
     "end_time": "2022-09-15T12:01:34.494086Z",
     "start_time": "2022-09-15T12:01:34.441675Z"
    }
   },
   "outputs": [
    {
     "data": {
      "text/html": [
       "<div>\n",
       "<style scoped>\n",
       "    .dataframe tbody tr th:only-of-type {\n",
       "        vertical-align: middle;\n",
       "    }\n",
       "\n",
       "    .dataframe tbody tr th {\n",
       "        vertical-align: top;\n",
       "    }\n",
       "\n",
       "    .dataframe thead th {\n",
       "        text-align: right;\n",
       "    }\n",
       "</style>\n",
       "<table border=\"1\" class=\"dataframe\">\n",
       "  <thead>\n",
       "    <tr style=\"text-align: right;\">\n",
       "      <th></th>\n",
       "      <th>index</th>\n",
       "      <th>상담횟수</th>\n",
       "      <th>총구매횟수</th>\n",
       "      <th>총구매수량</th>\n",
       "      <th>총구매금액</th>\n",
       "      <th>총할인금액</th>\n",
       "      <th>최종결제금액</th>\n",
       "      <th>할인율</th>\n",
       "      <th>잔여포인트</th>\n",
       "      <th>거주지_강원도</th>\n",
       "      <th>...</th>\n",
       "      <th>상품코드_71013</th>\n",
       "      <th>상품코드_72011</th>\n",
       "      <th>상품코드_89001</th>\n",
       "      <th>상품코드_89002</th>\n",
       "      <th>상품코드_89003</th>\n",
       "      <th>상품코드_90008</th>\n",
       "      <th>상품코드_90009</th>\n",
       "      <th>상품코드_90010</th>\n",
       "      <th>포인트사용여부_0</th>\n",
       "      <th>포인트사용여부_1</th>\n",
       "    </tr>\n",
       "  </thead>\n",
       "  <tbody>\n",
       "    <tr>\n",
       "      <th>0</th>\n",
       "      <td>0</td>\n",
       "      <td>0.342886</td>\n",
       "      <td>0.010505</td>\n",
       "      <td>0.211099</td>\n",
       "      <td>0.286519</td>\n",
       "      <td>0.337180</td>\n",
       "      <td>0.267413</td>\n",
       "      <td>-1.149961</td>\n",
       "      <td>-0.022738</td>\n",
       "      <td>0.0</td>\n",
       "      <td>...</td>\n",
       "      <td>0.0</td>\n",
       "      <td>0.0</td>\n",
       "      <td>0.0</td>\n",
       "      <td>0.0</td>\n",
       "      <td>1.0</td>\n",
       "      <td>0.0</td>\n",
       "      <td>0.0</td>\n",
       "      <td>0.0</td>\n",
       "      <td>1.0</td>\n",
       "      <td>0.0</td>\n",
       "    </tr>\n",
       "    <tr>\n",
       "      <th>1</th>\n",
       "      <td>1</td>\n",
       "      <td>-0.066448</td>\n",
       "      <td>-0.040536</td>\n",
       "      <td>1.444408</td>\n",
       "      <td>1.504277</td>\n",
       "      <td>1.039831</td>\n",
       "      <td>1.619112</td>\n",
       "      <td>-1.497083</td>\n",
       "      <td>0.603617</td>\n",
       "      <td>0.0</td>\n",
       "      <td>...</td>\n",
       "      <td>0.0</td>\n",
       "      <td>0.0</td>\n",
       "      <td>0.0</td>\n",
       "      <td>0.0</td>\n",
       "      <td>1.0</td>\n",
       "      <td>0.0</td>\n",
       "      <td>0.0</td>\n",
       "      <td>0.0</td>\n",
       "      <td>0.0</td>\n",
       "      <td>1.0</td>\n",
       "    </tr>\n",
       "    <tr>\n",
       "      <th>2</th>\n",
       "      <td>2</td>\n",
       "      <td>5.561898</td>\n",
       "      <td>12.333555</td>\n",
       "      <td>13.914533</td>\n",
       "      <td>16.117377</td>\n",
       "      <td>14.060375</td>\n",
       "      <td>16.487803</td>\n",
       "      <td>-1.458514</td>\n",
       "      <td>-0.022738</td>\n",
       "      <td>0.0</td>\n",
       "      <td>...</td>\n",
       "      <td>0.0</td>\n",
       "      <td>0.0</td>\n",
       "      <td>0.0</td>\n",
       "      <td>0.0</td>\n",
       "      <td>1.0</td>\n",
       "      <td>0.0</td>\n",
       "      <td>0.0</td>\n",
       "      <td>0.0</td>\n",
       "      <td>1.0</td>\n",
       "      <td>0.0</td>\n",
       "    </tr>\n",
       "    <tr>\n",
       "      <th>3</th>\n",
       "      <td>3</td>\n",
       "      <td>-0.143199</td>\n",
       "      <td>-0.040536</td>\n",
       "      <td>-0.062970</td>\n",
       "      <td>-0.078809</td>\n",
       "      <td>0.183744</td>\n",
       "      <td>-0.154993</td>\n",
       "      <td>-0.455717</td>\n",
       "      <td>0.603617</td>\n",
       "      <td>0.0</td>\n",
       "      <td>...</td>\n",
       "      <td>0.0</td>\n",
       "      <td>0.0</td>\n",
       "      <td>0.0</td>\n",
       "      <td>0.0</td>\n",
       "      <td>1.0</td>\n",
       "      <td>0.0</td>\n",
       "      <td>0.0</td>\n",
       "      <td>0.0</td>\n",
       "      <td>1.0</td>\n",
       "      <td>0.0</td>\n",
       "    </tr>\n",
       "    <tr>\n",
       "      <th>4</th>\n",
       "      <td>4</td>\n",
       "      <td>-0.185838</td>\n",
       "      <td>-0.040536</td>\n",
       "      <td>-0.200004</td>\n",
       "      <td>-0.200585</td>\n",
       "      <td>-0.058598</td>\n",
       "      <td>-0.239474</td>\n",
       "      <td>-0.455717</td>\n",
       "      <td>-0.022738</td>\n",
       "      <td>0.0</td>\n",
       "      <td>...</td>\n",
       "      <td>0.0</td>\n",
       "      <td>0.0</td>\n",
       "      <td>0.0</td>\n",
       "      <td>1.0</td>\n",
       "      <td>0.0</td>\n",
       "      <td>0.0</td>\n",
       "      <td>0.0</td>\n",
       "      <td>0.0</td>\n",
       "      <td>1.0</td>\n",
       "      <td>0.0</td>\n",
       "    </tr>\n",
       "    <tr>\n",
       "      <th>...</th>\n",
       "      <td>...</td>\n",
       "      <td>...</td>\n",
       "      <td>...</td>\n",
       "      <td>...</td>\n",
       "      <td>...</td>\n",
       "      <td>...</td>\n",
       "      <td>...</td>\n",
       "      <td>...</td>\n",
       "      <td>...</td>\n",
       "      <td>...</td>\n",
       "      <td>...</td>\n",
       "      <td>...</td>\n",
       "      <td>...</td>\n",
       "      <td>...</td>\n",
       "      <td>...</td>\n",
       "      <td>...</td>\n",
       "      <td>...</td>\n",
       "      <td>...</td>\n",
       "      <td>...</td>\n",
       "      <td>...</td>\n",
       "      <td>...</td>\n",
       "    </tr>\n",
       "    <tr>\n",
       "      <th>20406</th>\n",
       "      <td>24742</td>\n",
       "      <td>-0.262588</td>\n",
       "      <td>-0.267368</td>\n",
       "      <td>-0.439814</td>\n",
       "      <td>-0.403544</td>\n",
       "      <td>-0.414226</td>\n",
       "      <td>-0.394497</td>\n",
       "      <td>0.585649</td>\n",
       "      <td>1.156284</td>\n",
       "      <td>0.0</td>\n",
       "      <td>...</td>\n",
       "      <td>0.0</td>\n",
       "      <td>0.0</td>\n",
       "      <td>0.0</td>\n",
       "      <td>0.0</td>\n",
       "      <td>0.0</td>\n",
       "      <td>0.0</td>\n",
       "      <td>0.0</td>\n",
       "      <td>0.0</td>\n",
       "      <td>1.0</td>\n",
       "      <td>0.0</td>\n",
       "    </tr>\n",
       "    <tr>\n",
       "      <th>20407</th>\n",
       "      <td>24743</td>\n",
       "      <td>-0.262588</td>\n",
       "      <td>-0.267368</td>\n",
       "      <td>-0.439814</td>\n",
       "      <td>-0.403544</td>\n",
       "      <td>-0.414226</td>\n",
       "      <td>-0.394497</td>\n",
       "      <td>0.585649</td>\n",
       "      <td>1.174706</td>\n",
       "      <td>0.0</td>\n",
       "      <td>...</td>\n",
       "      <td>0.0</td>\n",
       "      <td>0.0</td>\n",
       "      <td>0.0</td>\n",
       "      <td>0.0</td>\n",
       "      <td>0.0</td>\n",
       "      <td>0.0</td>\n",
       "      <td>0.0</td>\n",
       "      <td>0.0</td>\n",
       "      <td>1.0</td>\n",
       "      <td>0.0</td>\n",
       "    </tr>\n",
       "    <tr>\n",
       "      <th>20408</th>\n",
       "      <td>24744</td>\n",
       "      <td>-0.237004</td>\n",
       "      <td>-0.255287</td>\n",
       "      <td>-0.234263</td>\n",
       "      <td>-0.179794</td>\n",
       "      <td>-0.049516</td>\n",
       "      <td>-0.215538</td>\n",
       "      <td>-0.571424</td>\n",
       "      <td>-0.022738</td>\n",
       "      <td>0.0</td>\n",
       "      <td>...</td>\n",
       "      <td>0.0</td>\n",
       "      <td>0.0</td>\n",
       "      <td>0.0</td>\n",
       "      <td>0.0</td>\n",
       "      <td>0.0</td>\n",
       "      <td>0.0</td>\n",
       "      <td>0.0</td>\n",
       "      <td>0.0</td>\n",
       "      <td>1.0</td>\n",
       "      <td>0.0</td>\n",
       "    </tr>\n",
       "    <tr>\n",
       "      <th>20409</th>\n",
       "      <td>24745</td>\n",
       "      <td>-0.262588</td>\n",
       "      <td>-0.267368</td>\n",
       "      <td>-0.439814</td>\n",
       "      <td>-0.428736</td>\n",
       "      <td>-0.490705</td>\n",
       "      <td>-0.404212</td>\n",
       "      <td>0.817064</td>\n",
       "      <td>0.603617</td>\n",
       "      <td>0.0</td>\n",
       "      <td>...</td>\n",
       "      <td>0.0</td>\n",
       "      <td>0.0</td>\n",
       "      <td>0.0</td>\n",
       "      <td>0.0</td>\n",
       "      <td>0.0</td>\n",
       "      <td>0.0</td>\n",
       "      <td>0.0</td>\n",
       "      <td>0.0</td>\n",
       "      <td>1.0</td>\n",
       "      <td>0.0</td>\n",
       "    </tr>\n",
       "    <tr>\n",
       "      <th>20410</th>\n",
       "      <td>24746</td>\n",
       "      <td>-0.262588</td>\n",
       "      <td>-0.267368</td>\n",
       "      <td>-0.439814</td>\n",
       "      <td>-0.403544</td>\n",
       "      <td>-0.414226</td>\n",
       "      <td>-0.394497</td>\n",
       "      <td>0.585649</td>\n",
       "      <td>0.603617</td>\n",
       "      <td>0.0</td>\n",
       "      <td>...</td>\n",
       "      <td>0.0</td>\n",
       "      <td>0.0</td>\n",
       "      <td>0.0</td>\n",
       "      <td>0.0</td>\n",
       "      <td>0.0</td>\n",
       "      <td>0.0</td>\n",
       "      <td>0.0</td>\n",
       "      <td>0.0</td>\n",
       "      <td>1.0</td>\n",
       "      <td>0.0</td>\n",
       "    </tr>\n",
       "  </tbody>\n",
       "</table>\n",
       "<p>20411 rows × 105 columns</p>\n",
       "</div>"
      ],
      "text/plain": [
       "       index      상담횟수      총구매횟수      총구매수량      총구매금액      총할인금액     최종결제금액  \\\n",
       "0          0  0.342886   0.010505   0.211099   0.286519   0.337180   0.267413   \n",
       "1          1 -0.066448  -0.040536   1.444408   1.504277   1.039831   1.619112   \n",
       "2          2  5.561898  12.333555  13.914533  16.117377  14.060375  16.487803   \n",
       "3          3 -0.143199  -0.040536  -0.062970  -0.078809   0.183744  -0.154993   \n",
       "4          4 -0.185838  -0.040536  -0.200004  -0.200585  -0.058598  -0.239474   \n",
       "...      ...       ...        ...        ...        ...        ...        ...   \n",
       "20406  24742 -0.262588  -0.267368  -0.439814  -0.403544  -0.414226  -0.394497   \n",
       "20407  24743 -0.262588  -0.267368  -0.439814  -0.403544  -0.414226  -0.394497   \n",
       "20408  24744 -0.237004  -0.255287  -0.234263  -0.179794  -0.049516  -0.215538   \n",
       "20409  24745 -0.262588  -0.267368  -0.439814  -0.428736  -0.490705  -0.404212   \n",
       "20410  24746 -0.262588  -0.267368  -0.439814  -0.403544  -0.414226  -0.394497   \n",
       "\n",
       "            할인율     잔여포인트  거주지_강원도  ...  상품코드_71013  상품코드_72011  상품코드_89001  \\\n",
       "0     -1.149961 -0.022738      0.0  ...         0.0         0.0         0.0   \n",
       "1     -1.497083  0.603617      0.0  ...         0.0         0.0         0.0   \n",
       "2     -1.458514 -0.022738      0.0  ...         0.0         0.0         0.0   \n",
       "3     -0.455717  0.603617      0.0  ...         0.0         0.0         0.0   \n",
       "4     -0.455717 -0.022738      0.0  ...         0.0         0.0         0.0   \n",
       "...         ...       ...      ...  ...         ...         ...         ...   \n",
       "20406  0.585649  1.156284      0.0  ...         0.0         0.0         0.0   \n",
       "20407  0.585649  1.174706      0.0  ...         0.0         0.0         0.0   \n",
       "20408 -0.571424 -0.022738      0.0  ...         0.0         0.0         0.0   \n",
       "20409  0.817064  0.603617      0.0  ...         0.0         0.0         0.0   \n",
       "20410  0.585649  0.603617      0.0  ...         0.0         0.0         0.0   \n",
       "\n",
       "       상품코드_89002  상품코드_89003  상품코드_90008  상품코드_90009  상품코드_90010  포인트사용여부_0  \\\n",
       "0             0.0         1.0         0.0         0.0         0.0        1.0   \n",
       "1             0.0         1.0         0.0         0.0         0.0        0.0   \n",
       "2             0.0         1.0         0.0         0.0         0.0        1.0   \n",
       "3             0.0         1.0         0.0         0.0         0.0        1.0   \n",
       "4             1.0         0.0         0.0         0.0         0.0        1.0   \n",
       "...           ...         ...         ...         ...         ...        ...   \n",
       "20406         0.0         0.0         0.0         0.0         0.0        1.0   \n",
       "20407         0.0         0.0         0.0         0.0         0.0        1.0   \n",
       "20408         0.0         0.0         0.0         0.0         0.0        1.0   \n",
       "20409         0.0         0.0         0.0         0.0         0.0        1.0   \n",
       "20410         0.0         0.0         0.0         0.0         0.0        1.0   \n",
       "\n",
       "       포인트사용여부_1  \n",
       "0            0.0  \n",
       "1            1.0  \n",
       "2            0.0  \n",
       "3            0.0  \n",
       "4            0.0  \n",
       "...          ...  \n",
       "20406        0.0  \n",
       "20407        0.0  \n",
       "20408        0.0  \n",
       "20409        0.0  \n",
       "20410        0.0  \n",
       "\n",
       "[20411 rows x 105 columns]"
      ]
     },
     "execution_count": 58,
     "metadata": {},
     "output_type": "execute_result"
    }
   ],
   "source": [
    "std_scaler=StandardScaler()\n",
    "x_data_num = pd.DataFrame(std_scaler.fit_transform(x_data_num[['상담횟수','총구매횟수', '총구매수량','총구매금액','총할인금액','최종결제금액','할인율','잔여포인트']]))\n",
    "x_data[['상담횟수','총구매횟수', '총구매수량','총구매금액','총할인금액','최종결제금액','할인율','잔여포인트']] =x_data_num\n",
    "x_data"
   ]
  },
  {
   "cell_type": "code",
   "execution_count": 59,
   "metadata": {
    "ExecuteTime": {
     "end_time": "2022-09-15T12:01:37.302787Z",
     "start_time": "2022-09-15T12:01:36.891163Z"
    }
   },
   "outputs": [
    {
     "data": {
      "text/plain": [
       "<AxesSubplot:>"
      ]
     },
     "execution_count": 59,
     "metadata": {},
     "output_type": "execute_result"
    },
    {
     "data": {
      "image/png": "[encoded data removed]",
      "text/plain": [
       "<Figure size 2160x2160 with 1 Axes>"
      ]
     },
     "metadata": {
      "needs_background": "light"
     },
     "output_type": "display_data"
    }
   ],
   "source": [
    "plt.figure(figsize=(30,30))\n",
    "sns.boxenplot(data=x_data_num)"
   ]
  },
  {
   "cell_type": "markdown",
   "metadata": {},
   "source": [
    "# Train - Test split (비율 7:3 , seed는 0을 적용)"
   ]
  },
  {
   "cell_type": "code",
   "execution_count": 60,
   "metadata": {
    "ExecuteTime": {
     "end_time": "2022-09-15T12:02:10.002757Z",
     "start_time": "2022-09-15T12:02:09.920940Z"
    }
   },
   "outputs": [],
   "source": [
    "x_train, x_test, y_train, y_test =\\\n",
    "model_selection.train_test_split(x_data, y_data, test_size=0.3, random_state=0)"
   ]
  },
  {
   "cell_type": "markdown",
   "metadata": {},
   "source": [
    "# Train the model"
   ]
  },
  {
   "cell_type": "code",
   "execution_count": 61,
   "metadata": {
    "ExecuteTime": {
     "end_time": "2022-09-15T12:02:21.820886Z",
     "start_time": "2022-09-15T12:02:21.813906Z"
    }
   },
   "outputs": [],
   "source": [
    "from sklearn import ensemble\n",
    "from sklearn.metrics import accuracy_score"
   ]
  },
  {
   "cell_type": "code",
   "execution_count": 62,
   "metadata": {
    "ExecuteTime": {
     "end_time": "2022-09-14T01:13:01.930221Z",
     "start_time": "2022-09-14T01:13:01.914210Z"
    }
   },
   "outputs": [],
   "source": [
    "# params = {'n_estimators': 100,\n",
    "#           'max_depth': 4,\n",
    "#           'min_samples_split': 5,           \n",
    "# #          'learning_rate': 0.01,\n",
    "#           'random_state':0}"
   ]
  },
  {
   "cell_type": "markdown",
   "metadata": {},
   "source": [
    "# 앙상블 기본 모델 학습 및 정확도 측정 "
   ]
  },
  {
   "cell_type": "code",
   "execution_count": 63,
   "metadata": {
    "ExecuteTime": {
     "end_time": "2022-09-15T12:03:06.695895Z",
     "start_time": "2022-09-15T12:03:06.371282Z"
    }
   },
   "outputs": [
    {
     "name": "stdout",
     "output_type": "stream",
     "text": [
      "The accuracy score on test set: 0.8859\n"
     ]
    }
   ],
   "source": [
    "clf_RFC = ensemble.RandomForestClassifier()\n",
    "clf_RFC.fit(x_train, y_train)\n",
    "acc = accuracy_score(y_test, clf_RFC.predict(x_test))\n",
    "print(\"The accuracy score on test set: {:.4f}\".format(acc))"
   ]
  },
  {
   "cell_type": "code",
   "execution_count": 64,
   "metadata": {
    "ExecuteTime": {
     "end_time": "2022-09-15T12:03:19.416493Z",
     "start_time": "2022-09-15T12:03:19.230962Z"
    }
   },
   "outputs": [
    {
     "name": "stdout",
     "output_type": "stream",
     "text": [
      "The accuracy score on test set: 0.8697\n"
     ]
    }
   ],
   "source": [
    "clf_DTC = sklearn.tree.DecisionTreeClassifier(random_state=0)\n",
    "clf_DTC.fit(x_train, y_train)\n",
    "acc = accuracy_score(y_test, clf_DTC.predict(x_test))\n",
    "print(\"The accuracy score on test set: {:.4f}\".format(acc))"
   ]
  },
  {
   "cell_type": "markdown",
   "metadata": {},
   "source": [
    "# 부스팅 알고리즘 학습 및 정확도 측정"
   ]
  },
  {
   "cell_type": "code",
   "execution_count": 65,
   "metadata": {
    "ExecuteTime": {
     "end_time": "2022-09-15T12:03:26.338134Z",
     "start_time": "2022-09-15T12:03:26.321180Z"
    }
   },
   "outputs": [],
   "source": [
    "from xgboost import XGBClassifier"
   ]
  },
  {
   "cell_type": "code",
   "execution_count": 66,
   "metadata": {
    "ExecuteTime": {
     "end_time": "2022-09-15T12:03:43.184746Z",
     "start_time": "2022-09-15T12:03:36.613754Z"
    }
   },
   "outputs": [
    {
     "name": "stdout",
     "output_type": "stream",
     "text": [
      "The accuracy score on test set: 0.8841\n"
     ]
    }
   ],
   "source": [
    "clf_XGB = XGBClassifier(random_state=0)\n",
    "clf_XGB.fit(x_train, y_train)\n",
    "acc = accuracy_score(y_test, clf_XGB.predict(x_test))\n",
    "print(\"The accuracy score on test set: {:.4f}\".format(acc))"
   ]
  },
  {
   "cell_type": "code",
   "execution_count": 67,
   "metadata": {
    "ExecuteTime": {
     "end_time": "2022-09-15T12:04:05.717355Z",
     "start_time": "2022-09-15T12:03:57.092211Z"
    }
   },
   "outputs": [
    {
     "name": "stdout",
     "output_type": "stream",
     "text": [
      "The accuracy score on test set: 0.8863\n"
     ]
    }
   ],
   "source": [
    "clf_GB = ensemble.GradientBoostingClassifier()\n",
    "clf_GB.fit(x_train, y_train)\n",
    "acc = accuracy_score(y_test, clf_GB.predict(x_test))\n",
    "print(\"The accuracy score on test set: {:.4f}\".format(acc))"
   ]
  },
  {
   "cell_type": "code",
   "execution_count": 80,
   "metadata": {
    "ExecuteTime": {
     "end_time": "2022-09-15T12:05:02.069889Z",
     "start_time": "2022-09-15T12:05:01.340818Z"
    }
   },
   "outputs": [
    {
     "data": {
      "image/png": "[encoded data removed]",
      "text/plain": [
       "<Figure size 864x432 with 1 Axes>"
      ]
     },
     "metadata": {
      "needs_background": "light"
     },
     "output_type": "display_data"
    }
   ],
   "source": [
    "train_score = np.zeros((clf_GB.n_estimators,), dtype=np.float64)\n",
    "for i, y_pred in enumerate(clf_GB.staged_predict(x_train)):\n",
    "    train_score[i] = accuracy_score(y_train, y_pred)\n",
    "\n",
    "test_score = np.zeros((clf_GB.n_estimators,), dtype=np.float64)\n",
    "for i, y_pred in enumerate(clf_GB.staged_predict(x_test)):\n",
    "    test_score[i] = accuracy_score(y_test, y_pred)\n",
    "    \n",
    "fig = plt.figure(figsize=(12, 6))\n",
    "plt.subplot(1, 1, 1)\n",
    "plt.title('Accuracy') # Binomial deviance loss function for binary classification\n",
    "plt.plot(np.arange(clf_GB.n_estimators) + 1, train_score, 'b-', label='Training Set Accuracy')\n",
    "plt.plot(np.arange(clf_GB.n_estimators) + 1, test_score, 'r-', label='Test Set Accuracy')\n",
    "plt.legend(loc='upper right')\n",
    "plt.xlabel('Boosting Iterations')\n",
    "plt.ylabel('Accuracy')\n",
    "fig.tight_layout()\n",
    "plt.show()"
   ]
  },
  {
   "cell_type": "code",
   "execution_count": 69,
   "metadata": {
    "ExecuteTime": {
     "end_time": "2022-09-15T12:05:32.169799Z",
     "start_time": "2022-09-15T12:05:31.942192Z"
    }
   },
   "outputs": [
    {
     "data": {
      "image/png": "[encoded data removed]",
      "text/plain": [
       "<Figure size 576x432 with 1 Axes>"
      ]
     },
     "metadata": {
      "needs_background": "light"
     },
     "output_type": "display_data"
    }
   ],
   "source": [
    "import seaborn as sns\n",
    "\n",
    "feature_importance_values = clf_XGB.feature_importances_\n",
    "# Top 중요도로 정렬하고, 쉽게 시각화하기 위해 Series 변환\n",
    "feature_importances = pd.Series(feature_importance_values, index=x_train.columns)\n",
    "# 중요도값 순으로 Series를 정렬\n",
    "feature_top5 = feature_importances.sort_values(ascending=False)[:5]\n",
    "\n",
    "plt.figure(figsize=[8, 6])\n",
    "plt.title('Feature Importances Top 5')\n",
    "sns.barplot(x=feature_top5, y=feature_top5.index)\n",
    "plt.show()"
   ]
  },
  {
   "cell_type": "code",
   "execution_count": 70,
   "metadata": {
    "ExecuteTime": {
     "end_time": "2022-09-14T01:13:38.164023Z",
     "start_time": "2022-09-14T01:13:38.154049Z"
    }
   },
   "outputs": [],
   "source": [
    "# x_data.to_excel(\"./x_data.xlsx\")\n",
    "# y_data.to_excel(\"./y_data.xlsx\")"
   ]
  },
  {
   "cell_type": "code",
   "execution_count": 71,
   "metadata": {
    "ExecuteTime": {
     "end_time": "2022-09-15T12:05:46.291661Z",
     "start_time": "2022-09-15T12:05:45.940942Z"
    }
   },
   "outputs": [
    {
     "data": {
      "image/png": "[encoded data removed]",
      "text/plain": [
       "<Figure size 720x720 with 1 Axes>"
      ]
     },
     "metadata": {
      "needs_background": "light"
     },
     "output_type": "display_data"
    }
   ],
   "source": [
    "from sklearn.metrics import roc_curve, auc\n",
    "\n",
    "models=['RFC', 'DTC', 'XGB']\n",
    "\n",
    "\n",
    "plt.figure(figsize=(10, 10))\n",
    "plt.xlim([0.0, 1.0])\n",
    "plt.ylim([0.0, 1.05])\n",
    "plt.xlabel('False Positive Rate')\n",
    "plt.ylabel('True Positive Rate')\n",
    "\n",
    "plt.title(\"ROC curve\")\n",
    "plt.plot([0, 1], [0, 1], color='navy', lw=2, linestyle='--')\n",
    "\n",
    "\n",
    "# Global 변수 (전역 변수)\n",
    "# string으로 변수를 설정하고, 값을 할당의 목적으로 사용\n",
    "\n",
    "for i in models:\n",
    "\n",
    "    globals()['clf_{}_pred'.format(i)] = \\\n",
    "    globals()['clf_{}'.format(i)].predict_proba(x_test)\n",
    "    \n",
    "    globals()['clf_{}_roc'.format(i)]=\\\n",
    "    globals()['clf_{}_pred'.format(i)][:,1]\n",
    "   \n",
    "    globals()['fpr_{}'.format(i)],\\\n",
    "    globals()['tpr_{}'.format(i)], \\\n",
    "    globals()['_{}'.format(i)] \\\n",
    "    =roc_curve(y_true=y_test, y_score=globals()['clf_{}_roc'.format(i)]) \n",
    "    \n",
    "    globals()['roc_auc_{}'.format(i)] = \\\n",
    "    auc(globals()['fpr_{}'.format(i)], globals()['tpr_{}'.format(i)])\n",
    "    \n",
    "    \n",
    "    \n",
    "    plt.plot(globals()['fpr_{}'.format(i)], globals()['tpr_{}'.format(i)]\n",
    "             , lw=2, label=i+'__ROC curve (area = %0.3f)' %globals()['roc_auc_{}'.format(i)])\n",
    "\n",
    "\n",
    "# # Stack model은 S_test data로 진행하므로 따로 정리함.\n",
    "# clf_STACK_pred = clf_STACK_predict_proba(S_test)\n",
    "# clf_STACK_roc = clf_STACK_pred[:,1]\n",
    "# fpr_STACK, tpr_STACK, _STACK = roc_curve(y_true = y_test, y_score = clf_STACK_roc)\n",
    "# roc_auc_STACK = auc(fpr_STACK, tpr_STACK)\n",
    "# plt.plot(fpr_STACK, tpr_STACK, lw=2, label='STACK curve (area = %0.2f)'\\\n",
    "#          % roc_auc_STACK)\n",
    "\n",
    "\n",
    "plt.legend()\n",
    "plt.show()"
   ]
  },
  {
   "cell_type": "code",
   "execution_count": 72,
   "metadata": {
    "ExecuteTime": {
     "end_time": "2022-09-15T12:07:27.925356Z",
     "start_time": "2022-09-15T12:07:27.701942Z"
    }
   },
   "outputs": [
    {
     "name": "stdout",
     "output_type": "stream",
     "text": [
      "              precision    recall  f1-score   support\n",
      "\n",
      "           0       0.93      0.94      0.93      5227\n",
      "           1       0.61      0.57      0.59       897\n",
      "\n",
      "    accuracy                           0.88      6124\n",
      "   macro avg       0.77      0.76      0.76      6124\n",
      "weighted avg       0.88      0.88      0.88      6124\n",
      "\n",
      "Accuracy on Training set: 0.971\n",
      "Accuracy on Test set: 0.884\n"
     ]
    }
   ],
   "source": [
    "from sklearn.metrics import classification_report\n",
    "\n",
    "predictions = clf_XGB.predict(x_test)\n",
    "print(classification_report(y_test, predictions)) # Precision, Recall, F1-score 등을 확인할 수 있습니다.\n",
    "\n",
    "print(\"Accuracy on Training set: {:.3f}\".format(clf_XGB.score(x_train, y_train)))\n",
    "print(\"Accuracy on Test set: {:.3f}\".format(clf_XGB.score(x_test, y_test)))"
   ]
  },
  {
   "cell_type": "code",
   "execution_count": 73,
   "metadata": {
    "ExecuteTime": {
     "end_time": "2022-09-15T12:08:43.063717Z",
     "start_time": "2022-09-15T12:08:42.132089Z"
    }
   },
   "outputs": [
    {
     "data": {
      "image/png": "[encoded data removed]",
      "text/plain": [
       "<Figure size 1440x360 with 6 Axes>"
      ]
     },
     "metadata": {
      "needs_background": "light"
     },
     "output_type": "display_data"
    }
   ],
   "source": [
    "# confusion matrix\n",
    "from sklearn.metrics import confusion_matrix\n",
    "fig, ax = plt.subplots(nrows = 1, ncols = 3, figsize=(20, 5))\n",
    "\n",
    "confu = confusion_matrix(y_true = y_test, y_pred = clf_RFC.predict(x_test))\n",
    "confu2 = confusion_matrix(y_true = y_test, y_pred = clf_DTC.predict(x_test))\n",
    "confu3 = confusion_matrix(y_true = y_test, y_pred = clf_XGB.predict(x_test))\n",
    "\n",
    "\n",
    "sns.heatmap(confu, annot=True, annot_kws={'size':15}, cmap='OrRd', fmt='.10g', ax=ax[0])\n",
    "sns.heatmap(confu2, annot=True, annot_kws={'size':15}, cmap='GnBu', fmt='.10g', ax=ax[1])\n",
    "sns.heatmap(confu3, annot=True, annot_kws={'size':15}, cmap='Greys', fmt='.10g', ax=ax[2])\n",
    "ax[0].set_title('랜덤포레스트',pad = 12, fontsize = 20)\n",
    "ax[1].set_title('디시전트리',pad = 12, fontsize = 20)\n",
    "ax[2].set_title('XGB',pad = 12, fontsize = 20)\n",
    "plt.show()"
   ]
  },
  {
   "cell_type": "code",
   "execution_count": 74,
   "metadata": {
    "ExecuteTime": {
     "end_time": "2022-09-15T12:01:11.505678Z",
     "start_time": "2022-09-15T12:01:10.750535Z"
    }
   },
   "outputs": [
    {
     "data": {
      "text/plain": [
       "Text(0.5, 1.0, '결측치 매트릭스')"
      ]
     },
     "execution_count": 74,
     "metadata": {},
     "output_type": "execute_result"
    },
    {
     "data": {
      "image/png": "[encoded data removed]",
      "text/plain": [
       "<Figure size 1296x576 with 3 Axes>"
      ]
     },
     "metadata": {
      "needs_background": "light"
     },
     "output_type": "display_data"
    }
   ],
   "source": [
    "f, ax = plt.subplots(1,2,figsize=(18,8))\n",
    "msno.heatmap(data_df_temp,ax=ax[0])\n",
    "ax[0].set_title('결측치 히트맵')\n",
    "\n",
    "msno.matrix(data_df_temp,ax=ax[1])\n",
    "ax[1].set_title('결측치 매트릭스')"
   ]
  }
 ],
 "metadata": {
  "kernelspec": {
   "display_name": "Python 3 (ipykernel)",
   "language": "python",
   "name": "python3"
  },
  "language_info": {
   "codemirror_mode": {
    "name": "ipython",
    "version": 3
   },
   "file_extension": ".py",
   "mimetype": "text/x-python",
   "name": "python",
   "nbconvert_exporter": "python",
   "pygments_lexer": "ipython3",
   "version": "3.9.12"
  },
  "toc": {
   "base_numbering": 1,
   "nav_menu": {},
   "number_sections": true,
   "sideBar": true,
   "skip_h1_title": false,
   "title_cell": "Table of Contents",
   "title_sidebar": "Contents",
   "toc_cell": false,
   "toc_position": {},
   "toc_section_display": true,
   "toc_window_display": false
  },
  "varInspector": {
   "cols": {
    "lenName": 16,
    "lenType": 16,
    "lenVar": 40
   },
   "kernels_config": {
    "python": {
     "delete_cmd_postfix": "",
     "delete_cmd_prefix": "del ",
     "library": "var_list.py",
     "varRefreshCmd": "print(var_dic_list())"
    },
    "r": {
     "delete_cmd_postfix": ") ",
     "delete_cmd_prefix": "rm(",
     "library": "var_list.r",
     "varRefreshCmd": "cat(var_dic_list()) "
    }
   },
   "types_to_exclude": [
    "module",
    "function",
    "builtin_function_or_method",
    "instance",
    "_Feature"
   ],
   "window_display": false
  }
 },
 "nbformat": 4,
 "nbformat_minor": 2
}
