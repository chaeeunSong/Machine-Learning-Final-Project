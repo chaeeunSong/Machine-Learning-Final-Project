{
 "cells": [
  {
   "cell_type": "code",
   "execution_count": 1,
   "metadata": {
    "ExecuteTime": {
     "end_time": "2022-09-15T11:33:53.947807Z",
     "start_time": "2022-09-15T11:33:53.933842Z"
    }
   },
   "outputs": [],
   "source": [
    "import copy\n",
    "import datetime\n",
    "import warnings\n",
    "warnings.filterwarnings(action='ignore') \n",
    "\n",
    "import pandas as pd\n",
    "import numpy as np\n",
    "import matplotlib.pyplot as plt\n",
    "\n",
    "from matplotlib import font_manager, rc\n",
    "font_path = \"C:/Windows/Fonts/NGULIM.TTF\"\n",
    "font = font_manager.FontProperties(fname=font_path).get_name()\n",
    "rc('font', family=font)\n",
    "\n",
    "# 시각화\n",
    "import seaborn as sns\n",
    "# 결측치\n",
    "import missingno as msno\n",
    "\n",
    "import sklearn\n",
    "from sklearn.preprocessing import StandardScaler, OneHotEncoder\n",
    "from sklearn import model_selection, linear_model\n",
    "from sklearn.metrics import auc\n",
    "\n",
    "# 파이프라인\n",
    "from sklearn.compose import ColumnTransformer\n",
    "from sklearn.pipeline import Pipeline"
   ]
  },
  {
   "cell_type": "markdown",
   "metadata": {},
   "source": [
    "# 데이터 불러오기"
   ]
  },
  {
   "cell_type": "code",
   "execution_count": 2,
   "metadata": {
    "ExecuteTime": {
     "end_time": "2022-09-15T11:34:02.242528Z",
     "start_time": "2022-09-15T11:33:55.532258Z"
    }
   },
   "outputs": [
    {
     "data": {
      "text/html": [
       "<div>\n",
       "<style scoped>\n",
       "    .dataframe tbody tr th:only-of-type {\n",
       "        vertical-align: middle;\n",
       "    }\n",
       "\n",
       "    .dataframe tbody tr th {\n",
       "        vertical-align: top;\n",
       "    }\n",
       "\n",
       "    .dataframe thead th {\n",
       "        text-align: right;\n",
       "    }\n",
       "</style>\n",
       "<table border=\"1\" class=\"dataframe\">\n",
       "  <thead>\n",
       "    <tr style=\"text-align: right;\">\n",
       "      <th></th>\n",
       "      <th>고객번호</th>\n",
       "      <th>거주지</th>\n",
       "      <th>연령</th>\n",
       "      <th>가입경로</th>\n",
       "      <th>담당사원</th>\n",
       "      <th>prdCode</th>\n",
       "      <th>상담횟수</th>\n",
       "      <th>총구매횟수</th>\n",
       "      <th>총구매수량</th>\n",
       "      <th>총구매금액</th>\n",
       "      <th>총할인금액</th>\n",
       "      <th>최종결제금액</th>\n",
       "      <th>할인율</th>\n",
       "      <th>사용포인트</th>\n",
       "      <th>포인트사용여부</th>\n",
       "      <th>잔여포인트</th>\n",
       "      <th>재구매여부</th>\n",
       "    </tr>\n",
       "  </thead>\n",
       "  <tbody>\n",
       "    <tr>\n",
       "      <th>0</th>\n",
       "      <td>11454</td>\n",
       "      <td>대구광역시</td>\n",
       "      <td>1979-06-15 00:00:00</td>\n",
       "      <td>M</td>\n",
       "      <td>박애신</td>\n",
       "      <td>89003</td>\n",
       "      <td>72</td>\n",
       "      <td>24.0</td>\n",
       "      <td>20</td>\n",
       "      <td>664200</td>\n",
       "      <td>184200</td>\n",
       "      <td>480000</td>\n",
       "      <td>28.0</td>\n",
       "      <td>0.0</td>\n",
       "      <td>0</td>\n",
       "      <td>96</td>\n",
       "      <td>0</td>\n",
       "    </tr>\n",
       "    <tr>\n",
       "      <th>1</th>\n",
       "      <td>14506</td>\n",
       "      <td>경기도</td>\n",
       "      <td>1986-09-11 00:00:00</td>\n",
       "      <td>M</td>\n",
       "      <td>전우영</td>\n",
       "      <td>89003</td>\n",
       "      <td>24</td>\n",
       "      <td>NaN</td>\n",
       "      <td>56</td>\n",
       "      <td>1771200</td>\n",
       "      <td>331200</td>\n",
       "      <td>1440000</td>\n",
       "      <td>19.0</td>\n",
       "      <td>120000.0</td>\n",
       "      <td>1</td>\n",
       "      <td>130</td>\n",
       "      <td>0</td>\n",
       "    </tr>\n",
       "    <tr>\n",
       "      <th>2</th>\n",
       "      <td>83078</td>\n",
       "      <td>충청남도</td>\n",
       "      <td>1111-11-11</td>\n",
       "      <td>M</td>\n",
       "      <td>박애신</td>\n",
       "      <td>89003</td>\n",
       "      <td>684</td>\n",
       "      <td>1044.0</td>\n",
       "      <td>420</td>\n",
       "      <td>15055200</td>\n",
       "      <td>3055200</td>\n",
       "      <td>12000000</td>\n",
       "      <td>20.0</td>\n",
       "      <td>0.0</td>\n",
       "      <td>0</td>\n",
       "      <td>96</td>\n",
       "      <td>0</td>\n",
       "    </tr>\n",
       "  </tbody>\n",
       "</table>\n",
       "</div>"
      ],
      "text/plain": [
       "    고객번호    거주지                   연령 가입경로 담당사원  prdCode  상담횟수   총구매횟수  총구매수량  \\\n",
       "0  11454  대구광역시  1979-06-15 00:00:00    M  박애신    89003    72    24.0     20   \n",
       "1  14506    경기도  1986-09-11 00:00:00    M  전우영    89003    24     NaN     56   \n",
       "2  83078   충청남도           1111-11-11    M  박애신    89003   684  1044.0    420   \n",
       "\n",
       "      총구매금액    총할인금액    최종결제금액   할인율     사용포인트  포인트사용여부  잔여포인트  재구매여부  \n",
       "0    664200   184200    480000  28.0       0.0        0     96      0  \n",
       "1   1771200   331200   1440000  19.0  120000.0        1    130      0  \n",
       "2  15055200  3055200  12000000  20.0       0.0        0     96      0  "
      ]
     },
     "execution_count": 2,
     "metadata": {},
     "output_type": "execute_result"
    }
   ],
   "source": [
    "data_df = pd.read_excel('2.all_data(전처리전_피쳐추출).xls')\n",
    "data_df.head(3)"
   ]
  },
  {
   "cell_type": "markdown",
   "metadata": {},
   "source": [
    "# 데이터 탐색"
   ]
  },
  {
   "cell_type": "code",
   "execution_count": 3,
   "metadata": {
    "ExecuteTime": {
     "end_time": "2022-09-15T11:34:04.411360Z",
     "start_time": "2022-09-15T11:34:04.381432Z"
    }
   },
   "outputs": [
    {
     "name": "stdout",
     "output_type": "stream",
     "text": [
      "<class 'pandas.core.frame.DataFrame'>\n",
      "RangeIndex: 24801 entries, 0 to 24800\n",
      "Data columns (total 17 columns):\n",
      " #   Column   Non-Null Count  Dtype  \n",
      "---  ------   --------------  -----  \n",
      " 0   고객번호     24801 non-null  int64  \n",
      " 1   거주지      24777 non-null  object \n",
      " 2   연령       22199 non-null  object \n",
      " 3   가입경로     24801 non-null  object \n",
      " 4   담당사원     24283 non-null  object \n",
      " 5   prdCode  24801 non-null  int64  \n",
      " 6   상담횟수     24801 non-null  int64  \n",
      " 7   총구매횟수    18155 non-null  float64\n",
      " 8   총구매수량    24801 non-null  int64  \n",
      " 9   총구매금액    24801 non-null  int64  \n",
      " 10  총할인금액    24801 non-null  int64  \n",
      " 11  최종결제금액   24801 non-null  int64  \n",
      " 12  할인율      24799 non-null  float64\n",
      " 13  사용포인트    24408 non-null  float64\n",
      " 14  포인트사용여부  24801 non-null  int64  \n",
      " 15  잔여포인트    24801 non-null  int64  \n",
      " 16  재구매여부    24801 non-null  int64  \n",
      "dtypes: float64(3), int64(10), object(4)\n",
      "memory usage: 3.2+ MB\n"
     ]
    }
   ],
   "source": [
    "## 주소, 나이, 담당직원, 총구매 횟수 결측치 존재 확인\n",
    "data_df.info()"
   ]
  },
  {
   "cell_type": "code",
   "execution_count": 4,
   "metadata": {
    "ExecuteTime": {
     "end_time": "2022-09-15T11:34:06.827815Z",
     "start_time": "2022-09-15T11:34:06.533040Z"
    }
   },
   "outputs": [
    {
     "data": {
      "image/png": "[encoded data removed]",
      "text/plain": [
       "<Figure size 1296x576 with 2 Axes>"
      ]
     },
     "metadata": {
      "needs_background": "light"
     },
     "output_type": "display_data"
    }
   ],
   "source": [
    "f, ax = plt.subplots(1,2,figsize=(18,8))\n",
    "data_df['재구매여부'].value_counts()\\\n",
    ".plot.pie(explode = [0,0.1], autopct = '%1.1f%%', ax=ax[0])\n",
    "\n",
    "ax[0].set_title('재구매여부')\n",
    "ax[0].set_ylabel('')\n",
    "\n",
    "sns.countplot('재구매여부', data = data_df, ax = ax[1])\n",
    "ax[1].set_title('재구매여부')\n",
    "plt.show()"
   ]
  },
  {
   "cell_type": "code",
   "execution_count": 5,
   "metadata": {
    "ExecuteTime": {
     "end_time": "2022-09-15T11:34:09.571791Z",
     "start_time": "2022-09-15T11:34:08.601369Z"
    }
   },
   "outputs": [
    {
     "data": {
      "text/plain": [
       "Text(0.5, 1.0, '결측치 매트릭스')"
      ]
     },
     "execution_count": 5,
     "metadata": {},
     "output_type": "execute_result"
    },
    {
     "data": {
      "image/png": "[encoded data removed]",
      "text/plain": [
       "<Figure size 1296x576 with 3 Axes>"
      ]
     },
     "metadata": {
      "needs_background": "light"
     },
     "output_type": "display_data"
    }
   ],
   "source": [
    "f, ax = plt.subplots(1,2,figsize=(18,8))\n",
    "msno.heatmap(data_df,ax=ax[0])\n",
    "ax[0].set_title('결측치 히트맵')\n",
    "\n",
    "msno.matrix(data_df,ax=ax[1])\n",
    "ax[1].set_title('결측치 매트릭스')"
   ]
  },
  {
   "cell_type": "code",
   "execution_count": 7,
   "metadata": {
    "ExecuteTime": {
     "end_time": "2022-09-15T11:34:11.505922Z",
     "start_time": "2022-09-15T11:34:11.481988Z"
    },
    "scrolled": false
   },
   "outputs": [
    {
     "name": "stdout",
     "output_type": "stream",
     "text": [
      "박애신      6225\n",
      "전우영      5885\n",
      "김필남      5129\n",
      "정유경      3500\n",
      "이선영      2294\n",
      "마케팅1팀    1085\n",
      "김영애        51\n",
      "김연화        45\n",
      "한나경        35\n",
      "윤슬기        33\n",
      "최고관리자       1\n",
      "Name: 담당사원, dtype: int64\n",
      "===================================\n",
      "경기도        6949\n",
      "서울특별시      3108\n",
      "경상남도       1672\n",
      "인천광역시      1593\n",
      "부산광역시      1554\n",
      "경상북도       1466\n",
      "대구광역시      1354\n",
      "충청남도       1157\n",
      "충청북도        848\n",
      "전라북도        819\n",
      "전라남도        812\n",
      "대전광역시       796\n",
      "광주광역시       771\n",
      "울산광역시       683\n",
      "강원도         637\n",
      "제주특별자치도     301\n",
      "세종특별자치시     228\n",
      "없음           29\n",
      "Name: 거주지, dtype: int64\n",
      "===================================\n",
      "H     11373\n",
      "E      4550\n",
      "F      3117\n",
      "O      2664\n",
      "Y       730\n",
      "A       429\n",
      "P       302\n",
      "V       279\n",
      "R       256\n",
      "I       146\n",
      "Q       145\n",
      "M       133\n",
      "N        95\n",
      "T        81\n",
      "U        78\n",
      "D        71\n",
      "K        67\n",
      "B        62\n",
      "G        50\n",
      "C        48\n",
      "L        48\n",
      "W        23\n",
      "AA       20\n",
      "J        12\n",
      "DD       10\n",
      "X         9\n",
      "CC        3\n",
      "Name: 가입경로, dtype: int64\n",
      "===================================\n"
     ]
    },
    {
     "ename": "KeyError",
     "evalue": "'체험상품'",
     "output_type": "error",
     "traceback": [
      "\u001b[1;31m---------------------------------------------------------------------------\u001b[0m",
      "\u001b[1;31mKeyError\u001b[0m                                  Traceback (most recent call last)",
      "File \u001b[1;32m~\\anaconda3\\lib\\site-packages\\pandas\\core\\indexes\\base.py:3621\u001b[0m, in \u001b[0;36mIndex.get_loc\u001b[1;34m(self, key, method, tolerance)\u001b[0m\n\u001b[0;32m   3620\u001b[0m \u001b[38;5;28;01mtry\u001b[39;00m:\n\u001b[1;32m-> 3621\u001b[0m     \u001b[38;5;28;01mreturn\u001b[39;00m \u001b[38;5;28;43mself\u001b[39;49m\u001b[38;5;241;43m.\u001b[39;49m\u001b[43m_engine\u001b[49m\u001b[38;5;241;43m.\u001b[39;49m\u001b[43mget_loc\u001b[49m\u001b[43m(\u001b[49m\u001b[43mcasted_key\u001b[49m\u001b[43m)\u001b[49m\n\u001b[0;32m   3622\u001b[0m \u001b[38;5;28;01mexcept\u001b[39;00m \u001b[38;5;167;01mKeyError\u001b[39;00m \u001b[38;5;28;01mas\u001b[39;00m err:\n",
      "File \u001b[1;32m~\\anaconda3\\lib\\site-packages\\pandas\\_libs\\index.pyx:136\u001b[0m, in \u001b[0;36mpandas._libs.index.IndexEngine.get_loc\u001b[1;34m()\u001b[0m\n",
      "File \u001b[1;32m~\\anaconda3\\lib\\site-packages\\pandas\\_libs\\index.pyx:163\u001b[0m, in \u001b[0;36mpandas._libs.index.IndexEngine.get_loc\u001b[1;34m()\u001b[0m\n",
      "File \u001b[1;32mpandas\\_libs\\hashtable_class_helper.pxi:5198\u001b[0m, in \u001b[0;36mpandas._libs.hashtable.PyObjectHashTable.get_item\u001b[1;34m()\u001b[0m\n",
      "File \u001b[1;32mpandas\\_libs\\hashtable_class_helper.pxi:5206\u001b[0m, in \u001b[0;36mpandas._libs.hashtable.PyObjectHashTable.get_item\u001b[1;34m()\u001b[0m\n",
      "\u001b[1;31mKeyError\u001b[0m: '체험상품'",
      "\nThe above exception was the direct cause of the following exception:\n",
      "\u001b[1;31mKeyError\u001b[0m                                  Traceback (most recent call last)",
      "Input \u001b[1;32mIn [7]\u001b[0m, in \u001b[0;36m<cell line: 8>\u001b[1;34m()\u001b[0m\n\u001b[0;32m      6\u001b[0m \u001b[38;5;28mprint\u001b[39m(data_df[\u001b[38;5;124m\"\u001b[39m\u001b[38;5;124m가입경로\u001b[39m\u001b[38;5;124m\"\u001b[39m]\u001b[38;5;241m.\u001b[39mvalue_counts())\n\u001b[0;32m      7\u001b[0m \u001b[38;5;28mprint\u001b[39m(\u001b[38;5;124m\"\u001b[39m\u001b[38;5;124m===================================\u001b[39m\u001b[38;5;124m\"\u001b[39m)\n\u001b[1;32m----> 8\u001b[0m \u001b[38;5;28mprint\u001b[39m(\u001b[43mdata_df\u001b[49m\u001b[43m[\u001b[49m\u001b[38;5;124;43m\"\u001b[39;49m\u001b[38;5;124;43m체험상품\u001b[39;49m\u001b[38;5;124;43m\"\u001b[39;49m\u001b[43m]\u001b[49m\u001b[38;5;241m.\u001b[39mvalue_counts())\n\u001b[0;32m      9\u001b[0m \u001b[38;5;28mprint\u001b[39m(\u001b[38;5;124m\"\u001b[39m\u001b[38;5;124m===================================\u001b[39m\u001b[38;5;124m\"\u001b[39m)\n\u001b[0;32m     10\u001b[0m \u001b[38;5;28mprint\u001b[39m(data_df[\u001b[38;5;124m\"\u001b[39m\u001b[38;5;124m분유코드\u001b[39m\u001b[38;5;124m\"\u001b[39m]\u001b[38;5;241m.\u001b[39mvalue_counts())\n",
      "File \u001b[1;32m~\\anaconda3\\lib\\site-packages\\pandas\\core\\frame.py:3505\u001b[0m, in \u001b[0;36mDataFrame.__getitem__\u001b[1;34m(self, key)\u001b[0m\n\u001b[0;32m   3503\u001b[0m \u001b[38;5;28;01mif\u001b[39;00m \u001b[38;5;28mself\u001b[39m\u001b[38;5;241m.\u001b[39mcolumns\u001b[38;5;241m.\u001b[39mnlevels \u001b[38;5;241m>\u001b[39m \u001b[38;5;241m1\u001b[39m:\n\u001b[0;32m   3504\u001b[0m     \u001b[38;5;28;01mreturn\u001b[39;00m \u001b[38;5;28mself\u001b[39m\u001b[38;5;241m.\u001b[39m_getitem_multilevel(key)\n\u001b[1;32m-> 3505\u001b[0m indexer \u001b[38;5;241m=\u001b[39m \u001b[38;5;28;43mself\u001b[39;49m\u001b[38;5;241;43m.\u001b[39;49m\u001b[43mcolumns\u001b[49m\u001b[38;5;241;43m.\u001b[39;49m\u001b[43mget_loc\u001b[49m\u001b[43m(\u001b[49m\u001b[43mkey\u001b[49m\u001b[43m)\u001b[49m\n\u001b[0;32m   3506\u001b[0m \u001b[38;5;28;01mif\u001b[39;00m is_integer(indexer):\n\u001b[0;32m   3507\u001b[0m     indexer \u001b[38;5;241m=\u001b[39m [indexer]\n",
      "File \u001b[1;32m~\\anaconda3\\lib\\site-packages\\pandas\\core\\indexes\\base.py:3623\u001b[0m, in \u001b[0;36mIndex.get_loc\u001b[1;34m(self, key, method, tolerance)\u001b[0m\n\u001b[0;32m   3621\u001b[0m     \u001b[38;5;28;01mreturn\u001b[39;00m \u001b[38;5;28mself\u001b[39m\u001b[38;5;241m.\u001b[39m_engine\u001b[38;5;241m.\u001b[39mget_loc(casted_key)\n\u001b[0;32m   3622\u001b[0m \u001b[38;5;28;01mexcept\u001b[39;00m \u001b[38;5;167;01mKeyError\u001b[39;00m \u001b[38;5;28;01mas\u001b[39;00m err:\n\u001b[1;32m-> 3623\u001b[0m     \u001b[38;5;28;01mraise\u001b[39;00m \u001b[38;5;167;01mKeyError\u001b[39;00m(key) \u001b[38;5;28;01mfrom\u001b[39;00m \u001b[38;5;21;01merr\u001b[39;00m\n\u001b[0;32m   3624\u001b[0m \u001b[38;5;28;01mexcept\u001b[39;00m \u001b[38;5;167;01mTypeError\u001b[39;00m:\n\u001b[0;32m   3625\u001b[0m     \u001b[38;5;66;03m# If we have a listlike key, _check_indexing_error will raise\u001b[39;00m\n\u001b[0;32m   3626\u001b[0m     \u001b[38;5;66;03m#  InvalidIndexError. Otherwise we fall through and re-raise\u001b[39;00m\n\u001b[0;32m   3627\u001b[0m     \u001b[38;5;66;03m#  the TypeError.\u001b[39;00m\n\u001b[0;32m   3628\u001b[0m     \u001b[38;5;28mself\u001b[39m\u001b[38;5;241m.\u001b[39m_check_indexing_error(key)\n",
      "\u001b[1;31mKeyError\u001b[0m: '체험상품'"
     ]
    }
   ],
   "source": [
    "#범주형 컬럼 vaule_counts\n",
    "print(data_df[\"담당사원\"].value_counts())\n",
    "print(\"===================================\")\n",
    "print(data_df[\"거주지\"].value_counts())\n",
    "print(\"===================================\")\n",
    "print(data_df[\"가입경로\"].value_counts())\n",
    "print(\"===================================\")\n",
    "print(data_df[\"체험상품\"].value_counts())\n",
    "print(\"===================================\")\n",
    "print(data_df[\"분유코드\"].value_counts())\n",
    "print(\"===================================\")"
   ]
  },
  {
   "cell_type": "markdown",
   "metadata": {
    "ExecuteTime": {
     "end_time": "2022-09-13T14:22:19.234661Z",
     "start_time": "2022-09-13T14:22:18.863104Z"
    }
   },
   "source": [
    "# 결측치 핸들링"
   ]
  },
  {
   "cell_type": "markdown",
   "metadata": {},
   "source": [
    "## 주소(지역) 열 <br>\n",
    "전체데이터 24325 행중 24행에 해당 전체데이터의 약 0.2퍼센트 해당 삭제 처리"
   ]
  },
  {
   "cell_type": "code",
   "execution_count": 7,
   "metadata": {
    "ExecuteTime": {
     "end_time": "2022-09-15T11:34:14.487373Z",
     "start_time": "2022-09-15T11:34:14.471414Z"
    }
   },
   "outputs": [
    {
     "data": {
      "text/plain": [
       "회원ID/회원번호    29\n",
       "주소(지역)       29\n",
       "나이/생일        29\n",
       "가입경로         29\n",
       "TM담당직원        0\n",
       "상담횟수         29\n",
       "체험상품         29\n",
       "총구매횟수         0\n",
       "총구매수량        29\n",
       "총구매금액        29\n",
       "구매날짜         29\n",
       "분유코드         29\n",
       "재구매여부        29\n",
       "dtype: int64"
      ]
     },
     "execution_count": 7,
     "metadata": {},
     "output_type": "execute_result"
    }
   ],
   "source": [
    "data_df[data_df[\"주소(지역)\"] == \"없음 없음\"].count()"
   ]
  },
  {
   "cell_type": "code",
   "execution_count": 8,
   "metadata": {
    "ExecuteTime": {
     "end_time": "2022-09-15T11:34:16.242008Z",
     "start_time": "2022-09-15T11:34:16.231034Z"
    }
   },
   "outputs": [
    {
     "data": {
      "text/plain": [
       "회원ID/회원번호    24\n",
       "주소(지역)        0\n",
       "나이/생일        23\n",
       "가입경로         24\n",
       "TM담당직원        5\n",
       "상담횟수         24\n",
       "체험상품         24\n",
       "총구매횟수         0\n",
       "총구매수량        24\n",
       "총구매금액        24\n",
       "구매날짜         24\n",
       "분유코드         24\n",
       "재구매여부        24\n",
       "dtype: int64"
      ]
     },
     "execution_count": 8,
     "metadata": {},
     "output_type": "execute_result"
    }
   ],
   "source": [
    "data_df[data_df[\"주소(지역)\"].isnull()].count()"
   ]
  },
  {
   "cell_type": "code",
   "execution_count": 9,
   "metadata": {
    "ExecuteTime": {
     "end_time": "2022-09-15T11:34:18.170312Z",
     "start_time": "2022-09-15T11:34:18.151332Z"
    }
   },
   "outputs": [],
   "source": [
    "data_df_del_add = data_df[data_df[\"주소(지역)\"] != \"없음 없음\"]"
   ]
  },
  {
   "cell_type": "code",
   "execution_count": 10,
   "metadata": {
    "ExecuteTime": {
     "end_time": "2022-09-15T11:34:19.568955Z",
     "start_time": "2022-09-15T11:34:19.552000Z"
    }
   },
   "outputs": [],
   "source": [
    "data_df_del_add = data_df_del_add[data_df_del_add[\"주소(지역)\"].notnull()]"
   ]
  },
  {
   "cell_type": "code",
   "execution_count": 11,
   "metadata": {
    "ExecuteTime": {
     "end_time": "2022-09-15T11:34:20.783256Z",
     "start_time": "2022-09-15T11:34:20.771289Z"
    }
   },
   "outputs": [
    {
     "data": {
      "text/plain": [
       "False    24272\n",
       "Name: 주소(지역), dtype: int64"
      ]
     },
     "execution_count": 11,
     "metadata": {},
     "output_type": "execute_result"
    }
   ],
   "source": [
    "data_df_del_add[\"주소(지역)\"].isnull().value_counts()"
   ]
  },
  {
   "cell_type": "code",
   "execution_count": 12,
   "metadata": {
    "ExecuteTime": {
     "end_time": "2022-09-15T11:34:22.193896Z",
     "start_time": "2022-09-15T11:34:22.181927Z"
    }
   },
   "outputs": [
    {
     "data": {
      "text/plain": [
       "회원ID/회원번호    0\n",
       "주소(지역)       0\n",
       "나이/생일        0\n",
       "가입경로         0\n",
       "TM담당직원       0\n",
       "상담횟수         0\n",
       "체험상품         0\n",
       "총구매횟수        0\n",
       "총구매수량        0\n",
       "총구매금액        0\n",
       "구매날짜         0\n",
       "분유코드         0\n",
       "재구매여부        0\n",
       "dtype: int64"
      ]
     },
     "execution_count": 12,
     "metadata": {},
     "output_type": "execute_result"
    }
   ],
   "source": [
    "data_df_del_add[data_df_del_add[\"주소(지역)\"]==\"없음 없음\"].count()"
   ]
  },
  {
   "cell_type": "code",
   "execution_count": 13,
   "metadata": {
    "ExecuteTime": {
     "end_time": "2022-09-15T11:34:38.554101Z",
     "start_time": "2022-09-15T11:34:38.521190Z"
    }
   },
   "outputs": [
    {
     "name": "stdout",
     "output_type": "stream",
     "text": [
      "<class 'pandas.core.frame.DataFrame'>\n",
      "Int64Index: 24272 entries, 0 to 24324\n",
      "Data columns (total 13 columns):\n",
      " #   Column     Non-Null Count  Dtype         \n",
      "---  ------     --------------  -----         \n",
      " 0   회원ID/회원번호  24272 non-null  int64         \n",
      " 1   주소(지역)     24272 non-null  object        \n",
      " 2   나이/생일      21662 non-null  object        \n",
      " 3   가입경로       24272 non-null  object        \n",
      " 4   TM담당직원     23799 non-null  object        \n",
      " 5   상담횟수       24272 non-null  int64         \n",
      " 6   체험상품       24272 non-null  int64         \n",
      " 7   총구매횟수      17792 non-null  float64       \n",
      " 8   총구매수량      24272 non-null  int64         \n",
      " 9   총구매금액      24272 non-null  int64         \n",
      " 10  구매날짜       24272 non-null  datetime64[ns]\n",
      " 11  분유코드       24272 non-null  int64         \n",
      " 12  재구매여부      24272 non-null  int64         \n",
      "dtypes: datetime64[ns](1), float64(1), int64(7), object(4)\n",
      "memory usage: 2.6+ MB\n"
     ]
    }
   ],
   "source": [
    "data_df_del_add.info()"
   ]
  },
  {
   "cell_type": "markdown",
   "metadata": {},
   "source": [
    "## 나이/생일 열<br>\n",
    "현재 생년월일로 표현된 컬럼의 밸류를 나이형태로 교체하고, 결측치는 평균값으로 채워준다.<br>\n",
    "나이의 범주가 연속값이므로 나이별 구간화 하여 범주형 카테고리로 변경한다."
   ]
  },
  {
   "cell_type": "markdown",
   "metadata": {},
   "source": [
    "### 나이/생일 열의 평균치 구하기"
   ]
  },
  {
   "cell_type": "code",
   "execution_count": 14,
   "metadata": {
    "ExecuteTime": {
     "end_time": "2022-09-15T11:34:41.267962Z",
     "start_time": "2022-09-15T11:34:41.260981Z"
    }
   },
   "outputs": [],
   "source": [
    "data_df_temp = data_df_del_add.copy()"
   ]
  },
  {
   "cell_type": "code",
   "execution_count": 15,
   "metadata": {
    "ExecuteTime": {
     "end_time": "2022-09-15T11:34:42.652246Z",
     "start_time": "2022-09-15T11:34:42.631271Z"
    }
   },
   "outputs": [
    {
     "data": {
      "text/plain": [
       "False    21662\n",
       "True      2610\n",
       "Name: 나이/생일, dtype: int64"
      ]
     },
     "execution_count": 15,
     "metadata": {},
     "output_type": "execute_result"
    }
   ],
   "source": [
    "#결측치 수 확인\n",
    "data_df_temp[\"나이/생일\"].isnull().value_counts()"
   ]
  },
  {
   "cell_type": "code",
   "execution_count": 16,
   "metadata": {
    "ExecuteTime": {
     "end_time": "2022-09-15T11:34:44.383908Z",
     "start_time": "2022-09-15T11:34:44.341012Z"
    }
   },
   "outputs": [],
   "source": [
    "#나이/생일 열의 평균치를 구하기 위하여 결측,이상치를 제거한 임시 데이터 프래임을 생성한다.\n",
    "data_df_birth = data_df_temp[data_df_temp[\"나이/생일\"].notnull()]\n",
    "data_df_birth = data_df_birth[data_df_birth[\"나이/생일\"]!=0]\n",
    "data_df_birth = data_df_birth[data_df_birth[\"나이/생일\"]!=\"0000-00-00\"]\n",
    "data_df_birth = data_df_birth[data_df_birth[\"나이/생일\"]!=\"1111-11-11\"]\n",
    "data_df_birth = data_df_birth[data_df_birth[\"나이/생일\"]!=\"1700-01-01\"]"
   ]
  },
  {
   "cell_type": "code",
   "execution_count": 17,
   "metadata": {
    "ExecuteTime": {
     "end_time": "2022-09-15T11:56:10.195204Z",
     "start_time": "2022-09-15T11:56:10.161297Z"
    }
   },
   "outputs": [
    {
     "data": {
      "text/html": [
       "<div>\n",
       "<style scoped>\n",
       "    .dataframe tbody tr th:only-of-type {\n",
       "        vertical-align: middle;\n",
       "    }\n",
       "\n",
       "    .dataframe tbody tr th {\n",
       "        vertical-align: top;\n",
       "    }\n",
       "\n",
       "    .dataframe thead th {\n",
       "        text-align: right;\n",
       "    }\n",
       "</style>\n",
       "<table border=\"1\" class=\"dataframe\">\n",
       "  <thead>\n",
       "    <tr style=\"text-align: right;\">\n",
       "      <th></th>\n",
       "      <th>회원ID/회원번호</th>\n",
       "      <th>주소(지역)</th>\n",
       "      <th>나이/생일</th>\n",
       "      <th>가입경로</th>\n",
       "      <th>TM담당직원</th>\n",
       "      <th>상담횟수</th>\n",
       "      <th>체험상품</th>\n",
       "      <th>총구매횟수</th>\n",
       "      <th>총구매수량</th>\n",
       "      <th>총구매금액</th>\n",
       "      <th>구매날짜</th>\n",
       "      <th>분유코드</th>\n",
       "      <th>재구매여부</th>\n",
       "    </tr>\n",
       "  </thead>\n",
       "  <tbody>\n",
       "    <tr>\n",
       "      <th>0</th>\n",
       "      <td>2</td>\n",
       "      <td>광주광역시</td>\n",
       "      <td>1983-07-09 00:00:00</td>\n",
       "      <td>D</td>\n",
       "      <td>정유경</td>\n",
       "      <td>1</td>\n",
       "      <td>35007</td>\n",
       "      <td>1.0</td>\n",
       "      <td>1</td>\n",
       "      <td>3000</td>\n",
       "      <td>2021-09-27 15:05:05</td>\n",
       "      <td>35007</td>\n",
       "      <td>0</td>\n",
       "    </tr>\n",
       "    <tr>\n",
       "      <th>1</th>\n",
       "      <td>138</td>\n",
       "      <td>서울특별시</td>\n",
       "      <td>1984-01-27 00:00:00</td>\n",
       "      <td>H</td>\n",
       "      <td>정유경</td>\n",
       "      <td>0</td>\n",
       "      <td>36002</td>\n",
       "      <td>NaN</td>\n",
       "      <td>6</td>\n",
       "      <td>174000</td>\n",
       "      <td>2019-08-22 14:09:35</td>\n",
       "      <td>36002</td>\n",
       "      <td>0</td>\n",
       "    </tr>\n",
       "    <tr>\n",
       "      <th>2</th>\n",
       "      <td>514</td>\n",
       "      <td>광주광역시</td>\n",
       "      <td>1982-07-10 00:00:00</td>\n",
       "      <td>H</td>\n",
       "      <td>박애신</td>\n",
       "      <td>3</td>\n",
       "      <td>35029</td>\n",
       "      <td>1.0</td>\n",
       "      <td>1</td>\n",
       "      <td>0</td>\n",
       "      <td>2021-06-30 11:46:59</td>\n",
       "      <td>35029</td>\n",
       "      <td>0</td>\n",
       "    </tr>\n",
       "    <tr>\n",
       "      <th>3</th>\n",
       "      <td>1193</td>\n",
       "      <td>광주광역시</td>\n",
       "      <td>1979-08-06 00:00:00</td>\n",
       "      <td>D</td>\n",
       "      <td>정유경</td>\n",
       "      <td>3</td>\n",
       "      <td>35007</td>\n",
       "      <td>1.0</td>\n",
       "      <td>1</td>\n",
       "      <td>3000</td>\n",
       "      <td>2021-01-15 10:16:32</td>\n",
       "      <td>35007</td>\n",
       "      <td>0</td>\n",
       "    </tr>\n",
       "    <tr>\n",
       "      <th>4</th>\n",
       "      <td>1345</td>\n",
       "      <td>광주광역시</td>\n",
       "      <td>1984-09-14 00:00:00</td>\n",
       "      <td>D</td>\n",
       "      <td>정유경</td>\n",
       "      <td>2</td>\n",
       "      <td>35023</td>\n",
       "      <td>1.0</td>\n",
       "      <td>1</td>\n",
       "      <td>3000</td>\n",
       "      <td>2021-08-19 16:27:51</td>\n",
       "      <td>35023</td>\n",
       "      <td>0</td>\n",
       "    </tr>\n",
       "    <tr>\n",
       "      <th>...</th>\n",
       "      <td>...</td>\n",
       "      <td>...</td>\n",
       "      <td>...</td>\n",
       "      <td>...</td>\n",
       "      <td>...</td>\n",
       "      <td>...</td>\n",
       "      <td>...</td>\n",
       "      <td>...</td>\n",
       "      <td>...</td>\n",
       "      <td>...</td>\n",
       "      <td>...</td>\n",
       "      <td>...</td>\n",
       "      <td>...</td>\n",
       "    </tr>\n",
       "    <tr>\n",
       "      <th>21324</th>\n",
       "      <td>344587</td>\n",
       "      <td>인천광역시</td>\n",
       "      <td>2022-08-23 00:00:00</td>\n",
       "      <td>H</td>\n",
       "      <td>박애신</td>\n",
       "      <td>4</td>\n",
       "      <td>35024</td>\n",
       "      <td>4.0</td>\n",
       "      <td>7</td>\n",
       "      <td>123000</td>\n",
       "      <td>2022-08-23 14:31:24</td>\n",
       "      <td>35024</td>\n",
       "      <td>1</td>\n",
       "    </tr>\n",
       "    <tr>\n",
       "      <th>21325</th>\n",
       "      <td>344645</td>\n",
       "      <td>대전광역시</td>\n",
       "      <td>2022-08-24 00:00:00</td>\n",
       "      <td>E</td>\n",
       "      <td>박애신</td>\n",
       "      <td>6</td>\n",
       "      <td>35031</td>\n",
       "      <td>4.0</td>\n",
       "      <td>7</td>\n",
       "      <td>120000</td>\n",
       "      <td>2022-08-24 11:10:06</td>\n",
       "      <td>35031</td>\n",
       "      <td>1</td>\n",
       "    </tr>\n",
       "    <tr>\n",
       "      <th>21326</th>\n",
       "      <td>344734</td>\n",
       "      <td>경상남도</td>\n",
       "      <td>2022-08-26 00:00:00</td>\n",
       "      <td>H</td>\n",
       "      <td>박애신</td>\n",
       "      <td>5</td>\n",
       "      <td>35024</td>\n",
       "      <td>2.0</td>\n",
       "      <td>1</td>\n",
       "      <td>3000</td>\n",
       "      <td>2022-08-26 16:16:29</td>\n",
       "      <td>35024</td>\n",
       "      <td>1</td>\n",
       "    </tr>\n",
       "    <tr>\n",
       "      <th>21327</th>\n",
       "      <td>344746</td>\n",
       "      <td>전라남도</td>\n",
       "      <td>2022-08-26 00:00:00</td>\n",
       "      <td>E</td>\n",
       "      <td>이선영</td>\n",
       "      <td>4</td>\n",
       "      <td>35009</td>\n",
       "      <td>4.0</td>\n",
       "      <td>7</td>\n",
       "      <td>141900</td>\n",
       "      <td>2022-08-26 14:05:03</td>\n",
       "      <td>35009</td>\n",
       "      <td>1</td>\n",
       "    </tr>\n",
       "    <tr>\n",
       "      <th>21328</th>\n",
       "      <td>344906</td>\n",
       "      <td>전라남도</td>\n",
       "      <td>2022-08-30 00:00:00</td>\n",
       "      <td>H</td>\n",
       "      <td>박애신</td>\n",
       "      <td>4</td>\n",
       "      <td>35024</td>\n",
       "      <td>2.0</td>\n",
       "      <td>7</td>\n",
       "      <td>123000</td>\n",
       "      <td>2022-08-30 18:25:10</td>\n",
       "      <td>35024</td>\n",
       "      <td>1</td>\n",
       "    </tr>\n",
       "  </tbody>\n",
       "</table>\n",
       "<p>21329 rows × 13 columns</p>\n",
       "</div>"
      ],
      "text/plain": [
       "       회원ID/회원번호 주소(지역)                나이/생일 가입경로 TM담당직원  상담횟수   체험상품  총구매횟수  \\\n",
       "0              2  광주광역시  1983-07-09 00:00:00    D    정유경     1  35007    1.0   \n",
       "1            138  서울특별시  1984-01-27 00:00:00    H    정유경     0  36002    NaN   \n",
       "2            514  광주광역시  1982-07-10 00:00:00    H    박애신     3  35029    1.0   \n",
       "3           1193  광주광역시  1979-08-06 00:00:00    D    정유경     3  35007    1.0   \n",
       "4           1345  광주광역시  1984-09-14 00:00:00    D    정유경     2  35023    1.0   \n",
       "...          ...    ...                  ...  ...    ...   ...    ...    ...   \n",
       "21324     344587  인천광역시  2022-08-23 00:00:00    H    박애신     4  35024    4.0   \n",
       "21325     344645  대전광역시  2022-08-24 00:00:00    E    박애신     6  35031    4.0   \n",
       "21326     344734   경상남도  2022-08-26 00:00:00    H    박애신     5  35024    2.0   \n",
       "21327     344746   전라남도  2022-08-26 00:00:00    E    이선영     4  35009    4.0   \n",
       "21328     344906   전라남도  2022-08-30 00:00:00    H    박애신     4  35024    2.0   \n",
       "\n",
       "       총구매수량   총구매금액                구매날짜   분유코드  재구매여부  \n",
       "0          1    3000 2021-09-27 15:05:05  35007      0  \n",
       "1          6  174000 2019-08-22 14:09:35  36002      0  \n",
       "2          1       0 2021-06-30 11:46:59  35029      0  \n",
       "3          1    3000 2021-01-15 10:16:32  35007      0  \n",
       "4          1    3000 2021-08-19 16:27:51  35023      0  \n",
       "...      ...     ...                 ...    ...    ...  \n",
       "21324      7  123000 2022-08-23 14:31:24  35024      1  \n",
       "21325      7  120000 2022-08-24 11:10:06  35031      1  \n",
       "21326      1    3000 2022-08-26 16:16:29  35024      1  \n",
       "21327      7  141900 2022-08-26 14:05:03  35009      1  \n",
       "21328      7  123000 2022-08-30 18:25:10  35024      1  \n",
       "\n",
       "[21329 rows x 13 columns]"
      ]
     },
     "execution_count": 17,
     "metadata": {},
     "output_type": "execute_result"
    }
   ],
   "source": [
    "data_df_birth = data_df_birth.reset_index()\n",
    "del data_df_birth[\"index\"]\n",
    "data_df_birth"
   ]
  },
  {
   "cell_type": "code",
   "execution_count": 18,
   "metadata": {
    "ExecuteTime": {
     "end_time": "2022-09-15T11:56:12.426715Z",
     "start_time": "2022-09-15T11:56:12.400788Z"
    }
   },
   "outputs": [
    {
     "name": "stdout",
     "output_type": "stream",
     "text": [
      "<class 'pandas.core.frame.DataFrame'>\n",
      "RangeIndex: 21329 entries, 0 to 21328\n",
      "Data columns (total 13 columns):\n",
      " #   Column     Non-Null Count  Dtype         \n",
      "---  ------     --------------  -----         \n",
      " 0   회원ID/회원번호  21329 non-null  int64         \n",
      " 1   주소(지역)     21329 non-null  object        \n",
      " 2   나이/생일      21329 non-null  object        \n",
      " 3   가입경로       21329 non-null  object        \n",
      " 4   TM담당직원     21032 non-null  object        \n",
      " 5   상담횟수       21329 non-null  int64         \n",
      " 6   체험상품       21329 non-null  int64         \n",
      " 7   총구매횟수      15552 non-null  float64       \n",
      " 8   총구매수량      21329 non-null  int64         \n",
      " 9   총구매금액      21329 non-null  int64         \n",
      " 10  구매날짜       21329 non-null  datetime64[ns]\n",
      " 11  분유코드       21329 non-null  int64         \n",
      " 12  재구매여부      21329 non-null  int64         \n",
      "dtypes: datetime64[ns](1), float64(1), int64(7), object(4)\n",
      "memory usage: 2.1+ MB\n"
     ]
    }
   ],
   "source": [
    "data_df_birth.info()"
   ]
  },
  {
   "cell_type": "code",
   "execution_count": 19,
   "metadata": {
    "ExecuteTime": {
     "end_time": "2022-09-15T11:58:01.242431Z",
     "start_time": "2022-09-15T11:56:14.380701Z"
    }
   },
   "outputs": [],
   "source": [
    "for i, row in data_df_birth.iterrows():\n",
    "    if(type(row[\"나이/생일\"]) == str):\n",
    "        pass\n",
    "    else:\n",
    "        birth_day = (int)(row[\"나이/생일\"].year)\n",
    "        this_year = (int)(datetime.date.today().strftime(\"%Y\"))\n",
    "\n",
    "        age = (this_year - birth_day)+1\n",
    "\n",
    "        row[\"나이/생일\"] = age\n",
    "        data_df_birth.iloc[i] = row"
   ]
  },
  {
   "cell_type": "code",
   "execution_count": 20,
   "metadata": {
    "ExecuteTime": {
     "end_time": "2022-09-15T11:58:07.002955Z",
     "start_time": "2022-09-15T11:58:06.980988Z"
    }
   },
   "outputs": [],
   "source": [
    "#이상치 제거\n",
    "data_df_birth = data_df_birth[data_df_birth[\"나이/생일\"] > 20]\n",
    "data_df_birth = data_df_birth[data_df_birth[\"나이/생일\"] < 80]"
   ]
  },
  {
   "cell_type": "code",
   "execution_count": 21,
   "metadata": {
    "ExecuteTime": {
     "end_time": "2022-09-15T11:58:09.091586Z",
     "start_time": "2022-09-15T11:58:09.082610Z"
    }
   },
   "outputs": [
    {
     "data": {
      "text/plain": [
       "35.22432079035304"
      ]
     },
     "execution_count": 21,
     "metadata": {},
     "output_type": "execute_result"
    }
   ],
   "source": [
    "#나이열 평균 35세로 확인\n",
    "data_df_birth[\"나이/생일\"].mean()"
   ]
  },
  {
   "cell_type": "markdown",
   "metadata": {},
   "source": [
    "### 나이/생일 열 나이 값으로 변환 전, 35세 해당 1988년으로 치환"
   ]
  },
  {
   "cell_type": "code",
   "execution_count": 22,
   "metadata": {
    "ExecuteTime": {
     "end_time": "2022-09-15T11:58:11.174017Z",
     "start_time": "2022-09-15T11:58:11.141105Z"
    }
   },
   "outputs": [
    {
     "data": {
      "text/html": [
       "<div>\n",
       "<style scoped>\n",
       "    .dataframe tbody tr th:only-of-type {\n",
       "        vertical-align: middle;\n",
       "    }\n",
       "\n",
       "    .dataframe tbody tr th {\n",
       "        vertical-align: top;\n",
       "    }\n",
       "\n",
       "    .dataframe thead th {\n",
       "        text-align: right;\n",
       "    }\n",
       "</style>\n",
       "<table border=\"1\" class=\"dataframe\">\n",
       "  <thead>\n",
       "    <tr style=\"text-align: right;\">\n",
       "      <th></th>\n",
       "      <th>회원ID/회원번호</th>\n",
       "      <th>주소(지역)</th>\n",
       "      <th>나이/생일</th>\n",
       "      <th>가입경로</th>\n",
       "      <th>TM담당직원</th>\n",
       "      <th>상담횟수</th>\n",
       "      <th>체험상품</th>\n",
       "      <th>총구매횟수</th>\n",
       "      <th>총구매수량</th>\n",
       "      <th>총구매금액</th>\n",
       "      <th>구매날짜</th>\n",
       "      <th>분유코드</th>\n",
       "      <th>재구매여부</th>\n",
       "    </tr>\n",
       "  </thead>\n",
       "  <tbody>\n",
       "    <tr>\n",
       "      <th>0</th>\n",
       "      <td>2</td>\n",
       "      <td>광주광역시</td>\n",
       "      <td>1983-07-09 00:00:00</td>\n",
       "      <td>D</td>\n",
       "      <td>정유경</td>\n",
       "      <td>1</td>\n",
       "      <td>35007</td>\n",
       "      <td>1.0</td>\n",
       "      <td>1</td>\n",
       "      <td>3000</td>\n",
       "      <td>2021-09-27 15:05:05</td>\n",
       "      <td>35007</td>\n",
       "      <td>0</td>\n",
       "    </tr>\n",
       "    <tr>\n",
       "      <th>1</th>\n",
       "      <td>138</td>\n",
       "      <td>서울특별시</td>\n",
       "      <td>1984-01-27 00:00:00</td>\n",
       "      <td>H</td>\n",
       "      <td>정유경</td>\n",
       "      <td>0</td>\n",
       "      <td>36002</td>\n",
       "      <td>NaN</td>\n",
       "      <td>6</td>\n",
       "      <td>174000</td>\n",
       "      <td>2019-08-22 14:09:35</td>\n",
       "      <td>36002</td>\n",
       "      <td>0</td>\n",
       "    </tr>\n",
       "    <tr>\n",
       "      <th>2</th>\n",
       "      <td>514</td>\n",
       "      <td>광주광역시</td>\n",
       "      <td>1982-07-10 00:00:00</td>\n",
       "      <td>H</td>\n",
       "      <td>박애신</td>\n",
       "      <td>3</td>\n",
       "      <td>35029</td>\n",
       "      <td>1.0</td>\n",
       "      <td>1</td>\n",
       "      <td>0</td>\n",
       "      <td>2021-06-30 11:46:59</td>\n",
       "      <td>35029</td>\n",
       "      <td>0</td>\n",
       "    </tr>\n",
       "    <tr>\n",
       "      <th>3</th>\n",
       "      <td>1193</td>\n",
       "      <td>광주광역시</td>\n",
       "      <td>1979-08-06 00:00:00</td>\n",
       "      <td>D</td>\n",
       "      <td>정유경</td>\n",
       "      <td>3</td>\n",
       "      <td>35007</td>\n",
       "      <td>1.0</td>\n",
       "      <td>1</td>\n",
       "      <td>3000</td>\n",
       "      <td>2021-01-15 10:16:32</td>\n",
       "      <td>35007</td>\n",
       "      <td>0</td>\n",
       "    </tr>\n",
       "    <tr>\n",
       "      <th>4</th>\n",
       "      <td>1345</td>\n",
       "      <td>광주광역시</td>\n",
       "      <td>1984-09-14 00:00:00</td>\n",
       "      <td>D</td>\n",
       "      <td>정유경</td>\n",
       "      <td>2</td>\n",
       "      <td>35023</td>\n",
       "      <td>1.0</td>\n",
       "      <td>1</td>\n",
       "      <td>3000</td>\n",
       "      <td>2021-08-19 16:27:51</td>\n",
       "      <td>35023</td>\n",
       "      <td>0</td>\n",
       "    </tr>\n",
       "    <tr>\n",
       "      <th>...</th>\n",
       "      <td>...</td>\n",
       "      <td>...</td>\n",
       "      <td>...</td>\n",
       "      <td>...</td>\n",
       "      <td>...</td>\n",
       "      <td>...</td>\n",
       "      <td>...</td>\n",
       "      <td>...</td>\n",
       "      <td>...</td>\n",
       "      <td>...</td>\n",
       "      <td>...</td>\n",
       "      <td>...</td>\n",
       "      <td>...</td>\n",
       "    </tr>\n",
       "    <tr>\n",
       "      <th>24267</th>\n",
       "      <td>344885</td>\n",
       "      <td>인천광역시</td>\n",
       "      <td>NaN</td>\n",
       "      <td>H</td>\n",
       "      <td>전우영</td>\n",
       "      <td>2</td>\n",
       "      <td>35023</td>\n",
       "      <td>2.0</td>\n",
       "      <td>1</td>\n",
       "      <td>3000</td>\n",
       "      <td>2022-08-29 17:04:46</td>\n",
       "      <td>35023</td>\n",
       "      <td>1</td>\n",
       "    </tr>\n",
       "    <tr>\n",
       "      <th>24268</th>\n",
       "      <td>344890</td>\n",
       "      <td>경기도</td>\n",
       "      <td>NaN</td>\n",
       "      <td>H</td>\n",
       "      <td>정유경</td>\n",
       "      <td>3</td>\n",
       "      <td>35023</td>\n",
       "      <td>2.0</td>\n",
       "      <td>1</td>\n",
       "      <td>3000</td>\n",
       "      <td>2022-08-29 18:37:30</td>\n",
       "      <td>35023</td>\n",
       "      <td>1</td>\n",
       "    </tr>\n",
       "    <tr>\n",
       "      <th>24269</th>\n",
       "      <td>344906</td>\n",
       "      <td>전라남도</td>\n",
       "      <td>2022-08-30 00:00:00</td>\n",
       "      <td>H</td>\n",
       "      <td>박애신</td>\n",
       "      <td>4</td>\n",
       "      <td>35024</td>\n",
       "      <td>2.0</td>\n",
       "      <td>7</td>\n",
       "      <td>123000</td>\n",
       "      <td>2022-08-30 18:25:10</td>\n",
       "      <td>35024</td>\n",
       "      <td>1</td>\n",
       "    </tr>\n",
       "    <tr>\n",
       "      <th>24270</th>\n",
       "      <td>344924</td>\n",
       "      <td>부산광역시</td>\n",
       "      <td>NaN</td>\n",
       "      <td>H</td>\n",
       "      <td>정유경</td>\n",
       "      <td>4</td>\n",
       "      <td>35023</td>\n",
       "      <td>2.0</td>\n",
       "      <td>1</td>\n",
       "      <td>3000</td>\n",
       "      <td>2022-08-29 17:39:58</td>\n",
       "      <td>35023</td>\n",
       "      <td>1</td>\n",
       "    </tr>\n",
       "    <tr>\n",
       "      <th>24271</th>\n",
       "      <td>346737</td>\n",
       "      <td>경기도</td>\n",
       "      <td>NaN</td>\n",
       "      <td>H</td>\n",
       "      <td>전우영</td>\n",
       "      <td>2</td>\n",
       "      <td>35023</td>\n",
       "      <td>2.0</td>\n",
       "      <td>1</td>\n",
       "      <td>3000</td>\n",
       "      <td>2022-08-30 14:36:37</td>\n",
       "      <td>35023</td>\n",
       "      <td>1</td>\n",
       "    </tr>\n",
       "  </tbody>\n",
       "</table>\n",
       "<p>24272 rows × 13 columns</p>\n",
       "</div>"
      ],
      "text/plain": [
       "       회원ID/회원번호 주소(지역)                나이/생일 가입경로 TM담당직원  상담횟수   체험상품  총구매횟수  \\\n",
       "0              2  광주광역시  1983-07-09 00:00:00    D    정유경     1  35007    1.0   \n",
       "1            138  서울특별시  1984-01-27 00:00:00    H    정유경     0  36002    NaN   \n",
       "2            514  광주광역시  1982-07-10 00:00:00    H    박애신     3  35029    1.0   \n",
       "3           1193  광주광역시  1979-08-06 00:00:00    D    정유경     3  35007    1.0   \n",
       "4           1345  광주광역시  1984-09-14 00:00:00    D    정유경     2  35023    1.0   \n",
       "...          ...    ...                  ...  ...    ...   ...    ...    ...   \n",
       "24267     344885  인천광역시                  NaN    H    전우영     2  35023    2.0   \n",
       "24268     344890    경기도                  NaN    H    정유경     3  35023    2.0   \n",
       "24269     344906   전라남도  2022-08-30 00:00:00    H    박애신     4  35024    2.0   \n",
       "24270     344924  부산광역시                  NaN    H    정유경     4  35023    2.0   \n",
       "24271     346737    경기도                  NaN    H    전우영     2  35023    2.0   \n",
       "\n",
       "       총구매수량   총구매금액                구매날짜   분유코드  재구매여부  \n",
       "0          1    3000 2021-09-27 15:05:05  35007      0  \n",
       "1          6  174000 2019-08-22 14:09:35  36002      0  \n",
       "2          1       0 2021-06-30 11:46:59  35029      0  \n",
       "3          1    3000 2021-01-15 10:16:32  35007      0  \n",
       "4          1    3000 2021-08-19 16:27:51  35023      0  \n",
       "...      ...     ...                 ...    ...    ...  \n",
       "24267      1    3000 2022-08-29 17:04:46  35023      1  \n",
       "24268      1    3000 2022-08-29 18:37:30  35023      1  \n",
       "24269      7  123000 2022-08-30 18:25:10  35024      1  \n",
       "24270      1    3000 2022-08-29 17:39:58  35023      1  \n",
       "24271      1    3000 2022-08-30 14:36:37  35023      1  \n",
       "\n",
       "[24272 rows x 13 columns]"
      ]
     },
     "execution_count": 22,
     "metadata": {},
     "output_type": "execute_result"
    }
   ],
   "source": [
    "data_df_temp = data_df_temp.reset_index()\n",
    "\n",
    "del data_df_temp[\"index\"]\n",
    "\n",
    "data_df_temp"
   ]
  },
  {
   "cell_type": "code",
   "execution_count": 23,
   "metadata": {
    "ExecuteTime": {
     "end_time": "2022-09-15T12:00:30.535355Z",
     "start_time": "2022-09-15T11:58:17.591629Z"
    }
   },
   "outputs": [],
   "source": [
    "for i, row in data_df_temp.iterrows():\n",
    "    if(type(row[\"나이/생일\"]) == str or type(row[\"나이/생일\"]) == int or type(row[\"나이/생일\"]) == float):\n",
    "        row[\"나이/생일\"] = datetime.datetime(1988,1,1)\n",
    "        row[\"나이/생일\"] = row[\"나이/생일\"].year\n",
    "    else:\n",
    "        row[\"나이/생일\"] = row[\"나이/생일\"].year\n",
    "        \n",
    "    birth_day = row[\"나이/생일\"]\n",
    "    this_year = (int)(datetime.date.today().strftime(\"%Y\"))\n",
    "\n",
    "    age = (this_year - birth_day)+1\n",
    "    \n",
    "    if (age < 20 or age > 80):\n",
    "        row[\"나이/생일\"] = 35\n",
    "    else:\n",
    "        row[\"나이/생일\"] = age\n",
    "        \n",
    "        \n",
    "    if row['나이/생일']<=30 :\n",
    "        row[\"나이/생일\"] = 1\n",
    "    elif row['나이/생일']<=40 :\n",
    "        row[\"나이/생일\"] = 2\n",
    "    elif row['나이/생일']<=50 :\n",
    "        row[\"나이/생일\"] = 3\n",
    "    elif row['나이/생일']<=60 :\n",
    "        row[\"나이/생일\"] = 4\n",
    "    elif row['나이/생일']<=70 :\n",
    "        row[\"나이/생일\"] = 5\n",
    "    elif row['나이/생일']<=80 :\n",
    "        row[\"나이/생일\"] = 6\n",
    "    \n",
    "    data_df_temp.iloc[i] =  row"
   ]
  },
  {
   "cell_type": "code",
   "execution_count": 24,
   "metadata": {
    "ExecuteTime": {
     "end_time": "2022-09-15T12:00:51.925785Z",
     "start_time": "2022-09-15T12:00:51.880906Z"
    },
    "scrolled": true
   },
   "outputs": [
    {
     "name": "stdout",
     "output_type": "stream",
     "text": [
      "회원ID/회원번호    0\n",
      "주소(지역)       0\n",
      "나이/생일        0\n",
      "가입경로         0\n",
      "TM담당직원       0\n",
      "상담횟수         0\n",
      "체험상품         0\n",
      "총구매횟수        0\n",
      "총구매수량        0\n",
      "총구매금액        0\n",
      "구매날짜         0\n",
      "분유코드         0\n",
      "재구매여부        0\n",
      "dtype: int64\n",
      "_____________________________________________________\n",
      "회원ID/회원번호    0\n",
      "주소(지역)       0\n",
      "나이/생일        0\n",
      "가입경로         0\n",
      "TM담당직원       0\n",
      "상담횟수         0\n",
      "체험상품         0\n",
      "총구매횟수        0\n",
      "총구매수량        0\n",
      "총구매금액        0\n",
      "구매날짜         0\n",
      "분유코드         0\n",
      "재구매여부        0\n",
      "dtype: int64\n",
      "_____________________________________________________\n",
      "회원ID/회원번호    0\n",
      "주소(지역)       0\n",
      "나이/생일        0\n",
      "가입경로         0\n",
      "TM담당직원       0\n",
      "상담횟수         0\n",
      "체험상품         0\n",
      "총구매횟수        0\n",
      "총구매수량        0\n",
      "총구매금액        0\n",
      "구매날짜         0\n",
      "분유코드         0\n",
      "재구매여부        0\n",
      "dtype: int64\n",
      "_____________________________________________________\n",
      "회원ID/회원번호    0\n",
      "주소(지역)       0\n",
      "나이/생일        0\n",
      "가입경로         0\n",
      "TM담당직원       0\n",
      "상담횟수         0\n",
      "체험상품         0\n",
      "총구매횟수        0\n",
      "총구매수량        0\n",
      "총구매금액        0\n",
      "구매날짜         0\n",
      "분유코드         0\n",
      "재구매여부        0\n",
      "dtype: int64\n",
      "_____________________________________________________\n",
      "회원ID/회원번호    0\n",
      "주소(지역)       0\n",
      "나이/생일        0\n",
      "가입경로         0\n",
      "TM담당직원       0\n",
      "상담횟수         0\n",
      "체험상품         0\n",
      "총구매횟수        0\n",
      "총구매수량        0\n",
      "총구매금액        0\n",
      "구매날짜         0\n",
      "분유코드         0\n",
      "재구매여부        0\n",
      "dtype: int64\n"
     ]
    }
   ],
   "source": [
    "print(data_df_temp[data_df_temp[\"나이/생일\"] == \"0\"].count())\n",
    "print(\"_____________________________________________________\")\n",
    "print(data_df_temp[data_df_temp[\"나이/생일\"]==\"0000-00-00\"].count())\n",
    "print(\"_____________________________________________________\")\n",
    "print(data_df_temp[data_df_temp[\"나이/생일\"]==\"1111-11-11\"].count())\n",
    "print(\"_____________________________________________________\")\n",
    "print(data_df_temp[data_df_temp[\"나이/생일\"]==\"1700-01-01\"].count())\n",
    "print(\"_____________________________________________________\")\n",
    "print(data_df_temp[data_df_temp[\"나이/생일\"].isnull()].count())"
   ]
  },
  {
   "cell_type": "code",
   "execution_count": 25,
   "metadata": {
    "ExecuteTime": {
     "end_time": "2022-09-15T12:00:54.268429Z",
     "start_time": "2022-09-15T12:00:54.241502Z"
    }
   },
   "outputs": [
    {
     "name": "stdout",
     "output_type": "stream",
     "text": [
      "<class 'pandas.core.frame.DataFrame'>\n",
      "RangeIndex: 24272 entries, 0 to 24271\n",
      "Data columns (total 13 columns):\n",
      " #   Column     Non-Null Count  Dtype         \n",
      "---  ------     --------------  -----         \n",
      " 0   회원ID/회원번호  24272 non-null  int64         \n",
      " 1   주소(지역)     24272 non-null  object        \n",
      " 2   나이/생일      24272 non-null  object        \n",
      " 3   가입경로       24272 non-null  object        \n",
      " 4   TM담당직원     23799 non-null  object        \n",
      " 5   상담횟수       24272 non-null  int64         \n",
      " 6   체험상품       24272 non-null  int64         \n",
      " 7   총구매횟수      17792 non-null  float64       \n",
      " 8   총구매수량      24272 non-null  int64         \n",
      " 9   총구매금액      24272 non-null  int64         \n",
      " 10  구매날짜       24272 non-null  datetime64[ns]\n",
      " 11  분유코드       24272 non-null  int64         \n",
      " 12  재구매여부      24272 non-null  int64         \n",
      "dtypes: datetime64[ns](1), float64(1), int64(7), object(4)\n",
      "memory usage: 2.4+ MB\n"
     ]
    }
   ],
   "source": [
    "data_df_temp['나이/생일'].value_counts()\n",
    "data_df_temp.info()"
   ]
  },
  {
   "cell_type": "code",
   "execution_count": 26,
   "metadata": {
    "ExecuteTime": {
     "end_time": "2022-09-15T12:00:55.827780Z",
     "start_time": "2022-09-15T12:00:55.820797Z"
    }
   },
   "outputs": [],
   "source": [
    "data_df_add_age = data_df_temp.copy()"
   ]
  },
  {
   "cell_type": "markdown",
   "metadata": {},
   "source": [
    "## TM담당직원 열 결측치 처리<br>\n",
    "전체 데이터의 512행에 해당하는 데이터 null값 확인 약 2.4퍼센트행에 대한 최빈 값으로 대체"
   ]
  },
  {
   "cell_type": "code",
   "execution_count": 27,
   "metadata": {
    "ExecuteTime": {
     "end_time": "2022-09-15T12:00:57.161707Z",
     "start_time": "2022-09-15T12:00:57.140761Z"
    }
   },
   "outputs": [
    {
     "data": {
      "text/plain": [
       "박애신      6061\n",
       "전우영      5737\n",
       "김필남      5026\n",
       "정유경      3447\n",
       "이선영      2275\n",
       "마케팅1팀    1087\n",
       "김영애        51\n",
       "김연화        45\n",
       "한나경        35\n",
       "윤슬기        34\n",
       "최고관리자       1\n",
       "Name: TM담당직원, dtype: int64"
      ]
     },
     "execution_count": 27,
     "metadata": {},
     "output_type": "execute_result"
    }
   ],
   "source": [
    "data_df_temp[\"TM담당직원\"].value_counts()"
   ]
  },
  {
   "cell_type": "code",
   "execution_count": 28,
   "metadata": {
    "ExecuteTime": {
     "end_time": "2022-09-15T12:00:58.737119Z",
     "start_time": "2022-09-15T12:00:58.723125Z"
    }
   },
   "outputs": [
    {
     "data": {
      "text/plain": [
       "False    23799\n",
       "True       473\n",
       "Name: TM담당직원, dtype: int64"
      ]
     },
     "execution_count": 28,
     "metadata": {},
     "output_type": "execute_result"
    }
   ],
   "source": [
    "data_df_temp[\"TM담당직원\"].isnull().value_counts()"
   ]
  },
  {
   "cell_type": "code",
   "execution_count": 29,
   "metadata": {
    "ExecuteTime": {
     "end_time": "2022-09-15T12:01:00.843923Z",
     "start_time": "2022-09-15T12:01:00.830957Z"
    }
   },
   "outputs": [
    {
     "data": {
      "text/plain": [
       "False    24272\n",
       "Name: TM담당직원, dtype: int64"
      ]
     },
     "execution_count": 29,
     "metadata": {},
     "output_type": "execute_result"
    }
   ],
   "source": [
    "data_df_temp.loc[data_df_temp[\"TM담당직원\"].isnull()==True, \"TM담당직원\" ] = \"박애신\"\n",
    "data_df_temp[\"TM담당직원\"].isnull().value_counts()"
   ]
  },
  {
   "cell_type": "code",
   "execution_count": 30,
   "metadata": {
    "ExecuteTime": {
     "end_time": "2022-09-15T12:01:02.301847Z",
     "start_time": "2022-09-15T12:01:02.291873Z"
    }
   },
   "outputs": [],
   "source": [
    "data_df_add_age_tm = data_df_temp.copy()"
   ]
  },
  {
   "cell_type": "markdown",
   "metadata": {},
   "source": [
    "## 총구매 횟수 열 결측치 평균값으로 대체"
   ]
  },
  {
   "cell_type": "code",
   "execution_count": 31,
   "metadata": {
    "ExecuteTime": {
     "end_time": "2022-09-15T12:01:04.041102Z",
     "start_time": "2022-09-15T12:01:04.031127Z"
    }
   },
   "outputs": [
    {
     "data": {
      "text/plain": [
       "False    17792\n",
       "True      6480\n",
       "Name: 총구매횟수, dtype: int64"
      ]
     },
     "execution_count": 31,
     "metadata": {},
     "output_type": "execute_result"
    }
   ],
   "source": [
    "data_df_temp[\"총구매횟수\"].isnull().value_counts()"
   ]
  },
  {
   "cell_type": "code",
   "execution_count": 32,
   "metadata": {
    "ExecuteTime": {
     "end_time": "2022-09-15T12:01:05.992387Z",
     "start_time": "2022-09-15T12:01:05.980389Z"
    }
   },
   "outputs": [
    {
     "data": {
      "text/plain": [
       "False    24272\n",
       "Name: 총구매횟수, dtype: int64"
      ]
     },
     "execution_count": 32,
     "metadata": {},
     "output_type": "execute_result"
    }
   ],
   "source": [
    "data_df_temp.loc[data_df_temp[\"총구매횟수\"].isnull()==True, \"총구매횟수\" ] = data_df_temp[\"총구매횟수\"].mean()\n",
    "data_df_temp[\"총구매횟수\"].isnull().value_counts()"
   ]
  },
  {
   "cell_type": "code",
   "execution_count": 40,
   "metadata": {},
   "outputs": [
    {
     "data": {
      "text/plain": [
       "14.246290467625082"
      ]
     },
     "execution_count": 40,
     "metadata": {},
     "output_type": "execute_result"
    }
   ],
   "source": [
    "data_df_temp[\"총구매횟수\"].mean()"
   ]
  },
  {
   "cell_type": "code",
   "execution_count": 33,
   "metadata": {
    "ExecuteTime": {
     "end_time": "2022-09-15T12:01:07.241728Z",
     "start_time": "2022-09-15T12:01:07.230757Z"
    }
   },
   "outputs": [],
   "source": [
    "data_df_add_age_tm_totalCnt = data_df_temp.copy()"
   ]
  },
  {
   "cell_type": "code",
   "execution_count": 34,
   "metadata": {
    "ExecuteTime": {
     "end_time": "2022-09-15T12:01:08.910079Z",
     "start_time": "2022-09-15T12:01:08.880161Z"
    }
   },
   "outputs": [
    {
     "name": "stdout",
     "output_type": "stream",
     "text": [
      "<class 'pandas.core.frame.DataFrame'>\n",
      "RangeIndex: 24272 entries, 0 to 24271\n",
      "Data columns (total 13 columns):\n",
      " #   Column     Non-Null Count  Dtype         \n",
      "---  ------     --------------  -----         \n",
      " 0   회원ID/회원번호  24272 non-null  int64         \n",
      " 1   주소(지역)     24272 non-null  object        \n",
      " 2   나이/생일      24272 non-null  object        \n",
      " 3   가입경로       24272 non-null  object        \n",
      " 4   TM담당직원     24272 non-null  object        \n",
      " 5   상담횟수       24272 non-null  int64         \n",
      " 6   체험상품       24272 non-null  int64         \n",
      " 7   총구매횟수      24272 non-null  float64       \n",
      " 8   총구매수량      24272 non-null  int64         \n",
      " 9   총구매금액      24272 non-null  int64         \n",
      " 10  구매날짜       24272 non-null  datetime64[ns]\n",
      " 11  분유코드       24272 non-null  int64         \n",
      " 12  재구매여부      24272 non-null  int64         \n",
      "dtypes: datetime64[ns](1), float64(1), int64(7), object(4)\n",
      "memory usage: 2.4+ MB\n"
     ]
    }
   ],
   "source": [
    "data_df_temp.info()"
   ]
  },
  {
   "cell_type": "code",
   "execution_count": 35,
   "metadata": {
    "ExecuteTime": {
     "end_time": "2022-09-15T12:01:11.505678Z",
     "start_time": "2022-09-15T12:01:10.750535Z"
    }
   },
   "outputs": [
    {
     "data": {
      "text/plain": [
       "Text(0.5, 1.0, '결측치 매트릭스')"
      ]
     },
     "execution_count": 35,
     "metadata": {},
     "output_type": "execute_result"
    },
    {
     "data": {
      "image/png": "[encoded data removed]",
      "text/plain": [
       "<Figure size 1296x576 with 3 Axes>"
      ]
     },
     "metadata": {
      "needs_background": "light"
     },
     "output_type": "display_data"
    }
   ],
   "source": [
    "f, ax = plt.subplots(1,2,figsize=(18,8))\n",
    "msno.heatmap(data_df_temp,ax=ax[0])\n",
    "ax[0].set_title('결측치 히트맵')\n",
    "\n",
    "msno.matrix(data_df_temp,ax=ax[1])\n",
    "ax[1].set_title('결측치 매트릭스')"
   ]
  },
  {
   "cell_type": "markdown",
   "metadata": {},
   "source": [
    "# 학습데이터 와 타겟데이터 분리"
   ]
  },
  {
   "cell_type": "code",
   "execution_count": 36,
   "metadata": {
    "ExecuteTime": {
     "end_time": "2022-09-15T12:01:13.412199Z",
     "start_time": "2022-09-15T12:01:13.392255Z"
    }
   },
   "outputs": [],
   "source": [
    "y_data=data_df_temp[[\"재구매여부\"]].copy()\n",
    "x_data=data_df_temp.copy()\n",
    "del x_data[\"재구매여부\"]\n",
    "del x_data[\"구매날짜\"]"
   ]
  },
  {
   "cell_type": "code",
   "execution_count": 37,
   "metadata": {
    "ExecuteTime": {
     "end_time": "2022-09-15T12:01:14.856713Z",
     "start_time": "2022-09-15T12:01:14.840765Z"
    }
   },
   "outputs": [
    {
     "data": {
      "text/html": [
       "<div>\n",
       "<style scoped>\n",
       "    .dataframe tbody tr th:only-of-type {\n",
       "        vertical-align: middle;\n",
       "    }\n",
       "\n",
       "    .dataframe tbody tr th {\n",
       "        vertical-align: top;\n",
       "    }\n",
       "\n",
       "    .dataframe thead th {\n",
       "        text-align: right;\n",
       "    }\n",
       "</style>\n",
       "<table border=\"1\" class=\"dataframe\">\n",
       "  <thead>\n",
       "    <tr style=\"text-align: right;\">\n",
       "      <th></th>\n",
       "      <th>재구매여부</th>\n",
       "    </tr>\n",
       "  </thead>\n",
       "  <tbody>\n",
       "    <tr>\n",
       "      <th>0</th>\n",
       "      <td>0</td>\n",
       "    </tr>\n",
       "    <tr>\n",
       "      <th>1</th>\n",
       "      <td>0</td>\n",
       "    </tr>\n",
       "    <tr>\n",
       "      <th>2</th>\n",
       "      <td>0</td>\n",
       "    </tr>\n",
       "    <tr>\n",
       "      <th>3</th>\n",
       "      <td>0</td>\n",
       "    </tr>\n",
       "    <tr>\n",
       "      <th>4</th>\n",
       "      <td>0</td>\n",
       "    </tr>\n",
       "    <tr>\n",
       "      <th>...</th>\n",
       "      <td>...</td>\n",
       "    </tr>\n",
       "    <tr>\n",
       "      <th>24267</th>\n",
       "      <td>1</td>\n",
       "    </tr>\n",
       "    <tr>\n",
       "      <th>24268</th>\n",
       "      <td>1</td>\n",
       "    </tr>\n",
       "    <tr>\n",
       "      <th>24269</th>\n",
       "      <td>1</td>\n",
       "    </tr>\n",
       "    <tr>\n",
       "      <th>24270</th>\n",
       "      <td>1</td>\n",
       "    </tr>\n",
       "    <tr>\n",
       "      <th>24271</th>\n",
       "      <td>1</td>\n",
       "    </tr>\n",
       "  </tbody>\n",
       "</table>\n",
       "<p>24272 rows × 1 columns</p>\n",
       "</div>"
      ],
      "text/plain": [
       "       재구매여부\n",
       "0          0\n",
       "1          0\n",
       "2          0\n",
       "3          0\n",
       "4          0\n",
       "...      ...\n",
       "24267      1\n",
       "24268      1\n",
       "24269      1\n",
       "24270      1\n",
       "24271      1\n",
       "\n",
       "[24272 rows x 1 columns]"
      ]
     },
     "execution_count": 37,
     "metadata": {},
     "output_type": "execute_result"
    }
   ],
   "source": [
    "y_data"
   ]
  },
  {
   "cell_type": "code",
   "execution_count": 38,
   "metadata": {
    "ExecuteTime": {
     "end_time": "2022-09-15T12:01:16.894254Z",
     "start_time": "2022-09-15T12:01:16.862311Z"
    }
   },
   "outputs": [
    {
     "data": {
      "text/html": [
       "<div>\n",
       "<style scoped>\n",
       "    .dataframe tbody tr th:only-of-type {\n",
       "        vertical-align: middle;\n",
       "    }\n",
       "\n",
       "    .dataframe tbody tr th {\n",
       "        vertical-align: top;\n",
       "    }\n",
       "\n",
       "    .dataframe thead th {\n",
       "        text-align: right;\n",
       "    }\n",
       "</style>\n",
       "<table border=\"1\" class=\"dataframe\">\n",
       "  <thead>\n",
       "    <tr style=\"text-align: right;\">\n",
       "      <th></th>\n",
       "      <th>회원ID/회원번호</th>\n",
       "      <th>주소(지역)</th>\n",
       "      <th>나이/생일</th>\n",
       "      <th>가입경로</th>\n",
       "      <th>TM담당직원</th>\n",
       "      <th>상담횟수</th>\n",
       "      <th>체험상품</th>\n",
       "      <th>총구매횟수</th>\n",
       "      <th>총구매수량</th>\n",
       "      <th>총구매금액</th>\n",
       "      <th>분유코드</th>\n",
       "    </tr>\n",
       "  </thead>\n",
       "  <tbody>\n",
       "    <tr>\n",
       "      <th>0</th>\n",
       "      <td>2</td>\n",
       "      <td>광주광역시</td>\n",
       "      <td>2</td>\n",
       "      <td>D</td>\n",
       "      <td>정유경</td>\n",
       "      <td>1</td>\n",
       "      <td>35007</td>\n",
       "      <td>1.00000</td>\n",
       "      <td>1</td>\n",
       "      <td>3000</td>\n",
       "      <td>35007</td>\n",
       "    </tr>\n",
       "    <tr>\n",
       "      <th>1</th>\n",
       "      <td>138</td>\n",
       "      <td>서울특별시</td>\n",
       "      <td>2</td>\n",
       "      <td>H</td>\n",
       "      <td>정유경</td>\n",
       "      <td>0</td>\n",
       "      <td>36002</td>\n",
       "      <td>14.24629</td>\n",
       "      <td>6</td>\n",
       "      <td>174000</td>\n",
       "      <td>36002</td>\n",
       "    </tr>\n",
       "    <tr>\n",
       "      <th>2</th>\n",
       "      <td>514</td>\n",
       "      <td>광주광역시</td>\n",
       "      <td>3</td>\n",
       "      <td>H</td>\n",
       "      <td>박애신</td>\n",
       "      <td>3</td>\n",
       "      <td>35029</td>\n",
       "      <td>1.00000</td>\n",
       "      <td>1</td>\n",
       "      <td>0</td>\n",
       "      <td>35029</td>\n",
       "    </tr>\n",
       "    <tr>\n",
       "      <th>3</th>\n",
       "      <td>1193</td>\n",
       "      <td>광주광역시</td>\n",
       "      <td>3</td>\n",
       "      <td>D</td>\n",
       "      <td>정유경</td>\n",
       "      <td>3</td>\n",
       "      <td>35007</td>\n",
       "      <td>1.00000</td>\n",
       "      <td>1</td>\n",
       "      <td>3000</td>\n",
       "      <td>35007</td>\n",
       "    </tr>\n",
       "    <tr>\n",
       "      <th>4</th>\n",
       "      <td>1345</td>\n",
       "      <td>광주광역시</td>\n",
       "      <td>2</td>\n",
       "      <td>D</td>\n",
       "      <td>정유경</td>\n",
       "      <td>2</td>\n",
       "      <td>35023</td>\n",
       "      <td>1.00000</td>\n",
       "      <td>1</td>\n",
       "      <td>3000</td>\n",
       "      <td>35023</td>\n",
       "    </tr>\n",
       "    <tr>\n",
       "      <th>...</th>\n",
       "      <td>...</td>\n",
       "      <td>...</td>\n",
       "      <td>...</td>\n",
       "      <td>...</td>\n",
       "      <td>...</td>\n",
       "      <td>...</td>\n",
       "      <td>...</td>\n",
       "      <td>...</td>\n",
       "      <td>...</td>\n",
       "      <td>...</td>\n",
       "      <td>...</td>\n",
       "    </tr>\n",
       "    <tr>\n",
       "      <th>24267</th>\n",
       "      <td>344885</td>\n",
       "      <td>인천광역시</td>\n",
       "      <td>2</td>\n",
       "      <td>H</td>\n",
       "      <td>전우영</td>\n",
       "      <td>2</td>\n",
       "      <td>35023</td>\n",
       "      <td>2.00000</td>\n",
       "      <td>1</td>\n",
       "      <td>3000</td>\n",
       "      <td>35023</td>\n",
       "    </tr>\n",
       "    <tr>\n",
       "      <th>24268</th>\n",
       "      <td>344890</td>\n",
       "      <td>경기도</td>\n",
       "      <td>2</td>\n",
       "      <td>H</td>\n",
       "      <td>정유경</td>\n",
       "      <td>3</td>\n",
       "      <td>35023</td>\n",
       "      <td>2.00000</td>\n",
       "      <td>1</td>\n",
       "      <td>3000</td>\n",
       "      <td>35023</td>\n",
       "    </tr>\n",
       "    <tr>\n",
       "      <th>24269</th>\n",
       "      <td>344906</td>\n",
       "      <td>전라남도</td>\n",
       "      <td>2</td>\n",
       "      <td>H</td>\n",
       "      <td>박애신</td>\n",
       "      <td>4</td>\n",
       "      <td>35024</td>\n",
       "      <td>2.00000</td>\n",
       "      <td>7</td>\n",
       "      <td>123000</td>\n",
       "      <td>35024</td>\n",
       "    </tr>\n",
       "    <tr>\n",
       "      <th>24270</th>\n",
       "      <td>344924</td>\n",
       "      <td>부산광역시</td>\n",
       "      <td>2</td>\n",
       "      <td>H</td>\n",
       "      <td>정유경</td>\n",
       "      <td>4</td>\n",
       "      <td>35023</td>\n",
       "      <td>2.00000</td>\n",
       "      <td>1</td>\n",
       "      <td>3000</td>\n",
       "      <td>35023</td>\n",
       "    </tr>\n",
       "    <tr>\n",
       "      <th>24271</th>\n",
       "      <td>346737</td>\n",
       "      <td>경기도</td>\n",
       "      <td>2</td>\n",
       "      <td>H</td>\n",
       "      <td>전우영</td>\n",
       "      <td>2</td>\n",
       "      <td>35023</td>\n",
       "      <td>2.00000</td>\n",
       "      <td>1</td>\n",
       "      <td>3000</td>\n",
       "      <td>35023</td>\n",
       "    </tr>\n",
       "  </tbody>\n",
       "</table>\n",
       "<p>24272 rows × 11 columns</p>\n",
       "</div>"
      ],
      "text/plain": [
       "       회원ID/회원번호 주소(지역) 나이/생일 가입경로 TM담당직원  상담횟수   체험상품     총구매횟수  총구매수량  \\\n",
       "0              2  광주광역시     2    D    정유경     1  35007   1.00000      1   \n",
       "1            138  서울특별시     2    H    정유경     0  36002  14.24629      6   \n",
       "2            514  광주광역시     3    H    박애신     3  35029   1.00000      1   \n",
       "3           1193  광주광역시     3    D    정유경     3  35007   1.00000      1   \n",
       "4           1345  광주광역시     2    D    정유경     2  35023   1.00000      1   \n",
       "...          ...    ...   ...  ...    ...   ...    ...       ...    ...   \n",
       "24267     344885  인천광역시     2    H    전우영     2  35023   2.00000      1   \n",
       "24268     344890    경기도     2    H    정유경     3  35023   2.00000      1   \n",
       "24269     344906   전라남도     2    H    박애신     4  35024   2.00000      7   \n",
       "24270     344924  부산광역시     2    H    정유경     4  35023   2.00000      1   \n",
       "24271     346737    경기도     2    H    전우영     2  35023   2.00000      1   \n",
       "\n",
       "        총구매금액   분유코드  \n",
       "0        3000  35007  \n",
       "1      174000  36002  \n",
       "2           0  35029  \n",
       "3        3000  35007  \n",
       "4        3000  35023  \n",
       "...       ...    ...  \n",
       "24267    3000  35023  \n",
       "24268    3000  35023  \n",
       "24269  123000  35024  \n",
       "24270    3000  35023  \n",
       "24271    3000  35023  \n",
       "\n",
       "[24272 rows x 11 columns]"
      ]
     },
     "execution_count": 38,
     "metadata": {},
     "output_type": "execute_result"
    }
   ],
   "source": [
    "x_data"
   ]
  },
  {
   "cell_type": "markdown",
   "metadata": {},
   "source": [
    "# Data Scaling"
   ]
  },
  {
   "cell_type": "markdown",
   "metadata": {},
   "source": [
    "## 범주형컬럼 one-hot encoding"
   ]
  },
  {
   "cell_type": "code",
   "execution_count": 39,
   "metadata": {
    "ExecuteTime": {
     "end_time": "2022-09-15T12:01:20.048888Z",
     "start_time": "2022-09-15T12:01:20.021959Z"
    }
   },
   "outputs": [
    {
     "ename": "NameError",
     "evalue": "name 'x_data_categorical' is not defined",
     "output_type": "error",
     "traceback": [
      "\u001b[1;31m---------------------------------------------------------------------------\u001b[0m",
      "\u001b[1;31mNameError\u001b[0m                                 Traceback (most recent call last)",
      "Input \u001b[1;32mIn [39]\u001b[0m, in \u001b[0;36m<cell line: 1>\u001b[1;34m()\u001b[0m\n\u001b[1;32m----> 1\u001b[0m \u001b[43mx_data_categorical\u001b[49m\n",
      "\u001b[1;31mNameError\u001b[0m: name 'x_data_categorical' is not defined"
     ]
    }
   ],
   "source": [
    "x_data_categorical"
   ]
  },
  {
   "cell_type": "code",
   "execution_count": null,
   "metadata": {
    "ExecuteTime": {
     "end_time": "2022-09-15T12:01:22.614749Z",
     "start_time": "2022-09-15T12:01:22.533875Z"
    }
   },
   "outputs": [],
   "source": [
    "encoder = OneHotEncoder(sparse=False)\n",
    "\n",
    "x_data_categorical = pd.DataFrame(encoder.fit_transform(x_data_categorical[[\"주소(지역)\",\"나이/생일\",\"가입경로\",\"TM담당직원\",\"체험상품\",\"분유코드\"]]))\n",
    "\n",
    "x_data_categorical.columns = encoder.get_feature_names([\"주소(지역)\",\"나이/생일\",\"가입경로\",\"TM담당직원\",\"체험상품\",\"분유코드\"])"
   ]
  },
  {
   "cell_type": "code",
   "execution_count": null,
   "metadata": {
    "ExecuteTime": {
     "end_time": "2022-09-15T12:01:24.181582Z",
     "start_time": "2022-09-15T12:01:24.142687Z"
    }
   },
   "outputs": [],
   "source": [
    "x_data_categorical.head()"
   ]
  },
  {
   "cell_type": "code",
   "execution_count": null,
   "metadata": {
    "ExecuteTime": {
     "end_time": "2022-09-15T12:01:26.082960Z",
     "start_time": "2022-09-15T12:01:26.071988Z"
    }
   },
   "outputs": [],
   "source": [
    "x_data.drop([\"주소(지역)\",\"나이/생일\",\"가입경로\",\"TM담당직원\",\"체험상품\",\"분유코드\"], axis=1, inplace=True)"
   ]
  },
  {
   "cell_type": "code",
   "execution_count": null,
   "metadata": {
    "ExecuteTime": {
     "end_time": "2022-09-15T12:01:27.357491Z",
     "start_time": "2022-09-15T12:01:27.341532Z"
    }
   },
   "outputs": [],
   "source": [
    "x_data"
   ]
  },
  {
   "cell_type": "code",
   "execution_count": null,
   "metadata": {
    "ExecuteTime": {
     "end_time": "2022-09-15T12:01:30.733122Z",
     "start_time": "2022-09-15T12:01:30.642854Z"
    }
   },
   "outputs": [],
   "source": [
    "x_data = pd.concat([x_data, x_data_categorical],axis=1)\n",
    "x_data"
   ]
  },
  {
   "cell_type": "markdown",
   "metadata": {},
   "source": [
    "## 연속형 컬럼 Standardization"
   ]
  },
  {
   "cell_type": "code",
   "execution_count": null,
   "metadata": {
    "ExecuteTime": {
     "end_time": "2022-09-15T12:01:32.988613Z",
     "start_time": "2022-09-15T12:01:32.951682Z"
    }
   },
   "outputs": [],
   "source": [
    "x_data_num = x_data[['상담횟수','총구매횟수', '총구매수량','총구매금액']]"
   ]
  },
  {
   "cell_type": "code",
   "execution_count": null,
   "metadata": {
    "ExecuteTime": {
     "end_time": "2022-09-15T12:01:34.494086Z",
     "start_time": "2022-09-15T12:01:34.441675Z"
    }
   },
   "outputs": [],
   "source": [
    "std_scaler=StandardScaler()\n",
    "x_data_num = pd.DataFrame(std_scaler.fit_transform(x_data_num[['상담횟수','총구매횟수', '총구매수량','총구매금액']]))\n",
    "x_data[['상담횟수','총구매횟수', '총구매수량','총구매금액']] =x_data_num\n",
    "x_data.head()"
   ]
  },
  {
   "cell_type": "code",
   "execution_count": null,
   "metadata": {
    "ExecuteTime": {
     "end_time": "2022-09-15T12:01:37.302787Z",
     "start_time": "2022-09-15T12:01:36.891163Z"
    }
   },
   "outputs": [],
   "source": [
    "plt.figure(figsize=(30,30))\n",
    "sns.boxenplot(data=x_data_num)"
   ]
  },
  {
   "cell_type": "code",
   "execution_count": null,
   "metadata": {
    "ExecuteTime": {
     "end_time": "2022-09-15T12:01:40.206969Z",
     "start_time": "2022-09-15T12:01:40.201982Z"
    }
   },
   "outputs": [],
   "source": [
    "del x_data['회원ID/회원번호']"
   ]
  },
  {
   "cell_type": "markdown",
   "metadata": {},
   "source": [
    "# Train - Test split (비율 7:3 , seed는 0을 적용)"
   ]
  },
  {
   "cell_type": "code",
   "execution_count": null,
   "metadata": {
    "ExecuteTime": {
     "end_time": "2022-09-15T12:02:10.002757Z",
     "start_time": "2022-09-15T12:02:09.920940Z"
    }
   },
   "outputs": [],
   "source": [
    "x_train, x_test, y_train, y_test =\\\n",
    "model_selection.train_test_split(x_data, y_data, test_size=0.3, random_state=0)"
   ]
  },
  {
   "cell_type": "markdown",
   "metadata": {},
   "source": [
    "# Train the model"
   ]
  },
  {
   "cell_type": "code",
   "execution_count": null,
   "metadata": {
    "ExecuteTime": {
     "end_time": "2022-09-15T12:02:21.820886Z",
     "start_time": "2022-09-15T12:02:21.813906Z"
    }
   },
   "outputs": [],
   "source": [
    "from sklearn import ensemble\n",
    "from sklearn.metrics import accuracy_score"
   ]
  },
  {
   "cell_type": "code",
   "execution_count": null,
   "metadata": {
    "ExecuteTime": {
     "end_time": "2022-09-14T01:13:01.930221Z",
     "start_time": "2022-09-14T01:13:01.914210Z"
    }
   },
   "outputs": [],
   "source": [
    "# params = {'n_estimators': 100,\n",
    "#           'max_depth': 4,\n",
    "#           'min_samples_split': 5,           \n",
    "# #          'learning_rate': 0.01,\n",
    "#           'random_state':0}"
   ]
  },
  {
   "cell_type": "markdown",
   "metadata": {},
   "source": [
    "# 앙상블 기본 모델 학습 및 정확도 측정 "
   ]
  },
  {
   "cell_type": "code",
   "execution_count": null,
   "metadata": {
    "ExecuteTime": {
     "end_time": "2022-09-15T12:03:06.695895Z",
     "start_time": "2022-09-15T12:03:06.371282Z"
    }
   },
   "outputs": [],
   "source": [
    "clf_RFC = ensemble.RandomForestClassifier()\n",
    "clf_RFC.fit(x_train, y_train)\n",
    "acc = accuracy_score(y_test, clf_RFC.predict(x_test))\n",
    "print(\"The accuracy score on test set: {:.4f}\".format(acc))"
   ]
  },
  {
   "cell_type": "code",
   "execution_count": null,
   "metadata": {
    "ExecuteTime": {
     "end_time": "2022-09-15T12:03:19.416493Z",
     "start_time": "2022-09-15T12:03:19.230962Z"
    }
   },
   "outputs": [],
   "source": [
    "clf_DTC = sklearn.tree.DecisionTreeClassifier(random_state=0)\n",
    "clf_DTC.fit(x_train, y_train)\n",
    "acc = accuracy_score(y_test, clf_DTC.predict(x_test))\n",
    "print(\"The accuracy score on test set: {:.4f}\".format(acc))"
   ]
  },
  {
   "cell_type": "markdown",
   "metadata": {},
   "source": [
    "# 부스팅 알고리즘 학습 및 정확도 측정"
   ]
  },
  {
   "cell_type": "code",
   "execution_count": null,
   "metadata": {
    "ExecuteTime": {
     "end_time": "2022-09-15T12:03:26.338134Z",
     "start_time": "2022-09-15T12:03:26.321180Z"
    }
   },
   "outputs": [],
   "source": [
    "from xgboost import XGBClassifier"
   ]
  },
  {
   "cell_type": "code",
   "execution_count": null,
   "metadata": {
    "ExecuteTime": {
     "end_time": "2022-09-15T12:03:43.184746Z",
     "start_time": "2022-09-15T12:03:36.613754Z"
    }
   },
   "outputs": [],
   "source": [
    "clf_XGB = XGBClassifier(random_state=0)\n",
    "clf_XGB.fit(x_train, y_train)\n",
    "acc = accuracy_score(y_test, clf_XGB.predict(x_test))\n",
    "print(\"The accuracy score on test set: {:.4f}\".format(acc))"
   ]
  },
  {
   "cell_type": "code",
   "execution_count": null,
   "metadata": {
    "ExecuteTime": {
     "end_time": "2022-09-15T12:04:05.717355Z",
     "start_time": "2022-09-15T12:03:57.092211Z"
    }
   },
   "outputs": [],
   "source": [
    "clf_GB = ensemble.GradientBoostingClassifier()\n",
    "clf_GB.fit(x_train, y_train)\n",
    "acc = accuracy_score(y_test, clf_GB.predict(x_test))\n",
    "print(\"The accuracy score on test set: {:.4f}\".format(acc))"
   ]
  },
  {
   "cell_type": "code",
   "execution_count": null,
   "metadata": {
    "ExecuteTime": {
     "end_time": "2022-09-15T12:05:02.069889Z",
     "start_time": "2022-09-15T12:05:01.340818Z"
    }
   },
   "outputs": [],
   "source": [
    "train_score = np.zeros((clf_GB.n_estimators,), dtype=np.float64)\n",
    "for i, y_pred in enumerate(clf_GB.staged_predict(x_train)):\n",
    "    train_score[i] = accuracy_score(y_train, y_pred)\n",
    "\n",
    "test_score = np.zeros((clf_GB.n_estimators,), dtype=np.float64)\n",
    "for i, y_pred in enumerate(clf_GB.staged_predict(x_test)):\n",
    "    test_score[i] = accuracy_score(y_test, y_pred)\n",
    "    \n",
    "fig = plt.figure(figsize=(12, 6))\n",
    "plt.subplot(1, 1, 1)\n",
    "plt.title('Accuracy') # Binomial deviance loss function for binary classification\n",
    "plt.plot(np.arange(clf_GB.n_estimators) + 1, train_score, 'b-', label='Training Set Accuracy')\n",
    "plt.plot(np.arange(clf_GB.n_estimators) + 1, test_score, 'r-', label='Test Set Accuracy')\n",
    "plt.legend(loc='upper right')\n",
    "plt.xlabel('Boosting Iterations')\n",
    "plt.ylabel('Accuracy')\n",
    "fig.tight_layout()\n",
    "plt.show()"
   ]
  },
  {
   "cell_type": "code",
   "execution_count": null,
   "metadata": {
    "ExecuteTime": {
     "end_time": "2022-09-15T12:05:32.169799Z",
     "start_time": "2022-09-15T12:05:31.942192Z"
    }
   },
   "outputs": [],
   "source": [
    "import seaborn as sns\n",
    "\n",
    "feature_importance_values = clf_XGB.feature_importances_\n",
    "# Top 중요도로 정렬하고, 쉽게 시각화하기 위해 Series 변환\n",
    "feature_importances = pd.Series(feature_importance_values, index=x_train.columns)\n",
    "# 중요도값 순으로 Series를 정렬\n",
    "feature_top5 = feature_importances.sort_values(ascending=False)[:5]\n",
    "\n",
    "plt.figure(figsize=[8, 6])\n",
    "plt.title('Feature Importances Top 5')\n",
    "sns.barplot(x=feature_top5, y=feature_top5.index)\n",
    "plt.show()"
   ]
  },
  {
   "cell_type": "code",
   "execution_count": null,
   "metadata": {
    "ExecuteTime": {
     "end_time": "2022-09-14T01:13:38.164023Z",
     "start_time": "2022-09-14T01:13:38.154049Z"
    }
   },
   "outputs": [],
   "source": [
    "# x_data.to_excel(\"./x_data.xlsx\")\n",
    "# y_data.to_excel(\"./y_data.xlsx\")"
   ]
  },
  {
   "cell_type": "code",
   "execution_count": null,
   "metadata": {
    "ExecuteTime": {
     "end_time": "2022-09-15T12:05:46.291661Z",
     "start_time": "2022-09-15T12:05:45.940942Z"
    }
   },
   "outputs": [],
   "source": [
    "from sklearn.metrics import roc_curve, auc\n",
    "\n",
    "models=['RFC', 'DTC', 'XGB']\n",
    "\n",
    "\n",
    "plt.figure(figsize=(10, 10))\n",
    "plt.xlim([0.0, 1.0])\n",
    "plt.ylim([0.0, 1.05])\n",
    "plt.xlabel('False Positive Rate')\n",
    "plt.ylabel('True Positive Rate')\n",
    "\n",
    "plt.title(\"ROC curve\")\n",
    "plt.plot([0, 1], [0, 1], color='navy', lw=2, linestyle='--')\n",
    "\n",
    "\n",
    "# Global 변수 (전역 변수)\n",
    "# string으로 변수를 설정하고, 값을 할당의 목적으로 사용\n",
    "\n",
    "for i in models:\n",
    "\n",
    "    globals()['clf_{}_pred'.format(i)] = \\\n",
    "    globals()['clf_{}'.format(i)].predict_proba(x_test)\n",
    "    \n",
    "    globals()['clf_{}_roc'.format(i)]=\\\n",
    "    globals()['clf_{}_pred'.format(i)][:,1]\n",
    "   \n",
    "    globals()['fpr_{}'.format(i)],\\\n",
    "    globals()['tpr_{}'.format(i)], \\\n",
    "    globals()['_{}'.format(i)] \\\n",
    "    =roc_curve(y_true=y_test, y_score=globals()['clf_{}_roc'.format(i)]) \n",
    "    \n",
    "    globals()['roc_auc_{}'.format(i)] = \\\n",
    "    auc(globals()['fpr_{}'.format(i)], globals()['tpr_{}'.format(i)])\n",
    "    \n",
    "    \n",
    "    \n",
    "    plt.plot(globals()['fpr_{}'.format(i)], globals()['tpr_{}'.format(i)]\n",
    "             , lw=2, label=i+'__ROC curve (area = %0.3f)' %globals()['roc_auc_{}'.format(i)])\n",
    "\n",
    "\n",
    "# # Stack model은 S_test data로 진행하므로 따로 정리함.\n",
    "# clf_STACK_pred = clf_STACK_predict_proba(S_test)\n",
    "# clf_STACK_roc = clf_STACK_pred[:,1]\n",
    "# fpr_STACK, tpr_STACK, _STACK = roc_curve(y_true = y_test, y_score = clf_STACK_roc)\n",
    "# roc_auc_STACK = auc(fpr_STACK, tpr_STACK)\n",
    "# plt.plot(fpr_STACK, tpr_STACK, lw=2, label='STACK curve (area = %0.2f)'\\\n",
    "#          % roc_auc_STACK)\n",
    "\n",
    "\n",
    "plt.legend()\n",
    "plt.show()"
   ]
  },
  {
   "cell_type": "code",
   "execution_count": null,
   "metadata": {
    "ExecuteTime": {
     "end_time": "2022-09-15T12:07:27.925356Z",
     "start_time": "2022-09-15T12:07:27.701942Z"
    }
   },
   "outputs": [],
   "source": [
    "from sklearn.metrics import classification_report\n",
    "\n",
    "predictions = clf_XGB.predict(x_test)\n",
    "print(classification_report(y_test, predictions)) # Precision, Recall, F1-score 등을 확인할 수 있습니다.\n",
    "\n",
    "print(\"Accuracy on Training set: {:.3f}\".format(clf_XGB.score(x_train, y_train)))\n",
    "print(\"Accuracy on Test set: {:.3f}\".format(clf_XGB.score(x_test, y_test)))"
   ]
  },
  {
   "cell_type": "code",
   "execution_count": null,
   "metadata": {
    "ExecuteTime": {
     "end_time": "2022-09-15T12:08:43.063717Z",
     "start_time": "2022-09-15T12:08:42.132089Z"
    }
   },
   "outputs": [],
   "source": [
    "# confusion matrix\n",
    "from sklearn.metrics import confusion_matrix\n",
    "fig, ax = plt.subplots(nrows = 1, ncols = 3, figsize=(20, 5))\n",
    "\n",
    "confu = confusion_matrix(y_true = y_test, y_pred = clf_RFC.predict(x_test))\n",
    "confu2 = confusion_matrix(y_true = y_test, y_pred = clf_DTC.predict(x_test))\n",
    "confu3 = confusion_matrix(y_true = y_test, y_pred = clf_XGB.predict(x_test))\n",
    "\n",
    "\n",
    "sns.heatmap(confu, annot=True, annot_kws={'size':15}, cmap='OrRd', fmt='.10g', ax=ax[0])\n",
    "sns.heatmap(confu2, annot=True, annot_kws={'size':15}, cmap='GnBu', fmt='.10g', ax=ax[1])\n",
    "sns.heatmap(confu3, annot=True, annot_kws={'size':15}, cmap='Greys', fmt='.10g', ax=ax[2])\n",
    "ax[0].set_title('랜덤포레스트',pad = 12, fontsize = 20)\n",
    "ax[1].set_title('디시전트리',pad = 12, fontsize = 20)\n",
    "ax[2].set_title('XGB',pad = 12, fontsize = 20)\n",
    "plt.show()"
   ]
  }
 ],
 "metadata": {
  "kernelspec": {
   "display_name": "Python 3 (ipykernel)",
   "language": "python",
   "name": "python3"
  },
  "language_info": {
   "codemirror_mode": {
    "name": "ipython",
    "version": 3
   },
   "file_extension": ".py",
   "mimetype": "text/x-python",
   "name": "python",
   "nbconvert_exporter": "python",
   "pygments_lexer": "ipython3",
   "version": "3.9.12"
  },
  "toc": {
   "base_numbering": 1,
   "nav_menu": {},
   "number_sections": true,
   "sideBar": true,
   "skip_h1_title": false,
   "title_cell": "Table of Contents",
   "title_sidebar": "Contents",
   "toc_cell": false,
   "toc_position": {},
   "toc_section_display": true,
   "toc_window_display": false
  },
  "varInspector": {
   "cols": {
    "lenName": 16,
    "lenType": 16,
    "lenVar": 40
   },
   "kernels_config": {
    "python": {
     "delete_cmd_postfix": "",
     "delete_cmd_prefix": "del ",
     "library": "var_list.py",
     "varRefreshCmd": "print(var_dic_list())"
    },
    "r": {
     "delete_cmd_postfix": ") ",
     "delete_cmd_prefix": "rm(",
     "library": "var_list.r",
     "varRefreshCmd": "cat(var_dic_list()) "
    }
   },
   "types_to_exclude": [
    "module",
    "function",
    "builtin_function_or_method",
    "instance",
    "_Feature"
   ],
   "window_display": false
  }
 },
 "nbformat": 4,
 "nbformat_minor": 2
}
