{
 "cells": [
  {
   "cell_type": "code",
   "execution_count": 1,
   "id": "d6877d63",
   "metadata": {},
   "outputs": [],
   "source": [
    "import copy\n",
    "import datetime\n",
    "import warnings\n",
    "warnings.filterwarnings(action='ignore') \n",
    "\n",
    "import pandas as pd\n",
    "import numpy as np\n",
    "import matplotlib.pyplot as plt\n",
    "\n",
    "from matplotlib import font_manager, rc\n",
    "font_path = \"C:/Windows/Fonts/NGULIM.TTF\"\n",
    "font = font_manager.FontProperties(fname=font_path).get_name()\n",
    "rc('font', family=font)\n",
    "\n",
    "# 시각화\n",
    "import seaborn as sns\n",
    "# 결측치\n",
    "import missingno as msno\n",
    "\n",
    "import sklearn\n",
    "from sklearn.preprocessing import StandardScaler, OneHotEncoder\n",
    "from sklearn import model_selection, linear_model\n",
    "from sklearn.metrics import auc\n",
    "\n",
    "# 파이프라인\n",
    "from sklearn.compose import ColumnTransformer\n",
    "from sklearn.pipeline import Pipeline\n",
    "\n",
    "from sklearn import cluster\n"
   ]
  },
  {
   "cell_type": "code",
   "execution_count": 2,
   "id": "e1f9ddb4",
   "metadata": {},
   "outputs": [],
   "source": [
    "x_train = pd.read_excel('x_train.xlsx')\n",
    "x_test = pd.read_excel('x_test.xlsx')\n",
    "y_train = pd.read_excel('y_train.xlsx')\n",
    "y_test = pd.read_excel('y_test.xlsx')"
   ]
  },
  {
   "cell_type": "code",
   "execution_count": 3,
   "id": "92caf0d7",
   "metadata": {},
   "outputs": [],
   "source": [
    "from imblearn.over_sampling import SMOTE"
   ]
  },
  {
   "cell_type": "code",
   "execution_count": 4,
   "id": "dfc25425",
   "metadata": {},
   "outputs": [
    {
     "name": "stdout",
     "output_type": "stream",
     "text": [
      "SMOTE 적용 전 학습용 피처/레이블 데이터 세트 :  (13674, 100) (13674, 1)\n",
      "SMOTE 적용 후 학습용 피처/레이블 데이터 세트 : (24808, 100) (24808, 1)\n",
      "SMOTE 적용 후 값의 분포 :\n",
      " 재구매여부\n",
      "0        12404\n",
      "1        12404\n",
      "dtype: int64\n"
     ]
    }
   ],
   "source": [
    "smote = SMOTE(random_state=42)\n",
    "x_train_over, y_train_over = smote.fit_resample(x_train, y_train)\n",
    "print(\"SMOTE 적용 전 학습용 피처/레이블 데이터 세트 : \", x_train.shape, y_train.shape)\n",
    "print('SMOTE 적용 후 학습용 피처/레이블 데이터 세트 :', x_train_over.shape, y_train_over.shape)\n",
    "print('SMOTE 적용 후 값의 분포 :\\n', y_train_over.value_counts() )"
   ]
  },
  {
   "cell_type": "markdown",
   "id": "d26a5a36",
   "metadata": {},
   "source": [
    "## 기본 모델 학습"
   ]
  },
  {
   "cell_type": "code",
   "execution_count": 5,
   "id": "a819d9d4",
   "metadata": {},
   "outputs": [],
   "source": [
    "from sklearn import ensemble\n",
    "from sklearn.metrics import accuracy_score"
   ]
  },
  {
   "cell_type": "code",
   "execution_count": 6,
   "id": "da8afbe9",
   "metadata": {},
   "outputs": [],
   "source": [
    "x_train_resample, x_test, y_train_resample, y_test =\\\n",
    "model_selection.train_test_split(x_train_over, y_train_over, test_size=0.3, random_state=0)"
   ]
  },
  {
   "cell_type": "code",
   "execution_count": 7,
   "id": "98bf83eb",
   "metadata": {},
   "outputs": [
    {
     "name": "stdout",
     "output_type": "stream",
     "text": [
      "The accuracy score on test set: 0.9532\n"
     ]
    }
   ],
   "source": [
    "clf_DTC_re = sklearn.tree.DecisionTreeClassifier(random_state=0)\n",
    "clf_DTC_re.fit(x_train_resample, y_train_resample)\n",
    "acc = accuracy_score(y_test, clf_DTC_re.predict(x_test))\n",
    "print(\"The accuracy score on test set: {:.4f}\".format(acc))"
   ]
  },
  {
   "cell_type": "code",
   "execution_count": 8,
   "id": "b959c3f8",
   "metadata": {},
   "outputs": [
    {
     "name": "stdout",
     "output_type": "stream",
     "text": [
      "The accuracy score on test set: 0.9618\n"
     ]
    }
   ],
   "source": [
    "clf_Bagging_re = ensemble.BaggingClassifier()\n",
    "clf_Bagging_re.fit(x_train_resample, y_train_resample)\n",
    "acc = accuracy_score(y_test, clf_Bagging_re.predict(x_test))\n",
    "print(\"The accuracy score on test set: {:.4f}\".format(acc))"
   ]
  },
  {
   "cell_type": "code",
   "execution_count": 9,
   "id": "1690d279",
   "metadata": {},
   "outputs": [
    {
     "name": "stdout",
     "output_type": "stream",
     "text": [
      "The accuracy score on test set: 0.9635\n"
     ]
    }
   ],
   "source": [
    "clf_RFC_re = ensemble.RandomForestClassifier()\n",
    "clf_RFC_re.fit(x_train_resample, y_train_resample)\n",
    "acc = accuracy_score(y_test, clf_RFC_re.predict(x_test))\n",
    "print(\"The accuracy score on test set: {:.4f}\".format(acc))"
   ]
  },
  {
   "cell_type": "markdown",
   "id": "9b9383e8",
   "metadata": {},
   "source": [
    "## 부스팅 알고리즘 학습"
   ]
  },
  {
   "cell_type": "code",
   "execution_count": 10,
   "id": "b31e1a0e",
   "metadata": {},
   "outputs": [],
   "source": [
    "from xgboost import XGBClassifier"
   ]
  },
  {
   "cell_type": "code",
   "execution_count": 11,
   "id": "ea744841",
   "metadata": {},
   "outputs": [
    {
     "name": "stdout",
     "output_type": "stream",
     "text": [
      "The accuracy score on test set: 0.9637\n"
     ]
    }
   ],
   "source": [
    "clf_XGB_re = XGBClassifier(random_state=0)\n",
    "clf_XGB_re.fit(x_train_resample, y_train_resample)\n",
    "acc = accuracy_score(y_test, clf_XGB_re.predict(x_test))\n",
    "print(\"The accuracy score on test set: {:.4f}\".format(acc))"
   ]
  },
  {
   "cell_type": "code",
   "execution_count": 12,
   "id": "3794f31a",
   "metadata": {},
   "outputs": [
    {
     "name": "stdout",
     "output_type": "stream",
     "text": [
      "The accuracy score on test set: 0.9452\n"
     ]
    }
   ],
   "source": [
    "clf_GB_re = ensemble.GradientBoostingClassifier()\n",
    "clf_GB_re.fit(x_train_resample, y_train_resample)\n",
    "acc = accuracy_score(y_test, clf_GB_re.predict(x_test))\n",
    "print(\"The accuracy score on test set: {:.4f}\".format(acc))"
   ]
  },
  {
   "cell_type": "markdown",
   "id": "b1f8bbc1",
   "metadata": {},
   "source": [
    "## 하이퍼파라미터 튜닝"
   ]
  },
  {
   "cell_type": "code",
   "execution_count": 13,
   "id": "15ce6fc3",
   "metadata": {},
   "outputs": [],
   "source": [
    "from sklearn.model_selection import GridSearchCV"
   ]
  },
  {
   "cell_type": "markdown",
   "id": "0bcf7624",
   "metadata": {},
   "source": [
    "### XGboost"
   ]
  },
  {
   "cell_type": "code",
   "execution_count": 14,
   "id": "9939f08f",
   "metadata": {},
   "outputs": [
    {
     "name": "stdout",
     "output_type": "stream",
     "text": [
      "The accuracy score on test set: 0.9629\n"
     ]
    }
   ],
   "source": [
    "clf_XGB_re = XGBClassifier(random_state=0, colsample_bytree=0.75, learning_rate=0.02, max_depth=7, n_estimators=1000, reg_alpha=0.03)\n",
    "clf_XGB_re.fit(x_train_resample, y_train_resample)\n",
    "acc = accuracy_score(y_test, clf_XGB_re.predict(x_test))\n",
    "print(\"The accuracy score on test set: {:.4f}\".format(acc))"
   ]
  },
  {
   "cell_type": "markdown",
   "id": "89344fee",
   "metadata": {},
   "source": [
    "## 리포트"
   ]
  },
  {
   "cell_type": "code",
   "execution_count": 15,
   "id": "55221a06",
   "metadata": {},
   "outputs": [
    {
     "name": "stdout",
     "output_type": "stream",
     "text": [
      "              precision    recall  f1-score   support\n",
      "\n",
      "           0       0.98      0.95      0.96      3732\n",
      "           1       0.95      0.98      0.96      3711\n",
      "\n",
      "    accuracy                           0.96      7443\n",
      "   macro avg       0.96      0.96      0.96      7443\n",
      "weighted avg       0.96      0.96      0.96      7443\n",
      "\n",
      "Accuracy on Training set: 0.964\n",
      "Accuracy on Test set: 0.963\n"
     ]
    }
   ],
   "source": [
    "from sklearn.metrics import classification_report\n",
    "\n",
    "predictions = clf_XGB_re.predict(x_test)\n",
    "print(classification_report(y_test, predictions)) # Precision, Recall, F1-score 등을 확인할 수 있습니다.\n",
    "\n",
    "print(\"Accuracy on Training set: {:.3f}\".format(clf_XGB_re.score(x_train, y_train)))\n",
    "print(\"Accuracy on Test set: {:.3f}\".format(clf_XGB_re.score(x_test, y_test)))"
   ]
  },
  {
   "cell_type": "code",
   "execution_count": 17,
   "id": "188b8510",
   "metadata": {},
   "outputs": [
    {
     "data": {
      "image/png": "[encoded data removed]",
      "text/plain": [
       "<Figure size 576x432 with 1 Axes>"
      ]
     },
     "metadata": {
      "needs_background": "light"
     },
     "output_type": "display_data"
    }
   ],
   "source": [
    "import seaborn as sns\n",
    "\n",
    "feature_importance_values = clf_XGB_re.feature_importances_\n",
    "# Top 중요도로 정렬하고, 쉽게 시각화하기 위해 Series 변환\n",
    "feature_importances = pd.Series(feature_importance_values, index=x_train.columns)\n",
    "# 중요도값 순으로 Series를 정렬\n",
    "feature_top5 = feature_importances.sort_values(ascending=False)[:30]\n",
    "\n",
    "plt.figure(figsize=[8, 6])\n",
    "plt.title('Feature Importances Top 5')\n",
    "sns.barplot(x=feature_top5, y=feature_top5.index)\n",
    "plt.show()"
   ]
  },
  {
   "cell_type": "markdown",
   "id": "7d15be9f",
   "metadata": {},
   "source": [
    "## ROC 커브로 비교"
   ]
  },
  {
   "cell_type": "code",
   "execution_count": null,
   "id": "6fc94fba",
   "metadata": {},
   "outputs": [],
   "source": [
    "from sklearn.metrics import roc_curve, auc\n",
    "\n",
    "models=['Bagging', 'RFC', 'DTC', 'XGB', 'GB']\n",
    "\n",
    "\n",
    "plt.figure(figsize=(10, 10))\n",
    "plt.xlim([0.0, 1.0])\n",
    "plt.ylim([0.0, 1.05])\n",
    "plt.xlabel('False Positive Rate')\n",
    "plt.ylabel('True Positive Rate')\n",
    "\n",
    "plt.title(\"ROC curve\")\n",
    "plt.plot([0, 1], [0, 1], color='navy', lw=2, linestyle='--')\n",
    "\n",
    "\n",
    "for i in models:\n",
    "\n",
    "    globals()['clf_{}_re_pred'.format(i)] = \\\n",
    "    globals()['clf_{}_re'.format(i)].predict_proba(x_test)\n",
    "    \n",
    "    globals()['clf_{}_re_roc'.format(i)]=\\\n",
    "    globals()['clf_{}_re_pred'.format(i)][:,1]\n",
    "   \n",
    "    globals()['fpr_{}_re'.format(i)],\\\n",
    "    globals()['tpr_{}_re'.format(i)], \\\n",
    "    globals()['_{}'.format(i)] \\\n",
    "    =roc_curve(y_true=y_test, y_score=globals()['clf_{}_re_roc'.format(i)]) \n",
    "    \n",
    "    globals()['roc_auc_{}_re'.format(i)] = \\\n",
    "    auc(globals()['fpr_{}_re'.format(i)], globals()['tpr_{}_re'.format(i)])\n",
    "\n",
    "    \n",
    "    plt.plot(globals()['fpr_{}_re'.format(i)], globals()['tpr_{}_re'.format(i)]\n",
    "             , lw=2, label=i+'__ROC curve (area = %0.3f)' %globals()['roc_auc_{}_re'.format(i)])\n",
    "\n",
    "plt.legend()\n",
    "plt.show()"
   ]
  },
  {
   "cell_type": "markdown",
   "id": "f5618318",
   "metadata": {},
   "source": [
    "#### 앙상블과 단일알고리즘 비교"
   ]
  },
  {
   "cell_type": "code",
   "execution_count": null,
   "id": "5c44f634",
   "metadata": {},
   "outputs": [],
   "source": [
    "# # 데이터셋을 불러오고,학습용 데이터와 테스트용 데이터로 분리하여 반환하는 함수입니다.\n",
    "\n",
    "# def load_data():\n",
    "#   x_train_resample, x_test, y_train_resample, y_test = model_selection.train_test_split(x_train_over, y_train_over, test_size=0.3, random_state=0)\n",
    "#   return x_train_resample, x_test, y_train_resample, y_test\n",
    "\n",
    "# \"\"\"\n",
    "# 1. 동일한 모델을 사용하는 BaggingClassifier를 정의하여\n",
    "#    학습시키고, 예측을 수행한 결과를 반환하는 함수를 구현합니다.\n",
    "   \n",
    "#    Step01. Bagging에 사용할 분류 모델을 설정하여 \n",
    "#            BaggingClassifier를 정의합니다.\n",
    "           \n",
    "#            모델은 의사결정 나무(DecisionTreeClassifier)를\n",
    "#            사용합니다.\n",
    "           \n",
    "#            n_estimators는 자유롭게 설정합니다.\n",
    "   \n",
    "#    Step02. BaggingClassifier를\n",
    "#            학습용 데이터에 맞춰 학습을 시킵니다.\n",
    "   \n",
    "#    Step03. 테스트 데이터에 대한 예측을 수행합니다.\n",
    "# \"\"\"\n",
    "# def Bagging_Clf(x_train_resample, x_test, y_train_resample, y_test):\n",
    "    \n",
    "#     ba_clf = BaggingClassifier(base_estimator=DecisionTreeClassifier(), n_estimators = 100)\n",
    "    \n",
    "#     ba_clf.fit(x_train_resample, y_train_resample)\n",
    "    \n",
    "#     pred = ba_clf.predict(x_test)\n",
    "    \n",
    "#     return ba_clf, pred\n",
    "    \n",
    "# # 데이터를 불러오고, 모델 학습 및 예측을 진행하기 위한 함수입니다.\n",
    "# def main():\n",
    "    \n",
    "#     x_train_resample, x_test, y_train_resample, y_test = load_data()\n",
    "    \n",
    "#     ba_clf, pred = Bagging_Clf(x_train_resample, x_test, y_train_resample, y_test)\n",
    "    \n",
    "#     print('Bagging Classifier 정확도 : {0:.4f}'.format(accuracy_score(y_test, pred)))\n",
    "    \n",
    "#     # 단일 의사결정 나무를 학습했을 때 결과 예측하기\n",
    "#     single_dt = DecisionTreeClassifier()\n",
    "#     single_dt.fit(x_train_resample,y_train_resample)\n",
    "#     single_pred = single_dt.predict(x_test)\n",
    "#     print('Single Decision Tree Classifier 정확도 : {0:.4f}'.format(accuracy_score(y_test, single_pred)))\n",
    "\n",
    "# if __name__ ==\"__main__\":\n",
    "#     main()"
   ]
  }
 ],
 "metadata": {
  "kernelspec": {
   "display_name": "Python 3 (ipykernel)",
   "language": "python",
   "name": "python3"
  },
  "language_info": {
   "codemirror_mode": {
    "name": "ipython",
    "version": 3
   },
   "file_extension": ".py",
   "mimetype": "text/x-python",
   "name": "python",
   "nbconvert_exporter": "python",
   "pygments_lexer": "ipython3",
   "version": "3.9.12"
  }
 },
 "nbformat": 4,
 "nbformat_minor": 5
}
